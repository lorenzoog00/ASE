{
 "cells": [
  {
   "cell_type": "code",
   "execution_count": 11,
   "metadata": {},
   "outputs": [],
   "source": [
    "import pandas as pd\n",
    "import os\n",
    "import glob\n",
    "import matplotlib.pyplot as plt\n",
    "import numpy as np"
   ]
  },
  {
   "cell_type": "code",
   "execution_count": 12,
   "metadata": {},
   "outputs": [],
   "source": [
    "files = [file for file in os.listdir('./vol')]\n",
    "ag = {}\n",
    "for file in files:\n",
    "    ag[file] =  pd.read_csv('./vol/'+ file)"
   ]
  },
  {
   "attachments": {},
   "cell_type": "markdown",
   "metadata": {},
   "source": [
    " Se juntarán todos los archivos en una sola base, se le añadirán los parametros fijos y variables.\n",
    " Parámetros fijos:\n",
    "    10nm de radio\n",
    "    120nm de espesor de película\n",
    "    varia los nm de radio"
   ]
  },
  {
   "attachments": {},
   "cell_type": "markdown",
   "metadata": {},
   "source": [
    "Agregandole la columna en la que cada uno de estos va a variar"
   ]
  },
  {
   "cell_type": "code",
   "execution_count": 14,
   "metadata": {},
   "outputs": [],
   "source": [
    "ag['alpha-Ag10nm1_.csv']['Fracvol'] =  1\n",
    "ag['alpha-Ag10nm2_.csv']['Fracvol'] =  2\n",
    "ag['alpha-Ag10nm3_.csv']['Fracvol'] =  3\n",
    "ag['alpha-Ag10nm4_.csv']['Fracvol'] =  4\n",
    "ag['alpha-Ag10nm5_.csv']['Fracvol'] =  5\n",
    "ag['alpha-Ag10nm6_.csv']['Fracvol'] =  6\n",
    "ag['alpha-Ag10nm7_.csv']['Fracvol'] =  7\n",
    "ag['alpha-Ag10nm8_.csv']['Fracvol'] =  8\n",
    "ag['alpha-Ag10nm9_.csv']['Fracvol'] =  9\n",
    "ag['alpha-Ag10nm10_.csv']['Fracvol'] =  10\n",
    "ag['alpha-Ag10nm11_.csv']['Fracvol'] =  11\n",
    "ag['alpha-Ag10nm12_.csv']['Fracvol'] =  12\n",
    "ag['alpha-Ag10nm13_.csv']['Fracvol'] =  13\n",
    "ag['alpha-Ag10nm14_.csv']['Fracvol'] =  14\n",
    "ag['alpha-Ag10nm15_.csv']['Fracvol'] =  15\n",
    "ag['alpha-Ag10nm16_.csv']['Fracvol'] =  16"
   ]
  },
  {
   "attachments": {},
   "cell_type": "markdown",
   "metadata": {},
   "source": [
    "# Renombrando las columnas en cada archivo"
   ]
  },
  {
   "cell_type": "code",
   "execution_count": 37,
   "metadata": {},
   "outputs": [],
   "source": [
    "# Iterar sobre los dataframes del diccionario y renombrar las columnas por posición\n",
    "for nombre, df in ag.items():\n",
    "    df.rename(columns={df.columns[0]: 'Longitud de onda'}, inplace=True)\n",
    "    df.rename(columns={df.columns[1]: 'Índice de absorción'}, inplace=True)"
   ]
  },
  {
   "cell_type": "code",
   "execution_count": 38,
   "metadata": {},
   "outputs": [
    {
     "data": {
      "text/plain": [
       "Index(['Longitud de onda', 'Índice de absorción', 'Fracvol'], dtype='object')"
      ]
     },
     "execution_count": 38,
     "metadata": {},
     "output_type": "execute_result"
    }
   ],
   "source": [
    "ag['alpha-Ag10nm10_.csv'].columns"
   ]
  },
  {
   "attachments": {},
   "cell_type": "markdown",
   "metadata": {},
   "source": [
    "# Exportando nuevos datos"
   ]
  },
  {
   "cell_type": "code",
   "execution_count": 39,
   "metadata": {},
   "outputs": [],
   "source": [
    "for nombre, df in ag.items():\n",
    "    df.to_csv(nombre + 'export', index=False)"
   ]
  },
  {
   "attachments": {},
   "cell_type": "markdown",
   "metadata": {},
   "source": [
    "# Leyendolos en y juntandolos en una misma base"
   ]
  },
  {
   "cell_type": "code",
   "execution_count": 44,
   "metadata": {},
   "outputs": [],
   "source": [
    "files = [file for file in os.listdir('./vol+variable')]\n",
    "\n",
    "vol = pd.DataFrame()\n",
    "for file in files:\n",
    "  df = pd.read_csv('./vol+variable/'+file)\n",
    "  vol = pd.concat([vol, df], axis= 0)"
   ]
  },
  {
   "attachments": {},
   "cell_type": "markdown",
   "metadata": {},
   "source": [
    "# Añadiendo las columnas de los parámetros fijos"
   ]
  },
  {
   "cell_type": "code",
   "execution_count": 46,
   "metadata": {},
   "outputs": [
    {
     "data": {
      "text/html": [
       "<div>\n",
       "<style scoped>\n",
       "    .dataframe tbody tr th:only-of-type {\n",
       "        vertical-align: middle;\n",
       "    }\n",
       "\n",
       "    .dataframe tbody tr th {\n",
       "        vertical-align: top;\n",
       "    }\n",
       "\n",
       "    .dataframe thead th {\n",
       "        text-align: right;\n",
       "    }\n",
       "</style>\n",
       "<table border=\"1\" class=\"dataframe\">\n",
       "  <thead>\n",
       "    <tr style=\"text-align: right;\">\n",
       "      <th></th>\n",
       "      <th>Longitud de onda</th>\n",
       "      <th>Índice de absorción</th>\n",
       "      <th>Fracvol</th>\n",
       "      <th>Radio (nm)</th>\n",
       "      <th>Espesor de la película (nm)</th>\n",
       "    </tr>\n",
       "  </thead>\n",
       "  <tbody>\n",
       "    <tr>\n",
       "      <th>0</th>\n",
       "      <td>301</td>\n",
       "      <td>0.018966</td>\n",
       "      <td>10</td>\n",
       "      <td>10</td>\n",
       "      <td>120</td>\n",
       "    </tr>\n",
       "    <tr>\n",
       "      <th>1</th>\n",
       "      <td>302</td>\n",
       "      <td>0.018370</td>\n",
       "      <td>10</td>\n",
       "      <td>10</td>\n",
       "      <td>120</td>\n",
       "    </tr>\n",
       "    <tr>\n",
       "      <th>2</th>\n",
       "      <td>303</td>\n",
       "      <td>0.017826</td>\n",
       "      <td>10</td>\n",
       "      <td>10</td>\n",
       "      <td>120</td>\n",
       "    </tr>\n",
       "    <tr>\n",
       "      <th>3</th>\n",
       "      <td>304</td>\n",
       "      <td>0.017333</td>\n",
       "      <td>10</td>\n",
       "      <td>10</td>\n",
       "      <td>120</td>\n",
       "    </tr>\n",
       "    <tr>\n",
       "      <th>4</th>\n",
       "      <td>305</td>\n",
       "      <td>0.016880</td>\n",
       "      <td>10</td>\n",
       "      <td>10</td>\n",
       "      <td>120</td>\n",
       "    </tr>\n",
       "    <tr>\n",
       "      <th>...</th>\n",
       "      <td>...</td>\n",
       "      <td>...</td>\n",
       "      <td>...</td>\n",
       "      <td>...</td>\n",
       "      <td>...</td>\n",
       "    </tr>\n",
       "    <tr>\n",
       "      <th>595</th>\n",
       "      <td>896</td>\n",
       "      <td>0.002737</td>\n",
       "      <td>9</td>\n",
       "      <td>10</td>\n",
       "      <td>120</td>\n",
       "    </tr>\n",
       "    <tr>\n",
       "      <th>596</th>\n",
       "      <td>897</td>\n",
       "      <td>0.002746</td>\n",
       "      <td>9</td>\n",
       "      <td>10</td>\n",
       "      <td>120</td>\n",
       "    </tr>\n",
       "    <tr>\n",
       "      <th>597</th>\n",
       "      <td>898</td>\n",
       "      <td>0.002754</td>\n",
       "      <td>9</td>\n",
       "      <td>10</td>\n",
       "      <td>120</td>\n",
       "    </tr>\n",
       "    <tr>\n",
       "      <th>598</th>\n",
       "      <td>899</td>\n",
       "      <td>0.002763</td>\n",
       "      <td>9</td>\n",
       "      <td>10</td>\n",
       "      <td>120</td>\n",
       "    </tr>\n",
       "    <tr>\n",
       "      <th>599</th>\n",
       "      <td>900</td>\n",
       "      <td>0.002771</td>\n",
       "      <td>9</td>\n",
       "      <td>10</td>\n",
       "      <td>120</td>\n",
       "    </tr>\n",
       "  </tbody>\n",
       "</table>\n",
       "<p>9600 rows × 5 columns</p>\n",
       "</div>"
      ],
      "text/plain": [
       "     Longitud de onda  Índice de absorción  Fracvol  Radio (nm)  \\\n",
       "0                 301             0.018966       10          10   \n",
       "1                 302             0.018370       10          10   \n",
       "2                 303             0.017826       10          10   \n",
       "3                 304             0.017333       10          10   \n",
       "4                 305             0.016880       10          10   \n",
       "..                ...                  ...      ...         ...   \n",
       "595               896             0.002737        9          10   \n",
       "596               897             0.002746        9          10   \n",
       "597               898             0.002754        9          10   \n",
       "598               899             0.002763        9          10   \n",
       "599               900             0.002771        9          10   \n",
       "\n",
       "     Espesor de la película (nm)  \n",
       "0                            120  \n",
       "1                            120  \n",
       "2                            120  \n",
       "3                            120  \n",
       "4                            120  \n",
       "..                           ...  \n",
       "595                          120  \n",
       "596                          120  \n",
       "597                          120  \n",
       "598                          120  \n",
       "599                          120  \n",
       "\n",
       "[9600 rows x 5 columns]"
      ]
     },
     "execution_count": 46,
     "metadata": {},
     "output_type": "execute_result"
    }
   ],
   "source": [
    "vol['Radio (nm)'] = 10\n",
    "vol['Espesor de la película (nm)'] = 120\n",
    "vol"
   ]
  },
  {
   "cell_type": "code",
   "execution_count": 47,
   "metadata": {},
   "outputs": [],
   "source": [
    "vol.to_csv('fraccion_de_volumen', index=False)"
   ]
  },
  {
   "cell_type": "code",
   "execution_count": null,
   "metadata": {},
   "outputs": [],
   "source": [
    "for df in ag:\n",
    "    ag[df].columns =['longitud de onda nm', 'coeficiente de absorción 1/m']\n",
    "\n",
    "    plt.plot(ag[df]['longitud de onda nm'], ag[df]['coeficiente de absorción 1/m'])\n",
    "    plt.xlabel('longitud de onda nm')\n",
    "    plt.ylabel('coeficiente de absorción 1/m')\n",
    "    plt.title(str(df))\n",
    "    max_value = ag[df]['coeficiente de absorción 1/m'].max()\n",
    "    max_index = ag[df]['longitud de onda nm'].idxmax()\n",
    "    plt.scatter(x=max_index, y=max_value, color='r', label='Max Value')\n",
    "    plt.annotate(str(max_value) + '   ' + str(max_index) + 'nm', xy=(max_index, max_value))\n",
    "    #plt.annotate('\\n' + str(max_index), xy=(max_index, max_value))\n",
    "    plt.show()"
   ]
  },
  {
   "cell_type": "code",
   "execution_count": null,
   "metadata": {},
   "outputs": [],
   "source": []
  }
 ],
 "metadata": {
  "kernelspec": {
   "display_name": "Python 3",
   "language": "python",
   "name": "python3"
  },
  "language_info": {
   "codemirror_mode": {
    "name": "ipython",
    "version": 3
   },
   "file_extension": ".py",
   "mimetype": "text/x-python",
   "name": "python",
   "nbconvert_exporter": "python",
   "pygments_lexer": "ipython3",
   "version": "3.10.10"
  },
  "orig_nbformat": 4
 },
 "nbformat": 4,
 "nbformat_minor": 2
}
