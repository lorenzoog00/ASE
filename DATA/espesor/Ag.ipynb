{
 "cells": [
  {
   "cell_type": "code",
   "execution_count": 1,
   "metadata": {},
   "outputs": [],
   "source": [
    "import pandas as pd\n",
    "import os\n",
    "import glob\n",
    "import matplotlib.pyplot as plt\n",
    "import numpy as np"
   ]
  },
  {
   "attachments": {},
   "cell_type": "markdown",
   "metadata": {},
   "source": [
    "# Leyendo todos los archivos"
   ]
  },
  {
   "cell_type": "code",
   "execution_count": 2,
   "metadata": {},
   "outputs": [],
   "source": [
    "files = [file for file in os.listdir('./Ag60nm-215nm')]\n",
    "ag = {}\n",
    "for file in files:\n",
    "    ag[file] =  pd.read_csv('./Ag60nm-215nm/'+ file)"
   ]
  },
  {
   "attachments": {},
   "cell_type": "markdown",
   "metadata": {},
   "source": [
    " Se juntarán todos los archivos en una sola base, se le añadirán los parametros fijos y variables.\n",
    " Parámetros fijos:\n",
    "    10nm de radio\n",
    "    1 % fraccion de volumen\n",
    "    varia el espesor"
   ]
  },
  {
   "attachments": {},
   "cell_type": "markdown",
   "metadata": {},
   "source": [
    "Agregandole la columna en la que cada uno de estos va a variar"
   ]
  },
  {
   "cell_type": "code",
   "execution_count": 3,
   "metadata": {},
   "outputs": [],
   "source": [
    "ag['alpha-Ag60nm1%.csv']['Espesor de la película (nm)'] = 60\n",
    "ag['alpha-Ag65nm1%.csv']['Espesor de la película (nm)'] = 65\n",
    "ag['alpha-Ag70nm1%.csv']['Espesor de la película (nm)'] = 70\n",
    "ag['alpha-Ag75nm1%.csv']['Espesor de la película (nm)'] = 75\n",
    "ag['alpha-Ag80nm1%.csv']['Espesor de la película (nm)'] = 80\n",
    "ag['alpha-Ag85nm1%.csv']['Espesor de la película (nm)'] = 85\n",
    "ag['alpha-Ag90nm1%.csv']['Espesor de la película (nm)'] = 90\n",
    "ag['alpha-Ag95nm1%.csv']['Espesor de la película (nm)'] = 95\n",
    "ag['alpha-Ag100nm1%.csv']['Espesor de la película (nm)'] = 100\n",
    "ag['alpha-Ag105nm1%.csv']['Espesor de la película (nm)'] = 105\n",
    "ag['alpha-Ag110nm1%.csv']['Espesor de la película (nm)'] = 110\n",
    "ag['alpha-Ag115nm1%.csv']['Espesor de la película (nm)'] = 115\n",
    "ag['alpha-Ag120nm1%.csv']['Espesor de la película (nm)'] = 120\n",
    "ag['alpha-Ag125nm1%.csv']['Espesor de la película (nm)'] = 125\n",
    "ag['alpha-Ag130nm1%.csv']['Espesor de la película (nm)'] = 130\n",
    "ag['alpha-Ag135nm1%.csv']['Espesor de la película (nm)'] = 135"
   ]
  },
  {
   "cell_type": "code",
   "execution_count": 4,
   "metadata": {},
   "outputs": [],
   "source": [
    "ag['alpha-Ag140nm1%.csv']['Espesor de la película (nm)'] = 140\n",
    "ag['alpha-Ag145nm1%.csv']['Espesor de la película (nm)'] = 145\n",
    "ag['alpha-Ag150nm1%.csv']['Espesor de la película (nm)'] = 150\n",
    "ag['alpha-Ag155nm1%.csv']['Espesor de la película (nm)'] = 155\n",
    "ag['alpha-Ag160nm1%.csv']['Espesor de la película (nm)'] = 160\n",
    "ag['alpha-Ag165nm1%.csv']['Espesor de la película (nm)'] = 165\n",
    "ag['alpha-Ag170nm1%.csv']['Espesor de la película (nm)'] = 170\n",
    "ag['alpha-Ag175nm1%.csv']['Espesor de la película (nm)'] = 175\n",
    "ag['alpha-Ag180nm1%.csv']['Espesor de la película (nm)'] = 180\n",
    "ag['alpha-Ag185nm1%.csv']['Espesor de la película (nm)'] = 185\n",
    "ag['alpha-Ag190nm1%.csv']['Espesor de la película (nm)'] = 190\n",
    "ag['alpha-Ag195nm1%.csv']['Espesor de la película (nm)'] = 195\n",
    "ag['alpha-Ag200nm1%.csv']['Espesor de la película (nm)'] = 200\n",
    "ag['alpha-Ag205nm1%.csv']['Espesor de la película (nm)'] = 205\n",
    "ag['alpha-Ag210nm1%.csv']['Espesor de la película (nm)'] = 210\n",
    "ag['alpha-Ag215nm1%.csv']['Espesor de la película (nm)'] = 215"
   ]
  },
  {
   "cell_type": "code",
   "execution_count": 5,
   "metadata": {},
   "outputs": [
    {
     "data": {
      "text/plain": [
       "Index(['300', '0.01722932845726303', 'Espesor de la película (nm)'], dtype='object')"
      ]
     },
     "execution_count": 5,
     "metadata": {},
     "output_type": "execute_result"
    }
   ],
   "source": [
    "ag['alpha-Ag100nm1%.csv'].columns"
   ]
  },
  {
   "attachments": {},
   "cell_type": "markdown",
   "metadata": {},
   "source": [
    "# Renombrando columnas"
   ]
  },
  {
   "cell_type": "code",
   "execution_count": 6,
   "metadata": {},
   "outputs": [],
   "source": [
    "# Iterar sobre los dataframes del diccionario y renombrar las columnas por posición\n",
    "for nombre, df in ag.items():\n",
    "    df.rename(columns={df.columns[0]: 'Longitud de onda'}, inplace=True)\n",
    "    df.rename(columns={df.columns[1]: 'Índice de absorción'}, inplace=True)"
   ]
  },
  {
   "cell_type": "code",
   "execution_count": 7,
   "metadata": {},
   "outputs": [
    {
     "data": {
      "text/plain": [
       "Index(['Longitud de onda', 'Índice de absorción',\n",
       "       'Espesor de la película (nm)'],\n",
       "      dtype='object')"
      ]
     },
     "execution_count": 7,
     "metadata": {},
     "output_type": "execute_result"
    }
   ],
   "source": [
    "ag['alpha-Ag100nm1%.csv'].columns"
   ]
  },
  {
   "attachments": {},
   "cell_type": "markdown",
   "metadata": {},
   "source": [
    "# Exportando nuevos datos"
   ]
  },
  {
   "cell_type": "code",
   "execution_count": 8,
   "metadata": {},
   "outputs": [],
   "source": [
    "for nombre, df in ag.items():\n",
    "    df.to_csv(nombre + 'export', index=False)"
   ]
  },
  {
   "cell_type": "code",
   "execution_count": 9,
   "metadata": {},
   "outputs": [],
   "source": [
    "files = [file for file in os.listdir('./espesor_export')]\n",
    "\n",
    "espesor = pd.DataFrame()\n",
    "for file in files:\n",
    "  df = pd.read_csv('./espesor_export/'+file)\n",
    "  espesor = pd.concat([espesor, df], axis= 0)"
   ]
  },
  {
   "cell_type": "code",
   "execution_count": 10,
   "metadata": {},
   "outputs": [
    {
     "data": {
      "text/html": [
       "<div>\n",
       "<style scoped>\n",
       "    .dataframe tbody tr th:only-of-type {\n",
       "        vertical-align: middle;\n",
       "    }\n",
       "\n",
       "    .dataframe tbody tr th {\n",
       "        vertical-align: top;\n",
       "    }\n",
       "\n",
       "    .dataframe thead th {\n",
       "        text-align: right;\n",
       "    }\n",
       "</style>\n",
       "<table border=\"1\" class=\"dataframe\">\n",
       "  <thead>\n",
       "    <tr style=\"text-align: right;\">\n",
       "      <th></th>\n",
       "      <th>Longitud de onda</th>\n",
       "      <th>Índice de absorción</th>\n",
       "      <th>Espesor de la película (nm)</th>\n",
       "    </tr>\n",
       "  </thead>\n",
       "  <tbody>\n",
       "    <tr>\n",
       "      <th>0</th>\n",
       "      <td>301</td>\n",
       "      <td>0.016685</td>\n",
       "      <td>100</td>\n",
       "    </tr>\n",
       "    <tr>\n",
       "      <th>1</th>\n",
       "      <td>302</td>\n",
       "      <td>0.016167</td>\n",
       "      <td>100</td>\n",
       "    </tr>\n",
       "    <tr>\n",
       "      <th>2</th>\n",
       "      <td>303</td>\n",
       "      <td>0.015703</td>\n",
       "      <td>100</td>\n",
       "    </tr>\n",
       "    <tr>\n",
       "      <th>3</th>\n",
       "      <td>304</td>\n",
       "      <td>0.015290</td>\n",
       "      <td>100</td>\n",
       "    </tr>\n",
       "    <tr>\n",
       "      <th>4</th>\n",
       "      <td>305</td>\n",
       "      <td>0.014916</td>\n",
       "      <td>100</td>\n",
       "    </tr>\n",
       "    <tr>\n",
       "      <th>...</th>\n",
       "      <td>...</td>\n",
       "      <td>...</td>\n",
       "      <td>...</td>\n",
       "    </tr>\n",
       "    <tr>\n",
       "      <th>595</th>\n",
       "      <td>896</td>\n",
       "      <td>0.002940</td>\n",
       "      <td>95</td>\n",
       "    </tr>\n",
       "    <tr>\n",
       "      <th>596</th>\n",
       "      <td>897</td>\n",
       "      <td>0.002939</td>\n",
       "      <td>95</td>\n",
       "    </tr>\n",
       "    <tr>\n",
       "      <th>597</th>\n",
       "      <td>898</td>\n",
       "      <td>0.002938</td>\n",
       "      <td>95</td>\n",
       "    </tr>\n",
       "    <tr>\n",
       "      <th>598</th>\n",
       "      <td>899</td>\n",
       "      <td>0.002937</td>\n",
       "      <td>95</td>\n",
       "    </tr>\n",
       "    <tr>\n",
       "      <th>599</th>\n",
       "      <td>900</td>\n",
       "      <td>0.002936</td>\n",
       "      <td>95</td>\n",
       "    </tr>\n",
       "  </tbody>\n",
       "</table>\n",
       "<p>19200 rows × 3 columns</p>\n",
       "</div>"
      ],
      "text/plain": [
       "     Longitud de onda  Índice de absorción  Espesor de la película (nm)\n",
       "0                 301             0.016685                          100\n",
       "1                 302             0.016167                          100\n",
       "2                 303             0.015703                          100\n",
       "3                 304             0.015290                          100\n",
       "4                 305             0.014916                          100\n",
       "..                ...                  ...                          ...\n",
       "595               896             0.002940                           95\n",
       "596               897             0.002939                           95\n",
       "597               898             0.002938                           95\n",
       "598               899             0.002937                           95\n",
       "599               900             0.002936                           95\n",
       "\n",
       "[19200 rows x 3 columns]"
      ]
     },
     "execution_count": 10,
     "metadata": {},
     "output_type": "execute_result"
    }
   ],
   "source": [
    "espesor"
   ]
  },
  {
   "attachments": {},
   "cell_type": "markdown",
   "metadata": {},
   "source": [
    "# Añadiendo columnas con parámetros fijos"
   ]
  },
  {
   "cell_type": "code",
   "execution_count": 11,
   "metadata": {},
   "outputs": [
    {
     "data": {
      "text/html": [
       "<div>\n",
       "<style scoped>\n",
       "    .dataframe tbody tr th:only-of-type {\n",
       "        vertical-align: middle;\n",
       "    }\n",
       "\n",
       "    .dataframe tbody tr th {\n",
       "        vertical-align: top;\n",
       "    }\n",
       "\n",
       "    .dataframe thead th {\n",
       "        text-align: right;\n",
       "    }\n",
       "</style>\n",
       "<table border=\"1\" class=\"dataframe\">\n",
       "  <thead>\n",
       "    <tr style=\"text-align: right;\">\n",
       "      <th></th>\n",
       "      <th>Longitud de onda</th>\n",
       "      <th>Índice de absorción</th>\n",
       "      <th>Espesor de la película (nm)</th>\n",
       "      <th>Radio (nm)</th>\n",
       "      <th>Fracvol</th>\n",
       "    </tr>\n",
       "  </thead>\n",
       "  <tbody>\n",
       "    <tr>\n",
       "      <th>0</th>\n",
       "      <td>301</td>\n",
       "      <td>0.016685</td>\n",
       "      <td>100</td>\n",
       "      <td>10</td>\n",
       "      <td>1</td>\n",
       "    </tr>\n",
       "    <tr>\n",
       "      <th>1</th>\n",
       "      <td>302</td>\n",
       "      <td>0.016167</td>\n",
       "      <td>100</td>\n",
       "      <td>10</td>\n",
       "      <td>1</td>\n",
       "    </tr>\n",
       "    <tr>\n",
       "      <th>2</th>\n",
       "      <td>303</td>\n",
       "      <td>0.015703</td>\n",
       "      <td>100</td>\n",
       "      <td>10</td>\n",
       "      <td>1</td>\n",
       "    </tr>\n",
       "    <tr>\n",
       "      <th>3</th>\n",
       "      <td>304</td>\n",
       "      <td>0.015290</td>\n",
       "      <td>100</td>\n",
       "      <td>10</td>\n",
       "      <td>1</td>\n",
       "    </tr>\n",
       "    <tr>\n",
       "      <th>4</th>\n",
       "      <td>305</td>\n",
       "      <td>0.014916</td>\n",
       "      <td>100</td>\n",
       "      <td>10</td>\n",
       "      <td>1</td>\n",
       "    </tr>\n",
       "    <tr>\n",
       "      <th>...</th>\n",
       "      <td>...</td>\n",
       "      <td>...</td>\n",
       "      <td>...</td>\n",
       "      <td>...</td>\n",
       "      <td>...</td>\n",
       "    </tr>\n",
       "    <tr>\n",
       "      <th>595</th>\n",
       "      <td>896</td>\n",
       "      <td>0.002940</td>\n",
       "      <td>95</td>\n",
       "      <td>10</td>\n",
       "      <td>1</td>\n",
       "    </tr>\n",
       "    <tr>\n",
       "      <th>596</th>\n",
       "      <td>897</td>\n",
       "      <td>0.002939</td>\n",
       "      <td>95</td>\n",
       "      <td>10</td>\n",
       "      <td>1</td>\n",
       "    </tr>\n",
       "    <tr>\n",
       "      <th>597</th>\n",
       "      <td>898</td>\n",
       "      <td>0.002938</td>\n",
       "      <td>95</td>\n",
       "      <td>10</td>\n",
       "      <td>1</td>\n",
       "    </tr>\n",
       "    <tr>\n",
       "      <th>598</th>\n",
       "      <td>899</td>\n",
       "      <td>0.002937</td>\n",
       "      <td>95</td>\n",
       "      <td>10</td>\n",
       "      <td>1</td>\n",
       "    </tr>\n",
       "    <tr>\n",
       "      <th>599</th>\n",
       "      <td>900</td>\n",
       "      <td>0.002936</td>\n",
       "      <td>95</td>\n",
       "      <td>10</td>\n",
       "      <td>1</td>\n",
       "    </tr>\n",
       "  </tbody>\n",
       "</table>\n",
       "<p>19200 rows × 5 columns</p>\n",
       "</div>"
      ],
      "text/plain": [
       "     Longitud de onda  Índice de absorción  Espesor de la película (nm)  \\\n",
       "0                 301             0.016685                          100   \n",
       "1                 302             0.016167                          100   \n",
       "2                 303             0.015703                          100   \n",
       "3                 304             0.015290                          100   \n",
       "4                 305             0.014916                          100   \n",
       "..                ...                  ...                          ...   \n",
       "595               896             0.002940                           95   \n",
       "596               897             0.002939                           95   \n",
       "597               898             0.002938                           95   \n",
       "598               899             0.002937                           95   \n",
       "599               900             0.002936                           95   \n",
       "\n",
       "     Radio (nm)  Fracvol  \n",
       "0            10        1  \n",
       "1            10        1  \n",
       "2            10        1  \n",
       "3            10        1  \n",
       "4            10        1  \n",
       "..          ...      ...  \n",
       "595          10        1  \n",
       "596          10        1  \n",
       "597          10        1  \n",
       "598          10        1  \n",
       "599          10        1  \n",
       "\n",
       "[19200 rows x 5 columns]"
      ]
     },
     "execution_count": 11,
     "metadata": {},
     "output_type": "execute_result"
    }
   ],
   "source": [
    "espesor['Radio (nm)'] = 10\n",
    "espesor['Fracvol'] = 1\n",
    "espesor"
   ]
  },
  {
   "attachments": {},
   "cell_type": "markdown",
   "metadata": {},
   "source": [
    "# Volver a organizar las columnas para que estén iguales a las de radio y fracción volumen"
   ]
  },
  {
   "cell_type": "code",
   "execution_count": 12,
   "metadata": {},
   "outputs": [],
   "source": [
    "espesor = espesor.reindex(columns= ['Longitud de onda', 'Índice de absorción', 'Fracvol', 'Radio (nm)', 'Espesor de la película (nm)'], )"
   ]
  },
  {
   "cell_type": "code",
   "execution_count": 13,
   "metadata": {},
   "outputs": [
    {
     "data": {
      "text/html": [
       "<div>\n",
       "<style scoped>\n",
       "    .dataframe tbody tr th:only-of-type {\n",
       "        vertical-align: middle;\n",
       "    }\n",
       "\n",
       "    .dataframe tbody tr th {\n",
       "        vertical-align: top;\n",
       "    }\n",
       "\n",
       "    .dataframe thead th {\n",
       "        text-align: right;\n",
       "    }\n",
       "</style>\n",
       "<table border=\"1\" class=\"dataframe\">\n",
       "  <thead>\n",
       "    <tr style=\"text-align: right;\">\n",
       "      <th></th>\n",
       "      <th>Longitud de onda</th>\n",
       "      <th>Índice de absorción</th>\n",
       "      <th>Fracvol</th>\n",
       "      <th>Radio (nm)</th>\n",
       "      <th>Espesor de la película (nm)</th>\n",
       "    </tr>\n",
       "  </thead>\n",
       "  <tbody>\n",
       "    <tr>\n",
       "      <th>0</th>\n",
       "      <td>301</td>\n",
       "      <td>0.016685</td>\n",
       "      <td>1</td>\n",
       "      <td>10</td>\n",
       "      <td>100</td>\n",
       "    </tr>\n",
       "    <tr>\n",
       "      <th>1</th>\n",
       "      <td>302</td>\n",
       "      <td>0.016167</td>\n",
       "      <td>1</td>\n",
       "      <td>10</td>\n",
       "      <td>100</td>\n",
       "    </tr>\n",
       "    <tr>\n",
       "      <th>2</th>\n",
       "      <td>303</td>\n",
       "      <td>0.015703</td>\n",
       "      <td>1</td>\n",
       "      <td>10</td>\n",
       "      <td>100</td>\n",
       "    </tr>\n",
       "    <tr>\n",
       "      <th>3</th>\n",
       "      <td>304</td>\n",
       "      <td>0.015290</td>\n",
       "      <td>1</td>\n",
       "      <td>10</td>\n",
       "      <td>100</td>\n",
       "    </tr>\n",
       "    <tr>\n",
       "      <th>4</th>\n",
       "      <td>305</td>\n",
       "      <td>0.014916</td>\n",
       "      <td>1</td>\n",
       "      <td>10</td>\n",
       "      <td>100</td>\n",
       "    </tr>\n",
       "    <tr>\n",
       "      <th>...</th>\n",
       "      <td>...</td>\n",
       "      <td>...</td>\n",
       "      <td>...</td>\n",
       "      <td>...</td>\n",
       "      <td>...</td>\n",
       "    </tr>\n",
       "    <tr>\n",
       "      <th>595</th>\n",
       "      <td>896</td>\n",
       "      <td>0.002940</td>\n",
       "      <td>1</td>\n",
       "      <td>10</td>\n",
       "      <td>95</td>\n",
       "    </tr>\n",
       "    <tr>\n",
       "      <th>596</th>\n",
       "      <td>897</td>\n",
       "      <td>0.002939</td>\n",
       "      <td>1</td>\n",
       "      <td>10</td>\n",
       "      <td>95</td>\n",
       "    </tr>\n",
       "    <tr>\n",
       "      <th>597</th>\n",
       "      <td>898</td>\n",
       "      <td>0.002938</td>\n",
       "      <td>1</td>\n",
       "      <td>10</td>\n",
       "      <td>95</td>\n",
       "    </tr>\n",
       "    <tr>\n",
       "      <th>598</th>\n",
       "      <td>899</td>\n",
       "      <td>0.002937</td>\n",
       "      <td>1</td>\n",
       "      <td>10</td>\n",
       "      <td>95</td>\n",
       "    </tr>\n",
       "    <tr>\n",
       "      <th>599</th>\n",
       "      <td>900</td>\n",
       "      <td>0.002936</td>\n",
       "      <td>1</td>\n",
       "      <td>10</td>\n",
       "      <td>95</td>\n",
       "    </tr>\n",
       "  </tbody>\n",
       "</table>\n",
       "<p>19200 rows × 5 columns</p>\n",
       "</div>"
      ],
      "text/plain": [
       "     Longitud de onda  Índice de absorción  Fracvol  Radio (nm)  \\\n",
       "0                 301             0.016685        1          10   \n",
       "1                 302             0.016167        1          10   \n",
       "2                 303             0.015703        1          10   \n",
       "3                 304             0.015290        1          10   \n",
       "4                 305             0.014916        1          10   \n",
       "..                ...                  ...      ...         ...   \n",
       "595               896             0.002940        1          10   \n",
       "596               897             0.002939        1          10   \n",
       "597               898             0.002938        1          10   \n",
       "598               899             0.002937        1          10   \n",
       "599               900             0.002936        1          10   \n",
       "\n",
       "     Espesor de la película (nm)  \n",
       "0                            100  \n",
       "1                            100  \n",
       "2                            100  \n",
       "3                            100  \n",
       "4                            100  \n",
       "..                           ...  \n",
       "595                           95  \n",
       "596                           95  \n",
       "597                           95  \n",
       "598                           95  \n",
       "599                           95  \n",
       "\n",
       "[19200 rows x 5 columns]"
      ]
     },
     "execution_count": 13,
     "metadata": {},
     "output_type": "execute_result"
    }
   ],
   "source": [
    "espesor"
   ]
  },
  {
   "cell_type": "code",
   "execution_count": 14,
   "metadata": {},
   "outputs": [],
   "source": [
    "espesor.to_csv('espesor', index=False)"
   ]
  },
  {
   "cell_type": "code",
   "execution_count": null,
   "metadata": {},
   "outputs": [],
   "source": []
  }
 ],
 "metadata": {
  "kernelspec": {
   "display_name": "Python 3",
   "language": "python",
   "name": "python3"
  },
  "language_info": {
   "codemirror_mode": {
    "name": "ipython",
    "version": 3
   },
   "file_extension": ".py",
   "mimetype": "text/x-python",
   "name": "python",
   "nbconvert_exporter": "python",
   "pygments_lexer": "ipython3",
   "version": "3.10.11"
  },
  "orig_nbformat": 4,
  "vscode": {
   "interpreter": {
    "hash": "d88e30a473047b13e6b465f8127d75bce8ea2a69d5e10ae129a74d2bb287f123"
   }
  }
 },
 "nbformat": 4,
 "nbformat_minor": 2
}
