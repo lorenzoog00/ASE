{
 "cells": [
  {
   "cell_type": "code",
   "execution_count": 39,
   "metadata": {},
   "outputs": [],
   "source": [
    "import pandas as pd\n",
    "import os\n",
    "import glob\n",
    "import matplotlib.pyplot as plt\n",
    "import numpy as np\n",
    "%matplotlib inline"
   ]
  },
  {
   "attachments": {},
   "cell_type": "markdown",
   "metadata": {},
   "source": [
    "#  Leyendo los archivos de cada mes"
   ]
  },
  {
   "cell_type": "code",
   "execution_count": 40,
   "metadata": {},
   "outputs": [],
   "source": [
    "files = [file for file in os.listdir('./CSVmeses')]\n",
    "luigi = {}\n",
    "for file in files:\n",
    "    luigi[file] =  pd.read_csv('./CSVmeses/'+ file)"
   ]
  },
  {
   "attachments": {},
   "cell_type": "markdown",
   "metadata": {},
   "source": [
    "# Solo tomar la parte de radiacion de los meses"
   ]
  },
  {
   "cell_type": "code",
   "execution_count": 41,
   "metadata": {},
   "outputs": [],
   "source": [
    "for peach in luigi:\n",
    "    luigi[peach] = luigi[peach][['TOA5','CR1000X']]"
   ]
  },
  {
   "attachments": {},
   "cell_type": "markdown",
   "metadata": {},
   "source": [
    "# Transformando las fechas de objetos a datetime"
   ]
  },
  {
   "cell_type": "code",
   "execution_count": 43,
   "metadata": {},
   "outputs": [],
   "source": [
    "for wario in luigi:\n",
    "    luigi[wario]['TOA5'] = pd.to_datetime(luigi[wario]['TOA5'])"
   ]
  },
  {
   "attachments": {},
   "cell_type": "markdown",
   "metadata": {},
   "source": [
    "# Convirtiendo la tabla"
   ]
  },
  {
   "attachments": {},
   "cell_type": "markdown",
   "metadata": {},
   "source": [
    "funcion que tiene de input un dataframe y lo saca con horas en renglones y dias en columnas"
   ]
  },
  {
   "cell_type": "code",
   "execution_count": 71,
   "metadata": {},
   "outputs": [],
   "source": [
    "def graph_month(df):\n",
    "    df = df.copy()\n",
    "    #se especifica como se quiere el output de la fecha\n",
    "    df.index = pd.to_datetime(df['TOA5'], format=\"%Y-%m-%d %H:%M:%S\")\n",
    "    df = df.drop('TOA5', axis=1)\n",
    "    days = np.unique(df.index.date)\n",
    "    #crea nuevo dataframe con el formato que se quiere\n",
    "    df_new = pd.DataFrame(columns=[\"TOA5\"] + list(map(lambda x: f\"DAY {x}\", range(1, len(days)+1))))\n",
    "    df_new[\"TOA5\"] = df.index.time\n",
    "    #aniadir el nombre a cada columna y ordenar los valores del DF\n",
    "    for day_num, day in enumerate(days):\n",
    "        df_day = df[df.index.date == day].reset_index(drop=True)\n",
    "        df_new[f\"DAY {day_num + 1}\"] = df_day[\"CR1000X\"]\n",
    "    return df_new\n"
   ]
  },
  {
   "attachments": {},
   "cell_type": "markdown",
   "metadata": {},
   "source": [
    "# Creando los archivos de cada mes y exportandolos"
   ]
  },
  {
   "cell_type": "code",
   "execution_count": 81,
   "metadata": {},
   "outputs": [],
   "source": [
    "for waluigi in luigi:\n",
    "    graph_month(luigi[waluigi]).to_csv(str(waluigi) + '_output.csv')\n",
    "    "
   ]
  },
  {
   "cell_type": "code",
   "execution_count": null,
   "metadata": {},
   "outputs": [],
   "source": []
  }
 ],
 "metadata": {
  "kernelspec": {
   "display_name": "Python 3",
   "language": "python",
   "name": "python3"
  },
  "language_info": {
   "codemirror_mode": {
    "name": "ipython",
    "version": 3
   },
   "file_extension": ".py",
   "mimetype": "text/x-python",
   "name": "python",
   "nbconvert_exporter": "python",
   "pygments_lexer": "ipython3",
   "version": "3.10.9"
  },
  "orig_nbformat": 4,
  "vscode": {
   "interpreter": {
    "hash": "d88e30a473047b13e6b465f8127d75bce8ea2a69d5e10ae129a74d2bb287f123"
   }
  }
 },
 "nbformat": 4,
 "nbformat_minor": 2
}
