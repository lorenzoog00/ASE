{
 "cells": [
  {
   "cell_type": "code",
   "execution_count": 98,
   "metadata": {},
   "outputs": [],
   "source": [
    "import pandas as pd\n",
    "import os\n",
    "import glob\n",
    "import matplotlib.pyplot as plt\n",
    "import numpy as np\n",
    "import tensorflow as tf\n",
    "import math\n",
    "from sklearn.metrics import mean_squared_error, r2_score\n",
    "import pandas as pd\n",
    "from keras.models import Sequential\n",
    "from keras.layers import Dense\n",
    "from sklearn.preprocessing import MinMaxScaler\n",
    "from sklearn.model_selection import train_test_split\n",
    "from sklearn.neural_network import MLPClassifier\n",
    "from sklearn.preprocessing import MultiLabelBinarizer\n",
    "from sklearn.preprocessing import StandardScaler\n",
    "from sklearn.preprocessing import MaxAbsScaler\n",
    "import numpy as np\n",
    "from sklearn.metrics import mean_absolute_error, r2_score\n",
    "from scipy.stats import pearsonr"
   ]
  },
  {
   "cell_type": "markdown",
   "metadata": {},
   "source": [
    "# En este documento se predecirán nuevas gráficas con valores de fracción volumen, radio y espesor de la partícula nuevos"
   ]
  },
  {
   "cell_type": "markdown",
   "metadata": {},
   "source": [
    "Carga del modelo normalizado"
   ]
  },
  {
   "cell_type": "code",
   "execution_count": 99,
   "metadata": {},
   "outputs": [],
   "source": [
    "model = tf.keras.models.load_model('generadorPuntos2.h5')"
   ]
  },
  {
   "cell_type": "markdown",
   "metadata": {},
   "source": [
    "# Especificando los valores a usar"
   ]
  },
  {
   "cell_type": "code",
   "execution_count": 100,
   "metadata": {},
   "outputs": [],
   "source": [
    "fracvol = 1\n",
    "radio = 20\n",
    "espesor = 300\n",
    "longitud_de_onda = list(range(301, 901))"
   ]
  },
  {
   "cell_type": "markdown",
   "metadata": {},
   "source": [
    "Creando diccionario"
   ]
  },
  {
   "cell_type": "code",
   "execution_count": 101,
   "metadata": {},
   "outputs": [],
   "source": [
    "data = {\n",
    "    \"Longitud de onda\": longitud_de_onda,\n",
    "    \"Fracvol\": [fracvol] * len(longitud_de_onda),\n",
    "    \"Radio (nm)\": [radio] * len(longitud_de_onda),\n",
    "    \"Espesor de la película (nm)\": [espesor] * len(longitud_de_onda)\n",
    "}"
   ]
  },
  {
   "cell_type": "markdown",
   "metadata": {},
   "source": [
    "Creando DF"
   ]
  },
  {
   "cell_type": "code",
   "execution_count": 102,
   "metadata": {},
   "outputs": [
    {
     "data": {
      "text/html": [
       "<div>\n",
       "<style scoped>\n",
       "    .dataframe tbody tr th:only-of-type {\n",
       "        vertical-align: middle;\n",
       "    }\n",
       "\n",
       "    .dataframe tbody tr th {\n",
       "        vertical-align: top;\n",
       "    }\n",
       "\n",
       "    .dataframe thead th {\n",
       "        text-align: right;\n",
       "    }\n",
       "</style>\n",
       "<table border=\"1\" class=\"dataframe\">\n",
       "  <thead>\n",
       "    <tr style=\"text-align: right;\">\n",
       "      <th></th>\n",
       "      <th>Longitud de onda</th>\n",
       "      <th>Fracvol</th>\n",
       "      <th>Radio (nm)</th>\n",
       "      <th>Espesor de la película (nm)</th>\n",
       "    </tr>\n",
       "  </thead>\n",
       "  <tbody>\n",
       "    <tr>\n",
       "      <th>0</th>\n",
       "      <td>301</td>\n",
       "      <td>1</td>\n",
       "      <td>20</td>\n",
       "      <td>300</td>\n",
       "    </tr>\n",
       "    <tr>\n",
       "      <th>1</th>\n",
       "      <td>302</td>\n",
       "      <td>1</td>\n",
       "      <td>20</td>\n",
       "      <td>300</td>\n",
       "    </tr>\n",
       "    <tr>\n",
       "      <th>2</th>\n",
       "      <td>303</td>\n",
       "      <td>1</td>\n",
       "      <td>20</td>\n",
       "      <td>300</td>\n",
       "    </tr>\n",
       "    <tr>\n",
       "      <th>3</th>\n",
       "      <td>304</td>\n",
       "      <td>1</td>\n",
       "      <td>20</td>\n",
       "      <td>300</td>\n",
       "    </tr>\n",
       "    <tr>\n",
       "      <th>4</th>\n",
       "      <td>305</td>\n",
       "      <td>1</td>\n",
       "      <td>20</td>\n",
       "      <td>300</td>\n",
       "    </tr>\n",
       "    <tr>\n",
       "      <th>...</th>\n",
       "      <td>...</td>\n",
       "      <td>...</td>\n",
       "      <td>...</td>\n",
       "      <td>...</td>\n",
       "    </tr>\n",
       "    <tr>\n",
       "      <th>595</th>\n",
       "      <td>896</td>\n",
       "      <td>1</td>\n",
       "      <td>20</td>\n",
       "      <td>300</td>\n",
       "    </tr>\n",
       "    <tr>\n",
       "      <th>596</th>\n",
       "      <td>897</td>\n",
       "      <td>1</td>\n",
       "      <td>20</td>\n",
       "      <td>300</td>\n",
       "    </tr>\n",
       "    <tr>\n",
       "      <th>597</th>\n",
       "      <td>898</td>\n",
       "      <td>1</td>\n",
       "      <td>20</td>\n",
       "      <td>300</td>\n",
       "    </tr>\n",
       "    <tr>\n",
       "      <th>598</th>\n",
       "      <td>899</td>\n",
       "      <td>1</td>\n",
       "      <td>20</td>\n",
       "      <td>300</td>\n",
       "    </tr>\n",
       "    <tr>\n",
       "      <th>599</th>\n",
       "      <td>900</td>\n",
       "      <td>1</td>\n",
       "      <td>20</td>\n",
       "      <td>300</td>\n",
       "    </tr>\n",
       "  </tbody>\n",
       "</table>\n",
       "<p>600 rows × 4 columns</p>\n",
       "</div>"
      ],
      "text/plain": [
       "     Longitud de onda  Fracvol  Radio (nm)  Espesor de la película (nm)\n",
       "0                 301        1          20                          300\n",
       "1                 302        1          20                          300\n",
       "2                 303        1          20                          300\n",
       "3                 304        1          20                          300\n",
       "4                 305        1          20                          300\n",
       "..                ...      ...         ...                          ...\n",
       "595               896        1          20                          300\n",
       "596               897        1          20                          300\n",
       "597               898        1          20                          300\n",
       "598               899        1          20                          300\n",
       "599               900        1          20                          300\n",
       "\n",
       "[600 rows x 4 columns]"
      ]
     },
     "execution_count": 102,
     "metadata": {},
     "output_type": "execute_result"
    }
   ],
   "source": [
    "df  = pd.DataFrame(data)\n",
    "df"
   ]
  },
  {
   "cell_type": "markdown",
   "metadata": {},
   "source": [
    "Normalizando valores"
   ]
  },
  {
   "cell_type": "code",
   "execution_count": 103,
   "metadata": {},
   "outputs": [],
   "source": [
    "scaler = MinMaxScaler()\n",
    "x = scaler.fit_transform(df.values)\n"
   ]
  },
  {
   "cell_type": "markdown",
   "metadata": {},
   "source": [
    "# Predicciones"
   ]
  },
  {
   "cell_type": "code",
   "execution_count": 104,
   "metadata": {},
   "outputs": [
    {
     "name": "stdout",
     "output_type": "stream",
     "text": [
      "19/19 [==============================] - 0s 574us/step\n"
     ]
    }
   ],
   "source": [
    "predictions = model.predict(x)"
   ]
  },
  {
   "cell_type": "code",
   "execution_count": 105,
   "metadata": {},
   "outputs": [],
   "source": [
    "df1 = pd.DataFrame(df, columns = ['Longitud de onda', 'Fracvol', 'Radio (nm)', 'Espesor de la película (nm)'])\n",
    "df2 = pd.DataFrame(predictions , columns = ['Índice de absorción'])"
   ]
  },
  {
   "cell_type": "code",
   "execution_count": 106,
   "metadata": {},
   "outputs": [
    {
     "data": {
      "text/html": [
       "<div>\n",
       "<style scoped>\n",
       "    .dataframe tbody tr th:only-of-type {\n",
       "        vertical-align: middle;\n",
       "    }\n",
       "\n",
       "    .dataframe tbody tr th {\n",
       "        vertical-align: top;\n",
       "    }\n",
       "\n",
       "    .dataframe thead th {\n",
       "        text-align: right;\n",
       "    }\n",
       "</style>\n",
       "<table border=\"1\" class=\"dataframe\">\n",
       "  <thead>\n",
       "    <tr style=\"text-align: right;\">\n",
       "      <th></th>\n",
       "      <th>Longitud de onda</th>\n",
       "      <th>Fracvol</th>\n",
       "      <th>Radio (nm)</th>\n",
       "      <th>Espesor de la película (nm)</th>\n",
       "      <th>Índice de absorción</th>\n",
       "    </tr>\n",
       "  </thead>\n",
       "  <tbody>\n",
       "    <tr>\n",
       "      <th>0</th>\n",
       "      <td>301</td>\n",
       "      <td>1</td>\n",
       "      <td>20</td>\n",
       "      <td>300</td>\n",
       "      <td>0.969038</td>\n",
       "    </tr>\n",
       "    <tr>\n",
       "      <th>1</th>\n",
       "      <td>302</td>\n",
       "      <td>1</td>\n",
       "      <td>20</td>\n",
       "      <td>300</td>\n",
       "      <td>0.949521</td>\n",
       "    </tr>\n",
       "    <tr>\n",
       "      <th>2</th>\n",
       "      <td>303</td>\n",
       "      <td>1</td>\n",
       "      <td>20</td>\n",
       "      <td>300</td>\n",
       "      <td>0.930004</td>\n",
       "    </tr>\n",
       "    <tr>\n",
       "      <th>3</th>\n",
       "      <td>304</td>\n",
       "      <td>1</td>\n",
       "      <td>20</td>\n",
       "      <td>300</td>\n",
       "      <td>0.910487</td>\n",
       "    </tr>\n",
       "    <tr>\n",
       "      <th>4</th>\n",
       "      <td>305</td>\n",
       "      <td>1</td>\n",
       "      <td>20</td>\n",
       "      <td>300</td>\n",
       "      <td>0.890970</td>\n",
       "    </tr>\n",
       "    <tr>\n",
       "      <th>...</th>\n",
       "      <td>...</td>\n",
       "      <td>...</td>\n",
       "      <td>...</td>\n",
       "      <td>...</td>\n",
       "      <td>...</td>\n",
       "    </tr>\n",
       "    <tr>\n",
       "      <th>595</th>\n",
       "      <td>896</td>\n",
       "      <td>1</td>\n",
       "      <td>20</td>\n",
       "      <td>300</td>\n",
       "      <td>0.126538</td>\n",
       "    </tr>\n",
       "    <tr>\n",
       "      <th>596</th>\n",
       "      <td>897</td>\n",
       "      <td>1</td>\n",
       "      <td>20</td>\n",
       "      <td>300</td>\n",
       "      <td>0.126723</td>\n",
       "    </tr>\n",
       "    <tr>\n",
       "      <th>597</th>\n",
       "      <td>898</td>\n",
       "      <td>1</td>\n",
       "      <td>20</td>\n",
       "      <td>300</td>\n",
       "      <td>0.126909</td>\n",
       "    </tr>\n",
       "    <tr>\n",
       "      <th>598</th>\n",
       "      <td>899</td>\n",
       "      <td>1</td>\n",
       "      <td>20</td>\n",
       "      <td>300</td>\n",
       "      <td>0.127094</td>\n",
       "    </tr>\n",
       "    <tr>\n",
       "      <th>599</th>\n",
       "      <td>900</td>\n",
       "      <td>1</td>\n",
       "      <td>20</td>\n",
       "      <td>300</td>\n",
       "      <td>0.127280</td>\n",
       "    </tr>\n",
       "  </tbody>\n",
       "</table>\n",
       "<p>600 rows × 5 columns</p>\n",
       "</div>"
      ],
      "text/plain": [
       "     Longitud de onda  Fracvol  Radio (nm)  Espesor de la película (nm)  \\\n",
       "0                 301        1          20                          300   \n",
       "1                 302        1          20                          300   \n",
       "2                 303        1          20                          300   \n",
       "3                 304        1          20                          300   \n",
       "4                 305        1          20                          300   \n",
       "..                ...      ...         ...                          ...   \n",
       "595               896        1          20                          300   \n",
       "596               897        1          20                          300   \n",
       "597               898        1          20                          300   \n",
       "598               899        1          20                          300   \n",
       "599               900        1          20                          300   \n",
       "\n",
       "     Índice de absorción  \n",
       "0               0.969038  \n",
       "1               0.949521  \n",
       "2               0.930004  \n",
       "3               0.910487  \n",
       "4               0.890970  \n",
       "..                   ...  \n",
       "595             0.126538  \n",
       "596             0.126723  \n",
       "597             0.126909  \n",
       "598             0.127094  \n",
       "599             0.127280  \n",
       "\n",
       "[600 rows x 5 columns]"
      ]
     },
     "execution_count": 106,
     "metadata": {},
     "output_type": "execute_result"
    }
   ],
   "source": [
    "result_df = pd.concat([df1, df2], axis=1)\n",
    "result_df"
   ]
  },
  {
   "cell_type": "markdown",
   "metadata": {},
   "source": [
    "# Gráfica con valores normalizados"
   ]
  },
  {
   "cell_type": "code",
   "execution_count": 107,
   "metadata": {},
   "outputs": [
    {
     "data": {
      "image/png": "[encoded data removed]",
      "text/plain": [
       "<Figure size 1000x600 with 1 Axes>"
      ]
     },
     "metadata": {},
     "output_type": "display_data"
    }
   ],
   "source": [
    "columnas_seleccionadas = ['Longitud de onda', 'Índice de absorción']\n",
    "df_seleccionado = result_df[columnas_seleccionadas]\n",
    "\n",
    "# Crear la gráfica de dispersión\n",
    "plt.figure(figsize=(10, 6))\n",
    "plt.plot(df_seleccionado['Longitud de onda'], df_seleccionado['Índice de absorción'], color='blue')\n",
    "plt.xlabel('Longitud de onda')\n",
    "plt.ylabel('Índice de absorción')\n",
    "plt.title('Gráfica de Índice de absorción vs Longitud de onda Generada por red neuronal')\n",
    "plt.grid(True)\n",
    "plt.show()"
   ]
  },
  {
   "cell_type": "markdown",
   "metadata": {},
   "source": [
    "Para desnormalizar sacaremos la media y desviacion estandar de los datos con los que la red fue entrenada"
   ]
  },
  {
   "cell_type": "code",
   "execution_count": 108,
   "metadata": {},
   "outputs": [],
   "source": [
    "files = [file for file in os.listdir('./parametros')]\n",
    "\n",
    "param = pd.DataFrame()\n",
    "for file in files:\n",
    "  df = pd.read_csv('./parametros/'+file)\n",
    "  param = pd.concat([param, df], axis= 0)"
   ]
  },
  {
   "cell_type": "code",
   "execution_count": 109,
   "metadata": {},
   "outputs": [],
   "source": [
    "minimo = param['Índice de absorción'].min()\n",
    "maximo = param['Índice de absorción'].max()"
   ]
  },
  {
   "cell_type": "code",
   "execution_count": 110,
   "metadata": {},
   "outputs": [],
   "source": [
    "factor = param['Índice de absorción'].mean() / result_df['Índice de absorción'].mean()"
   ]
  },
  {
   "cell_type": "code",
   "execution_count": 111,
   "metadata": {},
   "outputs": [
    {
     "data": {
      "text/plain": [
       "0.026508669297764575"
      ]
     },
     "execution_count": 111,
     "metadata": {},
     "output_type": "execute_result"
    }
   ],
   "source": [
    "factor"
   ]
  },
  {
   "cell_type": "markdown",
   "metadata": {},
   "source": [
    "result_df['Índice de absorción'] = (result_df['Índice de absorción'] * (maximo - minimo)*factor) + minimo\n",
    "result_df"
   ]
  },
  {
   "cell_type": "code",
   "execution_count": 112,
   "metadata": {},
   "outputs": [],
   "source": [
    "result_df['Índice de absorción'] = result_df['Índice de absorción'] * factor"
   ]
  },
  {
   "cell_type": "code",
   "execution_count": 113,
   "metadata": {},
   "outputs": [
    {
     "data": {
      "text/html": [
       "<div>\n",
       "<style scoped>\n",
       "    .dataframe tbody tr th:only-of-type {\n",
       "        vertical-align: middle;\n",
       "    }\n",
       "\n",
       "    .dataframe tbody tr th {\n",
       "        vertical-align: top;\n",
       "    }\n",
       "\n",
       "    .dataframe thead th {\n",
       "        text-align: right;\n",
       "    }\n",
       "</style>\n",
       "<table border=\"1\" class=\"dataframe\">\n",
       "  <thead>\n",
       "    <tr style=\"text-align: right;\">\n",
       "      <th></th>\n",
       "      <th>Longitud de onda</th>\n",
       "      <th>Fracvol</th>\n",
       "      <th>Radio (nm)</th>\n",
       "      <th>Espesor de la película (nm)</th>\n",
       "      <th>Índice de absorción</th>\n",
       "    </tr>\n",
       "  </thead>\n",
       "  <tbody>\n",
       "    <tr>\n",
       "      <th>0</th>\n",
       "      <td>301</td>\n",
       "      <td>1</td>\n",
       "      <td>20</td>\n",
       "      <td>300</td>\n",
       "      <td>0.025688</td>\n",
       "    </tr>\n",
       "    <tr>\n",
       "      <th>1</th>\n",
       "      <td>302</td>\n",
       "      <td>1</td>\n",
       "      <td>20</td>\n",
       "      <td>300</td>\n",
       "      <td>0.025171</td>\n",
       "    </tr>\n",
       "    <tr>\n",
       "      <th>2</th>\n",
       "      <td>303</td>\n",
       "      <td>1</td>\n",
       "      <td>20</td>\n",
       "      <td>300</td>\n",
       "      <td>0.024653</td>\n",
       "    </tr>\n",
       "    <tr>\n",
       "      <th>3</th>\n",
       "      <td>304</td>\n",
       "      <td>1</td>\n",
       "      <td>20</td>\n",
       "      <td>300</td>\n",
       "      <td>0.024136</td>\n",
       "    </tr>\n",
       "    <tr>\n",
       "      <th>4</th>\n",
       "      <td>305</td>\n",
       "      <td>1</td>\n",
       "      <td>20</td>\n",
       "      <td>300</td>\n",
       "      <td>0.023618</td>\n",
       "    </tr>\n",
       "    <tr>\n",
       "      <th>...</th>\n",
       "      <td>...</td>\n",
       "      <td>...</td>\n",
       "      <td>...</td>\n",
       "      <td>...</td>\n",
       "      <td>...</td>\n",
       "    </tr>\n",
       "    <tr>\n",
       "      <th>595</th>\n",
       "      <td>896</td>\n",
       "      <td>1</td>\n",
       "      <td>20</td>\n",
       "      <td>300</td>\n",
       "      <td>0.003354</td>\n",
       "    </tr>\n",
       "    <tr>\n",
       "      <th>596</th>\n",
       "      <td>897</td>\n",
       "      <td>1</td>\n",
       "      <td>20</td>\n",
       "      <td>300</td>\n",
       "      <td>0.003359</td>\n",
       "    </tr>\n",
       "    <tr>\n",
       "      <th>597</th>\n",
       "      <td>898</td>\n",
       "      <td>1</td>\n",
       "      <td>20</td>\n",
       "      <td>300</td>\n",
       "      <td>0.003364</td>\n",
       "    </tr>\n",
       "    <tr>\n",
       "      <th>598</th>\n",
       "      <td>899</td>\n",
       "      <td>1</td>\n",
       "      <td>20</td>\n",
       "      <td>300</td>\n",
       "      <td>0.003369</td>\n",
       "    </tr>\n",
       "    <tr>\n",
       "      <th>599</th>\n",
       "      <td>900</td>\n",
       "      <td>1</td>\n",
       "      <td>20</td>\n",
       "      <td>300</td>\n",
       "      <td>0.003374</td>\n",
       "    </tr>\n",
       "  </tbody>\n",
       "</table>\n",
       "<p>600 rows × 5 columns</p>\n",
       "</div>"
      ],
      "text/plain": [
       "     Longitud de onda  Fracvol  Radio (nm)  Espesor de la película (nm)  \\\n",
       "0                 301        1          20                          300   \n",
       "1                 302        1          20                          300   \n",
       "2                 303        1          20                          300   \n",
       "3                 304        1          20                          300   \n",
       "4                 305        1          20                          300   \n",
       "..                ...      ...         ...                          ...   \n",
       "595               896        1          20                          300   \n",
       "596               897        1          20                          300   \n",
       "597               898        1          20                          300   \n",
       "598               899        1          20                          300   \n",
       "599               900        1          20                          300   \n",
       "\n",
       "     Índice de absorción  \n",
       "0               0.025688  \n",
       "1               0.025171  \n",
       "2               0.024653  \n",
       "3               0.024136  \n",
       "4               0.023618  \n",
       "..                   ...  \n",
       "595             0.003354  \n",
       "596             0.003359  \n",
       "597             0.003364  \n",
       "598             0.003369  \n",
       "599             0.003374  \n",
       "\n",
       "[600 rows x 5 columns]"
      ]
     },
     "execution_count": 113,
     "metadata": {},
     "output_type": "execute_result"
    }
   ],
   "source": [
    "result_df"
   ]
  },
  {
   "cell_type": "code",
   "execution_count": 114,
   "metadata": {},
   "outputs": [
    {
     "data": {
      "image/png": "[encoded data removed]",
      "text/plain": [
       "<Figure size 1000x600 with 1 Axes>"
      ]
     },
     "metadata": {},
     "output_type": "display_data"
    }
   ],
   "source": [
    "columnas_seleccionadas = ['Longitud de onda', 'Índice de absorción']\n",
    "df_seleccionado = result_df[columnas_seleccionadas]\n",
    "\n",
    "# Crear la gráfica de dispersión\n",
    "plt.figure(figsize=(10, 6))\n",
    "plt.plot(df_seleccionado['Longitud de onda'], df_seleccionado['Índice de absorción'], color='blue')\n",
    "plt.xlabel('Longitud de onda')\n",
    "plt.ylabel('Índice de absorción')\n",
    "plt.title('Gráfica de Índice de absorción vs Longitud de onda Generada por red neuronal')\n",
    "plt.grid(True)\n",
    "plt.show()"
   ]
  },
  {
   "cell_type": "code",
   "execution_count": null,
   "metadata": {},
   "outputs": [],
   "source": []
  }
 ],
 "metadata": {
  "kernelspec": {
   "display_name": "Python 3",
   "language": "python",
   "name": "python3"
  },
  "language_info": {
   "codemirror_mode": {
    "name": "ipython",
    "version": 3
   },
   "file_extension": ".py",
   "mimetype": "text/x-python",
   "name": "python",
   "nbconvert_exporter": "python",
   "pygments_lexer": "ipython3",
   "version": "3.10.11"
  },
  "orig_nbformat": 4
 },
 "nbformat": 4,
 "nbformat_minor": 2
}
