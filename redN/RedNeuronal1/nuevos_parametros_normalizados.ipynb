{
 "cells": [
  {
   "cell_type": "code",
   "execution_count": 145,
   "metadata": {},
   "outputs": [],
   "source": [
    "import pandas as pd\n",
    "import os\n",
    "import glob\n",
    "import matplotlib.pyplot as plt\n",
    "import numpy as np\n",
    "import tensorflow as tf\n",
    "import math\n",
    "from sklearn.metrics import mean_squared_error, r2_score\n",
    "import pandas as pd\n",
    "from keras.models import Sequential\n",
    "from keras.layers import Dense\n",
    "from sklearn.preprocessing import MinMaxScaler\n",
    "from sklearn.model_selection import train_test_split\n",
    "from sklearn.neural_network import MLPClassifier\n",
    "from sklearn.preprocessing import MultiLabelBinarizer\n",
    "from sklearn.preprocessing import StandardScaler\n",
    "from sklearn.preprocessing import MaxAbsScaler\n",
    "import numpy as np\n",
    "from sklearn.metrics import mean_absolute_error, r2_score\n",
    "from scipy.stats import pearsonr\n",
    "from tensorflow.keras.models import load_model"
   ]
  },
  {
   "cell_type": "markdown",
   "metadata": {},
   "source": [
    "# En este documento se predecirán nuevas gráficas con valores de fracción volumen, radio y espesor de la partícula nuevos"
   ]
  },
  {
   "cell_type": "markdown",
   "metadata": {},
   "source": [
    "Carga del modelo normalizado"
   ]
  },
  {
   "cell_type": "code",
   "execution_count": 146,
   "metadata": {},
   "outputs": [],
   "source": [
    "model = tf.keras.models.load_model('normalizado3.h5')"
   ]
  },
  {
   "cell_type": "markdown",
   "metadata": {},
   "source": [
    "# Especificando los valores a usar"
   ]
  },
  {
   "cell_type": "code",
   "execution_count": 147,
   "metadata": {},
   "outputs": [],
   "source": [
    "fracvol = 1\n",
    "radio = 35\n",
    "espesor = 150\n",
    "longitud_de_onda = list(range(301, 901))"
   ]
  },
  {
   "cell_type": "markdown",
   "metadata": {},
   "source": [
    "Creando diccionario"
   ]
  },
  {
   "cell_type": "code",
   "execution_count": 148,
   "metadata": {},
   "outputs": [],
   "source": [
    "data = {\n",
    "    \"Longitud de onda\": longitud_de_onda,\n",
    "    \"Fracvol\": [fracvol] * len(longitud_de_onda),\n",
    "    \"Radio (nm)\": [radio] * len(longitud_de_onda),\n",
    "    \"Espesor de la película (nm)\": [espesor] * len(longitud_de_onda)\n",
    "}"
   ]
  },
  {
   "cell_type": "markdown",
   "metadata": {},
   "source": [
    "Creando DF"
   ]
  },
  {
   "cell_type": "code",
   "execution_count": 149,
   "metadata": {},
   "outputs": [
    {
     "data": {
      "text/html": [
       "<div>\n",
       "<style scoped>\n",
       "    .dataframe tbody tr th:only-of-type {\n",
       "        vertical-align: middle;\n",
       "    }\n",
       "\n",
       "    .dataframe tbody tr th {\n",
       "        vertical-align: top;\n",
       "    }\n",
       "\n",
       "    .dataframe thead th {\n",
       "        text-align: right;\n",
       "    }\n",
       "</style>\n",
       "<table border=\"1\" class=\"dataframe\">\n",
       "  <thead>\n",
       "    <tr style=\"text-align: right;\">\n",
       "      <th></th>\n",
       "      <th>Longitud de onda</th>\n",
       "      <th>Fracvol</th>\n",
       "      <th>Radio (nm)</th>\n",
       "      <th>Espesor de la película (nm)</th>\n",
       "    </tr>\n",
       "  </thead>\n",
       "  <tbody>\n",
       "    <tr>\n",
       "      <th>0</th>\n",
       "      <td>301</td>\n",
       "      <td>1</td>\n",
       "      <td>35</td>\n",
       "      <td>150</td>\n",
       "    </tr>\n",
       "    <tr>\n",
       "      <th>1</th>\n",
       "      <td>302</td>\n",
       "      <td>1</td>\n",
       "      <td>35</td>\n",
       "      <td>150</td>\n",
       "    </tr>\n",
       "    <tr>\n",
       "      <th>2</th>\n",
       "      <td>303</td>\n",
       "      <td>1</td>\n",
       "      <td>35</td>\n",
       "      <td>150</td>\n",
       "    </tr>\n",
       "    <tr>\n",
       "      <th>3</th>\n",
       "      <td>304</td>\n",
       "      <td>1</td>\n",
       "      <td>35</td>\n",
       "      <td>150</td>\n",
       "    </tr>\n",
       "    <tr>\n",
       "      <th>4</th>\n",
       "      <td>305</td>\n",
       "      <td>1</td>\n",
       "      <td>35</td>\n",
       "      <td>150</td>\n",
       "    </tr>\n",
       "    <tr>\n",
       "      <th>...</th>\n",
       "      <td>...</td>\n",
       "      <td>...</td>\n",
       "      <td>...</td>\n",
       "      <td>...</td>\n",
       "    </tr>\n",
       "    <tr>\n",
       "      <th>595</th>\n",
       "      <td>896</td>\n",
       "      <td>1</td>\n",
       "      <td>35</td>\n",
       "      <td>150</td>\n",
       "    </tr>\n",
       "    <tr>\n",
       "      <th>596</th>\n",
       "      <td>897</td>\n",
       "      <td>1</td>\n",
       "      <td>35</td>\n",
       "      <td>150</td>\n",
       "    </tr>\n",
       "    <tr>\n",
       "      <th>597</th>\n",
       "      <td>898</td>\n",
       "      <td>1</td>\n",
       "      <td>35</td>\n",
       "      <td>150</td>\n",
       "    </tr>\n",
       "    <tr>\n",
       "      <th>598</th>\n",
       "      <td>899</td>\n",
       "      <td>1</td>\n",
       "      <td>35</td>\n",
       "      <td>150</td>\n",
       "    </tr>\n",
       "    <tr>\n",
       "      <th>599</th>\n",
       "      <td>900</td>\n",
       "      <td>1</td>\n",
       "      <td>35</td>\n",
       "      <td>150</td>\n",
       "    </tr>\n",
       "  </tbody>\n",
       "</table>\n",
       "<p>600 rows × 4 columns</p>\n",
       "</div>"
      ],
      "text/plain": [
       "     Longitud de onda  Fracvol  Radio (nm)  Espesor de la película (nm)\n",
       "0                 301        1          35                          150\n",
       "1                 302        1          35                          150\n",
       "2                 303        1          35                          150\n",
       "3                 304        1          35                          150\n",
       "4                 305        1          35                          150\n",
       "..                ...      ...         ...                          ...\n",
       "595               896        1          35                          150\n",
       "596               897        1          35                          150\n",
       "597               898        1          35                          150\n",
       "598               899        1          35                          150\n",
       "599               900        1          35                          150\n",
       "\n",
       "[600 rows x 4 columns]"
      ]
     },
     "execution_count": 149,
     "metadata": {},
     "output_type": "execute_result"
    }
   ],
   "source": [
    "df  = pd.DataFrame(data)\n",
    "df"
   ]
  },
  {
   "cell_type": "markdown",
   "metadata": {},
   "source": [
    "Normalizando valores"
   ]
  },
  {
   "cell_type": "code",
   "execution_count": 150,
   "metadata": {},
   "outputs": [],
   "source": [
    "scaler = MinMaxScaler()\n",
    "x = df.values\n",
    "x_norm = scaler.fit_transform(x)"
   ]
  },
  {
   "cell_type": "markdown",
   "metadata": {},
   "source": [
    "# Predicciones"
   ]
  },
  {
   "cell_type": "code",
   "execution_count": 151,
   "metadata": {},
   "outputs": [
    {
     "name": "stdout",
     "output_type": "stream",
     "text": [
      "19/19 [==============================] - 0s 781us/step\n"
     ]
    }
   ],
   "source": [
    "predictions = model.predict(x_norm)"
   ]
  },
  {
   "cell_type": "code",
   "execution_count": 152,
   "metadata": {},
   "outputs": [],
   "source": [
    "df1 = pd.DataFrame(df, columns = ['Longitud de onda', 'Fracvol', 'Radio (nm)', 'Espesor de la película (nm)'])\n",
    "df2 = pd.DataFrame(predictions , columns = ['Índice de absorción'])"
   ]
  },
  {
   "cell_type": "code",
   "execution_count": 153,
   "metadata": {},
   "outputs": [
    {
     "data": {
      "text/html": [
       "<div>\n",
       "<style scoped>\n",
       "    .dataframe tbody tr th:only-of-type {\n",
       "        vertical-align: middle;\n",
       "    }\n",
       "\n",
       "    .dataframe tbody tr th {\n",
       "        vertical-align: top;\n",
       "    }\n",
       "\n",
       "    .dataframe thead th {\n",
       "        text-align: right;\n",
       "    }\n",
       "</style>\n",
       "<table border=\"1\" class=\"dataframe\">\n",
       "  <thead>\n",
       "    <tr style=\"text-align: right;\">\n",
       "      <th></th>\n",
       "      <th>Longitud de onda</th>\n",
       "      <th>Fracvol</th>\n",
       "      <th>Radio (nm)</th>\n",
       "      <th>Espesor de la película (nm)</th>\n",
       "      <th>Índice de absorción</th>\n",
       "    </tr>\n",
       "  </thead>\n",
       "  <tbody>\n",
       "    <tr>\n",
       "      <th>0</th>\n",
       "      <td>301</td>\n",
       "      <td>1</td>\n",
       "      <td>35</td>\n",
       "      <td>150</td>\n",
       "      <td>0.964372</td>\n",
       "    </tr>\n",
       "    <tr>\n",
       "      <th>1</th>\n",
       "      <td>302</td>\n",
       "      <td>1</td>\n",
       "      <td>35</td>\n",
       "      <td>150</td>\n",
       "      <td>0.948083</td>\n",
       "    </tr>\n",
       "    <tr>\n",
       "      <th>2</th>\n",
       "      <td>303</td>\n",
       "      <td>1</td>\n",
       "      <td>35</td>\n",
       "      <td>150</td>\n",
       "      <td>0.931793</td>\n",
       "    </tr>\n",
       "    <tr>\n",
       "      <th>3</th>\n",
       "      <td>304</td>\n",
       "      <td>1</td>\n",
       "      <td>35</td>\n",
       "      <td>150</td>\n",
       "      <td>0.915504</td>\n",
       "    </tr>\n",
       "    <tr>\n",
       "      <th>4</th>\n",
       "      <td>305</td>\n",
       "      <td>1</td>\n",
       "      <td>35</td>\n",
       "      <td>150</td>\n",
       "      <td>0.899214</td>\n",
       "    </tr>\n",
       "    <tr>\n",
       "      <th>...</th>\n",
       "      <td>...</td>\n",
       "      <td>...</td>\n",
       "      <td>...</td>\n",
       "      <td>...</td>\n",
       "      <td>...</td>\n",
       "    </tr>\n",
       "    <tr>\n",
       "      <th>595</th>\n",
       "      <td>896</td>\n",
       "      <td>1</td>\n",
       "      <td>35</td>\n",
       "      <td>150</td>\n",
       "      <td>0.126024</td>\n",
       "    </tr>\n",
       "    <tr>\n",
       "      <th>596</th>\n",
       "      <td>897</td>\n",
       "      <td>1</td>\n",
       "      <td>35</td>\n",
       "      <td>150</td>\n",
       "      <td>0.126190</td>\n",
       "    </tr>\n",
       "    <tr>\n",
       "      <th>597</th>\n",
       "      <td>898</td>\n",
       "      <td>1</td>\n",
       "      <td>35</td>\n",
       "      <td>150</td>\n",
       "      <td>0.126356</td>\n",
       "    </tr>\n",
       "    <tr>\n",
       "      <th>598</th>\n",
       "      <td>899</td>\n",
       "      <td>1</td>\n",
       "      <td>35</td>\n",
       "      <td>150</td>\n",
       "      <td>0.126522</td>\n",
       "    </tr>\n",
       "    <tr>\n",
       "      <th>599</th>\n",
       "      <td>900</td>\n",
       "      <td>1</td>\n",
       "      <td>35</td>\n",
       "      <td>150</td>\n",
       "      <td>0.126688</td>\n",
       "    </tr>\n",
       "  </tbody>\n",
       "</table>\n",
       "<p>600 rows × 5 columns</p>\n",
       "</div>"
      ],
      "text/plain": [
       "     Longitud de onda  Fracvol  Radio (nm)  Espesor de la película (nm)  \\\n",
       "0                 301        1          35                          150   \n",
       "1                 302        1          35                          150   \n",
       "2                 303        1          35                          150   \n",
       "3                 304        1          35                          150   \n",
       "4                 305        1          35                          150   \n",
       "..                ...      ...         ...                          ...   \n",
       "595               896        1          35                          150   \n",
       "596               897        1          35                          150   \n",
       "597               898        1          35                          150   \n",
       "598               899        1          35                          150   \n",
       "599               900        1          35                          150   \n",
       "\n",
       "     Índice de absorción  \n",
       "0               0.964372  \n",
       "1               0.948083  \n",
       "2               0.931793  \n",
       "3               0.915504  \n",
       "4               0.899214  \n",
       "..                   ...  \n",
       "595             0.126024  \n",
       "596             0.126190  \n",
       "597             0.126356  \n",
       "598             0.126522  \n",
       "599             0.126688  \n",
       "\n",
       "[600 rows x 5 columns]"
      ]
     },
     "execution_count": 153,
     "metadata": {},
     "output_type": "execute_result"
    }
   ],
   "source": [
    "result_df = pd.concat([df1, df2], axis=1)\n",
    "result_df"
   ]
  },
  {
   "cell_type": "markdown",
   "metadata": {},
   "source": [
    "# Gráfica con valores normalizados"
   ]
  },
  {
   "cell_type": "code",
   "execution_count": 154,
   "metadata": {},
   "outputs": [
    {
     "data": {
      "image/png": "[encoded data removed]",
      "text/plain": [
       "<Figure size 1000x600 with 1 Axes>"
      ]
     },
     "metadata": {},
     "output_type": "display_data"
    }
   ],
   "source": [
    "columnas_seleccionadas = ['Longitud de onda', 'Índice de absorción']\n",
    "df_seleccionado = result_df[columnas_seleccionadas]\n",
    "\n",
    "# Crear la gráfica de dispersión\n",
    "plt.figure(figsize=(10, 6))\n",
    "plt.plot(df_seleccionado['Longitud de onda'], df_seleccionado['Índice de absorción'], color='blue')\n",
    "plt.xlabel('Longitud de onda')\n",
    "plt.ylabel('Índice de absorción')\n",
    "plt.title('Gráfica de Índice de absorción vs Longitud de onda Generada por red neuronal')\n",
    "plt.grid(True)\n",
    "plt.show()"
   ]
  },
  {
   "cell_type": "markdown",
   "metadata": {},
   "source": [
    "Para desnormalizar sacaremos la media y desviacion estandar de los datos con los que la red fue entrenada"
   ]
  },
  {
   "cell_type": "code",
   "execution_count": 155,
   "metadata": {},
   "outputs": [],
   "source": [
    "files = [file for file in os.listdir('./parametros')]\n",
    "\n",
    "param = pd.DataFrame()\n",
    "for file in files:\n",
    "  df = pd.read_csv('./parametros/'+file)\n",
    "  param = pd.concat([param, df], axis= 0)"
   ]
  },
  {
   "cell_type": "code",
   "execution_count": 156,
   "metadata": {},
   "outputs": [],
   "source": [
    "minimo = param['Índice de absorción'].min()\n",
    "maximo = param['Índice de absorción'].max()"
   ]
  },
  {
   "cell_type": "code",
   "execution_count": 157,
   "metadata": {},
   "outputs": [],
   "source": [
    "factor = 0.5"
   ]
  },
  {
   "cell_type": "code",
   "execution_count": 158,
   "metadata": {},
   "outputs": [
    {
     "data": {
      "text/html": [
       "<div>\n",
       "<style scoped>\n",
       "    .dataframe tbody tr th:only-of-type {\n",
       "        vertical-align: middle;\n",
       "    }\n",
       "\n",
       "    .dataframe tbody tr th {\n",
       "        vertical-align: top;\n",
       "    }\n",
       "\n",
       "    .dataframe thead th {\n",
       "        text-align: right;\n",
       "    }\n",
       "</style>\n",
       "<table border=\"1\" class=\"dataframe\">\n",
       "  <thead>\n",
       "    <tr style=\"text-align: right;\">\n",
       "      <th></th>\n",
       "      <th>Longitud de onda</th>\n",
       "      <th>Fracvol</th>\n",
       "      <th>Radio (nm)</th>\n",
       "      <th>Espesor de la película (nm)</th>\n",
       "      <th>Índice de absorción</th>\n",
       "    </tr>\n",
       "  </thead>\n",
       "  <tbody>\n",
       "    <tr>\n",
       "      <th>0</th>\n",
       "      <td>301</td>\n",
       "      <td>1</td>\n",
       "      <td>35</td>\n",
       "      <td>150</td>\n",
       "      <td>0.066614</td>\n",
       "    </tr>\n",
       "    <tr>\n",
       "      <th>1</th>\n",
       "      <td>302</td>\n",
       "      <td>1</td>\n",
       "      <td>35</td>\n",
       "      <td>150</td>\n",
       "      <td>0.065488</td>\n",
       "    </tr>\n",
       "    <tr>\n",
       "      <th>2</th>\n",
       "      <td>303</td>\n",
       "      <td>1</td>\n",
       "      <td>35</td>\n",
       "      <td>150</td>\n",
       "      <td>0.064363</td>\n",
       "    </tr>\n",
       "    <tr>\n",
       "      <th>3</th>\n",
       "      <td>304</td>\n",
       "      <td>1</td>\n",
       "      <td>35</td>\n",
       "      <td>150</td>\n",
       "      <td>0.063238</td>\n",
       "    </tr>\n",
       "    <tr>\n",
       "      <th>4</th>\n",
       "      <td>305</td>\n",
       "      <td>1</td>\n",
       "      <td>35</td>\n",
       "      <td>150</td>\n",
       "      <td>0.062113</td>\n",
       "    </tr>\n",
       "    <tr>\n",
       "      <th>...</th>\n",
       "      <td>...</td>\n",
       "      <td>...</td>\n",
       "      <td>...</td>\n",
       "      <td>...</td>\n",
       "      <td>...</td>\n",
       "    </tr>\n",
       "    <tr>\n",
       "      <th>595</th>\n",
       "      <td>896</td>\n",
       "      <td>1</td>\n",
       "      <td>35</td>\n",
       "      <td>150</td>\n",
       "      <td>0.008705</td>\n",
       "    </tr>\n",
       "    <tr>\n",
       "      <th>596</th>\n",
       "      <td>897</td>\n",
       "      <td>1</td>\n",
       "      <td>35</td>\n",
       "      <td>150</td>\n",
       "      <td>0.008717</td>\n",
       "    </tr>\n",
       "    <tr>\n",
       "      <th>597</th>\n",
       "      <td>898</td>\n",
       "      <td>1</td>\n",
       "      <td>35</td>\n",
       "      <td>150</td>\n",
       "      <td>0.008728</td>\n",
       "    </tr>\n",
       "    <tr>\n",
       "      <th>598</th>\n",
       "      <td>899</td>\n",
       "      <td>1</td>\n",
       "      <td>35</td>\n",
       "      <td>150</td>\n",
       "      <td>0.008739</td>\n",
       "    </tr>\n",
       "    <tr>\n",
       "      <th>599</th>\n",
       "      <td>900</td>\n",
       "      <td>1</td>\n",
       "      <td>35</td>\n",
       "      <td>150</td>\n",
       "      <td>0.008751</td>\n",
       "    </tr>\n",
       "  </tbody>\n",
       "</table>\n",
       "<p>600 rows × 5 columns</p>\n",
       "</div>"
      ],
      "text/plain": [
       "     Longitud de onda  Fracvol  Radio (nm)  Espesor de la película (nm)  \\\n",
       "0                 301        1          35                          150   \n",
       "1                 302        1          35                          150   \n",
       "2                 303        1          35                          150   \n",
       "3                 304        1          35                          150   \n",
       "4                 305        1          35                          150   \n",
       "..                ...      ...         ...                          ...   \n",
       "595               896        1          35                          150   \n",
       "596               897        1          35                          150   \n",
       "597               898        1          35                          150   \n",
       "598               899        1          35                          150   \n",
       "599               900        1          35                          150   \n",
       "\n",
       "     Índice de absorción  \n",
       "0               0.066614  \n",
       "1               0.065488  \n",
       "2               0.064363  \n",
       "3               0.063238  \n",
       "4               0.062113  \n",
       "..                   ...  \n",
       "595             0.008705  \n",
       "596             0.008717  \n",
       "597             0.008728  \n",
       "598             0.008739  \n",
       "599             0.008751  \n",
       "\n",
       "[600 rows x 5 columns]"
      ]
     },
     "execution_count": 158,
     "metadata": {},
     "output_type": "execute_result"
    }
   ],
   "source": [
    "result_df['Índice de absorción'] = (result_df['Índice de absorción'] * (maximo - minimo)*factor) + minimo\n",
    "result_df"
   ]
  },
  {
   "cell_type": "code",
   "execution_count": 159,
   "metadata": {},
   "outputs": [
    {
     "data": {
      "image/png": "[encoded data removed]",
      "text/plain": [
       "<Figure size 1000x600 with 1 Axes>"
      ]
     },
     "metadata": {},
     "output_type": "display_data"
    }
   ],
   "source": [
    "columnas_seleccionadas = ['Longitud de onda', 'Índice de absorción']\n",
    "df_seleccionado = result_df[columnas_seleccionadas]\n",
    "\n",
    "# Crear la gráfica de dispersión\n",
    "plt.figure(figsize=(10, 6))\n",
    "plt.plot(df_seleccionado['Longitud de onda'], df_seleccionado['Índice de absorción'], color='blue')\n",
    "plt.xlabel('Longitud de onda')\n",
    "plt.ylabel('Índice de absorción')\n",
    "plt.title('Gráfica de Índice de absorción vs Longitud de onda Generada por red neuronal')\n",
    "plt.grid(True)\n",
    "plt.show()"
   ]
  },
  {
   "cell_type": "markdown",
   "metadata": {},
   "source": [
    "# Comprobando si son iguales"
   ]
  },
  {
   "cell_type": "code",
   "execution_count": 160,
   "metadata": {},
   "outputs": [],
   "source": [
    "fracvol = 1\n",
    "radio = 6\n",
    "espesor = 100\n",
    "longitud_de_onda = list(range(301, 901))\n",
    "data = {\n",
    "    \"Longitud de onda\": longitud_de_onda,\n",
    "    \"Fracvol\": [fracvol] * len(longitud_de_onda),\n",
    "    \"Radio (nm)\": [radio] * len(longitud_de_onda),\n",
    "    \"Espesor de la película (nm)\": [espesor] * len(longitud_de_onda)\n",
    "}\n",
    "df  = pd.DataFrame(data)"
   ]
  },
  {
   "cell_type": "code",
   "execution_count": 161,
   "metadata": {},
   "outputs": [
    {
     "data": {
      "text/html": [
       "<div>\n",
       "<style scoped>\n",
       "    .dataframe tbody tr th:only-of-type {\n",
       "        vertical-align: middle;\n",
       "    }\n",
       "\n",
       "    .dataframe tbody tr th {\n",
       "        vertical-align: top;\n",
       "    }\n",
       "\n",
       "    .dataframe thead th {\n",
       "        text-align: right;\n",
       "    }\n",
       "</style>\n",
       "<table border=\"1\" class=\"dataframe\">\n",
       "  <thead>\n",
       "    <tr style=\"text-align: right;\">\n",
       "      <th></th>\n",
       "      <th>Longitud de onda</th>\n",
       "      <th>Fracvol</th>\n",
       "      <th>Radio (nm)</th>\n",
       "      <th>Espesor de la película (nm)</th>\n",
       "    </tr>\n",
       "  </thead>\n",
       "  <tbody>\n",
       "    <tr>\n",
       "      <th>0</th>\n",
       "      <td>301</td>\n",
       "      <td>1</td>\n",
       "      <td>6</td>\n",
       "      <td>100</td>\n",
       "    </tr>\n",
       "    <tr>\n",
       "      <th>1</th>\n",
       "      <td>302</td>\n",
       "      <td>1</td>\n",
       "      <td>6</td>\n",
       "      <td>100</td>\n",
       "    </tr>\n",
       "    <tr>\n",
       "      <th>2</th>\n",
       "      <td>303</td>\n",
       "      <td>1</td>\n",
       "      <td>6</td>\n",
       "      <td>100</td>\n",
       "    </tr>\n",
       "    <tr>\n",
       "      <th>3</th>\n",
       "      <td>304</td>\n",
       "      <td>1</td>\n",
       "      <td>6</td>\n",
       "      <td>100</td>\n",
       "    </tr>\n",
       "    <tr>\n",
       "      <th>4</th>\n",
       "      <td>305</td>\n",
       "      <td>1</td>\n",
       "      <td>6</td>\n",
       "      <td>100</td>\n",
       "    </tr>\n",
       "    <tr>\n",
       "      <th>...</th>\n",
       "      <td>...</td>\n",
       "      <td>...</td>\n",
       "      <td>...</td>\n",
       "      <td>...</td>\n",
       "    </tr>\n",
       "    <tr>\n",
       "      <th>595</th>\n",
       "      <td>896</td>\n",
       "      <td>1</td>\n",
       "      <td>6</td>\n",
       "      <td>100</td>\n",
       "    </tr>\n",
       "    <tr>\n",
       "      <th>596</th>\n",
       "      <td>897</td>\n",
       "      <td>1</td>\n",
       "      <td>6</td>\n",
       "      <td>100</td>\n",
       "    </tr>\n",
       "    <tr>\n",
       "      <th>597</th>\n",
       "      <td>898</td>\n",
       "      <td>1</td>\n",
       "      <td>6</td>\n",
       "      <td>100</td>\n",
       "    </tr>\n",
       "    <tr>\n",
       "      <th>598</th>\n",
       "      <td>899</td>\n",
       "      <td>1</td>\n",
       "      <td>6</td>\n",
       "      <td>100</td>\n",
       "    </tr>\n",
       "    <tr>\n",
       "      <th>599</th>\n",
       "      <td>900</td>\n",
       "      <td>1</td>\n",
       "      <td>6</td>\n",
       "      <td>100</td>\n",
       "    </tr>\n",
       "  </tbody>\n",
       "</table>\n",
       "<p>600 rows × 4 columns</p>\n",
       "</div>"
      ],
      "text/plain": [
       "     Longitud de onda  Fracvol  Radio (nm)  Espesor de la película (nm)\n",
       "0                 301        1           6                          100\n",
       "1                 302        1           6                          100\n",
       "2                 303        1           6                          100\n",
       "3                 304        1           6                          100\n",
       "4                 305        1           6                          100\n",
       "..                ...      ...         ...                          ...\n",
       "595               896        1           6                          100\n",
       "596               897        1           6                          100\n",
       "597               898        1           6                          100\n",
       "598               899        1           6                          100\n",
       "599               900        1           6                          100\n",
       "\n",
       "[600 rows x 4 columns]"
      ]
     },
     "execution_count": 161,
     "metadata": {},
     "output_type": "execute_result"
    }
   ],
   "source": [
    "df"
   ]
  },
  {
   "cell_type": "code",
   "execution_count": 162,
   "metadata": {},
   "outputs": [],
   "source": [
    "scaler = MinMaxScaler()\n",
    "x = df.values\n",
    "x_norm = scaler.fit_transform(x)"
   ]
  },
  {
   "cell_type": "code",
   "execution_count": 163,
   "metadata": {},
   "outputs": [],
   "source": [
    "df1 = pd.DataFrame(df, columns = ['Longitud de onda', 'Fracvol', 'Radio (nm)', 'Espesor de la película (nm)'])\n",
    "df2 = pd.DataFrame(predictions , columns = ['Índice de absorción'])"
   ]
  },
  {
   "cell_type": "code",
   "execution_count": 164,
   "metadata": {},
   "outputs": [],
   "source": [
    "result_df2 = pd.concat([df1, df2], axis=1)\n"
   ]
  },
  {
   "cell_type": "code",
   "execution_count": 165,
   "metadata": {},
   "outputs": [],
   "source": [
    "minimo = param['Índice de absorción'].min()\n",
    "maximo = param['Índice de absorción'].max()"
   ]
  },
  {
   "cell_type": "code",
   "execution_count": 166,
   "metadata": {},
   "outputs": [],
   "source": [
    "result_df2['Índice de absorción'] = (result_df2['Índice de absorción'] * (maximo - minimo)*factor) + minimo"
   ]
  },
  {
   "cell_type": "code",
   "execution_count": 167,
   "metadata": {},
   "outputs": [
    {
     "data": {
      "image/png": "[encoded data removed]",
      "text/plain": [
       "<Figure size 1000x600 with 1 Axes>"
      ]
     },
     "metadata": {},
     "output_type": "display_data"
    }
   ],
   "source": [
    "columnas_seleccionadas = ['Longitud de onda', 'Índice de absorción']\n",
    "df_seleccionado = result_df2[columnas_seleccionadas]\n",
    "\n",
    "# Crear la gráfica de dispersión\n",
    "plt.figure(figsize=(10, 6))\n",
    "plt.plot(df_seleccionado['Longitud de onda'], df_seleccionado['Índice de absorción'], color='blue')\n",
    "plt.xlabel('Longitud de onda')\n",
    "plt.ylabel('Índice de absorción')\n",
    "plt.title('Gráfica de Índice de absorción vs Longitud de onda Generada por red neuronal')\n",
    "plt.grid(True)\n",
    "plt.show()"
   ]
  },
  {
   "cell_type": "code",
   "execution_count": 168,
   "metadata": {},
   "outputs": [
    {
     "name": "stdout",
     "output_type": "stream",
     "text": [
      "Las columnas son iguales en ambos DataFrames.\n"
     ]
    }
   ],
   "source": [
    "son_iguales = result_df['Índice de absorción'].equals(result_df2['Índice de absorción'])\n",
    "if son_iguales:\n",
    "    print(\"Las columnas son iguales en ambos DataFrames.\")\n",
    "else:\n",
    "    print(\"Las columnas no son iguales en ambos DataFrames.\")"
   ]
  }
 ],
 "metadata": {
  "kernelspec": {
   "display_name": "Python 3",
   "language": "python",
   "name": "python3"
  },
  "language_info": {
   "codemirror_mode": {
    "name": "ipython",
    "version": 3
   },
   "file_extension": ".py",
   "mimetype": "text/x-python",
   "name": "python",
   "nbconvert_exporter": "python",
   "pygments_lexer": "ipython3",
   "version": "3.10.11"
  },
  "orig_nbformat": 4
 },
 "nbformat": 4,
 "nbformat_minor": 2
}
