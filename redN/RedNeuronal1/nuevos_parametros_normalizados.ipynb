{
 "cells": [
  {
   "cell_type": "code",
   "execution_count": 1,
   "metadata": {},
   "outputs": [],
   "source": [
    "import pandas as pd\n",
    "import os\n",
    "import glob\n",
    "import matplotlib.pyplot as plt\n",
    "import numpy as np\n",
    "import tensorflow as tf\n",
    "import math\n",
    "from sklearn.metrics import mean_squared_error, r2_score\n",
    "import pandas as pd\n",
    "from keras.models import Sequential\n",
    "from keras.layers import Dense\n",
    "from sklearn.preprocessing import MinMaxScaler\n",
    "from sklearn.model_selection import train_test_split\n",
    "from sklearn.neural_network import MLPClassifier\n",
    "from sklearn.preprocessing import MultiLabelBinarizer\n",
    "from sklearn.preprocessing import StandardScaler\n",
    "from sklearn.preprocessing import MaxAbsScaler\n",
    "import numpy as np\n",
    "from sklearn.metrics import mean_absolute_error, r2_score\n",
    "from scipy.stats import pearsonr"
   ]
  },
  {
   "cell_type": "markdown",
   "metadata": {},
   "source": [
    "# En este documento se predecirán nuevas gráficas con valores de fracción volumen, radio y espesor de la partícula nuevos"
   ]
  },
  {
   "cell_type": "markdown",
   "metadata": {},
   "source": [
    "Carga del modelo normalizado"
   ]
  },
  {
   "cell_type": "code",
   "execution_count": 2,
   "metadata": {},
   "outputs": [],
   "source": [
    "model = tf.keras.models.load_model('generadorPuntos2.h5')"
   ]
  },
  {
   "cell_type": "markdown",
   "metadata": {},
   "source": [
    "# Especificando los valores a usar"
   ]
  },
  {
   "cell_type": "code",
   "execution_count": 3,
   "metadata": {},
   "outputs": [],
   "source": [
    "fracvol = 1\n",
    "radio = 10\n",
    "espesor = 700\n",
    "longitud_de_onda = list(range(301, 901))"
   ]
  },
  {
   "cell_type": "markdown",
   "metadata": {},
   "source": [
    "Creando diccionario"
   ]
  },
  {
   "cell_type": "code",
   "execution_count": 4,
   "metadata": {},
   "outputs": [],
   "source": [
    "data = {\n",
    "    \"Longitud de onda\": longitud_de_onda,\n",
    "    \"Fracvol\": [fracvol] * len(longitud_de_onda),\n",
    "    \"Radio (nm)\": [radio] * len(longitud_de_onda),\n",
    "    \"Espesor de la película (nm)\": [espesor] * len(longitud_de_onda)\n",
    "}"
   ]
  },
  {
   "cell_type": "markdown",
   "metadata": {},
   "source": [
    "Creando DF"
   ]
  },
  {
   "cell_type": "code",
   "execution_count": 5,
   "metadata": {},
   "outputs": [
    {
     "data": {
      "text/html": [
       "<div>\n",
       "<style scoped>\n",
       "    .dataframe tbody tr th:only-of-type {\n",
       "        vertical-align: middle;\n",
       "    }\n",
       "\n",
       "    .dataframe tbody tr th {\n",
       "        vertical-align: top;\n",
       "    }\n",
       "\n",
       "    .dataframe thead th {\n",
       "        text-align: right;\n",
       "    }\n",
       "</style>\n",
       "<table border=\"1\" class=\"dataframe\">\n",
       "  <thead>\n",
       "    <tr style=\"text-align: right;\">\n",
       "      <th></th>\n",
       "      <th>Longitud de onda</th>\n",
       "      <th>Fracvol</th>\n",
       "      <th>Radio (nm)</th>\n",
       "      <th>Espesor de la película (nm)</th>\n",
       "    </tr>\n",
       "  </thead>\n",
       "  <tbody>\n",
       "    <tr>\n",
       "      <th>0</th>\n",
       "      <td>301</td>\n",
       "      <td>1</td>\n",
       "      <td>10</td>\n",
       "      <td>1700</td>\n",
       "    </tr>\n",
       "    <tr>\n",
       "      <th>1</th>\n",
       "      <td>302</td>\n",
       "      <td>1</td>\n",
       "      <td>10</td>\n",
       "      <td>1700</td>\n",
       "    </tr>\n",
       "    <tr>\n",
       "      <th>2</th>\n",
       "      <td>303</td>\n",
       "      <td>1</td>\n",
       "      <td>10</td>\n",
       "      <td>1700</td>\n",
       "    </tr>\n",
       "    <tr>\n",
       "      <th>3</th>\n",
       "      <td>304</td>\n",
       "      <td>1</td>\n",
       "      <td>10</td>\n",
       "      <td>1700</td>\n",
       "    </tr>\n",
       "    <tr>\n",
       "      <th>4</th>\n",
       "      <td>305</td>\n",
       "      <td>1</td>\n",
       "      <td>10</td>\n",
       "      <td>1700</td>\n",
       "    </tr>\n",
       "    <tr>\n",
       "      <th>...</th>\n",
       "      <td>...</td>\n",
       "      <td>...</td>\n",
       "      <td>...</td>\n",
       "      <td>...</td>\n",
       "    </tr>\n",
       "    <tr>\n",
       "      <th>595</th>\n",
       "      <td>896</td>\n",
       "      <td>1</td>\n",
       "      <td>10</td>\n",
       "      <td>1700</td>\n",
       "    </tr>\n",
       "    <tr>\n",
       "      <th>596</th>\n",
       "      <td>897</td>\n",
       "      <td>1</td>\n",
       "      <td>10</td>\n",
       "      <td>1700</td>\n",
       "    </tr>\n",
       "    <tr>\n",
       "      <th>597</th>\n",
       "      <td>898</td>\n",
       "      <td>1</td>\n",
       "      <td>10</td>\n",
       "      <td>1700</td>\n",
       "    </tr>\n",
       "    <tr>\n",
       "      <th>598</th>\n",
       "      <td>899</td>\n",
       "      <td>1</td>\n",
       "      <td>10</td>\n",
       "      <td>1700</td>\n",
       "    </tr>\n",
       "    <tr>\n",
       "      <th>599</th>\n",
       "      <td>900</td>\n",
       "      <td>1</td>\n",
       "      <td>10</td>\n",
       "      <td>1700</td>\n",
       "    </tr>\n",
       "  </tbody>\n",
       "</table>\n",
       "<p>600 rows × 4 columns</p>\n",
       "</div>"
      ],
      "text/plain": [
       "     Longitud de onda  Fracvol  Radio (nm)  Espesor de la película (nm)\n",
       "0                 301        1          10                         1700\n",
       "1                 302        1          10                         1700\n",
       "2                 303        1          10                         1700\n",
       "3                 304        1          10                         1700\n",
       "4                 305        1          10                         1700\n",
       "..                ...      ...         ...                          ...\n",
       "595               896        1          10                         1700\n",
       "596               897        1          10                         1700\n",
       "597               898        1          10                         1700\n",
       "598               899        1          10                         1700\n",
       "599               900        1          10                         1700\n",
       "\n",
       "[600 rows x 4 columns]"
      ]
     },
     "execution_count": 5,
     "metadata": {},
     "output_type": "execute_result"
    }
   ],
   "source": [
    "df = pd.DataFrame(data)\n",
    "df"
   ]
  },
  {
   "cell_type": "markdown",
   "metadata": {},
   "source": [
    "# Predicciones"
   ]
  },
  {
   "cell_type": "code",
   "execution_count": 6,
   "metadata": {},
   "outputs": [],
   "source": [
    "valores = df.values"
   ]
  },
  {
   "cell_type": "code",
   "execution_count": 7,
   "metadata": {},
   "outputs": [
    {
     "name": "stdout",
     "output_type": "stream",
     "text": [
      " 1/19 [>.............................] - ETA: 1s"
     ]
    },
    {
     "name": "stdout",
     "output_type": "stream",
     "text": [
      "19/19 [==============================] - 0s 613us/step\n"
     ]
    }
   ],
   "source": [
    "predictions = model.predict(valores)"
   ]
  },
  {
   "cell_type": "code",
   "execution_count": 8,
   "metadata": {},
   "outputs": [],
   "source": [
    "df1 = pd.DataFrame(valores, columns = ['Longitud de onda', 'Fracvol', 'Radio (nm)', 'Espesor de la película (nm)'])\n",
    "df2 = pd.DataFrame(predictions , columns = ['Índice de absorción'])"
   ]
  },
  {
   "cell_type": "code",
   "execution_count": 9,
   "metadata": {},
   "outputs": [
    {
     "data": {
      "text/html": [
       "<div>\n",
       "<style scoped>\n",
       "    .dataframe tbody tr th:only-of-type {\n",
       "        vertical-align: middle;\n",
       "    }\n",
       "\n",
       "    .dataframe tbody tr th {\n",
       "        vertical-align: top;\n",
       "    }\n",
       "\n",
       "    .dataframe thead th {\n",
       "        text-align: right;\n",
       "    }\n",
       "</style>\n",
       "<table border=\"1\" class=\"dataframe\">\n",
       "  <thead>\n",
       "    <tr style=\"text-align: right;\">\n",
       "      <th></th>\n",
       "      <th>Longitud de onda</th>\n",
       "      <th>Fracvol</th>\n",
       "      <th>Radio (nm)</th>\n",
       "      <th>Espesor de la película (nm)</th>\n",
       "      <th>Índice de absorción</th>\n",
       "    </tr>\n",
       "  </thead>\n",
       "  <tbody>\n",
       "    <tr>\n",
       "      <th>0</th>\n",
       "      <td>301</td>\n",
       "      <td>1</td>\n",
       "      <td>10</td>\n",
       "      <td>1700</td>\n",
       "      <td>11.636967</td>\n",
       "    </tr>\n",
       "    <tr>\n",
       "      <th>1</th>\n",
       "      <td>302</td>\n",
       "      <td>1</td>\n",
       "      <td>10</td>\n",
       "      <td>1700</td>\n",
       "      <td>11.675889</td>\n",
       "    </tr>\n",
       "    <tr>\n",
       "      <th>2</th>\n",
       "      <td>303</td>\n",
       "      <td>1</td>\n",
       "      <td>10</td>\n",
       "      <td>1700</td>\n",
       "      <td>11.714815</td>\n",
       "    </tr>\n",
       "    <tr>\n",
       "      <th>3</th>\n",
       "      <td>304</td>\n",
       "      <td>1</td>\n",
       "      <td>10</td>\n",
       "      <td>1700</td>\n",
       "      <td>11.753733</td>\n",
       "    </tr>\n",
       "    <tr>\n",
       "      <th>4</th>\n",
       "      <td>305</td>\n",
       "      <td>1</td>\n",
       "      <td>10</td>\n",
       "      <td>1700</td>\n",
       "      <td>11.792641</td>\n",
       "    </tr>\n",
       "    <tr>\n",
       "      <th>...</th>\n",
       "      <td>...</td>\n",
       "      <td>...</td>\n",
       "      <td>...</td>\n",
       "      <td>...</td>\n",
       "      <td>...</td>\n",
       "    </tr>\n",
       "    <tr>\n",
       "      <th>595</th>\n",
       "      <td>896</td>\n",
       "      <td>1</td>\n",
       "      <td>10</td>\n",
       "      <td>1700</td>\n",
       "      <td>68.333504</td>\n",
       "    </tr>\n",
       "    <tr>\n",
       "      <th>596</th>\n",
       "      <td>897</td>\n",
       "      <td>1</td>\n",
       "      <td>10</td>\n",
       "      <td>1700</td>\n",
       "      <td>68.426964</td>\n",
       "    </tr>\n",
       "    <tr>\n",
       "      <th>597</th>\n",
       "      <td>898</td>\n",
       "      <td>1</td>\n",
       "      <td>10</td>\n",
       "      <td>1700</td>\n",
       "      <td>68.520393</td>\n",
       "    </tr>\n",
       "    <tr>\n",
       "      <th>598</th>\n",
       "      <td>899</td>\n",
       "      <td>1</td>\n",
       "      <td>10</td>\n",
       "      <td>1700</td>\n",
       "      <td>68.613823</td>\n",
       "    </tr>\n",
       "    <tr>\n",
       "      <th>599</th>\n",
       "      <td>900</td>\n",
       "      <td>1</td>\n",
       "      <td>10</td>\n",
       "      <td>1700</td>\n",
       "      <td>68.707275</td>\n",
       "    </tr>\n",
       "  </tbody>\n",
       "</table>\n",
       "<p>600 rows × 5 columns</p>\n",
       "</div>"
      ],
      "text/plain": [
       "     Longitud de onda  Fracvol  Radio (nm)  Espesor de la película (nm)  \\\n",
       "0                 301        1          10                         1700   \n",
       "1                 302        1          10                         1700   \n",
       "2                 303        1          10                         1700   \n",
       "3                 304        1          10                         1700   \n",
       "4                 305        1          10                         1700   \n",
       "..                ...      ...         ...                          ...   \n",
       "595               896        1          10                         1700   \n",
       "596               897        1          10                         1700   \n",
       "597               898        1          10                         1700   \n",
       "598               899        1          10                         1700   \n",
       "599               900        1          10                         1700   \n",
       "\n",
       "     Índice de absorción  \n",
       "0              11.636967  \n",
       "1              11.675889  \n",
       "2              11.714815  \n",
       "3              11.753733  \n",
       "4              11.792641  \n",
       "..                   ...  \n",
       "595            68.333504  \n",
       "596            68.426964  \n",
       "597            68.520393  \n",
       "598            68.613823  \n",
       "599            68.707275  \n",
       "\n",
       "[600 rows x 5 columns]"
      ]
     },
     "execution_count": 9,
     "metadata": {},
     "output_type": "execute_result"
    }
   ],
   "source": [
    "result_df = pd.concat([df1, df2], axis=1)\n",
    "result_df"
   ]
  },
  {
   "cell_type": "code",
   "execution_count": 10,
   "metadata": {},
   "outputs": [
    {
     "data": {
      "image/png": "[encoded data removed]",
      "text/plain": [
       "<Figure size 1000x600 with 1 Axes>"
      ]
     },
     "metadata": {},
     "output_type": "display_data"
    }
   ],
   "source": [
    "columnas_seleccionadas = ['Longitud de onda', 'Índice de absorción']\n",
    "df_seleccionado = result_df[columnas_seleccionadas]\n",
    "\n",
    "# Crear la gráfica de dispersión\n",
    "plt.figure(figsize=(10, 6))\n",
    "plt.plot(df_seleccionado['Longitud de onda'], df_seleccionado['Índice de absorción'], color='blue')\n",
    "plt.xlabel('Longitud de onda')\n",
    "plt.ylabel('Índice de absorción')\n",
    "plt.title('Gráfica de Índice de absorción vs Longitud de onda Generada por red neuronal')\n",
    "plt.grid(True)\n",
    "plt.show()"
   ]
  }
 ],
 "metadata": {
  "kernelspec": {
   "display_name": "Python 3",
   "language": "python",
   "name": "python3"
  },
  "language_info": {
   "codemirror_mode": {
    "name": "ipython",
    "version": 3
   },
   "file_extension": ".py",
   "mimetype": "text/x-python",
   "name": "python",
   "nbconvert_exporter": "python",
   "pygments_lexer": "ipython3",
   "version": "3.10.11"
  },
  "orig_nbformat": 4
 },
 "nbformat": 4,
 "nbformat_minor": 2
}
