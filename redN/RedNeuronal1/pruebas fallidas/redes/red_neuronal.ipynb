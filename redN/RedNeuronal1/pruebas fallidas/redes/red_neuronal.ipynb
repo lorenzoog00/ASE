{
 "cells": [
  {
   "cell_type": "code",
   "execution_count": 2,
   "metadata": {},
   "outputs": [],
   "source": [
    "import pandas as pd\n",
    "import os\n",
    "import glob\n",
    "import matplotlib.pyplot as plt\n",
    "import numpy as np\n",
    "import tensorflow as tf\n",
    "import math\n",
    "from sklearn.metrics import mean_squared_error, r2_score\n",
    "import pandas as pd\n",
    "from keras.models import Sequential\n",
    "from keras.layers import Dense"
   ]
  },
  {
   "attachments": {},
   "cell_type": "markdown",
   "metadata": {},
   "source": [
    "# **Objetivo**\n",
    "En este programa se hará una red neuronal que reciba como input el coeficiente de absorción y como output tengamos radio, fracción volumen y espesor de la película"
   ]
  },
  {
   "attachments": {},
   "cell_type": "markdown",
   "metadata": {},
   "source": [
    "### Primero juntaremos todos los archivos en uno solo"
   ]
  },
  {
   "cell_type": "code",
   "execution_count": 3,
   "metadata": {},
   "outputs": [],
   "source": [
    "files = [file for file in os.listdir('./parametros')]\n",
    "\n",
    "param = pd.DataFrame()\n",
    "for file in files:\n",
    "  df = pd.read_csv('./parametros/'+file)\n",
    "  param = pd.concat([param, df], axis= 0)"
   ]
  },
  {
   "attachments": {},
   "cell_type": "markdown",
   "metadata": {},
   "source": [
    "Imprimimos la base de datos creada anteriormente para corroborar que se haya ejecutado como deseábamos la línea anterior."
   ]
  },
  {
   "cell_type": "code",
   "execution_count": 4,
   "metadata": {},
   "outputs": [
    {
     "data": {
      "text/html": [
       "<div>\n",
       "<style scoped>\n",
       "    .dataframe tbody tr th:only-of-type {\n",
       "        vertical-align: middle;\n",
       "    }\n",
       "\n",
       "    .dataframe tbody tr th {\n",
       "        vertical-align: top;\n",
       "    }\n",
       "\n",
       "    .dataframe thead th {\n",
       "        text-align: right;\n",
       "    }\n",
       "</style>\n",
       "<table border=\"1\" class=\"dataframe\">\n",
       "  <thead>\n",
       "    <tr style=\"text-align: right;\">\n",
       "      <th></th>\n",
       "      <th>Longitud de onda</th>\n",
       "      <th>Índice de absorción</th>\n",
       "      <th>Fracvol</th>\n",
       "      <th>Radio (nm)</th>\n",
       "      <th>Espesor de la película (nm)</th>\n",
       "    </tr>\n",
       "  </thead>\n",
       "  <tbody>\n",
       "    <tr>\n",
       "      <th>0</th>\n",
       "      <td>301</td>\n",
       "      <td>0.016685</td>\n",
       "      <td>1</td>\n",
       "      <td>10</td>\n",
       "      <td>100</td>\n",
       "    </tr>\n",
       "    <tr>\n",
       "      <th>1</th>\n",
       "      <td>302</td>\n",
       "      <td>0.016167</td>\n",
       "      <td>1</td>\n",
       "      <td>10</td>\n",
       "      <td>100</td>\n",
       "    </tr>\n",
       "    <tr>\n",
       "      <th>2</th>\n",
       "      <td>303</td>\n",
       "      <td>0.015703</td>\n",
       "      <td>1</td>\n",
       "      <td>10</td>\n",
       "      <td>100</td>\n",
       "    </tr>\n",
       "    <tr>\n",
       "      <th>3</th>\n",
       "      <td>304</td>\n",
       "      <td>0.015290</td>\n",
       "      <td>1</td>\n",
       "      <td>10</td>\n",
       "      <td>100</td>\n",
       "    </tr>\n",
       "    <tr>\n",
       "      <th>4</th>\n",
       "      <td>305</td>\n",
       "      <td>0.014916</td>\n",
       "      <td>1</td>\n",
       "      <td>10</td>\n",
       "      <td>100</td>\n",
       "    </tr>\n",
       "    <tr>\n",
       "      <th>...</th>\n",
       "      <td>...</td>\n",
       "      <td>...</td>\n",
       "      <td>...</td>\n",
       "      <td>...</td>\n",
       "      <td>...</td>\n",
       "    </tr>\n",
       "    <tr>\n",
       "      <th>19195</th>\n",
       "      <td>896</td>\n",
       "      <td>0.002255</td>\n",
       "      <td>1</td>\n",
       "      <td>9</td>\n",
       "      <td>120</td>\n",
       "    </tr>\n",
       "    <tr>\n",
       "      <th>19196</th>\n",
       "      <td>897</td>\n",
       "      <td>0.002257</td>\n",
       "      <td>1</td>\n",
       "      <td>9</td>\n",
       "      <td>120</td>\n",
       "    </tr>\n",
       "    <tr>\n",
       "      <th>19197</th>\n",
       "      <td>898</td>\n",
       "      <td>0.002258</td>\n",
       "      <td>1</td>\n",
       "      <td>9</td>\n",
       "      <td>120</td>\n",
       "    </tr>\n",
       "    <tr>\n",
       "      <th>19198</th>\n",
       "      <td>899</td>\n",
       "      <td>0.002260</td>\n",
       "      <td>1</td>\n",
       "      <td>9</td>\n",
       "      <td>120</td>\n",
       "    </tr>\n",
       "    <tr>\n",
       "      <th>19199</th>\n",
       "      <td>900</td>\n",
       "      <td>0.002262</td>\n",
       "      <td>1</td>\n",
       "      <td>9</td>\n",
       "      <td>120</td>\n",
       "    </tr>\n",
       "  </tbody>\n",
       "</table>\n",
       "<p>38400 rows × 5 columns</p>\n",
       "</div>"
      ],
      "text/plain": [
       "       Longitud de onda  Índice de absorción  Fracvol  Radio (nm)  \\\n",
       "0                   301             0.016685        1          10   \n",
       "1                   302             0.016167        1          10   \n",
       "2                   303             0.015703        1          10   \n",
       "3                   304             0.015290        1          10   \n",
       "4                   305             0.014916        1          10   \n",
       "...                 ...                  ...      ...         ...   \n",
       "19195               896             0.002255        1           9   \n",
       "19196               897             0.002257        1           9   \n",
       "19197               898             0.002258        1           9   \n",
       "19198               899             0.002260        1           9   \n",
       "19199               900             0.002262        1           9   \n",
       "\n",
       "       Espesor de la película (nm)  \n",
       "0                              100  \n",
       "1                              100  \n",
       "2                              100  \n",
       "3                              100  \n",
       "4                              100  \n",
       "...                            ...  \n",
       "19195                          120  \n",
       "19196                          120  \n",
       "19197                          120  \n",
       "19198                          120  \n",
       "19199                          120  \n",
       "\n",
       "[38400 rows x 5 columns]"
      ]
     },
     "execution_count": 4,
     "metadata": {},
     "output_type": "execute_result"
    }
   ],
   "source": [
    "param"
   ]
  },
  {
   "attachments": {},
   "cell_type": "markdown",
   "metadata": {},
   "source": [
    "### Revolvemos los datos\n",
    "Esto es para que el entrenamiento de la red sea óptimo y aís poderle dar una mayor gama de datos."
   ]
  },
  {
   "cell_type": "code",
   "execution_count": 5,
   "metadata": {},
   "outputs": [
    {
     "data": {
      "text/html": [
       "<div>\n",
       "<style scoped>\n",
       "    .dataframe tbody tr th:only-of-type {\n",
       "        vertical-align: middle;\n",
       "    }\n",
       "\n",
       "    .dataframe tbody tr th {\n",
       "        vertical-align: top;\n",
       "    }\n",
       "\n",
       "    .dataframe thead th {\n",
       "        text-align: right;\n",
       "    }\n",
       "</style>\n",
       "<table border=\"1\" class=\"dataframe\">\n",
       "  <thead>\n",
       "    <tr style=\"text-align: right;\">\n",
       "      <th></th>\n",
       "      <th>Longitud de onda</th>\n",
       "      <th>Índice de absorción</th>\n",
       "      <th>Fracvol</th>\n",
       "      <th>Radio (nm)</th>\n",
       "      <th>Espesor de la película (nm)</th>\n",
       "    </tr>\n",
       "  </thead>\n",
       "  <tbody>\n",
       "    <tr>\n",
       "      <th>0</th>\n",
       "      <td>753</td>\n",
       "      <td>0.001533</td>\n",
       "      <td>1</td>\n",
       "      <td>23</td>\n",
       "      <td>120</td>\n",
       "    </tr>\n",
       "    <tr>\n",
       "      <th>1</th>\n",
       "      <td>310</td>\n",
       "      <td>0.014692</td>\n",
       "      <td>3</td>\n",
       "      <td>10</td>\n",
       "      <td>120</td>\n",
       "    </tr>\n",
       "    <tr>\n",
       "      <th>2</th>\n",
       "      <td>625</td>\n",
       "      <td>0.002815</td>\n",
       "      <td>1</td>\n",
       "      <td>10</td>\n",
       "      <td>85</td>\n",
       "    </tr>\n",
       "    <tr>\n",
       "      <th>3</th>\n",
       "      <td>604</td>\n",
       "      <td>0.000572</td>\n",
       "      <td>1</td>\n",
       "      <td>9</td>\n",
       "      <td>120</td>\n",
       "    </tr>\n",
       "    <tr>\n",
       "      <th>4</th>\n",
       "      <td>373</td>\n",
       "      <td>0.003104</td>\n",
       "      <td>1</td>\n",
       "      <td>21</td>\n",
       "      <td>120</td>\n",
       "    </tr>\n",
       "    <tr>\n",
       "      <th>...</th>\n",
       "      <td>...</td>\n",
       "      <td>...</td>\n",
       "      <td>...</td>\n",
       "      <td>...</td>\n",
       "      <td>...</td>\n",
       "    </tr>\n",
       "    <tr>\n",
       "      <th>38395</th>\n",
       "      <td>566</td>\n",
       "      <td>0.000711</td>\n",
       "      <td>1</td>\n",
       "      <td>10</td>\n",
       "      <td>70</td>\n",
       "    </tr>\n",
       "    <tr>\n",
       "      <th>38396</th>\n",
       "      <td>785</td>\n",
       "      <td>0.000418</td>\n",
       "      <td>12</td>\n",
       "      <td>10</td>\n",
       "      <td>120</td>\n",
       "    </tr>\n",
       "    <tr>\n",
       "      <th>38397</th>\n",
       "      <td>659</td>\n",
       "      <td>0.000772</td>\n",
       "      <td>1</td>\n",
       "      <td>9</td>\n",
       "      <td>120</td>\n",
       "    </tr>\n",
       "    <tr>\n",
       "      <th>38398</th>\n",
       "      <td>561</td>\n",
       "      <td>0.005686</td>\n",
       "      <td>1</td>\n",
       "      <td>10</td>\n",
       "      <td>105</td>\n",
       "    </tr>\n",
       "    <tr>\n",
       "      <th>38399</th>\n",
       "      <td>496</td>\n",
       "      <td>0.005548</td>\n",
       "      <td>4</td>\n",
       "      <td>10</td>\n",
       "      <td>120</td>\n",
       "    </tr>\n",
       "  </tbody>\n",
       "</table>\n",
       "<p>38400 rows × 5 columns</p>\n",
       "</div>"
      ],
      "text/plain": [
       "       Longitud de onda  Índice de absorción  Fracvol  Radio (nm)  \\\n",
       "0                   753             0.001533        1          23   \n",
       "1                   310             0.014692        3          10   \n",
       "2                   625             0.002815        1          10   \n",
       "3                   604             0.000572        1           9   \n",
       "4                   373             0.003104        1          21   \n",
       "...                 ...                  ...      ...         ...   \n",
       "38395               566             0.000711        1          10   \n",
       "38396               785             0.000418       12          10   \n",
       "38397               659             0.000772        1           9   \n",
       "38398               561             0.005686        1          10   \n",
       "38399               496             0.005548        4          10   \n",
       "\n",
       "       Espesor de la película (nm)  \n",
       "0                              120  \n",
       "1                              120  \n",
       "2                               85  \n",
       "3                              120  \n",
       "4                              120  \n",
       "...                            ...  \n",
       "38395                           70  \n",
       "38396                          120  \n",
       "38397                          120  \n",
       "38398                          105  \n",
       "38399                          120  \n",
       "\n",
       "[38400 rows x 5 columns]"
      ]
     },
     "execution_count": 5,
     "metadata": {},
     "output_type": "execute_result"
    }
   ],
   "source": [
    "from sklearn.model_selection import train_test_split\n",
    "param = param.sample(frac=1, random_state=42).reset_index(drop=True)\n",
    "param"
   ]
  },
  {
   "attachments": {},
   "cell_type": "markdown",
   "metadata": {},
   "source": [
    "## Separamos nuestra base de datos revuelta en dos\n",
    "Una que servirá para entrenar el modelo y otra para comprobar que el modelo tenga un funcionamiento optimo. Esta división será de 80-20 respectivamente."
   ]
  },
  {
   "cell_type": "code",
   "execution_count": 6,
   "metadata": {},
   "outputs": [
    {
     "data": {
      "text/html": [
       "<div>\n",
       "<style scoped>\n",
       "    .dataframe tbody tr th:only-of-type {\n",
       "        vertical-align: middle;\n",
       "    }\n",
       "\n",
       "    .dataframe tbody tr th {\n",
       "        vertical-align: top;\n",
       "    }\n",
       "\n",
       "    .dataframe thead th {\n",
       "        text-align: right;\n",
       "    }\n",
       "</style>\n",
       "<table border=\"1\" class=\"dataframe\">\n",
       "  <thead>\n",
       "    <tr style=\"text-align: right;\">\n",
       "      <th></th>\n",
       "      <th>Longitud de onda</th>\n",
       "      <th>Índice de absorción</th>\n",
       "      <th>Fracvol</th>\n",
       "      <th>Radio (nm)</th>\n",
       "      <th>Espesor de la película (nm)</th>\n",
       "    </tr>\n",
       "  </thead>\n",
       "  <tbody>\n",
       "    <tr>\n",
       "      <th>27452</th>\n",
       "      <td>492</td>\n",
       "      <td>0.006226</td>\n",
       "      <td>5</td>\n",
       "      <td>10</td>\n",
       "      <td>120</td>\n",
       "    </tr>\n",
       "    <tr>\n",
       "      <th>15009</th>\n",
       "      <td>831</td>\n",
       "      <td>0.001993</td>\n",
       "      <td>1</td>\n",
       "      <td>26</td>\n",
       "      <td>120</td>\n",
       "    </tr>\n",
       "    <tr>\n",
       "      <th>8124</th>\n",
       "      <td>700</td>\n",
       "      <td>0.000512</td>\n",
       "      <td>1</td>\n",
       "      <td>26</td>\n",
       "      <td>120</td>\n",
       "    </tr>\n",
       "    <tr>\n",
       "      <th>38103</th>\n",
       "      <td>748</td>\n",
       "      <td>0.000418</td>\n",
       "      <td>11</td>\n",
       "      <td>10</td>\n",
       "      <td>120</td>\n",
       "    </tr>\n",
       "    <tr>\n",
       "      <th>25872</th>\n",
       "      <td>432</td>\n",
       "      <td>0.002877</td>\n",
       "      <td>1</td>\n",
       "      <td>10</td>\n",
       "      <td>65</td>\n",
       "    </tr>\n",
       "    <tr>\n",
       "      <th>...</th>\n",
       "      <td>...</td>\n",
       "      <td>...</td>\n",
       "      <td>...</td>\n",
       "      <td>...</td>\n",
       "      <td>...</td>\n",
       "    </tr>\n",
       "    <tr>\n",
       "      <th>3746</th>\n",
       "      <td>820</td>\n",
       "      <td>0.002003</td>\n",
       "      <td>7</td>\n",
       "      <td>10</td>\n",
       "      <td>120</td>\n",
       "    </tr>\n",
       "    <tr>\n",
       "      <th>18195</th>\n",
       "      <td>422</td>\n",
       "      <td>0.000481</td>\n",
       "      <td>1</td>\n",
       "      <td>7</td>\n",
       "      <td>120</td>\n",
       "    </tr>\n",
       "    <tr>\n",
       "      <th>37286</th>\n",
       "      <td>551</td>\n",
       "      <td>0.033743</td>\n",
       "      <td>4</td>\n",
       "      <td>10</td>\n",
       "      <td>120</td>\n",
       "    </tr>\n",
       "    <tr>\n",
       "      <th>15361</th>\n",
       "      <td>703</td>\n",
       "      <td>0.000239</td>\n",
       "      <td>1</td>\n",
       "      <td>29</td>\n",
       "      <td>120</td>\n",
       "    </tr>\n",
       "    <tr>\n",
       "      <th>10423</th>\n",
       "      <td>560</td>\n",
       "      <td>0.006241</td>\n",
       "      <td>1</td>\n",
       "      <td>16</td>\n",
       "      <td>120</td>\n",
       "    </tr>\n",
       "  </tbody>\n",
       "</table>\n",
       "<p>7680 rows × 5 columns</p>\n",
       "</div>"
      ],
      "text/plain": [
       "       Longitud de onda  Índice de absorción  Fracvol  Radio (nm)  \\\n",
       "27452               492             0.006226        5          10   \n",
       "15009               831             0.001993        1          26   \n",
       "8124                700             0.000512        1          26   \n",
       "38103               748             0.000418       11          10   \n",
       "25872               432             0.002877        1          10   \n",
       "...                 ...                  ...      ...         ...   \n",
       "3746                820             0.002003        7          10   \n",
       "18195               422             0.000481        1           7   \n",
       "37286               551             0.033743        4          10   \n",
       "15361               703             0.000239        1          29   \n",
       "10423               560             0.006241        1          16   \n",
       "\n",
       "       Espesor de la película (nm)  \n",
       "27452                          120  \n",
       "15009                          120  \n",
       "8124                           120  \n",
       "38103                          120  \n",
       "25872                           65  \n",
       "...                            ...  \n",
       "3746                           120  \n",
       "18195                          120  \n",
       "37286                          120  \n",
       "15361                          120  \n",
       "10423                          120  \n",
       "\n",
       "[7680 rows x 5 columns]"
      ]
     },
     "execution_count": 6,
     "metadata": {},
     "output_type": "execute_result"
    }
   ],
   "source": [
    "train_df, test_df = train_test_split(param, test_size=0.2, random_state=42)\n",
    "#test será el 20% de los datos mientras train el 80%\n",
    "test_df"
   ]
  },
  {
   "cell_type": "code",
   "execution_count": 7,
   "metadata": {},
   "outputs": [
    {
     "data": {
      "text/html": [
       "<div>\n",
       "<style scoped>\n",
       "    .dataframe tbody tr th:only-of-type {\n",
       "        vertical-align: middle;\n",
       "    }\n",
       "\n",
       "    .dataframe tbody tr th {\n",
       "        vertical-align: top;\n",
       "    }\n",
       "\n",
       "    .dataframe thead th {\n",
       "        text-align: right;\n",
       "    }\n",
       "</style>\n",
       "<table border=\"1\" class=\"dataframe\">\n",
       "  <thead>\n",
       "    <tr style=\"text-align: right;\">\n",
       "      <th></th>\n",
       "      <th>Longitud de onda</th>\n",
       "      <th>Índice de absorción</th>\n",
       "      <th>Fracvol</th>\n",
       "      <th>Radio (nm)</th>\n",
       "      <th>Espesor de la película (nm)</th>\n",
       "    </tr>\n",
       "  </thead>\n",
       "  <tbody>\n",
       "    <tr>\n",
       "      <th>36772</th>\n",
       "      <td>825</td>\n",
       "      <td>0.001564</td>\n",
       "      <td>11</td>\n",
       "      <td>10</td>\n",
       "      <td>120</td>\n",
       "    </tr>\n",
       "    <tr>\n",
       "      <th>22714</th>\n",
       "      <td>538</td>\n",
       "      <td>0.004552</td>\n",
       "      <td>1</td>\n",
       "      <td>10</td>\n",
       "      <td>65</td>\n",
       "    </tr>\n",
       "    <tr>\n",
       "      <th>3031</th>\n",
       "      <td>442</td>\n",
       "      <td>0.000189</td>\n",
       "      <td>1</td>\n",
       "      <td>10</td>\n",
       "      <td>120</td>\n",
       "    </tr>\n",
       "    <tr>\n",
       "      <th>9632</th>\n",
       "      <td>391</td>\n",
       "      <td>0.000021</td>\n",
       "      <td>1</td>\n",
       "      <td>10</td>\n",
       "      <td>115</td>\n",
       "    </tr>\n",
       "    <tr>\n",
       "      <th>29786</th>\n",
       "      <td>870</td>\n",
       "      <td>0.002197</td>\n",
       "      <td>1</td>\n",
       "      <td>11</td>\n",
       "      <td>120</td>\n",
       "    </tr>\n",
       "    <tr>\n",
       "      <th>...</th>\n",
       "      <td>...</td>\n",
       "      <td>...</td>\n",
       "      <td>...</td>\n",
       "      <td>...</td>\n",
       "      <td>...</td>\n",
       "    </tr>\n",
       "    <tr>\n",
       "      <th>6265</th>\n",
       "      <td>760</td>\n",
       "      <td>0.002772</td>\n",
       "      <td>1</td>\n",
       "      <td>10</td>\n",
       "      <td>100</td>\n",
       "    </tr>\n",
       "    <tr>\n",
       "      <th>11284</th>\n",
       "      <td>623</td>\n",
       "      <td>0.001487</td>\n",
       "      <td>1</td>\n",
       "      <td>32</td>\n",
       "      <td>120</td>\n",
       "    </tr>\n",
       "    <tr>\n",
       "      <th>38158</th>\n",
       "      <td>836</td>\n",
       "      <td>0.001522</td>\n",
       "      <td>1</td>\n",
       "      <td>10</td>\n",
       "      <td>135</td>\n",
       "    </tr>\n",
       "    <tr>\n",
       "      <th>860</th>\n",
       "      <td>324</td>\n",
       "      <td>0.008735</td>\n",
       "      <td>1</td>\n",
       "      <td>6</td>\n",
       "      <td>120</td>\n",
       "    </tr>\n",
       "    <tr>\n",
       "      <th>15795</th>\n",
       "      <td>894</td>\n",
       "      <td>0.002247</td>\n",
       "      <td>1</td>\n",
       "      <td>14</td>\n",
       "      <td>120</td>\n",
       "    </tr>\n",
       "  </tbody>\n",
       "</table>\n",
       "<p>30720 rows × 5 columns</p>\n",
       "</div>"
      ],
      "text/plain": [
       "       Longitud de onda  Índice de absorción  Fracvol  Radio (nm)  \\\n",
       "36772               825             0.001564       11          10   \n",
       "22714               538             0.004552        1          10   \n",
       "3031                442             0.000189        1          10   \n",
       "9632                391             0.000021        1          10   \n",
       "29786               870             0.002197        1          11   \n",
       "...                 ...                  ...      ...         ...   \n",
       "6265                760             0.002772        1          10   \n",
       "11284               623             0.001487        1          32   \n",
       "38158               836             0.001522        1          10   \n",
       "860                 324             0.008735        1           6   \n",
       "15795               894             0.002247        1          14   \n",
       "\n",
       "       Espesor de la película (nm)  \n",
       "36772                          120  \n",
       "22714                           65  \n",
       "3031                           120  \n",
       "9632                           115  \n",
       "29786                          120  \n",
       "...                            ...  \n",
       "6265                           100  \n",
       "11284                          120  \n",
       "38158                          135  \n",
       "860                            120  \n",
       "15795                          120  \n",
       "\n",
       "[30720 rows x 5 columns]"
      ]
     },
     "execution_count": 7,
     "metadata": {},
     "output_type": "execute_result"
    }
   ],
   "source": [
    "train_df"
   ]
  },
  {
   "attachments": {},
   "cell_type": "markdown",
   "metadata": {},
   "source": [
    "# Comenzamos a hacer la red neuronal\n"
   ]
  },
  {
   "cell_type": "code",
   "execution_count": 77,
   "metadata": {},
   "outputs": [],
   "source": [
    "# Cargamos el DataFrame de entrenamiento\n",
    "df = train_df\n",
    "# Separarmos los datos de entrada y salida\n",
    "X = df['Índice de absorción']\n",
    "Y = df[['Fracvol', 'Radio (nm)', 'Espesor de la película (nm)']]"
   ]
  },
  {
   "cell_type": "code",
   "execution_count": 78,
   "metadata": {},
   "outputs": [],
   "source": [
    "# Convertimos los dataframes en numpy arrays, esto para que su manejo sea más sencillo\n",
    "X = np.array(X).reshape(-1, 1)\n",
    "y = np.array(Y)"
   ]
  },
  {
   "cell_type": "code",
   "execution_count": 79,
   "metadata": {},
   "outputs": [],
   "source": [
    "# Creamos el modelo de la red neuronal\n",
    "model = Sequential()\n",
    "model.add(Dense(64, input_dim=1, activation='relu'))\n",
    "model.add(Dense(3, activation='linear'))"
   ]
  },
  {
   "cell_type": "code",
   "execution_count": 80,
   "metadata": {},
   "outputs": [],
   "source": [
    "# Asignamos el tipo de error y el optimizador que vamos a utilizar\n",
    "model.compile(loss='mean_absolute_error', optimizer='adam')"
   ]
  },
  {
   "cell_type": "code",
   "execution_count": 83,
   "metadata": {},
   "outputs": [
    {
     "name": "stdout",
     "output_type": "stream",
     "text": [
      "Epoch 1/10\n",
      "768/768 [==============================] - 2s 1ms/step - loss: 38.6021 - val_loss: 30.8146\n",
      "Epoch 2/10\n",
      "768/768 [==============================] - 1s 1ms/step - loss: 17.4660 - val_loss: 4.9069\n",
      "Epoch 3/10\n",
      "768/768 [==============================] - 1s 963us/step - loss: 4.8167 - val_loss: 4.8251\n",
      "Epoch 4/10\n",
      "768/768 [==============================] - 1s 1ms/step - loss: 4.7701 - val_loss: 4.7816\n",
      "Epoch 5/10\n",
      "768/768 [==============================] - 1s 926us/step - loss: 4.7341 - val_loss: 4.7576\n",
      "Epoch 6/10\n",
      "768/768 [==============================] - 1s 954us/step - loss: 4.7286 - val_loss: 4.7606\n",
      "Epoch 7/10\n",
      "768/768 [==============================] - 1s 928us/step - loss: 4.7282 - val_loss: 4.7707\n",
      "Epoch 8/10\n",
      "768/768 [==============================] - 1s 1ms/step - loss: 4.7275 - val_loss: 4.7584\n",
      "Epoch 9/10\n",
      "768/768 [==============================] - 1s 988us/step - loss: 4.7274 - val_loss: 4.7534\n",
      "Epoch 10/10\n",
      "768/768 [==============================] - 1s 1ms/step - loss: 4.7271 - val_loss: 4.7550\n"
     ]
    },
    {
     "data": {
      "text/plain": [
       "<keras.callbacks.History at 0x281b8c72f50>"
      ]
     },
     "execution_count": 83,
     "metadata": {},
     "output_type": "execute_result"
    }
   ],
   "source": [
    "# Entrenamos a la red neuronal, en este caso lo hicimos en 100 épocas\n",
    "model.fit(X, y, epochs=10, batch_size=32, validation_split=0.2)"
   ]
  },
  {
   "cell_type": "code",
   "execution_count": 84,
   "metadata": {},
   "outputs": [
    {
     "name": "stdout",
     "output_type": "stream",
     "text": [
      "240/240 [==============================] - 0s 882us/step\n",
      "[[  1.010767   10.024649  120.0034   ]\n",
      " [  1.0095743  10.026845  120.00331  ]\n",
      " [  1.0091568  10.027614  120.00329  ]\n",
      " ...\n",
      " [  1.0185198  10.010371  120.004    ]\n",
      " [  1.0090802  10.027755  120.003265 ]\n",
      " [  1.010771   10.02464   120.0034   ]]\n"
     ]
    }
   ],
   "source": [
    "# Hacemos las predicciones y las imprimimos\n",
    "arr = test_df['Índice de absorción'].to_numpy()\n",
    "y_pred = model.predict(arr)\n",
    "print(y_pred)"
   ]
  },
  {
   "cell_type": "code",
   "execution_count": 85,
   "metadata": {},
   "outputs": [
    {
     "data": {
      "text/html": [
       "<div>\n",
       "<style scoped>\n",
       "    .dataframe tbody tr th:only-of-type {\n",
       "        vertical-align: middle;\n",
       "    }\n",
       "\n",
       "    .dataframe tbody tr th {\n",
       "        vertical-align: top;\n",
       "    }\n",
       "\n",
       "    .dataframe thead th {\n",
       "        text-align: right;\n",
       "    }\n",
       "</style>\n",
       "<table border=\"1\" class=\"dataframe\">\n",
       "  <thead>\n",
       "    <tr style=\"text-align: right;\">\n",
       "      <th></th>\n",
       "      <th>0</th>\n",
       "      <th>1</th>\n",
       "      <th>2</th>\n",
       "    </tr>\n",
       "  </thead>\n",
       "  <tbody>\n",
       "    <tr>\n",
       "      <th>0</th>\n",
       "      <td>1.010767</td>\n",
       "      <td>10.024649</td>\n",
       "      <td>120.003403</td>\n",
       "    </tr>\n",
       "    <tr>\n",
       "      <th>1</th>\n",
       "      <td>1.009574</td>\n",
       "      <td>10.026845</td>\n",
       "      <td>120.003311</td>\n",
       "    </tr>\n",
       "    <tr>\n",
       "      <th>2</th>\n",
       "      <td>1.009157</td>\n",
       "      <td>10.027614</td>\n",
       "      <td>120.003288</td>\n",
       "    </tr>\n",
       "    <tr>\n",
       "      <th>3</th>\n",
       "      <td>1.009131</td>\n",
       "      <td>10.027661</td>\n",
       "      <td>120.003288</td>\n",
       "    </tr>\n",
       "    <tr>\n",
       "      <th>4</th>\n",
       "      <td>1.009823</td>\n",
       "      <td>10.026387</td>\n",
       "      <td>120.003342</td>\n",
       "    </tr>\n",
       "    <tr>\n",
       "      <th>...</th>\n",
       "      <td>...</td>\n",
       "      <td>...</td>\n",
       "      <td>...</td>\n",
       "    </tr>\n",
       "    <tr>\n",
       "      <th>7675</th>\n",
       "      <td>1.009577</td>\n",
       "      <td>10.026840</td>\n",
       "      <td>120.003319</td>\n",
       "    </tr>\n",
       "    <tr>\n",
       "      <th>7676</th>\n",
       "      <td>1.009148</td>\n",
       "      <td>10.027629</td>\n",
       "      <td>120.003288</td>\n",
       "    </tr>\n",
       "    <tr>\n",
       "      <th>7677</th>\n",
       "      <td>1.018520</td>\n",
       "      <td>10.010371</td>\n",
       "      <td>120.003998</td>\n",
       "    </tr>\n",
       "    <tr>\n",
       "      <th>7678</th>\n",
       "      <td>1.009080</td>\n",
       "      <td>10.027755</td>\n",
       "      <td>120.003265</td>\n",
       "    </tr>\n",
       "    <tr>\n",
       "      <th>7679</th>\n",
       "      <td>1.010771</td>\n",
       "      <td>10.024640</td>\n",
       "      <td>120.003403</td>\n",
       "    </tr>\n",
       "  </tbody>\n",
       "</table>\n",
       "<p>7680 rows × 3 columns</p>\n",
       "</div>"
      ],
      "text/plain": [
       "             0          1           2\n",
       "0     1.010767  10.024649  120.003403\n",
       "1     1.009574  10.026845  120.003311\n",
       "2     1.009157  10.027614  120.003288\n",
       "3     1.009131  10.027661  120.003288\n",
       "4     1.009823  10.026387  120.003342\n",
       "...        ...        ...         ...\n",
       "7675  1.009577  10.026840  120.003319\n",
       "7676  1.009148  10.027629  120.003288\n",
       "7677  1.018520  10.010371  120.003998\n",
       "7678  1.009080  10.027755  120.003265\n",
       "7679  1.010771  10.024640  120.003403\n",
       "\n",
       "[7680 rows x 3 columns]"
      ]
     },
     "execution_count": 85,
     "metadata": {},
     "output_type": "execute_result"
    }
   ],
   "source": [
    "# Almacenamos estas predicciones en un nuevo DataFrame\n",
    "predicciones = pd.DataFrame(y_pred)\n",
    "predicciones"
   ]
  },
  {
   "cell_type": "code",
   "execution_count": 86,
   "metadata": {},
   "outputs": [
    {
     "data": {
      "text/html": [
       "<div>\n",
       "<style scoped>\n",
       "    .dataframe tbody tr th:only-of-type {\n",
       "        vertical-align: middle;\n",
       "    }\n",
       "\n",
       "    .dataframe tbody tr th {\n",
       "        vertical-align: top;\n",
       "    }\n",
       "\n",
       "    .dataframe thead th {\n",
       "        text-align: right;\n",
       "    }\n",
       "</style>\n",
       "<table border=\"1\" class=\"dataframe\">\n",
       "  <thead>\n",
       "    <tr style=\"text-align: right;\">\n",
       "      <th></th>\n",
       "      <th>Fracción Volumen</th>\n",
       "      <th>Radio (nm)</th>\n",
       "      <th>Espesor de la película (nm)</th>\n",
       "    </tr>\n",
       "  </thead>\n",
       "  <tbody>\n",
       "    <tr>\n",
       "      <th>0</th>\n",
       "      <td>1.010767</td>\n",
       "      <td>10.024649</td>\n",
       "      <td>120.003403</td>\n",
       "    </tr>\n",
       "    <tr>\n",
       "      <th>1</th>\n",
       "      <td>1.009574</td>\n",
       "      <td>10.026845</td>\n",
       "      <td>120.003311</td>\n",
       "    </tr>\n",
       "    <tr>\n",
       "      <th>2</th>\n",
       "      <td>1.009157</td>\n",
       "      <td>10.027614</td>\n",
       "      <td>120.003288</td>\n",
       "    </tr>\n",
       "    <tr>\n",
       "      <th>3</th>\n",
       "      <td>1.009131</td>\n",
       "      <td>10.027661</td>\n",
       "      <td>120.003288</td>\n",
       "    </tr>\n",
       "    <tr>\n",
       "      <th>4</th>\n",
       "      <td>1.009823</td>\n",
       "      <td>10.026387</td>\n",
       "      <td>120.003342</td>\n",
       "    </tr>\n",
       "    <tr>\n",
       "      <th>...</th>\n",
       "      <td>...</td>\n",
       "      <td>...</td>\n",
       "      <td>...</td>\n",
       "    </tr>\n",
       "    <tr>\n",
       "      <th>7675</th>\n",
       "      <td>1.009577</td>\n",
       "      <td>10.026840</td>\n",
       "      <td>120.003319</td>\n",
       "    </tr>\n",
       "    <tr>\n",
       "      <th>7676</th>\n",
       "      <td>1.009148</td>\n",
       "      <td>10.027629</td>\n",
       "      <td>120.003288</td>\n",
       "    </tr>\n",
       "    <tr>\n",
       "      <th>7677</th>\n",
       "      <td>1.018520</td>\n",
       "      <td>10.010371</td>\n",
       "      <td>120.003998</td>\n",
       "    </tr>\n",
       "    <tr>\n",
       "      <th>7678</th>\n",
       "      <td>1.009080</td>\n",
       "      <td>10.027755</td>\n",
       "      <td>120.003265</td>\n",
       "    </tr>\n",
       "    <tr>\n",
       "      <th>7679</th>\n",
       "      <td>1.010771</td>\n",
       "      <td>10.024640</td>\n",
       "      <td>120.003403</td>\n",
       "    </tr>\n",
       "  </tbody>\n",
       "</table>\n",
       "<p>7680 rows × 3 columns</p>\n",
       "</div>"
      ],
      "text/plain": [
       "      Fracción Volumen  Radio (nm)  Espesor de la película (nm)\n",
       "0             1.010767   10.024649                   120.003403\n",
       "1             1.009574   10.026845                   120.003311\n",
       "2             1.009157   10.027614                   120.003288\n",
       "3             1.009131   10.027661                   120.003288\n",
       "4             1.009823   10.026387                   120.003342\n",
       "...                ...         ...                          ...\n",
       "7675          1.009577   10.026840                   120.003319\n",
       "7676          1.009148   10.027629                   120.003288\n",
       "7677          1.018520   10.010371                   120.003998\n",
       "7678          1.009080   10.027755                   120.003265\n",
       "7679          1.010771   10.024640                   120.003403\n",
       "\n",
       "[7680 rows x 3 columns]"
      ]
     },
     "execution_count": 86,
     "metadata": {},
     "output_type": "execute_result"
    }
   ],
   "source": [
    "# Renombramos las columnas para que equipare a la sintaxis de las bases de datos anteriores\n",
    "predicciones.columns = ['Fracción Volumen', 'Radio (nm)', 'Espesor de la película (nm)']\n",
    "predicciones"
   ]
  },
  {
   "attachments": {},
   "cell_type": "markdown",
   "metadata": {},
   "source": [
    "### Redondeando los valores"
   ]
  },
  {
   "cell_type": "code",
   "execution_count": 87,
   "metadata": {},
   "outputs": [
    {
     "data": {
      "text/html": [
       "<div>\n",
       "<style scoped>\n",
       "    .dataframe tbody tr th:only-of-type {\n",
       "        vertical-align: middle;\n",
       "    }\n",
       "\n",
       "    .dataframe tbody tr th {\n",
       "        vertical-align: top;\n",
       "    }\n",
       "\n",
       "    .dataframe thead th {\n",
       "        text-align: right;\n",
       "    }\n",
       "</style>\n",
       "<table border=\"1\" class=\"dataframe\">\n",
       "  <thead>\n",
       "    <tr style=\"text-align: right;\">\n",
       "      <th></th>\n",
       "      <th>Fracción Volumen</th>\n",
       "      <th>Radio (nm)</th>\n",
       "      <th>Espesor de la película (nm)</th>\n",
       "    </tr>\n",
       "  </thead>\n",
       "  <tbody>\n",
       "    <tr>\n",
       "      <th>0</th>\n",
       "      <td>1.0</td>\n",
       "      <td>10.0</td>\n",
       "      <td>120.0</td>\n",
       "    </tr>\n",
       "    <tr>\n",
       "      <th>1</th>\n",
       "      <td>1.0</td>\n",
       "      <td>10.0</td>\n",
       "      <td>120.0</td>\n",
       "    </tr>\n",
       "    <tr>\n",
       "      <th>2</th>\n",
       "      <td>1.0</td>\n",
       "      <td>10.0</td>\n",
       "      <td>120.0</td>\n",
       "    </tr>\n",
       "    <tr>\n",
       "      <th>3</th>\n",
       "      <td>1.0</td>\n",
       "      <td>10.0</td>\n",
       "      <td>120.0</td>\n",
       "    </tr>\n",
       "    <tr>\n",
       "      <th>4</th>\n",
       "      <td>1.0</td>\n",
       "      <td>10.0</td>\n",
       "      <td>120.0</td>\n",
       "    </tr>\n",
       "    <tr>\n",
       "      <th>...</th>\n",
       "      <td>...</td>\n",
       "      <td>...</td>\n",
       "      <td>...</td>\n",
       "    </tr>\n",
       "    <tr>\n",
       "      <th>7675</th>\n",
       "      <td>1.0</td>\n",
       "      <td>10.0</td>\n",
       "      <td>120.0</td>\n",
       "    </tr>\n",
       "    <tr>\n",
       "      <th>7676</th>\n",
       "      <td>1.0</td>\n",
       "      <td>10.0</td>\n",
       "      <td>120.0</td>\n",
       "    </tr>\n",
       "    <tr>\n",
       "      <th>7677</th>\n",
       "      <td>1.0</td>\n",
       "      <td>10.0</td>\n",
       "      <td>120.0</td>\n",
       "    </tr>\n",
       "    <tr>\n",
       "      <th>7678</th>\n",
       "      <td>1.0</td>\n",
       "      <td>10.0</td>\n",
       "      <td>120.0</td>\n",
       "    </tr>\n",
       "    <tr>\n",
       "      <th>7679</th>\n",
       "      <td>1.0</td>\n",
       "      <td>10.0</td>\n",
       "      <td>120.0</td>\n",
       "    </tr>\n",
       "  </tbody>\n",
       "</table>\n",
       "<p>7680 rows × 3 columns</p>\n",
       "</div>"
      ],
      "text/plain": [
       "      Fracción Volumen  Radio (nm)  Espesor de la película (nm)\n",
       "0                  1.0        10.0                        120.0\n",
       "1                  1.0        10.0                        120.0\n",
       "2                  1.0        10.0                        120.0\n",
       "3                  1.0        10.0                        120.0\n",
       "4                  1.0        10.0                        120.0\n",
       "...                ...         ...                          ...\n",
       "7675               1.0        10.0                        120.0\n",
       "7676               1.0        10.0                        120.0\n",
       "7677               1.0        10.0                        120.0\n",
       "7678               1.0        10.0                        120.0\n",
       "7679               1.0        10.0                        120.0\n",
       "\n",
       "[7680 rows x 3 columns]"
      ]
     },
     "execution_count": 87,
     "metadata": {},
     "output_type": "execute_result"
    }
   ],
   "source": [
    "redondeo_arriba = predicciones.round()\n",
    "redondeo_arriba"
   ]
  },
  {
   "cell_type": "code",
   "execution_count": 88,
   "metadata": {},
   "outputs": [
    {
     "data": {
      "text/html": [
       "<div>\n",
       "<style scoped>\n",
       "    .dataframe tbody tr th:only-of-type {\n",
       "        vertical-align: middle;\n",
       "    }\n",
       "\n",
       "    .dataframe tbody tr th {\n",
       "        vertical-align: top;\n",
       "    }\n",
       "\n",
       "    .dataframe thead th {\n",
       "        text-align: right;\n",
       "    }\n",
       "</style>\n",
       "<table border=\"1\" class=\"dataframe\">\n",
       "  <thead>\n",
       "    <tr style=\"text-align: right;\">\n",
       "      <th></th>\n",
       "      <th>Fracción Volumen</th>\n",
       "      <th>Radio (nm)</th>\n",
       "      <th>Espesor de la película (nm)</th>\n",
       "    </tr>\n",
       "  </thead>\n",
       "  <tbody>\n",
       "    <tr>\n",
       "      <th>0</th>\n",
       "      <td>2.0</td>\n",
       "      <td>11.0</td>\n",
       "      <td>121.0</td>\n",
       "    </tr>\n",
       "    <tr>\n",
       "      <th>1</th>\n",
       "      <td>2.0</td>\n",
       "      <td>11.0</td>\n",
       "      <td>121.0</td>\n",
       "    </tr>\n",
       "    <tr>\n",
       "      <th>2</th>\n",
       "      <td>2.0</td>\n",
       "      <td>11.0</td>\n",
       "      <td>121.0</td>\n",
       "    </tr>\n",
       "    <tr>\n",
       "      <th>3</th>\n",
       "      <td>2.0</td>\n",
       "      <td>11.0</td>\n",
       "      <td>121.0</td>\n",
       "    </tr>\n",
       "    <tr>\n",
       "      <th>4</th>\n",
       "      <td>2.0</td>\n",
       "      <td>11.0</td>\n",
       "      <td>121.0</td>\n",
       "    </tr>\n",
       "    <tr>\n",
       "      <th>...</th>\n",
       "      <td>...</td>\n",
       "      <td>...</td>\n",
       "      <td>...</td>\n",
       "    </tr>\n",
       "    <tr>\n",
       "      <th>7675</th>\n",
       "      <td>2.0</td>\n",
       "      <td>11.0</td>\n",
       "      <td>121.0</td>\n",
       "    </tr>\n",
       "    <tr>\n",
       "      <th>7676</th>\n",
       "      <td>2.0</td>\n",
       "      <td>11.0</td>\n",
       "      <td>121.0</td>\n",
       "    </tr>\n",
       "    <tr>\n",
       "      <th>7677</th>\n",
       "      <td>2.0</td>\n",
       "      <td>11.0</td>\n",
       "      <td>121.0</td>\n",
       "    </tr>\n",
       "    <tr>\n",
       "      <th>7678</th>\n",
       "      <td>2.0</td>\n",
       "      <td>11.0</td>\n",
       "      <td>121.0</td>\n",
       "    </tr>\n",
       "    <tr>\n",
       "      <th>7679</th>\n",
       "      <td>2.0</td>\n",
       "      <td>11.0</td>\n",
       "      <td>121.0</td>\n",
       "    </tr>\n",
       "  </tbody>\n",
       "</table>\n",
       "<p>7680 rows × 3 columns</p>\n",
       "</div>"
      ],
      "text/plain": [
       "      Fracción Volumen  Radio (nm)  Espesor de la película (nm)\n",
       "0                  2.0        11.0                        121.0\n",
       "1                  2.0        11.0                        121.0\n",
       "2                  2.0        11.0                        121.0\n",
       "3                  2.0        11.0                        121.0\n",
       "4                  2.0        11.0                        121.0\n",
       "...                ...         ...                          ...\n",
       "7675               2.0        11.0                        121.0\n",
       "7676               2.0        11.0                        121.0\n",
       "7677               2.0        11.0                        121.0\n",
       "7678               2.0        11.0                        121.0\n",
       "7679               2.0        11.0                        121.0\n",
       "\n",
       "[7680 rows x 3 columns]"
      ]
     },
     "execution_count": 88,
     "metadata": {},
     "output_type": "execute_result"
    }
   ],
   "source": [
    "redondeo_ceil =  predicciones.applymap(lambda x: math.ceil(x))\n",
    "redondeo_ceil = redondeo_ceil.astype(float)\n",
    "redondeo_ceil"
   ]
  },
  {
   "cell_type": "code",
   "execution_count": 89,
   "metadata": {},
   "outputs": [
    {
     "data": {
      "text/html": [
       "<div>\n",
       "<style scoped>\n",
       "    .dataframe tbody tr th:only-of-type {\n",
       "        vertical-align: middle;\n",
       "    }\n",
       "\n",
       "    .dataframe tbody tr th {\n",
       "        vertical-align: top;\n",
       "    }\n",
       "\n",
       "    .dataframe thead th {\n",
       "        text-align: right;\n",
       "    }\n",
       "</style>\n",
       "<table border=\"1\" class=\"dataframe\">\n",
       "  <thead>\n",
       "    <tr style=\"text-align: right;\">\n",
       "      <th></th>\n",
       "      <th>Fracción Volumen</th>\n",
       "      <th>Radio (nm)</th>\n",
       "      <th>Espesor de la película (nm)</th>\n",
       "    </tr>\n",
       "  </thead>\n",
       "  <tbody>\n",
       "    <tr>\n",
       "      <th>0</th>\n",
       "      <td>1.0</td>\n",
       "      <td>10.0</td>\n",
       "      <td>120.0</td>\n",
       "    </tr>\n",
       "    <tr>\n",
       "      <th>1</th>\n",
       "      <td>1.0</td>\n",
       "      <td>10.0</td>\n",
       "      <td>120.0</td>\n",
       "    </tr>\n",
       "    <tr>\n",
       "      <th>2</th>\n",
       "      <td>1.0</td>\n",
       "      <td>10.0</td>\n",
       "      <td>120.0</td>\n",
       "    </tr>\n",
       "    <tr>\n",
       "      <th>3</th>\n",
       "      <td>1.0</td>\n",
       "      <td>10.0</td>\n",
       "      <td>120.0</td>\n",
       "    </tr>\n",
       "    <tr>\n",
       "      <th>4</th>\n",
       "      <td>1.0</td>\n",
       "      <td>10.0</td>\n",
       "      <td>120.0</td>\n",
       "    </tr>\n",
       "    <tr>\n",
       "      <th>...</th>\n",
       "      <td>...</td>\n",
       "      <td>...</td>\n",
       "      <td>...</td>\n",
       "    </tr>\n",
       "    <tr>\n",
       "      <th>7675</th>\n",
       "      <td>1.0</td>\n",
       "      <td>10.0</td>\n",
       "      <td>120.0</td>\n",
       "    </tr>\n",
       "    <tr>\n",
       "      <th>7676</th>\n",
       "      <td>1.0</td>\n",
       "      <td>10.0</td>\n",
       "      <td>120.0</td>\n",
       "    </tr>\n",
       "    <tr>\n",
       "      <th>7677</th>\n",
       "      <td>1.0</td>\n",
       "      <td>10.0</td>\n",
       "      <td>120.0</td>\n",
       "    </tr>\n",
       "    <tr>\n",
       "      <th>7678</th>\n",
       "      <td>1.0</td>\n",
       "      <td>10.0</td>\n",
       "      <td>120.0</td>\n",
       "    </tr>\n",
       "    <tr>\n",
       "      <th>7679</th>\n",
       "      <td>1.0</td>\n",
       "      <td>10.0</td>\n",
       "      <td>120.0</td>\n",
       "    </tr>\n",
       "  </tbody>\n",
       "</table>\n",
       "<p>7680 rows × 3 columns</p>\n",
       "</div>"
      ],
      "text/plain": [
       "      Fracción Volumen  Radio (nm)  Espesor de la película (nm)\n",
       "0                  1.0        10.0                        120.0\n",
       "1                  1.0        10.0                        120.0\n",
       "2                  1.0        10.0                        120.0\n",
       "3                  1.0        10.0                        120.0\n",
       "4                  1.0        10.0                        120.0\n",
       "...                ...         ...                          ...\n",
       "7675               1.0        10.0                        120.0\n",
       "7676               1.0        10.0                        120.0\n",
       "7677               1.0        10.0                        120.0\n",
       "7678               1.0        10.0                        120.0\n",
       "7679               1.0        10.0                        120.0\n",
       "\n",
       "[7680 rows x 3 columns]"
      ]
     },
     "execution_count": 89,
     "metadata": {},
     "output_type": "execute_result"
    }
   ],
   "source": [
    "redondeo_abajo = predicciones.apply(np.floor)\n",
    "redondeo_abajo"
   ]
  },
  {
   "attachments": {},
   "cell_type": "markdown",
   "metadata": {},
   "source": [
    "# Probando la precisión del modelo\n",
    "Primero lo haremos por cada parámetro. Se le restará los valores predichos por la red a los valores originales del dataframe test. Se contarán el número de ceros y ese será lo acertada que es nuestra red. De tener valores inferiores a 80% en número de ceros este rango se incrementará hasta llegar a un valor que el 80% de los valores sean menores a este."
   ]
  },
  {
   "attachments": {},
   "cell_type": "markdown",
   "metadata": {},
   "source": [
    "## Fracción de Volumen"
   ]
  },
  {
   "attachments": {},
   "cell_type": "markdown",
   "metadata": {},
   "source": [
    "Calculando con el redondeo hacia abajo"
   ]
  },
  {
   "cell_type": "code",
   "execution_count": 90,
   "metadata": {},
   "outputs": [
    {
     "name": "stdout",
     "output_type": "stream",
     "text": [
      "presición del  76.30208333333333 %. Con el redondeo para abajo en fracción volumen\n"
     ]
    }
   ],
   "source": [
    "redondeo_abajo_fracvol = redondeo_abajo['Fracción Volumen'].to_numpy()\n",
    "test_df_fracvol = test_df['Fracvol'].to_numpy()\n",
    "dif = redondeo_abajo_fracvol - test_df_fracvol\n",
    "# count_nonzero() cuenta el número de elementos distintos de cero en el arreglo, mientras que la función size() devuelve el tamaño total del arreglo. \n",
    "total = dif.size\n",
    "num_zeros = dif.size - np.count_nonzero(dif)\n",
    "porcentaje = num_zeros*100/total\n",
    "print(\"presición del \", porcentaje, \"%. Con el redondeo para abajo en fracción volumen\")"
   ]
  },
  {
   "cell_type": "code",
   "execution_count": 20,
   "metadata": {},
   "outputs": [
    {
     "data": {
      "text/plain": [
       "3394"
      ]
     },
     "execution_count": 20,
     "metadata": {},
     "output_type": "execute_result"
    }
   ],
   "source": [
    "num_zeros # Checamos el número de ceros que tenemos"
   ]
  },
  {
   "attachments": {},
   "cell_type": "markdown",
   "metadata": {},
   "source": [
    "Umbral de 1"
   ]
  },
  {
   "cell_type": "code",
   "execution_count": 91,
   "metadata": {},
   "outputs": [
    {
     "name": "stdout",
     "output_type": "stream",
     "text": [
      "presición del  77.95572916666667 %. Con el redondeo para abajo en fracción volumen y un rango de 1\n"
     ]
    }
   ],
   "source": [
    "# Quiere decir que el 79.60% de los datos son (valor absoluto) 1 o 0 después de restar el test con el predicciones\n",
    "umbral = 1\n",
    "num = np.count_nonzero(np.abs(dif) <= umbral)\n",
    "porcentaje = num*100/total\n",
    "print(\"presición del \", porcentaje, \"%. Con el redondeo para abajo en fracción volumen y un rango de 1\")"
   ]
  },
  {
   "cell_type": "code",
   "execution_count": 92,
   "metadata": {},
   "outputs": [
    {
     "data": {
      "text/plain": [
       "5987"
      ]
     },
     "execution_count": 92,
     "metadata": {},
     "output_type": "execute_result"
    }
   ],
   "source": [
    "nums = []\n",
    "for num in dif:\n",
    "    if np.abs(num) <= 1:\n",
    "        nums.append(num)\n",
    "len(nums)"
   ]
  },
  {
   "attachments": {},
   "cell_type": "markdown",
   "metadata": {},
   "source": [
    "Calculando con el redondeo hacia arriba"
   ]
  },
  {
   "cell_type": "code",
   "execution_count": 93,
   "metadata": {},
   "outputs": [
    {
     "name": "stdout",
     "output_type": "stream",
     "text": [
      "presición del  76.30208333333333 %. Con el redondeo para arriba en fracción volumen\n"
     ]
    }
   ],
   "source": [
    "redondeo_arriba_fracvol = redondeo_arriba['Fracción Volumen'].to_numpy()\n",
    "test_df_fracvol = test_df['Fracvol'].to_numpy()\n",
    "dif = redondeo_arriba_fracvol - test_df_fracvol\n",
    "#count_nonzero() cuenta el número de elementos distintos de cero en el arreglo, mientras que la función size() devuelve el tamaño total del arreglo. \n",
    "total = dif.size\n",
    "num_zeros = dif.size - np.count_nonzero(dif)\n",
    "porcentaje = num_zeros*100/total\n",
    "print(\"presición del \", porcentaje, \"%. Con el redondeo para arriba en fracción volumen\")"
   ]
  },
  {
   "cell_type": "code",
   "execution_count": 94,
   "metadata": {},
   "outputs": [
    {
     "data": {
      "text/plain": [
       "5860"
      ]
     },
     "execution_count": 94,
     "metadata": {},
     "output_type": "execute_result"
    }
   ],
   "source": [
    "num_zeros # Checamos el número de ceros que tenemos"
   ]
  },
  {
   "cell_type": "code",
   "execution_count": 95,
   "metadata": {},
   "outputs": [
    {
     "name": "stdout",
     "output_type": "stream",
     "text": [
      "presición del  77.95572916666667 %. Con el redondeo para arriba en fracción volumen y un rango de 1\n",
      "presición del  79.55729166666667 %. Con el redondeo para arriba en fracción volumen y un rango de 2\n",
      "presición del  81.22395833333333 %. Con el redondeo para arriba en fracción volumen y un rango de 3\n"
     ]
    }
   ],
   "source": [
    "# Se agrega umbral hasta llegar a 80% de aceptación\n",
    "i = 1\n",
    "while(porcentaje < 80):\n",
    "    umbral = i\n",
    "    num = np.count_nonzero(np.abs(dif) <= umbral)\n",
    "    porcentaje = num*100/total\n",
    "    print(\"presición del \", porcentaje, \"%. Con el redondeo para arriba en fracción volumen y un rango de\", umbral)\n",
    "    i = i+1"
   ]
  },
  {
   "attachments": {},
   "cell_type": "markdown",
   "metadata": {},
   "source": [
    "Calculando con celi"
   ]
  },
  {
   "cell_type": "code",
   "execution_count": 96,
   "metadata": {},
   "outputs": [
    {
     "name": "stdout",
     "output_type": "stream",
     "text": [
      "presición del  1.6536458333333333 %. Con el redondeo con ceil en fracción volumen\n"
     ]
    }
   ],
   "source": [
    "redondeo_ceil_fracvol = redondeo_ceil['Fracción Volumen'].to_numpy()\n",
    "test_df_fracvol = test_df['Fracvol'].to_numpy()\n",
    "dif = redondeo_ceil_fracvol - test_df_fracvol\n",
    "#count_nonzero() cuenta el número de elementos distintos de cero en el arreglo, mientras que la función size() devuelve el tamaño total del arreglo. \n",
    "total = dif.size\n",
    "num_zeros = dif.size - np.count_nonzero(dif)\n",
    "porcentaje = num_zeros*100/total\n",
    "print(\"presición del \", porcentaje, \"%. Con el redondeo con ceil en fracción volumen\")"
   ]
  },
  {
   "cell_type": "code",
   "execution_count": 97,
   "metadata": {},
   "outputs": [
    {
     "name": "stdout",
     "output_type": "stream",
     "text": [
      "presición del  79.55729166666667 %. Con el redondeo ceil en fracción volumen y un rango de 1\n",
      "presición del  81.22395833333333 %. Con el redondeo ceil en fracción volumen y un rango de 2\n"
     ]
    }
   ],
   "source": [
    "# Se agrega umbral hasta llegar a 80% de aceptación\n",
    "i = 1\n",
    "while(porcentaje < 80):\n",
    "    umbral = i\n",
    "    num = np.count_nonzero(np.abs(dif) <= umbral)\n",
    "    porcentaje = num*100/total\n",
    "    print(\"presición del \", porcentaje, \"%. Con el redondeo ceil en fracción volumen y un rango de\", umbral)\n",
    "    i = i+1"
   ]
  },
  {
   "attachments": {},
   "cell_type": "markdown",
   "metadata": {},
   "source": [
    "# Radio"
   ]
  },
  {
   "attachments": {},
   "cell_type": "markdown",
   "metadata": {},
   "source": [
    "Calculando con el redondeo hacia abajo"
   ]
  },
  {
   "cell_type": "code",
   "execution_count": 98,
   "metadata": {},
   "outputs": [
    {
     "name": "stdout",
     "output_type": "stream",
     "text": [
      "presición del  51.419270833333336 %. Con el redondeo para abajo en radio\n"
     ]
    }
   ],
   "source": [
    "redondeo_abajo_radio = redondeo_abajo['Radio (nm)'].to_numpy()\n",
    "test_df_radio = test_df['Radio (nm)'].to_numpy()\n",
    "dif = redondeo_abajo_radio - test_df_radio\n",
    "#count_nonzero() cuenta el número de elementos distintos de cero en el arreglo, mientras que la función size() devuelve el tamaño total del arreglo. \n",
    "total = dif.size\n",
    "num_zeros = dif.size - np.count_nonzero(dif)\n",
    "porcentaje = num_zeros*100/total\n",
    "print(\"presición del \", porcentaje, \"%. Con el redondeo para abajo en radio\")"
   ]
  },
  {
   "cell_type": "code",
   "execution_count": 99,
   "metadata": {},
   "outputs": [
    {
     "name": "stdout",
     "output_type": "stream",
     "text": [
      "presición del  55.234375 %. Con el redondeo para abajo en radio y un rango de 1\n",
      "presición del  58.138020833333336 %. Con el redondeo para abajo en radio y un rango de 2\n",
      "presición del  61.393229166666664 %. Con el redondeo para abajo en radio y un rango de 3\n",
      "presición del  64.62239583333333 %. Con el redondeo para abajo en radio y un rango de 4\n",
      "presición del  67.8515625 %. Con el redondeo para abajo en radio y un rango de 5\n",
      "presición del  69.58333333333333 %. Con el redondeo para abajo en radio y un rango de 6\n",
      "presición del  71.2109375 %. Con el redondeo para abajo en radio y un rango de 7\n",
      "presición del  72.87760416666667 %. Con el redondeo para abajo en radio y un rango de 8\n",
      "presición del  74.27083333333333 %. Con el redondeo para abajo en radio y un rango de 9\n",
      "presición del  75.6640625 %. Con el redondeo para abajo en radio y un rango de 10\n",
      "presición del  77.27864583333333 %. Con el redondeo para abajo en radio y un rango de 11\n",
      "presición del  78.90625 %. Con el redondeo para abajo en radio y un rango de 12\n",
      "presición del  80.40364583333333 %. Con el redondeo para abajo en radio y un rango de 13\n"
     ]
    }
   ],
   "source": [
    "# Se agrega umbral hasta llegar a 80% de aceptación\n",
    "i = 1\n",
    "while(porcentaje < 80):\n",
    "    umbral = i\n",
    "    num = np.count_nonzero(np.abs(dif) <= umbral)\n",
    "    porcentaje = num*100/total\n",
    "    print(\"presición del \", porcentaje, \"%. Con el redondeo para abajo en radio y un rango de\", umbral)\n",
    "    i = i+1"
   ]
  },
  {
   "attachments": {},
   "cell_type": "markdown",
   "metadata": {},
   "source": [
    "Calculando con el redondeo hacia arriba"
   ]
  },
  {
   "cell_type": "code",
   "execution_count": 100,
   "metadata": {},
   "outputs": [
    {
     "name": "stdout",
     "output_type": "stream",
     "text": [
      "presición del  52.265625 %. Con el redondeo para arriba en radio\n"
     ]
    }
   ],
   "source": [
    "redondeo_arriba_radio = redondeo_arriba['Radio (nm)'].to_numpy()\n",
    "test_df_radio = test_df['Radio (nm)'].to_numpy()\n",
    "dif = redondeo_arriba_radio - test_df_radio\n",
    "#count_nonzero() cuenta el número de elementos distintos de cero en el arreglo, mientras que la función size() devuelve el tamaño total del arreglo. \n",
    "total = dif.size\n",
    "num_zeros = dif.size - np.count_nonzero(dif)\n",
    "porcentaje = num_zeros*100/total\n",
    "print(\"presición del \", porcentaje, \"%. Con el redondeo para arriba en radio\")"
   ]
  },
  {
   "cell_type": "code",
   "execution_count": 101,
   "metadata": {},
   "outputs": [
    {
     "name": "stdout",
     "output_type": "stream",
     "text": [
      "presición del  55.234375 %. Con el redondeo para arriba en radio y un rango de 1\n",
      "presición del  58.138020833333336 %. Con el redondeo para arriba en radio y un rango de 2\n",
      "presición del  61.393229166666664 %. Con el redondeo para arriba en radio y un rango de 3\n",
      "presición del  64.62239583333333 %. Con el redondeo para arriba en radio y un rango de 4\n",
      "presición del  67.8515625 %. Con el redondeo para arriba en radio y un rango de 5\n",
      "presición del  69.58333333333333 %. Con el redondeo para arriba en radio y un rango de 6\n",
      "presición del  71.2109375 %. Con el redondeo para arriba en radio y un rango de 7\n",
      "presición del  72.87760416666667 %. Con el redondeo para arriba en radio y un rango de 8\n",
      "presición del  74.27083333333333 %. Con el redondeo para arriba en radio y un rango de 9\n",
      "presición del  75.6640625 %. Con el redondeo para arriba en radio y un rango de 10\n",
      "presición del  77.27864583333333 %. Con el redondeo para arriba en radio y un rango de 11\n",
      "presición del  78.90625 %. Con el redondeo para arriba en radio y un rango de 12\n",
      "presición del  80.40364583333333 %. Con el redondeo para arriba en radio y un rango de 13\n"
     ]
    }
   ],
   "source": [
    "# Se agrega umbral hasta llegar a 80% de aceptación\n",
    "i = 1\n",
    "while(porcentaje < 80):\n",
    "    umbral = i\n",
    "    num = np.count_nonzero(np.abs(dif) <= umbral)\n",
    "    porcentaje = num*100/total\n",
    "    print(\"presición del \", porcentaje, \"%. Con el redondeo para arriba en radio y un rango de\", umbral)\n",
    "    i = i+1"
   ]
  },
  {
   "attachments": {},
   "cell_type": "markdown",
   "metadata": {},
   "source": [
    "Calculando con celi"
   ]
  },
  {
   "cell_type": "code",
   "execution_count": 102,
   "metadata": {},
   "outputs": [
    {
     "name": "stdout",
     "output_type": "stream",
     "text": [
      "presición del  1.7708333333333333 %. Con el redondeo el ceil en radio\n"
     ]
    }
   ],
   "source": [
    "redondeo_ceil_radio = redondeo_ceil['Radio (nm)'].to_numpy()\n",
    "test_df_radio = test_df['Radio (nm)'].to_numpy()\n",
    "dif = redondeo_ceil_radio - test_df_fracvol\n",
    "#count_nonzero() cuenta el número de elementos distintos de cero en el arreglo, mientras que la función size() devuelve el tamaño total del arreglo. \n",
    "total = dif.size\n",
    "num_zeros = dif.size - np.count_nonzero(dif)\n",
    "porcentaje = num_zeros*100/total\n",
    "print(\"presición del \", porcentaje, \"%. Con el redondeo el ceil en radio\")"
   ]
  },
  {
   "cell_type": "code",
   "execution_count": 103,
   "metadata": {},
   "outputs": [
    {
     "name": "stdout",
     "output_type": "stream",
     "text": [
      "presición del  4.791666666666667 %. Con el redondeo para arriba en radio y un rango de 1\n",
      "presición del  8.020833333333334 %. Con el redondeo para arriba en radio y un rango de 2\n",
      "presición del  11.09375 %. Con el redondeo para arriba en radio y un rango de 3\n",
      "presición del  14.127604166666666 %. Con el redondeo para arriba en radio y un rango de 4\n",
      "presición del  17.135416666666668 %. Con el redondeo para arriba en radio y un rango de 5\n",
      "presición del  18.776041666666668 %. Con el redondeo para arriba en radio y un rango de 6\n",
      "presición del  20.442708333333332 %. Con el redondeo para arriba en radio y un rango de 7\n",
      "presición del  22.044270833333332 %. Con el redondeo para arriba en radio y un rango de 8\n",
      "presición del  23.697916666666668 %. Con el redondeo para arriba en radio y un rango de 9\n",
      "presición del  100.0 %. Con el redondeo para arriba en radio y un rango de 10\n"
     ]
    }
   ],
   "source": [
    "# Se agrega umbral hasta llegar a 80% de aceptación\n",
    "i = 1\n",
    "while(porcentaje < 80):\n",
    "    umbral = i\n",
    "    num = np.count_nonzero(np.abs(dif) <= umbral)\n",
    "    porcentaje = num*100/total\n",
    "    print(\"presición del \", porcentaje, \"%. Con el redondeo para arriba en radio y un rango de\", umbral)\n",
    "    i = i+1"
   ]
  },
  {
   "attachments": {},
   "cell_type": "markdown",
   "metadata": {},
   "source": [
    "# Espesor"
   ]
  },
  {
   "attachments": {},
   "cell_type": "markdown",
   "metadata": {},
   "source": [
    "Calculando con el redondeo hacia abajo"
   ]
  },
  {
   "cell_type": "code",
   "execution_count": 104,
   "metadata": {},
   "outputs": [
    {
     "name": "stdout",
     "output_type": "stream",
     "text": [
      "presición del  76.10677083333333 %. Con el redondeo para abajo en espesor\n"
     ]
    }
   ],
   "source": [
    "redondeo_abajo_espesor = redondeo_abajo['Espesor de la película (nm)'].to_numpy()\n",
    "test_df_espesor = test_df['Espesor de la película (nm)'].to_numpy()\n",
    "dif = redondeo_abajo_espesor - test_df_espesor\n",
    "#count_nonzero() cuenta el número de elementos distintos de cero en el arreglo, mientras que la función size() devuelve el tamaño total del arreglo. \n",
    "total = dif.size\n",
    "num_zeros = dif.size - np.count_nonzero(dif)\n",
    "porcentaje = num_zeros*100/total\n",
    "print(\"presición del \", porcentaje, \"%. Con el redondeo para abajo en espesor\")"
   ]
  },
  {
   "cell_type": "code",
   "execution_count": 105,
   "metadata": {},
   "outputs": [
    {
     "name": "stdout",
     "output_type": "stream",
     "text": [
      "presición del  76.10677083333333 %. Con el redondeo para abajo en espesor y un rango de 1\n",
      "presición del  76.10677083333333 %. Con el redondeo para abajo en espesor y un rango de 2\n",
      "presición del  76.10677083333333 %. Con el redondeo para abajo en espesor y un rango de 3\n",
      "presición del  76.10677083333333 %. Con el redondeo para abajo en espesor y un rango de 4\n",
      "presición del  79.2578125 %. Con el redondeo para abajo en espesor y un rango de 5\n",
      "presición del  79.2578125 %. Con el redondeo para abajo en espesor y un rango de 6\n",
      "presición del  79.2578125 %. Con el redondeo para abajo en espesor y un rango de 7\n",
      "presición del  79.2578125 %. Con el redondeo para abajo en espesor y un rango de 8\n",
      "presición del  79.2578125 %. Con el redondeo para abajo en espesor y un rango de 9\n",
      "presición del  82.60416666666667 %. Con el redondeo para abajo en espesor y un rango de 10\n"
     ]
    }
   ],
   "source": [
    "# Se agrega umbral hasta llegar a 80% de aceptación\n",
    "i = 1\n",
    "while(porcentaje < 80):\n",
    "    umbral = i\n",
    "    num = np.count_nonzero(np.abs(dif) <= umbral)\n",
    "    porcentaje = num*100/total\n",
    "    print(\"presición del \", porcentaje, \"%. Con el redondeo para abajo en espesor y un rango de\", umbral)\n",
    "    i = i+1"
   ]
  },
  {
   "attachments": {},
   "cell_type": "markdown",
   "metadata": {},
   "source": [
    "Calculando con el redondeo hacia arriba"
   ]
  },
  {
   "cell_type": "code",
   "execution_count": 106,
   "metadata": {},
   "outputs": [
    {
     "name": "stdout",
     "output_type": "stream",
     "text": [
      "presición del  76.10677083333333 %. Con el redondeo para abajo en espesor\n"
     ]
    }
   ],
   "source": [
    "redondeo_arriba_espesor = redondeo_arriba['Espesor de la película (nm)'].to_numpy()\n",
    "test_df_espesor = test_df['Espesor de la película (nm)'].to_numpy()\n",
    "dif = redondeo_arriba_espesor - test_df_espesor\n",
    "#count_nonzero() cuenta el número de elementos distintos de cero en el arreglo, mientras que la función size() devuelve el tamaño total del arreglo. \n",
    "total = dif.size\n",
    "num_zeros = dif.size - np.count_nonzero(dif)\n",
    "porcentaje = num_zeros*100/total\n",
    "print(\"presición del \", porcentaje, \"%. Con el redondeo para abajo en espesor\")"
   ]
  },
  {
   "cell_type": "code",
   "execution_count": 107,
   "metadata": {},
   "outputs": [
    {
     "name": "stdout",
     "output_type": "stream",
     "text": [
      "presición del  76.10677083333333 %. Con el redondeo para arriba en espesor y un rango de 1\n",
      "presición del  76.10677083333333 %. Con el redondeo para arriba en espesor y un rango de 2\n",
      "presición del  76.10677083333333 %. Con el redondeo para arriba en espesor y un rango de 3\n",
      "presición del  76.10677083333333 %. Con el redondeo para arriba en espesor y un rango de 4\n",
      "presición del  79.2578125 %. Con el redondeo para arriba en espesor y un rango de 5\n",
      "presición del  79.2578125 %. Con el redondeo para arriba en espesor y un rango de 6\n",
      "presición del  79.2578125 %. Con el redondeo para arriba en espesor y un rango de 7\n",
      "presición del  79.2578125 %. Con el redondeo para arriba en espesor y un rango de 8\n",
      "presición del  79.2578125 %. Con el redondeo para arriba en espesor y un rango de 9\n",
      "presición del  82.60416666666667 %. Con el redondeo para arriba en espesor y un rango de 10\n"
     ]
    }
   ],
   "source": [
    "# Se agrega umbral hasta llegar a 80% de aceptación\n",
    "i = 1\n",
    "while(porcentaje < 80):\n",
    "    umbral = i\n",
    "    num = np.count_nonzero(np.abs(dif) <= umbral)\n",
    "    porcentaje = num*100/total\n",
    "    print(\"presición del \", porcentaje, \"%. Con el redondeo para arriba en espesor y un rango de\", umbral)\n",
    "    i = i+1"
   ]
  },
  {
   "attachments": {},
   "cell_type": "markdown",
   "metadata": {},
   "source": [
    "Calculando con celi"
   ]
  },
  {
   "cell_type": "code",
   "execution_count": 108,
   "metadata": {},
   "outputs": [
    {
     "name": "stdout",
     "output_type": "stream",
     "text": [
      "presición del  0.0 %. Con el redondeo ceil abajo en espesor\n"
     ]
    }
   ],
   "source": [
    "redondeo_ceil_espesor = redondeo_ceil['Espesor de la película (nm)'].to_numpy()\n",
    "test_df_espesor = test_df['Espesor de la película (nm)'].to_numpy()\n",
    "dif = redondeo_ceil_espesor - test_df_espesor\n",
    "#count_nonzero() cuenta el número de elementos distintos de cero en el arreglo, mientras que la función size() devuelve el tamaño total del arreglo. \n",
    "total = dif.size\n",
    "num_zeros = dif.size - np.count_nonzero(dif)\n",
    "porcentaje = num_zeros*100/total\n",
    "print(\"presición del \", porcentaje, \"%. Con el redondeo ceil abajo en espesor\")"
   ]
  },
  {
   "cell_type": "code",
   "execution_count": 39,
   "metadata": {},
   "outputs": [
    {
     "name": "stdout",
     "output_type": "stream",
     "text": [
      "presición del  76.10677083333333 %. Con el redondeo para arriba en espesor y un rango de 1\n",
      "presición del  76.10677083333333 %. Con el redondeo para arriba en espesor y un rango de 2\n",
      "presición del  76.10677083333333 %. Con el redondeo para arriba en espesor y un rango de 3\n",
      "presición del  76.10677083333333 %. Con el redondeo para arriba en espesor y un rango de 4\n",
      "presición del  79.2578125 %. Con el redondeo para arriba en espesor y un rango de 5\n",
      "presición del  79.2578125 %. Con el redondeo para arriba en espesor y un rango de 6\n",
      "presición del  79.2578125 %. Con el redondeo para arriba en espesor y un rango de 7\n",
      "presición del  79.2578125 %. Con el redondeo para arriba en espesor y un rango de 8\n",
      "presición del  79.2578125 %. Con el redondeo para arriba en espesor y un rango de 9\n",
      "presición del  82.60416666666667 %. Con el redondeo para arriba en espesor y un rango de 10\n"
     ]
    }
   ],
   "source": [
    "# Se agrega umbral hasta llegar a 80% de aceptación\n",
    "i = 1\n",
    "while(porcentaje < 80):\n",
    "    umbral = i\n",
    "    num = np.count_nonzero(np.abs(dif) <= umbral)\n",
    "    porcentaje = num*100/total\n",
    "    print(\"presición del \", porcentaje, \"%. Con el redondeo para arriba en espesor y un rango de\", umbral)\n",
    "    i = i+1"
   ]
  },
  {
   "attachments": {},
   "cell_type": "markdown",
   "metadata": {},
   "source": [
    "# Colectivo"
   ]
  },
  {
   "attachments": {},
   "cell_type": "markdown",
   "metadata": {},
   "source": [
    "Ajustando la columna test para poder tenerla igual que las de redondeo"
   ]
  },
  {
   "cell_type": "code",
   "execution_count": 40,
   "metadata": {},
   "outputs": [
    {
     "data": {
      "text/html": [
       "<div>\n",
       "<style scoped>\n",
       "    .dataframe tbody tr th:only-of-type {\n",
       "        vertical-align: middle;\n",
       "    }\n",
       "\n",
       "    .dataframe tbody tr th {\n",
       "        vertical-align: top;\n",
       "    }\n",
       "\n",
       "    .dataframe thead th {\n",
       "        text-align: right;\n",
       "    }\n",
       "</style>\n",
       "<table border=\"1\" class=\"dataframe\">\n",
       "  <thead>\n",
       "    <tr style=\"text-align: right;\">\n",
       "      <th></th>\n",
       "      <th>Fracción Volumen</th>\n",
       "      <th>Radio (nm)</th>\n",
       "      <th>Espesor de la película (nm)</th>\n",
       "    </tr>\n",
       "  </thead>\n",
       "  <tbody>\n",
       "    <tr>\n",
       "      <th>0</th>\n",
       "      <td>5.0</td>\n",
       "      <td>10.0</td>\n",
       "      <td>120.0</td>\n",
       "    </tr>\n",
       "    <tr>\n",
       "      <th>1</th>\n",
       "      <td>1.0</td>\n",
       "      <td>26.0</td>\n",
       "      <td>120.0</td>\n",
       "    </tr>\n",
       "    <tr>\n",
       "      <th>2</th>\n",
       "      <td>1.0</td>\n",
       "      <td>26.0</td>\n",
       "      <td>120.0</td>\n",
       "    </tr>\n",
       "    <tr>\n",
       "      <th>3</th>\n",
       "      <td>11.0</td>\n",
       "      <td>10.0</td>\n",
       "      <td>120.0</td>\n",
       "    </tr>\n",
       "    <tr>\n",
       "      <th>4</th>\n",
       "      <td>1.0</td>\n",
       "      <td>10.0</td>\n",
       "      <td>65.0</td>\n",
       "    </tr>\n",
       "    <tr>\n",
       "      <th>...</th>\n",
       "      <td>...</td>\n",
       "      <td>...</td>\n",
       "      <td>...</td>\n",
       "    </tr>\n",
       "    <tr>\n",
       "      <th>7675</th>\n",
       "      <td>7.0</td>\n",
       "      <td>10.0</td>\n",
       "      <td>120.0</td>\n",
       "    </tr>\n",
       "    <tr>\n",
       "      <th>7676</th>\n",
       "      <td>1.0</td>\n",
       "      <td>7.0</td>\n",
       "      <td>120.0</td>\n",
       "    </tr>\n",
       "    <tr>\n",
       "      <th>7677</th>\n",
       "      <td>4.0</td>\n",
       "      <td>10.0</td>\n",
       "      <td>120.0</td>\n",
       "    </tr>\n",
       "    <tr>\n",
       "      <th>7678</th>\n",
       "      <td>1.0</td>\n",
       "      <td>29.0</td>\n",
       "      <td>120.0</td>\n",
       "    </tr>\n",
       "    <tr>\n",
       "      <th>7679</th>\n",
       "      <td>1.0</td>\n",
       "      <td>16.0</td>\n",
       "      <td>120.0</td>\n",
       "    </tr>\n",
       "  </tbody>\n",
       "</table>\n",
       "<p>7680 rows × 3 columns</p>\n",
       "</div>"
      ],
      "text/plain": [
       "      Fracción Volumen  Radio (nm)  Espesor de la película (nm)\n",
       "0                  5.0        10.0                        120.0\n",
       "1                  1.0        26.0                        120.0\n",
       "2                  1.0        26.0                        120.0\n",
       "3                 11.0        10.0                        120.0\n",
       "4                  1.0        10.0                         65.0\n",
       "...                ...         ...                          ...\n",
       "7675               7.0        10.0                        120.0\n",
       "7676               1.0         7.0                        120.0\n",
       "7677               4.0        10.0                        120.0\n",
       "7678               1.0        29.0                        120.0\n",
       "7679               1.0        16.0                        120.0\n",
       "\n",
       "[7680 rows x 3 columns]"
      ]
     },
     "execution_count": 40,
     "metadata": {},
     "output_type": "execute_result"
    }
   ],
   "source": [
    "test2 = test_df.drop(['Longitud de onda', 'Índice de absorción'], axis=1)\n",
    "test2 = test2.astype(float)\n",
    "nuevo = {'Fracvol': 'Fracción Volumen'}\n",
    "test2 = test2.rename(columns = nuevo)\n",
    "test2 = test2.reset_index()\n",
    "test2 = test2.drop(['index'], axis = 1)\n",
    "test2"
   ]
  },
  {
   "cell_type": "code",
   "execution_count": 41,
   "metadata": {},
   "outputs": [
    {
     "data": {
      "text/html": [
       "<div>\n",
       "<style scoped>\n",
       "    .dataframe tbody tr th:only-of-type {\n",
       "        vertical-align: middle;\n",
       "    }\n",
       "\n",
       "    .dataframe tbody tr th {\n",
       "        vertical-align: top;\n",
       "    }\n",
       "\n",
       "    .dataframe thead th {\n",
       "        text-align: right;\n",
       "    }\n",
       "</style>\n",
       "<table border=\"1\" class=\"dataframe\">\n",
       "  <thead>\n",
       "    <tr style=\"text-align: right;\">\n",
       "      <th></th>\n",
       "      <th>Fracción Volumen</th>\n",
       "      <th>Radio (nm)</th>\n",
       "      <th>Espesor de la película (nm)</th>\n",
       "    </tr>\n",
       "  </thead>\n",
       "  <tbody>\n",
       "    <tr>\n",
       "      <th>0</th>\n",
       "      <td>4.0</td>\n",
       "      <td>1.0</td>\n",
       "      <td>1.0</td>\n",
       "    </tr>\n",
       "    <tr>\n",
       "      <th>1</th>\n",
       "      <td>0.0</td>\n",
       "      <td>17.0</td>\n",
       "      <td>1.0</td>\n",
       "    </tr>\n",
       "    <tr>\n",
       "      <th>2</th>\n",
       "      <td>1.0</td>\n",
       "      <td>17.0</td>\n",
       "      <td>1.0</td>\n",
       "    </tr>\n",
       "    <tr>\n",
       "      <th>3</th>\n",
       "      <td>11.0</td>\n",
       "      <td>1.0</td>\n",
       "      <td>1.0</td>\n",
       "    </tr>\n",
       "    <tr>\n",
       "      <th>4</th>\n",
       "      <td>0.0</td>\n",
       "      <td>1.0</td>\n",
       "      <td>-54.0</td>\n",
       "    </tr>\n",
       "    <tr>\n",
       "      <th>...</th>\n",
       "      <td>...</td>\n",
       "      <td>...</td>\n",
       "      <td>...</td>\n",
       "    </tr>\n",
       "    <tr>\n",
       "      <th>7675</th>\n",
       "      <td>6.0</td>\n",
       "      <td>1.0</td>\n",
       "      <td>1.0</td>\n",
       "    </tr>\n",
       "    <tr>\n",
       "      <th>7676</th>\n",
       "      <td>1.0</td>\n",
       "      <td>-2.0</td>\n",
       "      <td>1.0</td>\n",
       "    </tr>\n",
       "    <tr>\n",
       "      <th>7677</th>\n",
       "      <td>0.0</td>\n",
       "      <td>1.0</td>\n",
       "      <td>1.0</td>\n",
       "    </tr>\n",
       "    <tr>\n",
       "      <th>7678</th>\n",
       "      <td>1.0</td>\n",
       "      <td>20.0</td>\n",
       "      <td>1.0</td>\n",
       "    </tr>\n",
       "    <tr>\n",
       "      <th>7679</th>\n",
       "      <td>0.0</td>\n",
       "      <td>7.0</td>\n",
       "      <td>1.0</td>\n",
       "    </tr>\n",
       "  </tbody>\n",
       "</table>\n",
       "<p>7680 rows × 3 columns</p>\n",
       "</div>"
      ],
      "text/plain": [
       "      Fracción Volumen  Radio (nm)  Espesor de la película (nm)\n",
       "0                  4.0         1.0                          1.0\n",
       "1                  0.0        17.0                          1.0\n",
       "2                  1.0        17.0                          1.0\n",
       "3                 11.0         1.0                          1.0\n",
       "4                  0.0         1.0                        -54.0\n",
       "...                ...         ...                          ...\n",
       "7675               6.0         1.0                          1.0\n",
       "7676               1.0        -2.0                          1.0\n",
       "7677               0.0         1.0                          1.0\n",
       "7678               1.0        20.0                          1.0\n",
       "7679               0.0         7.0                          1.0\n",
       "\n",
       "[7680 rows x 3 columns]"
      ]
     },
     "execution_count": 41,
     "metadata": {},
     "output_type": "execute_result"
    }
   ],
   "source": [
    "dif_abajo = test2 - redondeo_abajo\n",
    "dif_abajo"
   ]
  },
  {
   "cell_type": "code",
   "execution_count": 42,
   "metadata": {},
   "outputs": [
    {
     "data": {
      "text/html": [
       "<div>\n",
       "<style scoped>\n",
       "    .dataframe tbody tr th:only-of-type {\n",
       "        vertical-align: middle;\n",
       "    }\n",
       "\n",
       "    .dataframe tbody tr th {\n",
       "        vertical-align: top;\n",
       "    }\n",
       "\n",
       "    .dataframe thead th {\n",
       "        text-align: right;\n",
       "    }\n",
       "</style>\n",
       "<table border=\"1\" class=\"dataframe\">\n",
       "  <thead>\n",
       "    <tr style=\"text-align: right;\">\n",
       "      <th></th>\n",
       "      <th>Fracción Volumen</th>\n",
       "      <th>Radio (nm)</th>\n",
       "      <th>Espesor de la película (nm)</th>\n",
       "    </tr>\n",
       "  </thead>\n",
       "  <tbody>\n",
       "    <tr>\n",
       "      <th>0</th>\n",
       "      <td>4.0</td>\n",
       "      <td>1.0</td>\n",
       "      <td>1.0</td>\n",
       "    </tr>\n",
       "    <tr>\n",
       "      <th>1</th>\n",
       "      <td>0.0</td>\n",
       "      <td>17.0</td>\n",
       "      <td>1.0</td>\n",
       "    </tr>\n",
       "    <tr>\n",
       "      <th>2</th>\n",
       "      <td>1.0</td>\n",
       "      <td>17.0</td>\n",
       "      <td>1.0</td>\n",
       "    </tr>\n",
       "    <tr>\n",
       "      <th>3</th>\n",
       "      <td>11.0</td>\n",
       "      <td>1.0</td>\n",
       "      <td>1.0</td>\n",
       "    </tr>\n",
       "    <tr>\n",
       "      <th>4</th>\n",
       "      <td>0.0</td>\n",
       "      <td>1.0</td>\n",
       "      <td>-54.0</td>\n",
       "    </tr>\n",
       "    <tr>\n",
       "      <th>...</th>\n",
       "      <td>...</td>\n",
       "      <td>...</td>\n",
       "      <td>...</td>\n",
       "    </tr>\n",
       "    <tr>\n",
       "      <th>7675</th>\n",
       "      <td>6.0</td>\n",
       "      <td>1.0</td>\n",
       "      <td>1.0</td>\n",
       "    </tr>\n",
       "    <tr>\n",
       "      <th>7676</th>\n",
       "      <td>1.0</td>\n",
       "      <td>-2.0</td>\n",
       "      <td>1.0</td>\n",
       "    </tr>\n",
       "    <tr>\n",
       "      <th>7677</th>\n",
       "      <td>0.0</td>\n",
       "      <td>1.0</td>\n",
       "      <td>1.0</td>\n",
       "    </tr>\n",
       "    <tr>\n",
       "      <th>7678</th>\n",
       "      <td>1.0</td>\n",
       "      <td>20.0</td>\n",
       "      <td>1.0</td>\n",
       "    </tr>\n",
       "    <tr>\n",
       "      <th>7679</th>\n",
       "      <td>0.0</td>\n",
       "      <td>7.0</td>\n",
       "      <td>1.0</td>\n",
       "    </tr>\n",
       "  </tbody>\n",
       "</table>\n",
       "<p>7680 rows × 3 columns</p>\n",
       "</div>"
      ],
      "text/plain": [
       "      Fracción Volumen  Radio (nm)  Espesor de la película (nm)\n",
       "0                  4.0         1.0                          1.0\n",
       "1                  0.0        17.0                          1.0\n",
       "2                  1.0        17.0                          1.0\n",
       "3                 11.0         1.0                          1.0\n",
       "4                  0.0         1.0                        -54.0\n",
       "...                ...         ...                          ...\n",
       "7675               6.0         1.0                          1.0\n",
       "7676               1.0        -2.0                          1.0\n",
       "7677               0.0         1.0                          1.0\n",
       "7678               1.0        20.0                          1.0\n",
       "7679               0.0         7.0                          1.0\n",
       "\n",
       "[7680 rows x 3 columns]"
      ]
     },
     "execution_count": 42,
     "metadata": {},
     "output_type": "execute_result"
    }
   ],
   "source": [
    "nans3 = ~(dif_abajo == 0).all(axis=1)\n",
    "df_sin_ceros = dif_abajo[nans3]\n",
    "df_sin_ceros"
   ]
  },
  {
   "cell_type": "code",
   "execution_count": 43,
   "metadata": {},
   "outputs": [
    {
     "data": {
      "text/plain": [
       "True"
      ]
     },
     "execution_count": 43,
     "metadata": {},
     "output_type": "execute_result"
    }
   ],
   "source": [
    "df_sin_ceros.equals(dif_abajo)"
   ]
  },
  {
   "attachments": {},
   "cell_type": "markdown",
   "metadata": {},
   "source": [
    "Queremos que elimine los que tengan 2 0's"
   ]
  },
  {
   "cell_type": "code",
   "execution_count": 44,
   "metadata": {},
   "outputs": [
    {
     "data": {
      "text/html": [
       "<div>\n",
       "<style scoped>\n",
       "    .dataframe tbody tr th:only-of-type {\n",
       "        vertical-align: middle;\n",
       "    }\n",
       "\n",
       "    .dataframe tbody tr th {\n",
       "        vertical-align: top;\n",
       "    }\n",
       "\n",
       "    .dataframe thead th {\n",
       "        text-align: right;\n",
       "    }\n",
       "</style>\n",
       "<table border=\"1\" class=\"dataframe\">\n",
       "  <thead>\n",
       "    <tr style=\"text-align: right;\">\n",
       "      <th></th>\n",
       "      <th>Fracción Volumen</th>\n",
       "      <th>Radio (nm)</th>\n",
       "      <th>Espesor de la película (nm)</th>\n",
       "    </tr>\n",
       "  </thead>\n",
       "  <tbody>\n",
       "    <tr>\n",
       "      <th>0</th>\n",
       "      <td>4.0</td>\n",
       "      <td>1.0</td>\n",
       "      <td>1.0</td>\n",
       "    </tr>\n",
       "    <tr>\n",
       "      <th>1</th>\n",
       "      <td>0.0</td>\n",
       "      <td>17.0</td>\n",
       "      <td>1.0</td>\n",
       "    </tr>\n",
       "    <tr>\n",
       "      <th>2</th>\n",
       "      <td>1.0</td>\n",
       "      <td>17.0</td>\n",
       "      <td>1.0</td>\n",
       "    </tr>\n",
       "    <tr>\n",
       "      <th>3</th>\n",
       "      <td>11.0</td>\n",
       "      <td>1.0</td>\n",
       "      <td>1.0</td>\n",
       "    </tr>\n",
       "    <tr>\n",
       "      <th>4</th>\n",
       "      <td>0.0</td>\n",
       "      <td>1.0</td>\n",
       "      <td>-54.0</td>\n",
       "    </tr>\n",
       "    <tr>\n",
       "      <th>...</th>\n",
       "      <td>...</td>\n",
       "      <td>...</td>\n",
       "      <td>...</td>\n",
       "    </tr>\n",
       "    <tr>\n",
       "      <th>7675</th>\n",
       "      <td>6.0</td>\n",
       "      <td>1.0</td>\n",
       "      <td>1.0</td>\n",
       "    </tr>\n",
       "    <tr>\n",
       "      <th>7676</th>\n",
       "      <td>1.0</td>\n",
       "      <td>-2.0</td>\n",
       "      <td>1.0</td>\n",
       "    </tr>\n",
       "    <tr>\n",
       "      <th>7677</th>\n",
       "      <td>0.0</td>\n",
       "      <td>1.0</td>\n",
       "      <td>1.0</td>\n",
       "    </tr>\n",
       "    <tr>\n",
       "      <th>7678</th>\n",
       "      <td>1.0</td>\n",
       "      <td>20.0</td>\n",
       "      <td>1.0</td>\n",
       "    </tr>\n",
       "    <tr>\n",
       "      <th>7679</th>\n",
       "      <td>0.0</td>\n",
       "      <td>7.0</td>\n",
       "      <td>1.0</td>\n",
       "    </tr>\n",
       "  </tbody>\n",
       "</table>\n",
       "<p>7618 rows × 3 columns</p>\n",
       "</div>"
      ],
      "text/plain": [
       "      Fracción Volumen  Radio (nm)  Espesor de la película (nm)\n",
       "0                  4.0         1.0                          1.0\n",
       "1                  0.0        17.0                          1.0\n",
       "2                  1.0        17.0                          1.0\n",
       "3                 11.0         1.0                          1.0\n",
       "4                  0.0         1.0                        -54.0\n",
       "...                ...         ...                          ...\n",
       "7675               6.0         1.0                          1.0\n",
       "7676               1.0        -2.0                          1.0\n",
       "7677               0.0         1.0                          1.0\n",
       "7678               1.0        20.0                          1.0\n",
       "7679               0.0         7.0                          1.0\n",
       "\n",
       "[7618 rows x 3 columns]"
      ]
     },
     "execution_count": 44,
     "metadata": {},
     "output_type": "execute_result"
    }
   ],
   "source": [
    "nans2 = dif_abajo\n",
    "# Definimos una tolerancia\n",
    "tolerancia = 1e-9\n",
    "# Creamos una nueva columna que contenga el número de ceros por fila\n",
    "nans2['zeros'] = (np.isclose(nans2, 0.0, atol=tolerancia)).sum(axis=1)\n",
    "df_sin_ceros = nans2[nans2['zeros'] < 2]\n",
    "df_sin_ceros = df_sin_ceros.drop(columns=['zeros'])\n",
    "df_sin_ceros"
   ]
  },
  {
   "cell_type": "code",
   "execution_count": 45,
   "metadata": {},
   "outputs": [
    {
     "data": {
      "text/plain": [
       "False"
      ]
     },
     "execution_count": 45,
     "metadata": {},
     "output_type": "execute_result"
    }
   ],
   "source": [
    "nans2.equals(df_sin_ceros)"
   ]
  },
  {
   "attachments": {},
   "cell_type": "markdown",
   "metadata": {},
   "source": [
    "Queremos que elimine los que tenga un 0"
   ]
  },
  {
   "cell_type": "code",
   "execution_count": 46,
   "metadata": {},
   "outputs": [],
   "source": [
    "dif_abajo = test2 - redondeo_abajo"
   ]
  },
  {
   "cell_type": "code",
   "execution_count": 47,
   "metadata": {},
   "outputs": [
    {
     "data": {
      "text/html": [
       "<div>\n",
       "<style scoped>\n",
       "    .dataframe tbody tr th:only-of-type {\n",
       "        vertical-align: middle;\n",
       "    }\n",
       "\n",
       "    .dataframe tbody tr th {\n",
       "        vertical-align: top;\n",
       "    }\n",
       "\n",
       "    .dataframe thead th {\n",
       "        text-align: right;\n",
       "    }\n",
       "</style>\n",
       "<table border=\"1\" class=\"dataframe\">\n",
       "  <thead>\n",
       "    <tr style=\"text-align: right;\">\n",
       "      <th></th>\n",
       "      <th>Fracción Volumen</th>\n",
       "      <th>Radio (nm)</th>\n",
       "      <th>Espesor de la película (nm)</th>\n",
       "    </tr>\n",
       "  </thead>\n",
       "  <tbody>\n",
       "    <tr>\n",
       "      <th>0</th>\n",
       "      <td>4.0</td>\n",
       "      <td>1.0</td>\n",
       "      <td>1.0</td>\n",
       "    </tr>\n",
       "    <tr>\n",
       "      <th>2</th>\n",
       "      <td>1.0</td>\n",
       "      <td>17.0</td>\n",
       "      <td>1.0</td>\n",
       "    </tr>\n",
       "    <tr>\n",
       "      <th>3</th>\n",
       "      <td>11.0</td>\n",
       "      <td>1.0</td>\n",
       "      <td>1.0</td>\n",
       "    </tr>\n",
       "    <tr>\n",
       "      <th>5</th>\n",
       "      <td>1.0</td>\n",
       "      <td>1.0</td>\n",
       "      <td>1.0</td>\n",
       "    </tr>\n",
       "    <tr>\n",
       "      <th>6</th>\n",
       "      <td>1.0</td>\n",
       "      <td>1.0</td>\n",
       "      <td>11.0</td>\n",
       "    </tr>\n",
       "    <tr>\n",
       "      <th>...</th>\n",
       "      <td>...</td>\n",
       "      <td>...</td>\n",
       "      <td>...</td>\n",
       "    </tr>\n",
       "    <tr>\n",
       "      <th>7671</th>\n",
       "      <td>14.0</td>\n",
       "      <td>1.0</td>\n",
       "      <td>1.0</td>\n",
       "    </tr>\n",
       "    <tr>\n",
       "      <th>7674</th>\n",
       "      <td>1.0</td>\n",
       "      <td>16.0</td>\n",
       "      <td>1.0</td>\n",
       "    </tr>\n",
       "    <tr>\n",
       "      <th>7675</th>\n",
       "      <td>6.0</td>\n",
       "      <td>1.0</td>\n",
       "      <td>1.0</td>\n",
       "    </tr>\n",
       "    <tr>\n",
       "      <th>7676</th>\n",
       "      <td>1.0</td>\n",
       "      <td>-2.0</td>\n",
       "      <td>1.0</td>\n",
       "    </tr>\n",
       "    <tr>\n",
       "      <th>7678</th>\n",
       "      <td>1.0</td>\n",
       "      <td>20.0</td>\n",
       "      <td>1.0</td>\n",
       "    </tr>\n",
       "  </tbody>\n",
       "</table>\n",
       "<p>4241 rows × 3 columns</p>\n",
       "</div>"
      ],
      "text/plain": [
       "      Fracción Volumen  Radio (nm)  Espesor de la película (nm)\n",
       "0                  4.0         1.0                          1.0\n",
       "2                  1.0        17.0                          1.0\n",
       "3                 11.0         1.0                          1.0\n",
       "5                  1.0         1.0                          1.0\n",
       "6                  1.0         1.0                         11.0\n",
       "...                ...         ...                          ...\n",
       "7671              14.0         1.0                          1.0\n",
       "7674               1.0        16.0                          1.0\n",
       "7675               6.0         1.0                          1.0\n",
       "7676               1.0        -2.0                          1.0\n",
       "7678               1.0        20.0                          1.0\n",
       "\n",
       "[4241 rows x 3 columns]"
      ]
     },
     "execution_count": 47,
     "metadata": {},
     "output_type": "execute_result"
    }
   ],
   "source": [
    "nan1 = dif_abajo[(dif_abajo != 0).all(1)]\n",
    "nan1"
   ]
  },
  {
   "cell_type": "code",
   "execution_count": 48,
   "metadata": {},
   "outputs": [
    {
     "data": {
      "text/plain": [
       "False"
      ]
     },
     "execution_count": 48,
     "metadata": {},
     "output_type": "execute_result"
    }
   ],
   "source": [
    "df_sin_ceros.equals(dif_abajo)"
   ]
  },
  {
   "attachments": {},
   "cell_type": "markdown",
   "metadata": {},
   "source": [
    "# Redondeo hacia arriba"
   ]
  },
  {
   "cell_type": "code",
   "execution_count": 49,
   "metadata": {},
   "outputs": [
    {
     "data": {
      "text/html": [
       "<div>\n",
       "<style scoped>\n",
       "    .dataframe tbody tr th:only-of-type {\n",
       "        vertical-align: middle;\n",
       "    }\n",
       "\n",
       "    .dataframe tbody tr th {\n",
       "        vertical-align: top;\n",
       "    }\n",
       "\n",
       "    .dataframe thead th {\n",
       "        text-align: right;\n",
       "    }\n",
       "</style>\n",
       "<table border=\"1\" class=\"dataframe\">\n",
       "  <thead>\n",
       "    <tr style=\"text-align: right;\">\n",
       "      <th></th>\n",
       "      <th>Fracción Volumen</th>\n",
       "      <th>Radio (nm)</th>\n",
       "      <th>Espesor de la película (nm)</th>\n",
       "    </tr>\n",
       "  </thead>\n",
       "  <tbody>\n",
       "    <tr>\n",
       "      <th>0</th>\n",
       "      <td>-4.0</td>\n",
       "      <td>0.0</td>\n",
       "      <td>0.0</td>\n",
       "    </tr>\n",
       "    <tr>\n",
       "      <th>1</th>\n",
       "      <td>0.0</td>\n",
       "      <td>-16.0</td>\n",
       "      <td>0.0</td>\n",
       "    </tr>\n",
       "    <tr>\n",
       "      <th>2</th>\n",
       "      <td>0.0</td>\n",
       "      <td>-16.0</td>\n",
       "      <td>0.0</td>\n",
       "    </tr>\n",
       "    <tr>\n",
       "      <th>3</th>\n",
       "      <td>-10.0</td>\n",
       "      <td>0.0</td>\n",
       "      <td>0.0</td>\n",
       "    </tr>\n",
       "    <tr>\n",
       "      <th>4</th>\n",
       "      <td>0.0</td>\n",
       "      <td>0.0</td>\n",
       "      <td>55.0</td>\n",
       "    </tr>\n",
       "    <tr>\n",
       "      <th>...</th>\n",
       "      <td>...</td>\n",
       "      <td>...</td>\n",
       "      <td>...</td>\n",
       "    </tr>\n",
       "    <tr>\n",
       "      <th>7675</th>\n",
       "      <td>-6.0</td>\n",
       "      <td>0.0</td>\n",
       "      <td>0.0</td>\n",
       "    </tr>\n",
       "    <tr>\n",
       "      <th>7676</th>\n",
       "      <td>0.0</td>\n",
       "      <td>3.0</td>\n",
       "      <td>0.0</td>\n",
       "    </tr>\n",
       "    <tr>\n",
       "      <th>7677</th>\n",
       "      <td>1.0</td>\n",
       "      <td>0.0</td>\n",
       "      <td>0.0</td>\n",
       "    </tr>\n",
       "    <tr>\n",
       "      <th>7678</th>\n",
       "      <td>0.0</td>\n",
       "      <td>-19.0</td>\n",
       "      <td>0.0</td>\n",
       "    </tr>\n",
       "    <tr>\n",
       "      <th>7679</th>\n",
       "      <td>0.0</td>\n",
       "      <td>-6.0</td>\n",
       "      <td>0.0</td>\n",
       "    </tr>\n",
       "  </tbody>\n",
       "</table>\n",
       "<p>7680 rows × 3 columns</p>\n",
       "</div>"
      ],
      "text/plain": [
       "      Fracción Volumen  Radio (nm)  Espesor de la película (nm)\n",
       "0                 -4.0         0.0                          0.0\n",
       "1                  0.0       -16.0                          0.0\n",
       "2                  0.0       -16.0                          0.0\n",
       "3                -10.0         0.0                          0.0\n",
       "4                  0.0         0.0                         55.0\n",
       "...                ...         ...                          ...\n",
       "7675              -6.0         0.0                          0.0\n",
       "7676               0.0         3.0                          0.0\n",
       "7677               1.0         0.0                          0.0\n",
       "7678               0.0       -19.0                          0.0\n",
       "7679               0.0        -6.0                          0.0\n",
       "\n",
       "[7680 rows x 3 columns]"
      ]
     },
     "execution_count": 49,
     "metadata": {},
     "output_type": "execute_result"
    }
   ],
   "source": [
    "dif_arriba = redondeo_arriba - test2\n",
    "dif_arriba"
   ]
  },
  {
   "attachments": {},
   "cell_type": "markdown",
   "metadata": {},
   "source": [
    "Queremos que elimine los renglones que tengan 3 0's"
   ]
  },
  {
   "cell_type": "code",
   "execution_count": 50,
   "metadata": {},
   "outputs": [
    {
     "data": {
      "text/html": [
       "<div>\n",
       "<style scoped>\n",
       "    .dataframe tbody tr th:only-of-type {\n",
       "        vertical-align: middle;\n",
       "    }\n",
       "\n",
       "    .dataframe tbody tr th {\n",
       "        vertical-align: top;\n",
       "    }\n",
       "\n",
       "    .dataframe thead th {\n",
       "        text-align: right;\n",
       "    }\n",
       "</style>\n",
       "<table border=\"1\" class=\"dataframe\">\n",
       "  <thead>\n",
       "    <tr style=\"text-align: right;\">\n",
       "      <th></th>\n",
       "      <th>Fracción Volumen</th>\n",
       "      <th>Radio (nm)</th>\n",
       "      <th>Espesor de la película (nm)</th>\n",
       "    </tr>\n",
       "  </thead>\n",
       "  <tbody>\n",
       "    <tr>\n",
       "      <th>0</th>\n",
       "      <td>-4.0</td>\n",
       "      <td>0.0</td>\n",
       "      <td>0.0</td>\n",
       "    </tr>\n",
       "    <tr>\n",
       "      <th>1</th>\n",
       "      <td>0.0</td>\n",
       "      <td>-16.0</td>\n",
       "      <td>0.0</td>\n",
       "    </tr>\n",
       "    <tr>\n",
       "      <th>2</th>\n",
       "      <td>0.0</td>\n",
       "      <td>-16.0</td>\n",
       "      <td>0.0</td>\n",
       "    </tr>\n",
       "    <tr>\n",
       "      <th>3</th>\n",
       "      <td>-10.0</td>\n",
       "      <td>0.0</td>\n",
       "      <td>0.0</td>\n",
       "    </tr>\n",
       "    <tr>\n",
       "      <th>4</th>\n",
       "      <td>0.0</td>\n",
       "      <td>0.0</td>\n",
       "      <td>55.0</td>\n",
       "    </tr>\n",
       "    <tr>\n",
       "      <th>...</th>\n",
       "      <td>...</td>\n",
       "      <td>...</td>\n",
       "      <td>...</td>\n",
       "    </tr>\n",
       "    <tr>\n",
       "      <th>7675</th>\n",
       "      <td>-6.0</td>\n",
       "      <td>0.0</td>\n",
       "      <td>0.0</td>\n",
       "    </tr>\n",
       "    <tr>\n",
       "      <th>7676</th>\n",
       "      <td>0.0</td>\n",
       "      <td>3.0</td>\n",
       "      <td>0.0</td>\n",
       "    </tr>\n",
       "    <tr>\n",
       "      <th>7677</th>\n",
       "      <td>1.0</td>\n",
       "      <td>0.0</td>\n",
       "      <td>0.0</td>\n",
       "    </tr>\n",
       "    <tr>\n",
       "      <th>7678</th>\n",
       "      <td>0.0</td>\n",
       "      <td>-19.0</td>\n",
       "      <td>0.0</td>\n",
       "    </tr>\n",
       "    <tr>\n",
       "      <th>7679</th>\n",
       "      <td>0.0</td>\n",
       "      <td>-6.0</td>\n",
       "      <td>0.0</td>\n",
       "    </tr>\n",
       "  </tbody>\n",
       "</table>\n",
       "<p>7307 rows × 3 columns</p>\n",
       "</div>"
      ],
      "text/plain": [
       "      Fracción Volumen  Radio (nm)  Espesor de la película (nm)\n",
       "0                 -4.0         0.0                          0.0\n",
       "1                  0.0       -16.0                          0.0\n",
       "2                  0.0       -16.0                          0.0\n",
       "3                -10.0         0.0                          0.0\n",
       "4                  0.0         0.0                         55.0\n",
       "...                ...         ...                          ...\n",
       "7675              -6.0         0.0                          0.0\n",
       "7676               0.0         3.0                          0.0\n",
       "7677               1.0         0.0                          0.0\n",
       "7678               0.0       -19.0                          0.0\n",
       "7679               0.0        -6.0                          0.0\n",
       "\n",
       "[7307 rows x 3 columns]"
      ]
     },
     "execution_count": 50,
     "metadata": {},
     "output_type": "execute_result"
    }
   ],
   "source": [
    "nans3 = ~(dif_arriba == 0).all(axis=1)\n",
    "df_sin_ceros = dif_arriba[nans3]\n",
    "df_sin_ceros"
   ]
  },
  {
   "cell_type": "code",
   "execution_count": 51,
   "metadata": {},
   "outputs": [
    {
     "data": {
      "text/plain": [
       "False"
      ]
     },
     "execution_count": 51,
     "metadata": {},
     "output_type": "execute_result"
    }
   ],
   "source": [
    "df_sin_ceros.equals(dif_arriba)"
   ]
  },
  {
   "attachments": {},
   "cell_type": "markdown",
   "metadata": {},
   "source": [
    "Queremos que ensenie los que tengan 2 0's"
   ]
  },
  {
   "cell_type": "code",
   "execution_count": 52,
   "metadata": {},
   "outputs": [
    {
     "data": {
      "text/html": [
       "<div>\n",
       "<style scoped>\n",
       "    .dataframe tbody tr th:only-of-type {\n",
       "        vertical-align: middle;\n",
       "    }\n",
       "\n",
       "    .dataframe tbody tr th {\n",
       "        vertical-align: top;\n",
       "    }\n",
       "\n",
       "    .dataframe thead th {\n",
       "        text-align: right;\n",
       "    }\n",
       "</style>\n",
       "<table border=\"1\" class=\"dataframe\">\n",
       "  <thead>\n",
       "    <tr style=\"text-align: right;\">\n",
       "      <th></th>\n",
       "      <th>Fracción Volumen</th>\n",
       "      <th>Radio (nm)</th>\n",
       "      <th>Espesor de la película (nm)</th>\n",
       "    </tr>\n",
       "  </thead>\n",
       "  <tbody>\n",
       "    <tr>\n",
       "      <th>0</th>\n",
       "      <td>-4.0</td>\n",
       "      <td>0.0</td>\n",
       "      <td>0.0</td>\n",
       "    </tr>\n",
       "    <tr>\n",
       "      <th>1</th>\n",
       "      <td>0.0</td>\n",
       "      <td>-16.0</td>\n",
       "      <td>0.0</td>\n",
       "    </tr>\n",
       "    <tr>\n",
       "      <th>2</th>\n",
       "      <td>0.0</td>\n",
       "      <td>-16.0</td>\n",
       "      <td>0.0</td>\n",
       "    </tr>\n",
       "    <tr>\n",
       "      <th>3</th>\n",
       "      <td>-10.0</td>\n",
       "      <td>0.0</td>\n",
       "      <td>0.0</td>\n",
       "    </tr>\n",
       "    <tr>\n",
       "      <th>4</th>\n",
       "      <td>0.0</td>\n",
       "      <td>0.0</td>\n",
       "      <td>55.0</td>\n",
       "    </tr>\n",
       "    <tr>\n",
       "      <th>...</th>\n",
       "      <td>...</td>\n",
       "      <td>...</td>\n",
       "      <td>...</td>\n",
       "    </tr>\n",
       "    <tr>\n",
       "      <th>7675</th>\n",
       "      <td>-6.0</td>\n",
       "      <td>0.0</td>\n",
       "      <td>0.0</td>\n",
       "    </tr>\n",
       "    <tr>\n",
       "      <th>7676</th>\n",
       "      <td>0.0</td>\n",
       "      <td>3.0</td>\n",
       "      <td>0.0</td>\n",
       "    </tr>\n",
       "    <tr>\n",
       "      <th>7677</th>\n",
       "      <td>1.0</td>\n",
       "      <td>0.0</td>\n",
       "      <td>0.0</td>\n",
       "    </tr>\n",
       "    <tr>\n",
       "      <th>7678</th>\n",
       "      <td>0.0</td>\n",
       "      <td>-19.0</td>\n",
       "      <td>0.0</td>\n",
       "    </tr>\n",
       "    <tr>\n",
       "      <th>7679</th>\n",
       "      <td>0.0</td>\n",
       "      <td>-6.0</td>\n",
       "      <td>0.0</td>\n",
       "    </tr>\n",
       "  </tbody>\n",
       "</table>\n",
       "<p>7156 rows × 3 columns</p>\n",
       "</div>"
      ],
      "text/plain": [
       "      Fracción Volumen  Radio (nm)  Espesor de la película (nm)\n",
       "0                 -4.0         0.0                          0.0\n",
       "1                  0.0       -16.0                          0.0\n",
       "2                  0.0       -16.0                          0.0\n",
       "3                -10.0         0.0                          0.0\n",
       "4                  0.0         0.0                         55.0\n",
       "...                ...         ...                          ...\n",
       "7675              -6.0         0.0                          0.0\n",
       "7676               0.0         3.0                          0.0\n",
       "7677               1.0         0.0                          0.0\n",
       "7678               0.0       -19.0                          0.0\n",
       "7679               0.0        -6.0                          0.0\n",
       "\n",
       "[7156 rows x 3 columns]"
      ]
     },
     "execution_count": 52,
     "metadata": {},
     "output_type": "execute_result"
    }
   ],
   "source": [
    "#Se imprimen las columnas que tengan solo 2 ceros\n",
    "nans2 = dif_arriba\n",
    "# Definimos una tolerancia\n",
    "tolerancia = 1e-9\n",
    "# Creamos una nueva columna que contenga el número de ceros por fila\n",
    "nans2['zeros'] = (np.isclose(nans2, 0.0, atol=tolerancia)).sum(axis=1)\n",
    "df_sin_ceros = nans2[nans2['zeros'] == 2]\n",
    "df_sin_ceros = df_sin_ceros.drop(columns=['zeros'])\n",
    "df_sin_ceros"
   ]
  },
  {
   "attachments": {},
   "cell_type": "markdown",
   "metadata": {},
   "source": [
    "Queremos que elimine los que tenga un NaN"
   ]
  },
  {
   "cell_type": "code",
   "execution_count": 53,
   "metadata": {},
   "outputs": [],
   "source": [
    "dif_abajo = test2 - redondeo_abajo"
   ]
  },
  {
   "cell_type": "code",
   "execution_count": 54,
   "metadata": {},
   "outputs": [
    {
     "data": {
      "text/html": [
       "<div>\n",
       "<style scoped>\n",
       "    .dataframe tbody tr th:only-of-type {\n",
       "        vertical-align: middle;\n",
       "    }\n",
       "\n",
       "    .dataframe tbody tr th {\n",
       "        vertical-align: top;\n",
       "    }\n",
       "\n",
       "    .dataframe thead th {\n",
       "        text-align: right;\n",
       "    }\n",
       "</style>\n",
       "<table border=\"1\" class=\"dataframe\">\n",
       "  <thead>\n",
       "    <tr style=\"text-align: right;\">\n",
       "      <th></th>\n",
       "      <th>Fracción Volumen</th>\n",
       "      <th>Radio (nm)</th>\n",
       "      <th>Espesor de la película (nm)</th>\n",
       "      <th>zeros</th>\n",
       "    </tr>\n",
       "  </thead>\n",
       "  <tbody>\n",
       "  </tbody>\n",
       "</table>\n",
       "</div>"
      ],
      "text/plain": [
       "Empty DataFrame\n",
       "Columns: [Fracción Volumen, Radio (nm), Espesor de la película (nm), zeros]\n",
       "Index: []"
      ]
     },
     "execution_count": 54,
     "metadata": {},
     "output_type": "execute_result"
    }
   ],
   "source": [
    "nan1 = dif_arriba[(dif_arriba != 0).all(1)]\n",
    "nan1"
   ]
  },
  {
   "cell_type": "code",
   "execution_count": 55,
   "metadata": {},
   "outputs": [],
   "source": [
    "def evaluar_red_neuronal(y_pred, y_true):\n",
    "    # Convertir los DataFrames a numpy arrays\n",
    "    y_pred = y_pred.values\n",
    "    y_true = y_true.values\n",
    "    \n",
    "    # Calcular el MSE y el R2\n",
    "    mse = mean_squared_error(y_true, y_pred)\n",
    "    r2 = r2_score(y_true, y_pred)\n",
    "    \n",
    "    # Imprimir los resultados\n",
    "    print(\"MSE: \", mse)\n",
    "    print(\"R2: \", r2)\n",
    "    \n",
    "    # Devolver el MSE y el R2 como una tupla\n",
    "    return (mse, r2)"
   ]
  },
  {
   "cell_type": "code",
   "execution_count": 56,
   "metadata": {},
   "outputs": [
    {
     "name": "stdout",
     "output_type": "stream",
     "text": [
      "MSE:  249.80208333333334\n",
      "R2:  -0.08938671118283525\n"
     ]
    }
   ],
   "source": [
    "mse, r2 = evaluar_red_neuronal(redondeo_abajo['Espesor de la película (nm)'], test2['Espesor de la película (nm)'])\n"
   ]
  },
  {
   "cell_type": "code",
   "execution_count": 57,
   "metadata": {},
   "outputs": [
    {
     "name": "stdout",
     "output_type": "stream",
     "text": [
      "MSE:  18.51875\n",
      "R2:  -0.19159433231655165\n"
     ]
    }
   ],
   "source": [
    "mse, r2 = evaluar_red_neuronal(redondeo_abajo['Fracción Volumen'], test2['Fracción Volumen'])\n"
   ]
  },
  {
   "cell_type": "code",
   "execution_count": 58,
   "metadata": {},
   "outputs": [
    {
     "name": "stdout",
     "output_type": "stream",
     "text": [
      "MSE:  106.77421875\n",
      "R2:  -0.5408232160122908\n"
     ]
    }
   ],
   "source": [
    "mse, r2 = evaluar_red_neuronal(redondeo_abajo['Radio (nm)'], test2['Radio (nm)'])\n"
   ]
  },
  {
   "attachments": {},
   "cell_type": "markdown",
   "metadata": {},
   "source": [
    "# Ahora invertimos la red, de input será Fracción vol, espesor y radio. Output longitud de onda e Índice de absorción"
   ]
  },
  {
   "cell_type": "code",
   "execution_count": 109,
   "metadata": {},
   "outputs": [],
   "source": [
    "# Cargar DataFrame\n",
    "df = train_df\n",
    "# Separar datos de entrada y salida\n",
    "Y = df[['Índice de absorción', 'Longitud de onda']]\n",
    "X = df[['Fracvol', 'Radio (nm)', 'Espesor de la película (nm)']]"
   ]
  },
  {
   "cell_type": "code",
   "execution_count": 110,
   "metadata": {},
   "outputs": [],
   "source": [
    "# Convertimos los dataframes en numpy arrays\n",
    "X = np.array(X)\n",
    "y = np.array(Y)"
   ]
  },
  {
   "cell_type": "code",
   "execution_count": 111,
   "metadata": {},
   "outputs": [],
   "source": [
    "# Creamos el modelo de la red neuronal\n",
    "model = Sequential()\n",
    "model.add(Dense(64, input_dim=3, activation='relu'))\n",
    "model.add(Dense(2, activation='linear'))"
   ]
  },
  {
   "cell_type": "code",
   "execution_count": 112,
   "metadata": {},
   "outputs": [],
   "source": [
    "model.compile(loss='mean_absolute_error', optimizer='adam')"
   ]
  },
  {
   "cell_type": "code",
   "execution_count": 113,
   "metadata": {},
   "outputs": [
    {
     "name": "stdout",
     "output_type": "stream",
     "text": [
      "Epoch 1/10\n",
      "960/960 [==============================] - 1s 864us/step - loss: 118.2328\n",
      "Epoch 2/10\n",
      "960/960 [==============================] - 1s 804us/step - loss: 80.6222\n",
      "Epoch 3/10\n",
      "960/960 [==============================] - 1s 744us/step - loss: 80.3896\n",
      "Epoch 4/10\n",
      "960/960 [==============================] - 1s 740us/step - loss: 80.2305\n",
      "Epoch 5/10\n",
      "960/960 [==============================] - 1s 735us/step - loss: 80.1138\n",
      "Epoch 6/10\n",
      "960/960 [==============================] - 1s 737us/step - loss: 80.0525\n",
      "Epoch 7/10\n",
      "960/960 [==============================] - 1s 818us/step - loss: 79.9665\n",
      "Epoch 8/10\n",
      "960/960 [==============================] - 1s 770us/step - loss: 79.9063\n",
      "Epoch 9/10\n",
      "960/960 [==============================] - 1s 835us/step - loss: 79.8122\n",
      "Epoch 10/10\n",
      "960/960 [==============================] - 1s 779us/step - loss: 79.7307\n"
     ]
    },
    {
     "data": {
      "text/plain": [
       "<keras.callbacks.History at 0x281b8d696f0>"
      ]
     },
     "execution_count": 113,
     "metadata": {},
     "output_type": "execute_result"
    }
   ],
   "source": [
    "model.fit(X, y, epochs=10, batch_size=32)"
   ]
  },
  {
   "cell_type": "code",
   "execution_count": 114,
   "metadata": {},
   "outputs": [],
   "source": [
    "arr = test_df[['Fracvol', 'Radio (nm)', 'Espesor de la película (nm)']]"
   ]
  },
  {
   "cell_type": "code",
   "execution_count": 115,
   "metadata": {},
   "outputs": [
    {
     "name": "stdout",
     "output_type": "stream",
     "text": [
      "240/240 [==============================] - 0s 740us/step\n",
      "[[-1.3513175e-01  6.3289026e+02]\n",
      " [-9.7930826e-02  6.4376154e+02]\n",
      " [-9.7930826e-02  6.4376154e+02]\n",
      " ...\n",
      " [-1.3782874e-01  6.3432886e+02]\n",
      " [-8.9538492e-02  6.4093329e+02]\n",
      " [-1.2675467e-01  6.5221808e+02]]\n"
     ]
    }
   ],
   "source": [
    "y_pred = model.predict(arr)\n",
    "print(y_pred)"
   ]
  },
  {
   "cell_type": "code",
   "execution_count": 116,
   "metadata": {},
   "outputs": [
    {
     "data": {
      "text/html": [
       "<div>\n",
       "<style scoped>\n",
       "    .dataframe tbody tr th:only-of-type {\n",
       "        vertical-align: middle;\n",
       "    }\n",
       "\n",
       "    .dataframe tbody tr th {\n",
       "        vertical-align: top;\n",
       "    }\n",
       "\n",
       "    .dataframe thead th {\n",
       "        text-align: right;\n",
       "    }\n",
       "</style>\n",
       "<table border=\"1\" class=\"dataframe\">\n",
       "  <thead>\n",
       "    <tr style=\"text-align: right;\">\n",
       "      <th></th>\n",
       "      <th>0</th>\n",
       "      <th>1</th>\n",
       "    </tr>\n",
       "  </thead>\n",
       "  <tbody>\n",
       "    <tr>\n",
       "      <th>0</th>\n",
       "      <td>-0.135132</td>\n",
       "      <td>632.890259</td>\n",
       "    </tr>\n",
       "    <tr>\n",
       "      <th>1</th>\n",
       "      <td>-0.097931</td>\n",
       "      <td>643.761536</td>\n",
       "    </tr>\n",
       "    <tr>\n",
       "      <th>2</th>\n",
       "      <td>-0.097931</td>\n",
       "      <td>643.761536</td>\n",
       "    </tr>\n",
       "    <tr>\n",
       "      <th>3</th>\n",
       "      <td>-0.118999</td>\n",
       "      <td>624.258362</td>\n",
       "    </tr>\n",
       "    <tr>\n",
       "      <th>4</th>\n",
       "      <td>-0.017927</td>\n",
       "      <td>362.937195</td>\n",
       "    </tr>\n",
       "    <tr>\n",
       "      <th>...</th>\n",
       "      <td>...</td>\n",
       "      <td>...</td>\n",
       "    </tr>\n",
       "    <tr>\n",
       "      <th>7675</th>\n",
       "      <td>-0.129764</td>\n",
       "      <td>630.012939</td>\n",
       "    </tr>\n",
       "    <tr>\n",
       "      <th>7676</th>\n",
       "      <td>-0.181057</td>\n",
       "      <td>631.204590</td>\n",
       "    </tr>\n",
       "    <tr>\n",
       "      <th>7677</th>\n",
       "      <td>-0.137829</td>\n",
       "      <td>634.328857</td>\n",
       "    </tr>\n",
       "    <tr>\n",
       "      <th>7678</th>\n",
       "      <td>-0.089538</td>\n",
       "      <td>640.933289</td>\n",
       "    </tr>\n",
       "    <tr>\n",
       "      <th>7679</th>\n",
       "      <td>-0.126755</td>\n",
       "      <td>652.218079</td>\n",
       "    </tr>\n",
       "  </tbody>\n",
       "</table>\n",
       "<p>7680 rows × 2 columns</p>\n",
       "</div>"
      ],
      "text/plain": [
       "             0           1\n",
       "0    -0.135132  632.890259\n",
       "1    -0.097931  643.761536\n",
       "2    -0.097931  643.761536\n",
       "3    -0.118999  624.258362\n",
       "4    -0.017927  362.937195\n",
       "...        ...         ...\n",
       "7675 -0.129764  630.012939\n",
       "7676 -0.181057  631.204590\n",
       "7677 -0.137829  634.328857\n",
       "7678 -0.089538  640.933289\n",
       "7679 -0.126755  652.218079\n",
       "\n",
       "[7680 rows x 2 columns]"
      ]
     },
     "execution_count": 116,
     "metadata": {},
     "output_type": "execute_result"
    }
   ],
   "source": [
    "predicciones = pd.DataFrame(y_pred)\n",
    "predicciones"
   ]
  },
  {
   "attachments": {},
   "cell_type": "markdown",
   "metadata": {},
   "source": [
    "# Renombrando las columnas"
   ]
  },
  {
   "cell_type": "code",
   "execution_count": 117,
   "metadata": {},
   "outputs": [
    {
     "data": {
      "text/html": [
       "<div>\n",
       "<style scoped>\n",
       "    .dataframe tbody tr th:only-of-type {\n",
       "        vertical-align: middle;\n",
       "    }\n",
       "\n",
       "    .dataframe tbody tr th {\n",
       "        vertical-align: top;\n",
       "    }\n",
       "\n",
       "    .dataframe thead th {\n",
       "        text-align: right;\n",
       "    }\n",
       "</style>\n",
       "<table border=\"1\" class=\"dataframe\">\n",
       "  <thead>\n",
       "    <tr style=\"text-align: right;\">\n",
       "      <th></th>\n",
       "      <th>Índice de absorción</th>\n",
       "      <th>Longitud de onda</th>\n",
       "    </tr>\n",
       "  </thead>\n",
       "  <tbody>\n",
       "    <tr>\n",
       "      <th>0</th>\n",
       "      <td>-0.135132</td>\n",
       "      <td>632.890259</td>\n",
       "    </tr>\n",
       "    <tr>\n",
       "      <th>1</th>\n",
       "      <td>-0.097931</td>\n",
       "      <td>643.761536</td>\n",
       "    </tr>\n",
       "    <tr>\n",
       "      <th>2</th>\n",
       "      <td>-0.097931</td>\n",
       "      <td>643.761536</td>\n",
       "    </tr>\n",
       "    <tr>\n",
       "      <th>3</th>\n",
       "      <td>-0.118999</td>\n",
       "      <td>624.258362</td>\n",
       "    </tr>\n",
       "    <tr>\n",
       "      <th>4</th>\n",
       "      <td>-0.017927</td>\n",
       "      <td>362.937195</td>\n",
       "    </tr>\n",
       "    <tr>\n",
       "      <th>...</th>\n",
       "      <td>...</td>\n",
       "      <td>...</td>\n",
       "    </tr>\n",
       "    <tr>\n",
       "      <th>7675</th>\n",
       "      <td>-0.129764</td>\n",
       "      <td>630.012939</td>\n",
       "    </tr>\n",
       "    <tr>\n",
       "      <th>7676</th>\n",
       "      <td>-0.181057</td>\n",
       "      <td>631.204590</td>\n",
       "    </tr>\n",
       "    <tr>\n",
       "      <th>7677</th>\n",
       "      <td>-0.137829</td>\n",
       "      <td>634.328857</td>\n",
       "    </tr>\n",
       "    <tr>\n",
       "      <th>7678</th>\n",
       "      <td>-0.089538</td>\n",
       "      <td>640.933289</td>\n",
       "    </tr>\n",
       "    <tr>\n",
       "      <th>7679</th>\n",
       "      <td>-0.126755</td>\n",
       "      <td>652.218079</td>\n",
       "    </tr>\n",
       "  </tbody>\n",
       "</table>\n",
       "<p>7680 rows × 2 columns</p>\n",
       "</div>"
      ],
      "text/plain": [
       "      Índice de absorción  Longitud de onda\n",
       "0               -0.135132        632.890259\n",
       "1               -0.097931        643.761536\n",
       "2               -0.097931        643.761536\n",
       "3               -0.118999        624.258362\n",
       "4               -0.017927        362.937195\n",
       "...                   ...               ...\n",
       "7675            -0.129764        630.012939\n",
       "7676            -0.181057        631.204590\n",
       "7677            -0.137829        634.328857\n",
       "7678            -0.089538        640.933289\n",
       "7679            -0.126755        652.218079\n",
       "\n",
       "[7680 rows x 2 columns]"
      ]
     },
     "execution_count": 117,
     "metadata": {},
     "output_type": "execute_result"
    }
   ],
   "source": [
    "predicciones.columns = ['Índice de absorción', 'Longitud de onda']\n",
    "predicciones"
   ]
  },
  {
   "attachments": {},
   "cell_type": "markdown",
   "metadata": {},
   "source": [
    "# Redondeos"
   ]
  },
  {
   "cell_type": "code",
   "execution_count": 118,
   "metadata": {},
   "outputs": [
    {
     "data": {
      "text/html": [
       "<div>\n",
       "<style scoped>\n",
       "    .dataframe tbody tr th:only-of-type {\n",
       "        vertical-align: middle;\n",
       "    }\n",
       "\n",
       "    .dataframe tbody tr th {\n",
       "        vertical-align: top;\n",
       "    }\n",
       "\n",
       "    .dataframe thead th {\n",
       "        text-align: right;\n",
       "    }\n",
       "</style>\n",
       "<table border=\"1\" class=\"dataframe\">\n",
       "  <thead>\n",
       "    <tr style=\"text-align: right;\">\n",
       "      <th></th>\n",
       "      <th>Índice de absorción</th>\n",
       "      <th>Longitud de onda</th>\n",
       "    </tr>\n",
       "  </thead>\n",
       "  <tbody>\n",
       "    <tr>\n",
       "      <th>0</th>\n",
       "      <td>-0.135132</td>\n",
       "      <td>633.0</td>\n",
       "    </tr>\n",
       "    <tr>\n",
       "      <th>1</th>\n",
       "      <td>-0.097931</td>\n",
       "      <td>644.0</td>\n",
       "    </tr>\n",
       "    <tr>\n",
       "      <th>2</th>\n",
       "      <td>-0.097931</td>\n",
       "      <td>644.0</td>\n",
       "    </tr>\n",
       "    <tr>\n",
       "      <th>3</th>\n",
       "      <td>-0.118999</td>\n",
       "      <td>624.0</td>\n",
       "    </tr>\n",
       "    <tr>\n",
       "      <th>4</th>\n",
       "      <td>-0.017927</td>\n",
       "      <td>363.0</td>\n",
       "    </tr>\n",
       "    <tr>\n",
       "      <th>...</th>\n",
       "      <td>...</td>\n",
       "      <td>...</td>\n",
       "    </tr>\n",
       "    <tr>\n",
       "      <th>7675</th>\n",
       "      <td>-0.129764</td>\n",
       "      <td>630.0</td>\n",
       "    </tr>\n",
       "    <tr>\n",
       "      <th>7676</th>\n",
       "      <td>-0.181057</td>\n",
       "      <td>631.0</td>\n",
       "    </tr>\n",
       "    <tr>\n",
       "      <th>7677</th>\n",
       "      <td>-0.137829</td>\n",
       "      <td>634.0</td>\n",
       "    </tr>\n",
       "    <tr>\n",
       "      <th>7678</th>\n",
       "      <td>-0.089538</td>\n",
       "      <td>641.0</td>\n",
       "    </tr>\n",
       "    <tr>\n",
       "      <th>7679</th>\n",
       "      <td>-0.126755</td>\n",
       "      <td>652.0</td>\n",
       "    </tr>\n",
       "  </tbody>\n",
       "</table>\n",
       "<p>7680 rows × 2 columns</p>\n",
       "</div>"
      ],
      "text/plain": [
       "      Índice de absorción  Longitud de onda\n",
       "0               -0.135132             633.0\n",
       "1               -0.097931             644.0\n",
       "2               -0.097931             644.0\n",
       "3               -0.118999             624.0\n",
       "4               -0.017927             363.0\n",
       "...                   ...               ...\n",
       "7675            -0.129764             630.0\n",
       "7676            -0.181057             631.0\n",
       "7677            -0.137829             634.0\n",
       "7678            -0.089538             641.0\n",
       "7679            -0.126755             652.0\n",
       "\n",
       "[7680 rows x 2 columns]"
      ]
     },
     "execution_count": 118,
     "metadata": {},
     "output_type": "execute_result"
    }
   ],
   "source": [
    "redondeo_arriba = predicciones.copy()\n",
    "redondeo_arriba['Longitud de onda'] = redondeo_arriba['Longitud de onda'].round()\n",
    "redondeo_arriba"
   ]
  },
  {
   "cell_type": "code",
   "execution_count": 119,
   "metadata": {},
   "outputs": [
    {
     "data": {
      "text/html": [
       "<div>\n",
       "<style scoped>\n",
       "    .dataframe tbody tr th:only-of-type {\n",
       "        vertical-align: middle;\n",
       "    }\n",
       "\n",
       "    .dataframe tbody tr th {\n",
       "        vertical-align: top;\n",
       "    }\n",
       "\n",
       "    .dataframe thead th {\n",
       "        text-align: right;\n",
       "    }\n",
       "</style>\n",
       "<table border=\"1\" class=\"dataframe\">\n",
       "  <thead>\n",
       "    <tr style=\"text-align: right;\">\n",
       "      <th></th>\n",
       "      <th>Índice de absorción</th>\n",
       "      <th>Longitud de onda</th>\n",
       "    </tr>\n",
       "  </thead>\n",
       "  <tbody>\n",
       "    <tr>\n",
       "      <th>0</th>\n",
       "      <td>-0.135132</td>\n",
       "      <td>633.0</td>\n",
       "    </tr>\n",
       "    <tr>\n",
       "      <th>1</th>\n",
       "      <td>-0.097931</td>\n",
       "      <td>644.0</td>\n",
       "    </tr>\n",
       "    <tr>\n",
       "      <th>2</th>\n",
       "      <td>-0.097931</td>\n",
       "      <td>644.0</td>\n",
       "    </tr>\n",
       "    <tr>\n",
       "      <th>3</th>\n",
       "      <td>-0.118999</td>\n",
       "      <td>625.0</td>\n",
       "    </tr>\n",
       "    <tr>\n",
       "      <th>4</th>\n",
       "      <td>-0.017927</td>\n",
       "      <td>363.0</td>\n",
       "    </tr>\n",
       "    <tr>\n",
       "      <th>...</th>\n",
       "      <td>...</td>\n",
       "      <td>...</td>\n",
       "    </tr>\n",
       "    <tr>\n",
       "      <th>7675</th>\n",
       "      <td>-0.129764</td>\n",
       "      <td>631.0</td>\n",
       "    </tr>\n",
       "    <tr>\n",
       "      <th>7676</th>\n",
       "      <td>-0.181057</td>\n",
       "      <td>632.0</td>\n",
       "    </tr>\n",
       "    <tr>\n",
       "      <th>7677</th>\n",
       "      <td>-0.137829</td>\n",
       "      <td>635.0</td>\n",
       "    </tr>\n",
       "    <tr>\n",
       "      <th>7678</th>\n",
       "      <td>-0.089538</td>\n",
       "      <td>641.0</td>\n",
       "    </tr>\n",
       "    <tr>\n",
       "      <th>7679</th>\n",
       "      <td>-0.126755</td>\n",
       "      <td>653.0</td>\n",
       "    </tr>\n",
       "  </tbody>\n",
       "</table>\n",
       "<p>7680 rows × 2 columns</p>\n",
       "</div>"
      ],
      "text/plain": [
       "      Índice de absorción  Longitud de onda\n",
       "0               -0.135132             633.0\n",
       "1               -0.097931             644.0\n",
       "2               -0.097931             644.0\n",
       "3               -0.118999             625.0\n",
       "4               -0.017927             363.0\n",
       "...                   ...               ...\n",
       "7675            -0.129764             631.0\n",
       "7676            -0.181057             632.0\n",
       "7677            -0.137829             635.0\n",
       "7678            -0.089538             641.0\n",
       "7679            -0.126755             653.0\n",
       "\n",
       "[7680 rows x 2 columns]"
      ]
     },
     "execution_count": 119,
     "metadata": {},
     "output_type": "execute_result"
    }
   ],
   "source": [
    "redondeo_ceil = predicciones.copy()\n",
    "redondeo_ceil['Longitud de onda'] = np.ceil(redondeo_ceil['Longitud de onda'])\n",
    "redondeo_ceil"
   ]
  },
  {
   "cell_type": "code",
   "execution_count": 120,
   "metadata": {},
   "outputs": [
    {
     "data": {
      "text/html": [
       "<div>\n",
       "<style scoped>\n",
       "    .dataframe tbody tr th:only-of-type {\n",
       "        vertical-align: middle;\n",
       "    }\n",
       "\n",
       "    .dataframe tbody tr th {\n",
       "        vertical-align: top;\n",
       "    }\n",
       "\n",
       "    .dataframe thead th {\n",
       "        text-align: right;\n",
       "    }\n",
       "</style>\n",
       "<table border=\"1\" class=\"dataframe\">\n",
       "  <thead>\n",
       "    <tr style=\"text-align: right;\">\n",
       "      <th></th>\n",
       "      <th>Índice de absorción</th>\n",
       "      <th>Longitud de onda</th>\n",
       "    </tr>\n",
       "  </thead>\n",
       "  <tbody>\n",
       "    <tr>\n",
       "      <th>0</th>\n",
       "      <td>-0.135132</td>\n",
       "      <td>632.0</td>\n",
       "    </tr>\n",
       "    <tr>\n",
       "      <th>1</th>\n",
       "      <td>-0.097931</td>\n",
       "      <td>643.0</td>\n",
       "    </tr>\n",
       "    <tr>\n",
       "      <th>2</th>\n",
       "      <td>-0.097931</td>\n",
       "      <td>643.0</td>\n",
       "    </tr>\n",
       "    <tr>\n",
       "      <th>3</th>\n",
       "      <td>-0.118999</td>\n",
       "      <td>624.0</td>\n",
       "    </tr>\n",
       "    <tr>\n",
       "      <th>4</th>\n",
       "      <td>-0.017927</td>\n",
       "      <td>362.0</td>\n",
       "    </tr>\n",
       "    <tr>\n",
       "      <th>...</th>\n",
       "      <td>...</td>\n",
       "      <td>...</td>\n",
       "    </tr>\n",
       "    <tr>\n",
       "      <th>7675</th>\n",
       "      <td>-0.129764</td>\n",
       "      <td>630.0</td>\n",
       "    </tr>\n",
       "    <tr>\n",
       "      <th>7676</th>\n",
       "      <td>-0.181057</td>\n",
       "      <td>631.0</td>\n",
       "    </tr>\n",
       "    <tr>\n",
       "      <th>7677</th>\n",
       "      <td>-0.137829</td>\n",
       "      <td>634.0</td>\n",
       "    </tr>\n",
       "    <tr>\n",
       "      <th>7678</th>\n",
       "      <td>-0.089538</td>\n",
       "      <td>640.0</td>\n",
       "    </tr>\n",
       "    <tr>\n",
       "      <th>7679</th>\n",
       "      <td>-0.126755</td>\n",
       "      <td>652.0</td>\n",
       "    </tr>\n",
       "  </tbody>\n",
       "</table>\n",
       "<p>7680 rows × 2 columns</p>\n",
       "</div>"
      ],
      "text/plain": [
       "      Índice de absorción  Longitud de onda\n",
       "0               -0.135132             632.0\n",
       "1               -0.097931             643.0\n",
       "2               -0.097931             643.0\n",
       "3               -0.118999             624.0\n",
       "4               -0.017927             362.0\n",
       "...                   ...               ...\n",
       "7675            -0.129764             630.0\n",
       "7676            -0.181057             631.0\n",
       "7677            -0.137829             634.0\n",
       "7678            -0.089538             640.0\n",
       "7679            -0.126755             652.0\n",
       "\n",
       "[7680 rows x 2 columns]"
      ]
     },
     "execution_count": 120,
     "metadata": {},
     "output_type": "execute_result"
    }
   ],
   "source": [
    "redondeo_abajo = predicciones.copy()\n",
    "redondeo_abajo['Longitud de onda'] = np.floor(redondeo_abajo['Longitud de onda'])\n",
    "redondeo_abajo"
   ]
  },
  {
   "attachments": {},
   "cell_type": "markdown",
   "metadata": {},
   "source": [
    "# Probando la accurancy del modelo"
   ]
  },
  {
   "attachments": {},
   "cell_type": "markdown",
   "metadata": {},
   "source": [
    "Primero lo haremos por cada parámetro. Se le restará los valores predichos por la red a los valores originales de test. Se contarán el número de ceros y ese será lo acertada que es nuestra red. De tener valores inferiores a 80% en número de ceros este rango se incrementará hasta llegar a un valor que el 80% de los valores sean menores a este"
   ]
  },
  {
   "attachments": {},
   "cell_type": "markdown",
   "metadata": {},
   "source": [
    "# Longitud de onda"
   ]
  },
  {
   "attachments": {},
   "cell_type": "markdown",
   "metadata": {},
   "source": [
    "Redondeo abajo"
   ]
  },
  {
   "cell_type": "code",
   "execution_count": 121,
   "metadata": {},
   "outputs": [
    {
     "name": "stdout",
     "output_type": "stream",
     "text": [
      "presición del  0.2604166666666667 %. Con el redondeo para abajo en longitud de onda\n"
     ]
    }
   ],
   "source": [
    "redondeo_abajo_long = redondeo_abajo['Longitud de onda'].to_numpy()\n",
    "test_df_long = test_df['Longitud de onda'].to_numpy()\n",
    "dif = redondeo_abajo_long - test_df_long \n",
    "#count_nonzero() cuenta el número de elementos distintos de cero en el arreglo, mientras que la función size() devuelve el tamaño total del arreglo. \n",
    "total = dif.size\n",
    "num_zeros = dif.size - np.count_nonzero(dif)\n",
    "porcentaje = num_zeros*100/total\n",
    "print(\"presición del \", porcentaje, \"%. Con el redondeo para abajo en longitud de onda\")"
   ]
  },
  {
   "attachments": {},
   "cell_type": "markdown",
   "metadata": {},
   "source": [
    "Redondeo ceil"
   ]
  },
  {
   "cell_type": "code",
   "execution_count": 122,
   "metadata": {},
   "outputs": [
    {
     "name": "stdout",
     "output_type": "stream",
     "text": [
      "presición del  0.14322916666666666 %. Con el redondeo ceil en longitud de onda\n"
     ]
    }
   ],
   "source": [
    "redondeo_ceil_long = redondeo_ceil['Longitud de onda'].to_numpy()\n",
    "test_df_long = test_df['Longitud de onda'].to_numpy()\n",
    "dif = redondeo_ceil_long - test_df_long\n",
    "#count_nonzero() cuenta el número de elementos distintos de cero en el arreglo, mientras que la función size() devuelve el tamaño total del arreglo. \n",
    "total = dif.size\n",
    "num_zeros = dif.size - np.count_nonzero(dif)\n",
    "porcentaje = num_zeros*100/total\n",
    "print(\"presición del \", porcentaje, \"%. Con el redondeo ceil en longitud de onda\")"
   ]
  },
  {
   "attachments": {},
   "cell_type": "markdown",
   "metadata": {},
   "source": [
    "Redondeo hacia arriba"
   ]
  },
  {
   "cell_type": "code",
   "execution_count": 123,
   "metadata": {},
   "outputs": [
    {
     "name": "stdout",
     "output_type": "stream",
     "text": [
      "presición del  0.22135416666666666 %. Con el redondeo arriba en longitud de onda\n"
     ]
    }
   ],
   "source": [
    "redondeo_arriba_long = redondeo_arriba['Longitud de onda'].to_numpy()\n",
    "test_df_long = test_df['Longitud de onda'].to_numpy()\n",
    "dif = redondeo_arriba_long - test_df_long\n",
    "#count_nonzero() cuenta el número de elementos distintos de cero en el arreglo, mientras que la función size() devuelve el tamaño total del arreglo. \n",
    "total = dif.size\n",
    "num_zeros = dif.size - np.count_nonzero(dif)\n",
    "porcentaje = num_zeros*100/total\n",
    "print(\"presición del \", porcentaje, \"%. Con el redondeo arriba en longitud de onda\")"
   ]
  },
  {
   "attachments": {},
   "cell_type": "markdown",
   "metadata": {},
   "source": [
    "# Índice de absorción"
   ]
  },
  {
   "cell_type": "code",
   "execution_count": 74,
   "metadata": {},
   "outputs": [
    {
     "name": "stdout",
     "output_type": "stream",
     "text": [
      "presición del  0.0 %. Con el redondeo para abajo en Índice de absorción\n"
     ]
    }
   ],
   "source": [
    "redondeo_abajo_IA = redondeo_abajo['Índice de absorción'].to_numpy()\n",
    "test_df_IA = test_df['Índice de absorción'].to_numpy()\n",
    "dif = redondeo_abajo_IA - test_df_IA \n",
    "#count_nonzero() cuenta el número de elementos distintos de cero en el arreglo, mientras que la función size() devuelve el tamaño total del arreglo. \n",
    "total = dif.size\n",
    "num_zeros = dif.size - np.count_nonzero(dif)\n",
    "porcentaje = num_zeros*100/total\n",
    "print(\"presición del \", porcentaje, \"%. Con el redondeo para abajo en Índice de absorción\")"
   ]
  },
  {
   "cell_type": "code",
   "execution_count": 75,
   "metadata": {},
   "outputs": [
    {
     "ename": "NameError",
     "evalue": "name 'Input' is not defined",
     "output_type": "error",
     "traceback": [
      "\u001b[1;31m---------------------------------------------------------------------------\u001b[0m",
      "\u001b[1;31mNameError\u001b[0m                                 Traceback (most recent call last)",
      "Cell \u001b[1;32mIn[75], line 2\u001b[0m\n\u001b[0;32m      1\u001b[0m \u001b[39m# Define la entrada\u001b[39;00m\n\u001b[1;32m----> 2\u001b[0m input_layer \u001b[39m=\u001b[39m Input(shape\u001b[39m=\u001b[39m(\u001b[39m2\u001b[39m,))\n\u001b[0;32m      4\u001b[0m \u001b[39m# Capas ocultas compartidas\u001b[39;00m\n\u001b[0;32m      5\u001b[0m hidden1 \u001b[39m=\u001b[39m Dense(\u001b[39m64\u001b[39m, activation\u001b[39m=\u001b[39m\u001b[39m'\u001b[39m\u001b[39mrelu\u001b[39m\u001b[39m'\u001b[39m)(input_layer)\n",
      "\u001b[1;31mNameError\u001b[0m: name 'Input' is not defined"
     ]
    }
   ],
   "source": [
    "# Define la entrada\n",
    "input_layer = Input(shape=(2,))\n",
    "\n",
    "# Capas ocultas compartidas\n",
    "hidden1 = Dense(64, activation='relu')(input_layer)\n",
    "hidden2 = Dense(32, activation='relu')(hidden1)\n",
    "\n",
    "# Ramas para cada salida\n",
    "branch1 = Dense(16, activation='relu')(hidden2)\n",
    "output1 = Dense(1, activation='linear', name='fraccion_volumen')(branch1)\n",
    "\n",
    "branch2 = Dense(16, activation='relu')(hidden2)\n",
    "output2 = Dense(1, activation='linear', name='radio')(branch2)\n",
    "\n",
    "branch3 = Dense(16, activation='relu')(hidden2)\n",
    "output3 = Dense(1, activation='linear', name='espesor')(branch3)\n",
    "\n",
    "# Define el modelo\n",
    "model = Model(inputs=input_layer, outputs=[output1, output2, output3])\n",
    "\n",
    "# Compila el modelo\n",
    "model.compile(loss='mean_squared_error', optimizer='adam')"
   ]
  }
 ],
 "metadata": {
  "kernelspec": {
   "display_name": "base",
   "language": "python",
   "name": "python3"
  },
  "language_info": {
   "codemirror_mode": {
    "name": "ipython",
    "version": 3
   },
   "file_extension": ".py",
   "mimetype": "text/x-python",
   "name": "python",
   "nbconvert_exporter": "python",
   "pygments_lexer": "ipython3",
   "version": "3.10.10"
  },
  "orig_nbformat": 4
 },
 "nbformat": 4,
 "nbformat_minor": 2
}
