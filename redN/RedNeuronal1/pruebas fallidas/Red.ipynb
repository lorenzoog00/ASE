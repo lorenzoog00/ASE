{
 "cells": [
  {
   "cell_type": "code",
   "execution_count": 18,
   "metadata": {},
   "outputs": [],
   "source": [
    "import pandas as pd\n",
    "import os\n",
    "import glob\n",
    "import matplotlib.pyplot as plt\n",
    "import numpy as np\n",
    "import tensorflow as tf\n",
    "import math"
   ]
  },
  {
   "attachments": {},
   "cell_type": "markdown",
   "metadata": {},
   "source": [
    " Se hará una red neuronal que reciba como input el coeficiente de absorción y como output tengamos radio, fracción volumen y espesor de la película"
   ]
  },
  {
   "attachments": {},
   "cell_type": "markdown",
   "metadata": {},
   "source": [
    "# Juntando todos los archivos en uno solo"
   ]
  },
  {
   "cell_type": "code",
   "execution_count": 19,
   "metadata": {},
   "outputs": [],
   "source": [
    "files = [file for file in os.listdir('./parametros')]\n",
    "\n",
    "param = pd.DataFrame()\n",
    "for file in files:\n",
    "  df = pd.read_csv('./parametros/'+file)\n",
    "  param = pd.concat([param, df], axis= 0)"
   ]
  },
  {
   "cell_type": "code",
   "execution_count": 20,
   "metadata": {},
   "outputs": [
    {
     "data": {
      "text/html": [
       "<div>\n",
       "<style scoped>\n",
       "    .dataframe tbody tr th:only-of-type {\n",
       "        vertical-align: middle;\n",
       "    }\n",
       "\n",
       "    .dataframe tbody tr th {\n",
       "        vertical-align: top;\n",
       "    }\n",
       "\n",
       "    .dataframe thead th {\n",
       "        text-align: right;\n",
       "    }\n",
       "</style>\n",
       "<table border=\"1\" class=\"dataframe\">\n",
       "  <thead>\n",
       "    <tr style=\"text-align: right;\">\n",
       "      <th></th>\n",
       "      <th>Longitud de onda</th>\n",
       "      <th>Índice de absorción</th>\n",
       "      <th>Fracvol</th>\n",
       "      <th>Radio (nm)</th>\n",
       "      <th>Espesor de la película (nm)</th>\n",
       "    </tr>\n",
       "  </thead>\n",
       "  <tbody>\n",
       "    <tr>\n",
       "      <th>0</th>\n",
       "      <td>301</td>\n",
       "      <td>0.016685</td>\n",
       "      <td>1</td>\n",
       "      <td>10</td>\n",
       "      <td>100</td>\n",
       "    </tr>\n",
       "    <tr>\n",
       "      <th>1</th>\n",
       "      <td>302</td>\n",
       "      <td>0.016167</td>\n",
       "      <td>1</td>\n",
       "      <td>10</td>\n",
       "      <td>100</td>\n",
       "    </tr>\n",
       "    <tr>\n",
       "      <th>2</th>\n",
       "      <td>303</td>\n",
       "      <td>0.015703</td>\n",
       "      <td>1</td>\n",
       "      <td>10</td>\n",
       "      <td>100</td>\n",
       "    </tr>\n",
       "    <tr>\n",
       "      <th>3</th>\n",
       "      <td>304</td>\n",
       "      <td>0.015290</td>\n",
       "      <td>1</td>\n",
       "      <td>10</td>\n",
       "      <td>100</td>\n",
       "    </tr>\n",
       "    <tr>\n",
       "      <th>4</th>\n",
       "      <td>305</td>\n",
       "      <td>0.014916</td>\n",
       "      <td>1</td>\n",
       "      <td>10</td>\n",
       "      <td>100</td>\n",
       "    </tr>\n",
       "    <tr>\n",
       "      <th>...</th>\n",
       "      <td>...</td>\n",
       "      <td>...</td>\n",
       "      <td>...</td>\n",
       "      <td>...</td>\n",
       "      <td>...</td>\n",
       "    </tr>\n",
       "    <tr>\n",
       "      <th>19195</th>\n",
       "      <td>896</td>\n",
       "      <td>0.002255</td>\n",
       "      <td>1</td>\n",
       "      <td>9</td>\n",
       "      <td>120</td>\n",
       "    </tr>\n",
       "    <tr>\n",
       "      <th>19196</th>\n",
       "      <td>897</td>\n",
       "      <td>0.002257</td>\n",
       "      <td>1</td>\n",
       "      <td>9</td>\n",
       "      <td>120</td>\n",
       "    </tr>\n",
       "    <tr>\n",
       "      <th>19197</th>\n",
       "      <td>898</td>\n",
       "      <td>0.002258</td>\n",
       "      <td>1</td>\n",
       "      <td>9</td>\n",
       "      <td>120</td>\n",
       "    </tr>\n",
       "    <tr>\n",
       "      <th>19198</th>\n",
       "      <td>899</td>\n",
       "      <td>0.002260</td>\n",
       "      <td>1</td>\n",
       "      <td>9</td>\n",
       "      <td>120</td>\n",
       "    </tr>\n",
       "    <tr>\n",
       "      <th>19199</th>\n",
       "      <td>900</td>\n",
       "      <td>0.002262</td>\n",
       "      <td>1</td>\n",
       "      <td>9</td>\n",
       "      <td>120</td>\n",
       "    </tr>\n",
       "  </tbody>\n",
       "</table>\n",
       "<p>38400 rows × 5 columns</p>\n",
       "</div>"
      ],
      "text/plain": [
       "       Longitud de onda  Índice de absorción  Fracvol  Radio (nm)  \\\n",
       "0                   301             0.016685        1          10   \n",
       "1                   302             0.016167        1          10   \n",
       "2                   303             0.015703        1          10   \n",
       "3                   304             0.015290        1          10   \n",
       "4                   305             0.014916        1          10   \n",
       "...                 ...                  ...      ...         ...   \n",
       "19195               896             0.002255        1           9   \n",
       "19196               897             0.002257        1           9   \n",
       "19197               898             0.002258        1           9   \n",
       "19198               899             0.002260        1           9   \n",
       "19199               900             0.002262        1           9   \n",
       "\n",
       "       Espesor de la película (nm)  \n",
       "0                              100  \n",
       "1                              100  \n",
       "2                              100  \n",
       "3                              100  \n",
       "4                              100  \n",
       "...                            ...  \n",
       "19195                          120  \n",
       "19196                          120  \n",
       "19197                          120  \n",
       "19198                          120  \n",
       "19199                          120  \n",
       "\n",
       "[38400 rows x 5 columns]"
      ]
     },
     "execution_count": 20,
     "metadata": {},
     "output_type": "execute_result"
    }
   ],
   "source": [
    "param"
   ]
  },
  {
   "attachments": {},
   "cell_type": "markdown",
   "metadata": {},
   "source": [
    "# Revolviendo todos los datos"
   ]
  },
  {
   "attachments": {},
   "cell_type": "markdown",
   "metadata": {},
   "source": [
    "Esto es para el entrenamiento óptimo de la red y poderle dar una mayor gama de datos"
   ]
  },
  {
   "cell_type": "code",
   "execution_count": 21,
   "metadata": {},
   "outputs": [],
   "source": [
    "param = param.sample(frac=1, random_state=42).reset_index(drop=True)\n"
   ]
  },
  {
   "cell_type": "code",
   "execution_count": 22,
   "metadata": {},
   "outputs": [
    {
     "data": {
      "text/html": [
       "<div>\n",
       "<style scoped>\n",
       "    .dataframe tbody tr th:only-of-type {\n",
       "        vertical-align: middle;\n",
       "    }\n",
       "\n",
       "    .dataframe tbody tr th {\n",
       "        vertical-align: top;\n",
       "    }\n",
       "\n",
       "    .dataframe thead th {\n",
       "        text-align: right;\n",
       "    }\n",
       "</style>\n",
       "<table border=\"1\" class=\"dataframe\">\n",
       "  <thead>\n",
       "    <tr style=\"text-align: right;\">\n",
       "      <th></th>\n",
       "      <th>Longitud de onda</th>\n",
       "      <th>Índice de absorción</th>\n",
       "      <th>Fracvol</th>\n",
       "      <th>Radio (nm)</th>\n",
       "      <th>Espesor de la película (nm)</th>\n",
       "    </tr>\n",
       "  </thead>\n",
       "  <tbody>\n",
       "    <tr>\n",
       "      <th>0</th>\n",
       "      <td>753</td>\n",
       "      <td>0.001533</td>\n",
       "      <td>1</td>\n",
       "      <td>23</td>\n",
       "      <td>120</td>\n",
       "    </tr>\n",
       "    <tr>\n",
       "      <th>1</th>\n",
       "      <td>310</td>\n",
       "      <td>0.014692</td>\n",
       "      <td>3</td>\n",
       "      <td>10</td>\n",
       "      <td>120</td>\n",
       "    </tr>\n",
       "    <tr>\n",
       "      <th>2</th>\n",
       "      <td>625</td>\n",
       "      <td>0.002815</td>\n",
       "      <td>1</td>\n",
       "      <td>10</td>\n",
       "      <td>85</td>\n",
       "    </tr>\n",
       "    <tr>\n",
       "      <th>3</th>\n",
       "      <td>604</td>\n",
       "      <td>0.000572</td>\n",
       "      <td>1</td>\n",
       "      <td>9</td>\n",
       "      <td>120</td>\n",
       "    </tr>\n",
       "    <tr>\n",
       "      <th>4</th>\n",
       "      <td>373</td>\n",
       "      <td>0.003104</td>\n",
       "      <td>1</td>\n",
       "      <td>21</td>\n",
       "      <td>120</td>\n",
       "    </tr>\n",
       "    <tr>\n",
       "      <th>...</th>\n",
       "      <td>...</td>\n",
       "      <td>...</td>\n",
       "      <td>...</td>\n",
       "      <td>...</td>\n",
       "      <td>...</td>\n",
       "    </tr>\n",
       "    <tr>\n",
       "      <th>38395</th>\n",
       "      <td>566</td>\n",
       "      <td>0.000711</td>\n",
       "      <td>1</td>\n",
       "      <td>10</td>\n",
       "      <td>70</td>\n",
       "    </tr>\n",
       "    <tr>\n",
       "      <th>38396</th>\n",
       "      <td>785</td>\n",
       "      <td>0.000418</td>\n",
       "      <td>12</td>\n",
       "      <td>10</td>\n",
       "      <td>120</td>\n",
       "    </tr>\n",
       "    <tr>\n",
       "      <th>38397</th>\n",
       "      <td>659</td>\n",
       "      <td>0.000772</td>\n",
       "      <td>1</td>\n",
       "      <td>9</td>\n",
       "      <td>120</td>\n",
       "    </tr>\n",
       "    <tr>\n",
       "      <th>38398</th>\n",
       "      <td>561</td>\n",
       "      <td>0.005686</td>\n",
       "      <td>1</td>\n",
       "      <td>10</td>\n",
       "      <td>105</td>\n",
       "    </tr>\n",
       "    <tr>\n",
       "      <th>38399</th>\n",
       "      <td>496</td>\n",
       "      <td>0.005548</td>\n",
       "      <td>4</td>\n",
       "      <td>10</td>\n",
       "      <td>120</td>\n",
       "    </tr>\n",
       "  </tbody>\n",
       "</table>\n",
       "<p>38400 rows × 5 columns</p>\n",
       "</div>"
      ],
      "text/plain": [
       "       Longitud de onda  Índice de absorción  Fracvol  Radio (nm)  \\\n",
       "0                   753             0.001533        1          23   \n",
       "1                   310             0.014692        3          10   \n",
       "2                   625             0.002815        1          10   \n",
       "3                   604             0.000572        1           9   \n",
       "4                   373             0.003104        1          21   \n",
       "...                 ...                  ...      ...         ...   \n",
       "38395               566             0.000711        1          10   \n",
       "38396               785             0.000418       12          10   \n",
       "38397               659             0.000772        1           9   \n",
       "38398               561             0.005686        1          10   \n",
       "38399               496             0.005548        4          10   \n",
       "\n",
       "       Espesor de la película (nm)  \n",
       "0                              120  \n",
       "1                              120  \n",
       "2                               85  \n",
       "3                              120  \n",
       "4                              120  \n",
       "...                            ...  \n",
       "38395                           70  \n",
       "38396                          120  \n",
       "38397                          120  \n",
       "38398                          105  \n",
       "38399                          120  \n",
       "\n",
       "[38400 rows x 5 columns]"
      ]
     },
     "execution_count": 22,
     "metadata": {},
     "output_type": "execute_result"
    }
   ],
   "source": [
    "param"
   ]
  },
  {
   "cell_type": "code",
   "execution_count": 23,
   "metadata": {},
   "outputs": [],
   "source": [
    "from sklearn.model_selection import train_test_split\n"
   ]
  },
  {
   "attachments": {},
   "cell_type": "markdown",
   "metadata": {},
   "source": [
    "# Separando nuestra base de datos en 2, una que servirá para entrenar el modelo y otra para hacerle un test"
   ]
  },
  {
   "cell_type": "code",
   "execution_count": 24,
   "metadata": {},
   "outputs": [],
   "source": [
    "train_df, test_df = train_test_split(param, test_size=0.2, random_state=42)"
   ]
  },
  {
   "attachments": {},
   "cell_type": "markdown",
   "metadata": {},
   "source": [
    "test será el 20% de los datos mientras train el 80%"
   ]
  },
  {
   "cell_type": "code",
   "execution_count": 25,
   "metadata": {},
   "outputs": [
    {
     "data": {
      "text/html": [
       "<div>\n",
       "<style scoped>\n",
       "    .dataframe tbody tr th:only-of-type {\n",
       "        vertical-align: middle;\n",
       "    }\n",
       "\n",
       "    .dataframe tbody tr th {\n",
       "        vertical-align: top;\n",
       "    }\n",
       "\n",
       "    .dataframe thead th {\n",
       "        text-align: right;\n",
       "    }\n",
       "</style>\n",
       "<table border=\"1\" class=\"dataframe\">\n",
       "  <thead>\n",
       "    <tr style=\"text-align: right;\">\n",
       "      <th></th>\n",
       "      <th>Longitud de onda</th>\n",
       "      <th>Índice de absorción</th>\n",
       "      <th>Fracvol</th>\n",
       "      <th>Radio (nm)</th>\n",
       "      <th>Espesor de la película (nm)</th>\n",
       "    </tr>\n",
       "  </thead>\n",
       "  <tbody>\n",
       "    <tr>\n",
       "      <th>27452</th>\n",
       "      <td>492</td>\n",
       "      <td>0.006226</td>\n",
       "      <td>5</td>\n",
       "      <td>10</td>\n",
       "      <td>120</td>\n",
       "    </tr>\n",
       "    <tr>\n",
       "      <th>15009</th>\n",
       "      <td>831</td>\n",
       "      <td>0.001993</td>\n",
       "      <td>1</td>\n",
       "      <td>26</td>\n",
       "      <td>120</td>\n",
       "    </tr>\n",
       "    <tr>\n",
       "      <th>8124</th>\n",
       "      <td>700</td>\n",
       "      <td>0.000512</td>\n",
       "      <td>1</td>\n",
       "      <td>26</td>\n",
       "      <td>120</td>\n",
       "    </tr>\n",
       "    <tr>\n",
       "      <th>38103</th>\n",
       "      <td>748</td>\n",
       "      <td>0.000418</td>\n",
       "      <td>11</td>\n",
       "      <td>10</td>\n",
       "      <td>120</td>\n",
       "    </tr>\n",
       "    <tr>\n",
       "      <th>25872</th>\n",
       "      <td>432</td>\n",
       "      <td>0.002877</td>\n",
       "      <td>1</td>\n",
       "      <td>10</td>\n",
       "      <td>65</td>\n",
       "    </tr>\n",
       "    <tr>\n",
       "      <th>...</th>\n",
       "      <td>...</td>\n",
       "      <td>...</td>\n",
       "      <td>...</td>\n",
       "      <td>...</td>\n",
       "      <td>...</td>\n",
       "    </tr>\n",
       "    <tr>\n",
       "      <th>3746</th>\n",
       "      <td>820</td>\n",
       "      <td>0.002003</td>\n",
       "      <td>7</td>\n",
       "      <td>10</td>\n",
       "      <td>120</td>\n",
       "    </tr>\n",
       "    <tr>\n",
       "      <th>18195</th>\n",
       "      <td>422</td>\n",
       "      <td>0.000481</td>\n",
       "      <td>1</td>\n",
       "      <td>7</td>\n",
       "      <td>120</td>\n",
       "    </tr>\n",
       "    <tr>\n",
       "      <th>37286</th>\n",
       "      <td>551</td>\n",
       "      <td>0.033743</td>\n",
       "      <td>4</td>\n",
       "      <td>10</td>\n",
       "      <td>120</td>\n",
       "    </tr>\n",
       "    <tr>\n",
       "      <th>15361</th>\n",
       "      <td>703</td>\n",
       "      <td>0.000239</td>\n",
       "      <td>1</td>\n",
       "      <td>29</td>\n",
       "      <td>120</td>\n",
       "    </tr>\n",
       "    <tr>\n",
       "      <th>10423</th>\n",
       "      <td>560</td>\n",
       "      <td>0.006241</td>\n",
       "      <td>1</td>\n",
       "      <td>16</td>\n",
       "      <td>120</td>\n",
       "    </tr>\n",
       "  </tbody>\n",
       "</table>\n",
       "<p>7680 rows × 5 columns</p>\n",
       "</div>"
      ],
      "text/plain": [
       "       Longitud de onda  Índice de absorción  Fracvol  Radio (nm)  \\\n",
       "27452               492             0.006226        5          10   \n",
       "15009               831             0.001993        1          26   \n",
       "8124                700             0.000512        1          26   \n",
       "38103               748             0.000418       11          10   \n",
       "25872               432             0.002877        1          10   \n",
       "...                 ...                  ...      ...         ...   \n",
       "3746                820             0.002003        7          10   \n",
       "18195               422             0.000481        1           7   \n",
       "37286               551             0.033743        4          10   \n",
       "15361               703             0.000239        1          29   \n",
       "10423               560             0.006241        1          16   \n",
       "\n",
       "       Espesor de la película (nm)  \n",
       "27452                          120  \n",
       "15009                          120  \n",
       "8124                           120  \n",
       "38103                          120  \n",
       "25872                           65  \n",
       "...                            ...  \n",
       "3746                           120  \n",
       "18195                          120  \n",
       "37286                          120  \n",
       "15361                          120  \n",
       "10423                          120  \n",
       "\n",
       "[7680 rows x 5 columns]"
      ]
     },
     "execution_count": 25,
     "metadata": {},
     "output_type": "execute_result"
    }
   ],
   "source": [
    "test_df"
   ]
  },
  {
   "cell_type": "code",
   "execution_count": 26,
   "metadata": {},
   "outputs": [
    {
     "data": {
      "text/html": [
       "<div>\n",
       "<style scoped>\n",
       "    .dataframe tbody tr th:only-of-type {\n",
       "        vertical-align: middle;\n",
       "    }\n",
       "\n",
       "    .dataframe tbody tr th {\n",
       "        vertical-align: top;\n",
       "    }\n",
       "\n",
       "    .dataframe thead th {\n",
       "        text-align: right;\n",
       "    }\n",
       "</style>\n",
       "<table border=\"1\" class=\"dataframe\">\n",
       "  <thead>\n",
       "    <tr style=\"text-align: right;\">\n",
       "      <th></th>\n",
       "      <th>Longitud de onda</th>\n",
       "      <th>Índice de absorción</th>\n",
       "      <th>Fracvol</th>\n",
       "      <th>Radio (nm)</th>\n",
       "      <th>Espesor de la película (nm)</th>\n",
       "    </tr>\n",
       "  </thead>\n",
       "  <tbody>\n",
       "    <tr>\n",
       "      <th>36772</th>\n",
       "      <td>825</td>\n",
       "      <td>0.001564</td>\n",
       "      <td>11</td>\n",
       "      <td>10</td>\n",
       "      <td>120</td>\n",
       "    </tr>\n",
       "    <tr>\n",
       "      <th>22714</th>\n",
       "      <td>538</td>\n",
       "      <td>0.004552</td>\n",
       "      <td>1</td>\n",
       "      <td>10</td>\n",
       "      <td>65</td>\n",
       "    </tr>\n",
       "    <tr>\n",
       "      <th>3031</th>\n",
       "      <td>442</td>\n",
       "      <td>0.000189</td>\n",
       "      <td>1</td>\n",
       "      <td>10</td>\n",
       "      <td>120</td>\n",
       "    </tr>\n",
       "    <tr>\n",
       "      <th>9632</th>\n",
       "      <td>391</td>\n",
       "      <td>0.000021</td>\n",
       "      <td>1</td>\n",
       "      <td>10</td>\n",
       "      <td>115</td>\n",
       "    </tr>\n",
       "    <tr>\n",
       "      <th>29786</th>\n",
       "      <td>870</td>\n",
       "      <td>0.002197</td>\n",
       "      <td>1</td>\n",
       "      <td>11</td>\n",
       "      <td>120</td>\n",
       "    </tr>\n",
       "    <tr>\n",
       "      <th>...</th>\n",
       "      <td>...</td>\n",
       "      <td>...</td>\n",
       "      <td>...</td>\n",
       "      <td>...</td>\n",
       "      <td>...</td>\n",
       "    </tr>\n",
       "    <tr>\n",
       "      <th>6265</th>\n",
       "      <td>760</td>\n",
       "      <td>0.002772</td>\n",
       "      <td>1</td>\n",
       "      <td>10</td>\n",
       "      <td>100</td>\n",
       "    </tr>\n",
       "    <tr>\n",
       "      <th>11284</th>\n",
       "      <td>623</td>\n",
       "      <td>0.001487</td>\n",
       "      <td>1</td>\n",
       "      <td>32</td>\n",
       "      <td>120</td>\n",
       "    </tr>\n",
       "    <tr>\n",
       "      <th>38158</th>\n",
       "      <td>836</td>\n",
       "      <td>0.001522</td>\n",
       "      <td>1</td>\n",
       "      <td>10</td>\n",
       "      <td>135</td>\n",
       "    </tr>\n",
       "    <tr>\n",
       "      <th>860</th>\n",
       "      <td>324</td>\n",
       "      <td>0.008735</td>\n",
       "      <td>1</td>\n",
       "      <td>6</td>\n",
       "      <td>120</td>\n",
       "    </tr>\n",
       "    <tr>\n",
       "      <th>15795</th>\n",
       "      <td>894</td>\n",
       "      <td>0.002247</td>\n",
       "      <td>1</td>\n",
       "      <td>14</td>\n",
       "      <td>120</td>\n",
       "    </tr>\n",
       "  </tbody>\n",
       "</table>\n",
       "<p>30720 rows × 5 columns</p>\n",
       "</div>"
      ],
      "text/plain": [
       "       Longitud de onda  Índice de absorción  Fracvol  Radio (nm)  \\\n",
       "36772               825             0.001564       11          10   \n",
       "22714               538             0.004552        1          10   \n",
       "3031                442             0.000189        1          10   \n",
       "9632                391             0.000021        1          10   \n",
       "29786               870             0.002197        1          11   \n",
       "...                 ...                  ...      ...         ...   \n",
       "6265                760             0.002772        1          10   \n",
       "11284               623             0.001487        1          32   \n",
       "38158               836             0.001522        1          10   \n",
       "860                 324             0.008735        1           6   \n",
       "15795               894             0.002247        1          14   \n",
       "\n",
       "       Espesor de la película (nm)  \n",
       "36772                          120  \n",
       "22714                           65  \n",
       "3031                           120  \n",
       "9632                           115  \n",
       "29786                          120  \n",
       "...                            ...  \n",
       "6265                           100  \n",
       "11284                          120  \n",
       "38158                          135  \n",
       "860                            120  \n",
       "15795                          120  \n",
       "\n",
       "[30720 rows x 5 columns]"
      ]
     },
     "execution_count": 26,
     "metadata": {},
     "output_type": "execute_result"
    }
   ],
   "source": [
    "train_df"
   ]
  },
  {
   "attachments": {},
   "cell_type": "markdown",
   "metadata": {},
   "source": [
    "# Prueba 1"
   ]
  },
  {
   "cell_type": "code",
   "execution_count": 27,
   "metadata": {},
   "outputs": [],
   "source": [
    "from tensorflow import keras\n",
    "from tensorflow.keras import layers"
   ]
  },
  {
   "cell_type": "code",
   "execution_count": 28,
   "metadata": {},
   "outputs": [],
   "source": [
    "data = train_df\n",
    "input_data = data.drop(['Fracvol', 'Longitud de onda', 'Radio (nm)', 'Espesor de la película (nm)'],axis=1).values\n"
   ]
  },
  {
   "cell_type": "code",
   "execution_count": 29,
   "metadata": {},
   "outputs": [],
   "source": [
    "\n",
    "fracvol = data.drop(['Índice de absorción', 'Longitud de onda', 'Radio (nm)', 'Espesor de la película (nm)'],axis=1).values\n",
    "radio = data.drop(['Índice de absorción', 'Longitud de onda', 'Fracvol', 'Espesor de la película (nm)'],axis=1).values\n",
    "esp_pel = data.drop(['Índice de absorción', 'Longitud de onda', 'Fracvol', 'Radio (nm)'],axis=1).values"
   ]
  },
  {
   "cell_type": "code",
   "execution_count": 30,
   "metadata": {},
   "outputs": [],
   "source": [
    "inputs = keras.Input(shape=(3,), name='entrada')\n",
    "x = layers.Dense(64, activation='relu')(inputs)\n",
    "x = layers.Dense(64, activation='relu')(x)\n",
    "output1_layer = layers.Dense(1, name='fracvol')(x)\n",
    "output2_layer = layers.Dense(1, name='radio')(x)\n",
    "output3_layer = layers.Dense(1, name='esp_pel')(x)"
   ]
  },
  {
   "cell_type": "code",
   "execution_count": 31,
   "metadata": {},
   "outputs": [],
   "source": [
    "model = keras.Model(inputs=inputs, outputs=[output1_layer, output2_layer, output3_layer])\n",
    "\n",
    "# Compilar el modelo\n",
    "model.compile(optimizer='adam',\n",
    "              loss={'output1': 'binary_crossentropy', 'output2': 'binary_crossentropy', 'output3': 'binary_crossentropy'},\n",
    "              metrics=['accuracy'])"
   ]
  },
  {
   "cell_type": "code",
   "execution_count": 32,
   "metadata": {},
   "outputs": [
    {
     "name": "stdout",
     "output_type": "stream",
     "text": [
      "Epoch 1/100\n",
      "WARNING:tensorflow:Model was constructed with shape (None, 3) for input KerasTensor(type_spec=TensorSpec(shape=(None, 3), dtype=tf.float32, name='entrada'), name='entrada', description=\"created by layer 'entrada'\"), but it was called on an input with incompatible shape (1, 1).\n"
     ]
    },
    {
     "ename": "ValueError",
     "evalue": "in user code:\n\n    File \"C:\\Users\\PcR\\AppData\\Local\\Packages\\PythonSoftwareFoundation.Python.3.10_qbz5n2kfra8p0\\LocalCache\\local-packages\\Python310\\site-packages\\keras\\engine\\training.py\", line 1249, in train_function  *\n        return step_function(self, iterator)\n    File \"C:\\Users\\PcR\\AppData\\Local\\Packages\\PythonSoftwareFoundation.Python.3.10_qbz5n2kfra8p0\\LocalCache\\local-packages\\Python310\\site-packages\\keras\\engine\\training.py\", line 1233, in step_function  **\n        outputs = model.distribute_strategy.run(run_step, args=(data,))\n    File \"C:\\Users\\PcR\\AppData\\Local\\Packages\\PythonSoftwareFoundation.Python.3.10_qbz5n2kfra8p0\\LocalCache\\local-packages\\Python310\\site-packages\\keras\\engine\\training.py\", line 1222, in run_step  **\n        outputs = model.train_step(data)\n    File \"C:\\Users\\PcR\\AppData\\Local\\Packages\\PythonSoftwareFoundation.Python.3.10_qbz5n2kfra8p0\\LocalCache\\local-packages\\Python310\\site-packages\\keras\\engine\\training.py\", line 1023, in train_step\n        y_pred = self(x, training=True)\n    File \"C:\\Users\\PcR\\AppData\\Local\\Packages\\PythonSoftwareFoundation.Python.3.10_qbz5n2kfra8p0\\LocalCache\\local-packages\\Python310\\site-packages\\keras\\utils\\traceback_utils.py\", line 70, in error_handler\n        raise e.with_traceback(filtered_tb) from None\n    File \"C:\\Users\\PcR\\AppData\\Local\\Packages\\PythonSoftwareFoundation.Python.3.10_qbz5n2kfra8p0\\LocalCache\\local-packages\\Python310\\site-packages\\keras\\engine\\input_spec.py\", line 277, in assert_input_compatibility\n        raise ValueError(\n\n    ValueError: Exception encountered when calling layer 'model_1' (type Functional).\n    \n    Input 0 of layer \"dense_2\" is incompatible with the layer: expected axis -1 of input shape to have value 3, but received input with shape (1, 1)\n    \n    Call arguments received by layer 'model_1' (type Functional):\n      • inputs=tf.Tensor(shape=(1, 1), dtype=float32)\n      • training=True\n      • mask=None\n",
     "output_type": "error",
     "traceback": [
      "\u001b[1;31m---------------------------------------------------------------------------\u001b[0m",
      "\u001b[1;31mValueError\u001b[0m                                Traceback (most recent call last)",
      "Cell \u001b[1;32mIn[32], line 2\u001b[0m\n\u001b[0;32m      1\u001b[0m \u001b[39m# Entrenar el modelo\u001b[39;00m\n\u001b[1;32m----> 2\u001b[0m model\u001b[39m.\u001b[39;49mfit(input_data, {\u001b[39m'\u001b[39;49m\u001b[39mfracvol\u001b[39;49m\u001b[39m'\u001b[39;49m: fracvol, \u001b[39m'\u001b[39;49m\u001b[39mradio\u001b[39;49m\u001b[39m'\u001b[39;49m: radio, \u001b[39m'\u001b[39;49m\u001b[39mesp_pel\u001b[39;49m\u001b[39m'\u001b[39;49m: esp_pel}, epochs\u001b[39m=\u001b[39;49m\u001b[39m100\u001b[39;49m, batch_size\u001b[39m=\u001b[39;49m\u001b[39m1\u001b[39;49m)\n",
      "File \u001b[1;32m~\\AppData\\Local\\Packages\\PythonSoftwareFoundation.Python.3.10_qbz5n2kfra8p0\\LocalCache\\local-packages\\Python310\\site-packages\\keras\\utils\\traceback_utils.py:70\u001b[0m, in \u001b[0;36mfilter_traceback.<locals>.error_handler\u001b[1;34m(*args, **kwargs)\u001b[0m\n\u001b[0;32m     67\u001b[0m     filtered_tb \u001b[39m=\u001b[39m _process_traceback_frames(e\u001b[39m.\u001b[39m__traceback__)\n\u001b[0;32m     68\u001b[0m     \u001b[39m# To get the full stack trace, call:\u001b[39;00m\n\u001b[0;32m     69\u001b[0m     \u001b[39m# `tf.debugging.disable_traceback_filtering()`\u001b[39;00m\n\u001b[1;32m---> 70\u001b[0m     \u001b[39mraise\u001b[39;00m e\u001b[39m.\u001b[39mwith_traceback(filtered_tb) \u001b[39mfrom\u001b[39;00m \u001b[39mNone\u001b[39m\n\u001b[0;32m     71\u001b[0m \u001b[39mfinally\u001b[39;00m:\n\u001b[0;32m     72\u001b[0m     \u001b[39mdel\u001b[39;00m filtered_tb\n",
      "File \u001b[1;32m~\\AppData\\Local\\Temp\\__autograph_generated_fileeplms_ig.py:15\u001b[0m, in \u001b[0;36mouter_factory.<locals>.inner_factory.<locals>.tf__train_function\u001b[1;34m(iterator)\u001b[0m\n\u001b[0;32m     13\u001b[0m \u001b[39mtry\u001b[39;00m:\n\u001b[0;32m     14\u001b[0m     do_return \u001b[39m=\u001b[39m \u001b[39mTrue\u001b[39;00m\n\u001b[1;32m---> 15\u001b[0m     retval_ \u001b[39m=\u001b[39m ag__\u001b[39m.\u001b[39mconverted_call(ag__\u001b[39m.\u001b[39mld(step_function), (ag__\u001b[39m.\u001b[39mld(\u001b[39mself\u001b[39m), ag__\u001b[39m.\u001b[39mld(iterator)), \u001b[39mNone\u001b[39;00m, fscope)\n\u001b[0;32m     16\u001b[0m \u001b[39mexcept\u001b[39;00m:\n\u001b[0;32m     17\u001b[0m     do_return \u001b[39m=\u001b[39m \u001b[39mFalse\u001b[39;00m\n",
      "\u001b[1;31mValueError\u001b[0m: in user code:\n\n    File \"C:\\Users\\PcR\\AppData\\Local\\Packages\\PythonSoftwareFoundation.Python.3.10_qbz5n2kfra8p0\\LocalCache\\local-packages\\Python310\\site-packages\\keras\\engine\\training.py\", line 1249, in train_function  *\n        return step_function(self, iterator)\n    File \"C:\\Users\\PcR\\AppData\\Local\\Packages\\PythonSoftwareFoundation.Python.3.10_qbz5n2kfra8p0\\LocalCache\\local-packages\\Python310\\site-packages\\keras\\engine\\training.py\", line 1233, in step_function  **\n        outputs = model.distribute_strategy.run(run_step, args=(data,))\n    File \"C:\\Users\\PcR\\AppData\\Local\\Packages\\PythonSoftwareFoundation.Python.3.10_qbz5n2kfra8p0\\LocalCache\\local-packages\\Python310\\site-packages\\keras\\engine\\training.py\", line 1222, in run_step  **\n        outputs = model.train_step(data)\n    File \"C:\\Users\\PcR\\AppData\\Local\\Packages\\PythonSoftwareFoundation.Python.3.10_qbz5n2kfra8p0\\LocalCache\\local-packages\\Python310\\site-packages\\keras\\engine\\training.py\", line 1023, in train_step\n        y_pred = self(x, training=True)\n    File \"C:\\Users\\PcR\\AppData\\Local\\Packages\\PythonSoftwareFoundation.Python.3.10_qbz5n2kfra8p0\\LocalCache\\local-packages\\Python310\\site-packages\\keras\\utils\\traceback_utils.py\", line 70, in error_handler\n        raise e.with_traceback(filtered_tb) from None\n    File \"C:\\Users\\PcR\\AppData\\Local\\Packages\\PythonSoftwareFoundation.Python.3.10_qbz5n2kfra8p0\\LocalCache\\local-packages\\Python310\\site-packages\\keras\\engine\\input_spec.py\", line 277, in assert_input_compatibility\n        raise ValueError(\n\n    ValueError: Exception encountered when calling layer 'model_1' (type Functional).\n    \n    Input 0 of layer \"dense_2\" is incompatible with the layer: expected axis -1 of input shape to have value 3, but received input with shape (1, 1)\n    \n    Call arguments received by layer 'model_1' (type Functional):\n      • inputs=tf.Tensor(shape=(1, 1), dtype=float32)\n      • training=True\n      • mask=None\n"
     ]
    }
   ],
   "source": [
    "# Entrenar el modelo\n",
    "model.fit(input_data, {'fracvol': fracvol, 'radio': radio, 'esp_pel': esp_pel}, epochs=100, batch_size=1)\n"
   ]
  },
  {
   "attachments": {},
   "cell_type": "markdown",
   "metadata": {},
   "source": [
    "No sirvió tratando de hacer fit el modelo"
   ]
  },
  {
   "attachments": {},
   "cell_type": "markdown",
   "metadata": {},
   "source": [
    "# Prueba 2"
   ]
  },
  {
   "cell_type": "code",
   "execution_count": 33,
   "metadata": {},
   "outputs": [],
   "source": [
    "# Crear un DataFrame de entrada y salida\n",
    "data = param\n",
    "\n",
    "# Dividir los datos en conjunto de entrenamiento y conjunto de prueba\n",
    "train_data = data.sample(frac=0.8, random_state=42)\n",
    "test_data = data.drop(train_data.index)\n",
    "\n",
    "# Obtener los datos de entrada y salida para el conjunto de entrenamiento y prueba\n",
    "train_input_data = train_data['Índice de absorción'].values\n",
    "train_output_data = train_data[['Fracvol', 'Radio (nm)', 'Espesor de la película (nm)']].values\n",
    "test_input_data = test_data['Índice de absorción']\n",
    "test_output_data = test_data[['Fracvol', 'Radio (nm)', 'Espesor de la película (nm)']]\n",
    "\n"
   ]
  },
  {
   "cell_type": "code",
   "execution_count": 34,
   "metadata": {},
   "outputs": [],
   "source": [
    "# Crear el modelo\n",
    "inputs = keras.Input(shape=(1,), name='input')\n",
    "x = layers.Dense(64, activation='relu')(inputs)\n",
    "x = layers.Dense(64, activation='relu')(x)\n"
   ]
  },
  {
   "cell_type": "code",
   "execution_count": 35,
   "metadata": {},
   "outputs": [],
   "source": [
    "output1_layer = layers.Dense(1, name='Fracvol')(x)\n",
    "output3_layer = layers.Dense(1, name='espesor_pelicula_nm')(x)\n",
    "output2_layer = layers.Dense(1, name='Radio_nm')(x)\n"
   ]
  },
  {
   "cell_type": "code",
   "execution_count": null,
   "metadata": {},
   "outputs": [
    {
     "name": "stdout",
     "output_type": "stream",
     "text": [
      "Epoch 1/2\n",
      "30720/30720 [==============================] - 29s 909us/step - loss: -1952.5455 - Fracvol_loss: -650.4683 - Radio_nm_loss: -650.7025 - espesor_pelicula_nm_loss: -651.3922 - Fracvol_accuracy: 0.2532 - Radio_nm_accuracy: 0.2532 - espesor_pelicula_nm_accuracy: 0.2535\n",
      "Epoch 2/2\n",
      "30720/30720 [==============================] - 28s 900us/step - loss: -1974.8123 - Fracvol_loss: -658.2731 - Radio_nm_loss: -658.2731 - espesor_pelicula_nm_loss: -658.2731 - Fracvol_accuracy: 0.2554 - Radio_nm_accuracy: 0.2554 - espesor_pelicula_nm_accuracy: 0.2554\n"
     ]
    },
    {
     "data": {
      "text/plain": [
       "<keras.callbacks.History at 0x2f783411c30>"
      ]
     },
     "execution_count": 20,
     "metadata": {},
     "output_type": "execute_result"
    }
   ],
   "source": [
    "model = keras.Model(inputs=inputs, outputs=[output1_layer, output2_layer, output3_layer])\n",
    "\n",
    "# Compilar el modelo\n",
    "model.compile(optimizer='adam',\n",
    "              loss={'Fracvol': 'binary_crossentropy', 'Radio_nm': 'binary_crossentropy', 'espesor_pelicula_nm': 'binary_crossentropy'},metrics=['accuracy'])\n",
    "\n",
    "# Entrenar el modelo\n",
    "model.fit(train_input_data, train_output_data, epochs=2, batch_size=1)"
   ]
  },
  {
   "cell_type": "code",
   "execution_count": 36,
   "metadata": {},
   "outputs": [],
   "source": [
    "arr = train_data['Índice de absorción'].to_numpy()"
   ]
  },
  {
   "cell_type": "code",
   "execution_count": null,
   "metadata": {},
   "outputs": [
    {
     "name": "stdout",
     "output_type": "stream",
     "text": [
      "960/960 [==============================] - 1s 689us/step\n"
     ]
    },
    {
     "data": {
      "text/plain": [
       "[array([[1.2751088],\n",
       "        [1.2610755],\n",
       "        [1.2561675],\n",
       "        ...,\n",
       "        [1.258758 ],\n",
       "        [1.2622546],\n",
       "        [1.2558494]], dtype=float32),\n",
       " array([[1.4972441],\n",
       "        [1.4780445],\n",
       "        [1.4713296],\n",
       "        ...,\n",
       "        [1.4748737],\n",
       "        [1.4796579],\n",
       "        [1.4708942]], dtype=float32),\n",
       " array([[1.7655803],\n",
       "        [1.7428479],\n",
       "        [1.7348975],\n",
       "        ...,\n",
       "        [1.7390937],\n",
       "        [1.7447582],\n",
       "        [1.7343822]], dtype=float32)]"
      ]
     },
     "execution_count": 22,
     "metadata": {},
     "output_type": "execute_result"
    }
   ],
   "source": [
    "predictions = model.predict(arr)\n",
    "predictions"
   ]
  },
  {
   "cell_type": "code",
   "execution_count": null,
   "metadata": {},
   "outputs": [],
   "source": [
    "posit = []\n",
    "for fila in predictions:\n",
    "    for num in fila:\n",
    "        if num > 0:\n",
    "            posit.append(num)"
   ]
  },
  {
   "attachments": {},
   "cell_type": "markdown",
   "metadata": {},
   "source": [
    "Nos da números pero no tienen significado físico, como negativos"
   ]
  },
  {
   "attachments": {},
   "cell_type": "markdown",
   "metadata": {},
   "source": [
    "# Prueba 3"
   ]
  },
  {
   "cell_type": "code",
   "execution_count": 37,
   "metadata": {},
   "outputs": [],
   "source": [
    "import pandas as pd\n",
    "from keras.models import Sequential\n",
    "from keras.layers import Dense"
   ]
  },
  {
   "cell_type": "code",
   "execution_count": 38,
   "metadata": {},
   "outputs": [
    {
     "name": "stdout",
     "output_type": "stream",
     "text": [
      "Epoch 1/10\n",
      "960/960 [==============================] - 1s 678us/step - loss: -88269.9688 - accuracy: 1.0000\n",
      "Epoch 2/10\n",
      "960/960 [==============================] - 1s 652us/step - loss: -2244709.7500 - accuracy: 1.0000\n",
      "Epoch 3/10\n",
      "960/960 [==============================] - 1s 651us/step - loss: -12089685.0000 - accuracy: 1.0000\n",
      "Epoch 4/10\n",
      "960/960 [==============================] - 1s 637us/step - loss: -35962456.0000 - accuracy: 1.0000\n",
      "Epoch 5/10\n",
      "960/960 [==============================] - 1s 642us/step - loss: -79876328.0000 - accuracy: 1.0000\n",
      "Epoch 6/10\n",
      "960/960 [==============================] - 1s 660us/step - loss: -149883616.0000 - accuracy: 1.0000\n",
      "Epoch 7/10\n",
      "960/960 [==============================] - 1s 651us/step - loss: -252241344.0000 - accuracy: 1.0000\n",
      "Epoch 8/10\n",
      "960/960 [==============================] - 1s 679us/step - loss: -393667392.0000 - accuracy: 1.0000\n",
      "Epoch 9/10\n",
      "960/960 [==============================] - 1s 670us/step - loss: -581321792.0000 - accuracy: 1.0000\n",
      "Epoch 10/10\n",
      "960/960 [==============================] - 1s 668us/step - loss: -822870400.0000 - accuracy: 1.0000\n"
     ]
    },
    {
     "data": {
      "text/plain": [
       "<keras.callbacks.History at 0x2a685acacb0>"
      ]
     },
     "execution_count": 38,
     "metadata": {},
     "output_type": "execute_result"
    }
   ],
   "source": [
    "# Cargar DataFrame\n",
    "dataframe = train_df\n",
    "# Separar datos de entrada y salida\n",
    "input_data = dataframe['Índice de absorción']\n",
    "output_data = dataframe[['Fracvol', 'Radio (nm)', 'Espesor de la película (nm)']]\n",
    "\n",
    "# Crear modelo de red neuronal\n",
    "model = Sequential()\n",
    "\n",
    "# Agregar capa de entrada\n",
    "model.add(Dense(units=8, input_dim=1, activation='relu'))\n",
    "\n",
    "# Agregar capas ocultas\n",
    "model.add(Dense(units=16, activation='relu'))\n",
    "model.add(Dense(units=16, activation='relu'))\n",
    "\n",
    "# Agregar capa de salida\n",
    "model.add(Dense(units=3, activation='sigmoid'))\n",
    "\n",
    "# Compilar modelo\n",
    "model.compile(loss='binary_crossentropy', optimizer='adam', metrics=['accuracy'])\n",
    "\n",
    "# Entrenar modelo\n",
    "model.fit(input_data, output_data, epochs=10, batch_size=32)"
   ]
  },
  {
   "cell_type": "code",
   "execution_count": 39,
   "metadata": {},
   "outputs": [],
   "source": [
    "arr = train_data['Índice de absorción'].to_numpy()"
   ]
  },
  {
   "attachments": {},
   "cell_type": "markdown",
   "metadata": {},
   "source": [
    "Haciendo predicciones"
   ]
  },
  {
   "cell_type": "code",
   "execution_count": 40,
   "metadata": {},
   "outputs": [
    {
     "name": "stdout",
     "output_type": "stream",
     "text": [
      "960/960 [==============================] - 1s 502us/step\n"
     ]
    },
    {
     "data": {
      "text/plain": [
       "array([[1., 1., 1.],\n",
       "       [1., 1., 1.],\n",
       "       [1., 1., 1.],\n",
       "       ...,\n",
       "       [1., 1., 1.],\n",
       "       [1., 1., 1.],\n",
       "       [1., 1., 1.]], dtype=float32)"
      ]
     },
     "execution_count": 40,
     "metadata": {},
     "output_type": "execute_result"
    }
   ],
   "source": [
    "predictions = model.predict(arr)\n",
    "predictions"
   ]
  },
  {
   "attachments": {},
   "cell_type": "markdown",
   "metadata": {},
   "source": [
    "Quitando los unos de las predicciones"
   ]
  },
  {
   "cell_type": "code",
   "execution_count": null,
   "metadata": {},
   "outputs": [
    {
     "data": {
      "text/plain": [
       "(array([], dtype=int64), array([], dtype=int64))"
      ]
     },
     "execution_count": 38,
     "metadata": {},
     "output_type": "execute_result"
    }
   ],
   "source": [
    "indices = np.where(predictions != 1)\n",
    "indices"
   ]
  },
  {
   "attachments": {},
   "cell_type": "markdown",
   "metadata": {},
   "source": [
    "Nos da puros unos como resultados"
   ]
  },
  {
   "attachments": {},
   "cell_type": "markdown",
   "metadata": {},
   "source": [
    "# Prueba 4"
   ]
  },
  {
   "cell_type": "code",
   "execution_count": 41,
   "metadata": {},
   "outputs": [],
   "source": [
    "# Cargar DataFrame\n",
    "df = train_df\n",
    "# Separar datos de entrada y salida\n",
    "X = df['Índice de absorción']\n",
    "Y = df[['Fracvol', 'Radio (nm)', 'Espesor de la película (nm)']]"
   ]
  },
  {
   "cell_type": "code",
   "execution_count": 42,
   "metadata": {},
   "outputs": [],
   "source": [
    "# Convertimos los dataframes en numpy arrays\n",
    "X = np.array(X).reshape(-1, 1)\n",
    "y = np.array(Y)"
   ]
  },
  {
   "cell_type": "code",
   "execution_count": 93,
   "metadata": {},
   "outputs": [],
   "source": [
    "# Creamos el modelo de la red neuronal\n",
    "model = Sequential()\n",
    "model.add(Dense(64, input_dim=1, activation='relu'))\n",
    "model.add(Dense(3, activation='linear'))"
   ]
  },
  {
   "cell_type": "code",
   "execution_count": 134,
   "metadata": {},
   "outputs": [],
   "source": [
    "model.compile(loss='mean_absolute_error', optimizer='adam')"
   ]
  },
  {
   "cell_type": "code",
   "execution_count": 135,
   "metadata": {},
   "outputs": [
    {
     "name": "stdout",
     "output_type": "stream",
     "text": [
      "Epoch 1/100\n",
      "768/768 [==============================] - 1s 808us/step - loss: 4.8802 - val_loss: 4.8216\n",
      "Epoch 2/100\n",
      "768/768 [==============================] - 1s 706us/step - loss: 4.7890 - val_loss: 4.8092\n",
      "Epoch 3/100\n",
      "768/768 [==============================] - 1s 680us/step - loss: 4.7845 - val_loss: 4.8046\n",
      "Epoch 4/100\n",
      "768/768 [==============================] - 1s 683us/step - loss: 4.7804 - val_loss: 4.8054\n",
      "Epoch 5/100\n",
      "768/768 [==============================] - 1s 686us/step - loss: 4.7769 - val_loss: 4.7980\n",
      "Epoch 6/100\n",
      "768/768 [==============================] - 1s 688us/step - loss: 4.7734 - val_loss: 4.7992\n",
      "Epoch 7/100\n",
      "768/768 [==============================] - 1s 690us/step - loss: 4.7702 - val_loss: 4.7922\n",
      "Epoch 8/100\n",
      "768/768 [==============================] - 1s 695us/step - loss: 4.7670 - val_loss: 4.7930\n",
      "Epoch 9/100\n",
      "768/768 [==============================] - 1s 695us/step - loss: 4.7642 - val_loss: 4.7882\n",
      "Epoch 10/100\n",
      "768/768 [==============================] - 1s 697us/step - loss: 4.7624 - val_loss: 4.7954\n",
      "Epoch 11/100\n",
      "768/768 [==============================] - 1s 691us/step - loss: 4.7599 - val_loss: 4.7835\n",
      "Epoch 12/100\n",
      "768/768 [==============================] - 1s 697us/step - loss: 4.7570 - val_loss: 4.7801\n",
      "Epoch 13/100\n",
      "768/768 [==============================] - 1s 697us/step - loss: 4.7546 - val_loss: 4.7802\n",
      "Epoch 14/100\n",
      "768/768 [==============================] - 1s 693us/step - loss: 4.7530 - val_loss: 4.7791\n",
      "Epoch 15/100\n",
      "768/768 [==============================] - 1s 696us/step - loss: 4.7512 - val_loss: 4.7767\n",
      "Epoch 16/100\n",
      "768/768 [==============================] - 1s 699us/step - loss: 4.7492 - val_loss: 4.7772\n",
      "Epoch 17/100\n",
      "768/768 [==============================] - 1s 701us/step - loss: 4.7471 - val_loss: 4.7744\n",
      "Epoch 18/100\n",
      "768/768 [==============================] - 1s 703us/step - loss: 4.7455 - val_loss: 4.7694\n",
      "Epoch 19/100\n",
      "768/768 [==============================] - 1s 677us/step - loss: 4.7441 - val_loss: 4.7710\n",
      "Epoch 20/100\n",
      "768/768 [==============================] - 1s 670us/step - loss: 4.7425 - val_loss: 4.7658\n",
      "Epoch 21/100\n",
      "768/768 [==============================] - 1s 668us/step - loss: 4.7409 - val_loss: 4.7710\n",
      "Epoch 22/100\n",
      "768/768 [==============================] - 1s 677us/step - loss: 4.7396 - val_loss: 4.7643\n",
      "Epoch 23/100\n",
      "768/768 [==============================] - 1s 671us/step - loss: 4.7387 - val_loss: 4.7654\n",
      "Epoch 24/100\n",
      "768/768 [==============================] - 1s 672us/step - loss: 4.7367 - val_loss: 4.7642\n",
      "Epoch 25/100\n",
      "768/768 [==============================] - 1s 673us/step - loss: 4.7357 - val_loss: 4.7637\n",
      "Epoch 26/100\n",
      "768/768 [==============================] - 1s 677us/step - loss: 4.7343 - val_loss: 4.7588\n",
      "Epoch 27/100\n",
      "768/768 [==============================] - 1s 677us/step - loss: 4.7327 - val_loss: 4.7626\n",
      "Epoch 28/100\n",
      "768/768 [==============================] - 1s 671us/step - loss: 4.7320 - val_loss: 4.7637\n",
      "Epoch 29/100\n",
      "768/768 [==============================] - 1s 672us/step - loss: 4.7306 - val_loss: 4.7576\n",
      "Epoch 30/100\n",
      "768/768 [==============================] - 1s 686us/step - loss: 4.7298 - val_loss: 4.7576\n",
      "Epoch 31/100\n",
      "768/768 [==============================] - 1s 687us/step - loss: 4.7280 - val_loss: 4.7540\n",
      "Epoch 32/100\n",
      "768/768 [==============================] - 1s 683us/step - loss: 4.7269 - val_loss: 4.7537\n",
      "Epoch 33/100\n",
      "768/768 [==============================] - 1s 697us/step - loss: 4.7252 - val_loss: 4.7519\n",
      "Epoch 34/100\n",
      "768/768 [==============================] - 1s 683us/step - loss: 4.7251 - val_loss: 4.7539\n",
      "Epoch 35/100\n",
      "768/768 [==============================] - 1s 692us/step - loss: 4.7240 - val_loss: 4.7506\n",
      "Epoch 36/100\n",
      "768/768 [==============================] - 1s 683us/step - loss: 4.7224 - val_loss: 4.7570\n",
      "Epoch 37/100\n",
      "768/768 [==============================] - 1s 682us/step - loss: 4.7221 - val_loss: 4.7478\n",
      "Epoch 38/100\n",
      "768/768 [==============================] - 1s 694us/step - loss: 4.7207 - val_loss: 4.7541\n",
      "Epoch 39/100\n",
      "768/768 [==============================] - 1s 689us/step - loss: 4.7200 - val_loss: 4.7490\n",
      "Epoch 40/100\n",
      "768/768 [==============================] - 1s 678us/step - loss: 4.7194 - val_loss: 4.7459\n",
      "Epoch 41/100\n",
      "768/768 [==============================] - 1s 673us/step - loss: 4.7189 - val_loss: 4.7520\n",
      "Epoch 42/100\n",
      "768/768 [==============================] - 1s 675us/step - loss: 4.7191 - val_loss: 4.7475\n",
      "Epoch 43/100\n",
      "768/768 [==============================] - 1s 670us/step - loss: 4.7192 - val_loss: 4.7477\n",
      "Epoch 44/100\n",
      "768/768 [==============================] - 1s 677us/step - loss: 4.7188 - val_loss: 4.7508\n",
      "Epoch 45/100\n",
      "768/768 [==============================] - 1s 677us/step - loss: 4.7191 - val_loss: 4.7467\n",
      "Epoch 46/100\n",
      "768/768 [==============================] - 1s 678us/step - loss: 4.7189 - val_loss: 4.7528\n",
      "Epoch 47/100\n",
      "768/768 [==============================] - 1s 667us/step - loss: 4.7194 - val_loss: 4.7556\n",
      "Epoch 48/100\n",
      "768/768 [==============================] - 1s 686us/step - loss: 4.7196 - val_loss: 4.7462\n",
      "Epoch 49/100\n",
      "768/768 [==============================] - 1s 672us/step - loss: 4.7193 - val_loss: 4.7458\n",
      "Epoch 50/100\n",
      "768/768 [==============================] - 1s 674us/step - loss: 4.7191 - val_loss: 4.7447\n",
      "Epoch 51/100\n",
      "768/768 [==============================] - 1s 682us/step - loss: 4.7193 - val_loss: 4.7460\n",
      "Epoch 52/100\n",
      "768/768 [==============================] - 1s 699us/step - loss: 4.7190 - val_loss: 4.7462\n",
      "Epoch 53/100\n",
      "768/768 [==============================] - 1s 678us/step - loss: 4.7191 - val_loss: 4.7469\n",
      "Epoch 54/100\n",
      "768/768 [==============================] - 1s 690us/step - loss: 4.7188 - val_loss: 4.7452\n",
      "Epoch 55/100\n",
      "768/768 [==============================] - 1s 679us/step - loss: 4.7191 - val_loss: 4.7490\n",
      "Epoch 56/100\n",
      "768/768 [==============================] - 1s 678us/step - loss: 4.7195 - val_loss: 4.7451\n",
      "Epoch 57/100\n",
      "768/768 [==============================] - 1s 688us/step - loss: 4.7193 - val_loss: 4.7482\n",
      "Epoch 58/100\n",
      "768/768 [==============================] - 1s 683us/step - loss: 4.7191 - val_loss: 4.7473\n",
      "Epoch 59/100\n",
      "768/768 [==============================] - 1s 675us/step - loss: 4.7193 - val_loss: 4.7441\n",
      "Epoch 60/100\n",
      "768/768 [==============================] - 1s 681us/step - loss: 4.7191 - val_loss: 4.7472\n",
      "Epoch 61/100\n",
      "768/768 [==============================] - 1s 679us/step - loss: 4.7196 - val_loss: 4.7440\n",
      "Epoch 62/100\n",
      "768/768 [==============================] - 1s 681us/step - loss: 4.7193 - val_loss: 4.7484\n",
      "Epoch 63/100\n",
      "768/768 [==============================] - 1s 701us/step - loss: 4.7185 - val_loss: 4.7475\n",
      "Epoch 64/100\n",
      "768/768 [==============================] - 1s 680us/step - loss: 4.7199 - val_loss: 4.7499\n",
      "Epoch 65/100\n",
      "768/768 [==============================] - 1s 678us/step - loss: 4.7194 - val_loss: 4.7449\n",
      "Epoch 66/100\n",
      "768/768 [==============================] - 1s 680us/step - loss: 4.7195 - val_loss: 4.7493\n",
      "Epoch 67/100\n",
      "768/768 [==============================] - 1s 683us/step - loss: 4.7189 - val_loss: 4.7434\n",
      "Epoch 68/100\n",
      "768/768 [==============================] - 1s 699us/step - loss: 4.7187 - val_loss: 4.7448\n",
      "Epoch 69/100\n",
      "768/768 [==============================] - 1s 705us/step - loss: 4.7195 - val_loss: 4.7481\n",
      "Epoch 70/100\n",
      "768/768 [==============================] - 1s 694us/step - loss: 4.7192 - val_loss: 4.7457\n",
      "Epoch 71/100\n",
      "768/768 [==============================] - 1s 687us/step - loss: 4.7195 - val_loss: 4.7451\n",
      "Epoch 72/100\n",
      "768/768 [==============================] - 1s 677us/step - loss: 4.7190 - val_loss: 4.7479\n",
      "Epoch 73/100\n",
      "768/768 [==============================] - 1s 677us/step - loss: 4.7188 - val_loss: 4.7467\n",
      "Epoch 74/100\n",
      "768/768 [==============================] - 1s 686us/step - loss: 4.7189 - val_loss: 4.7493\n",
      "Epoch 75/100\n",
      "768/768 [==============================] - 1s 678us/step - loss: 4.7194 - val_loss: 4.7445\n",
      "Epoch 76/100\n",
      "768/768 [==============================] - 1s 690us/step - loss: 4.7191 - val_loss: 4.7472\n",
      "Epoch 77/100\n",
      "768/768 [==============================] - 1s 680us/step - loss: 4.7194 - val_loss: 4.7446\n",
      "Epoch 78/100\n",
      "768/768 [==============================] - 1s 682us/step - loss: 4.7191 - val_loss: 4.7473\n",
      "Epoch 79/100\n",
      "768/768 [==============================] - 1s 679us/step - loss: 4.7194 - val_loss: 4.7490\n",
      "Epoch 80/100\n",
      "768/768 [==============================] - 1s 683us/step - loss: 4.7198 - val_loss: 4.7468\n",
      "Epoch 81/100\n",
      "768/768 [==============================] - 1s 681us/step - loss: 4.7198 - val_loss: 4.7474\n",
      "Epoch 82/100\n",
      "768/768 [==============================] - 1s 683us/step - loss: 4.7189 - val_loss: 4.7470\n",
      "Epoch 83/100\n",
      "768/768 [==============================] - 1s 677us/step - loss: 4.7192 - val_loss: 4.7471\n",
      "Epoch 84/100\n",
      "768/768 [==============================] - 1s 677us/step - loss: 4.7190 - val_loss: 4.7466\n",
      "Epoch 85/100\n",
      "768/768 [==============================] - 1s 678us/step - loss: 4.7190 - val_loss: 4.7473\n",
      "Epoch 86/100\n",
      "768/768 [==============================] - 1s 674us/step - loss: 4.7192 - val_loss: 4.7451\n",
      "Epoch 87/100\n",
      "768/768 [==============================] - 1s 674us/step - loss: 4.7193 - val_loss: 4.7489\n",
      "Epoch 88/100\n",
      "768/768 [==============================] - 1s 676us/step - loss: 4.7192 - val_loss: 4.7484\n",
      "Epoch 89/100\n",
      "768/768 [==============================] - 1s 683us/step - loss: 4.7190 - val_loss: 4.7448\n",
      "Epoch 90/100\n",
      "768/768 [==============================] - 1s 693us/step - loss: 4.7188 - val_loss: 4.7482\n",
      "Epoch 91/100\n",
      "768/768 [==============================] - 1s 685us/step - loss: 4.7188 - val_loss: 4.7458\n",
      "Epoch 92/100\n",
      "768/768 [==============================] - 1s 677us/step - loss: 4.7192 - val_loss: 4.7471\n",
      "Epoch 93/100\n",
      "768/768 [==============================] - 1s 677us/step - loss: 4.7195 - val_loss: 4.7458\n",
      "Epoch 94/100\n",
      "768/768 [==============================] - 1s 679us/step - loss: 4.7187 - val_loss: 4.7461\n",
      "Epoch 95/100\n",
      "768/768 [==============================] - 1s 681us/step - loss: 4.7190 - val_loss: 4.7455\n",
      "Epoch 96/100\n",
      "768/768 [==============================] - 1s 679us/step - loss: 4.7192 - val_loss: 4.7506\n",
      "Epoch 97/100\n",
      "768/768 [==============================] - 1s 680us/step - loss: 4.7190 - val_loss: 4.7472\n",
      "Epoch 98/100\n",
      "768/768 [==============================] - 1s 680us/step - loss: 4.7192 - val_loss: 4.7456\n",
      "Epoch 99/100\n",
      "768/768 [==============================] - 1s 681us/step - loss: 4.7194 - val_loss: 4.7474\n",
      "Epoch 100/100\n",
      "768/768 [==============================] - 1s 688us/step - loss: 4.7191 - val_loss: 4.7479\n"
     ]
    },
    {
     "data": {
      "text/plain": [
       "<keras.callbacks.History at 0x2a6869cd9f0>"
      ]
     },
     "execution_count": 135,
     "metadata": {},
     "output_type": "execute_result"
    }
   ],
   "source": [
    "model.fit(X, y, epochs=100, batch_size=32, validation_split=0.2)"
   ]
  },
  {
   "attachments": {},
   "cell_type": "markdown",
   "metadata": {},
   "source": [
    "# Predicciones del modelo"
   ]
  },
  {
   "cell_type": "code",
   "execution_count": 136,
   "metadata": {},
   "outputs": [],
   "source": [
    "\n",
    "arr = test_df['Índice de absorción'].to_numpy()"
   ]
  },
  {
   "cell_type": "code",
   "execution_count": 137,
   "metadata": {},
   "outputs": [
    {
     "name": "stdout",
     "output_type": "stream",
     "text": [
      "240/240 [==============================] - 0s 521us/step\n",
      "[[  1.5515206   10.008383   119.97869   ]\n",
      " [  1.0948755   10.009536   119.9788    ]\n",
      " [  0.93516886  10.009937   119.97884   ]\n",
      " ...\n",
      " [  4.519638    10.000893   119.9781    ]\n",
      " [  0.905674    10.010014   119.97884   ]\n",
      " [  1.5530804   10.008379   119.97869   ]]\n"
     ]
    }
   ],
   "source": [
    "y_pred = model.predict(arr)\n",
    "print(y_pred)"
   ]
  },
  {
   "cell_type": "code",
   "execution_count": 138,
   "metadata": {},
   "outputs": [
    {
     "data": {
      "text/html": [
       "<div>\n",
       "<style scoped>\n",
       "    .dataframe tbody tr th:only-of-type {\n",
       "        vertical-align: middle;\n",
       "    }\n",
       "\n",
       "    .dataframe tbody tr th {\n",
       "        vertical-align: top;\n",
       "    }\n",
       "\n",
       "    .dataframe thead th {\n",
       "        text-align: right;\n",
       "    }\n",
       "</style>\n",
       "<table border=\"1\" class=\"dataframe\">\n",
       "  <thead>\n",
       "    <tr style=\"text-align: right;\">\n",
       "      <th></th>\n",
       "      <th>0</th>\n",
       "      <th>1</th>\n",
       "      <th>2</th>\n",
       "    </tr>\n",
       "  </thead>\n",
       "  <tbody>\n",
       "    <tr>\n",
       "      <th>0</th>\n",
       "      <td>1.551521</td>\n",
       "      <td>10.008383</td>\n",
       "      <td>119.978691</td>\n",
       "    </tr>\n",
       "    <tr>\n",
       "      <th>1</th>\n",
       "      <td>1.094875</td>\n",
       "      <td>10.009536</td>\n",
       "      <td>119.978798</td>\n",
       "    </tr>\n",
       "    <tr>\n",
       "      <th>2</th>\n",
       "      <td>0.935169</td>\n",
       "      <td>10.009937</td>\n",
       "      <td>119.978844</td>\n",
       "    </tr>\n",
       "    <tr>\n",
       "      <th>3</th>\n",
       "      <td>0.925050</td>\n",
       "      <td>10.009963</td>\n",
       "      <td>119.978828</td>\n",
       "    </tr>\n",
       "    <tr>\n",
       "      <th>4</th>\n",
       "      <td>1.190289</td>\n",
       "      <td>10.009294</td>\n",
       "      <td>119.978767</td>\n",
       "    </tr>\n",
       "    <tr>\n",
       "      <th>...</th>\n",
       "      <td>...</td>\n",
       "      <td>...</td>\n",
       "      <td>...</td>\n",
       "    </tr>\n",
       "    <tr>\n",
       "      <th>7675</th>\n",
       "      <td>1.096004</td>\n",
       "      <td>10.009532</td>\n",
       "      <td>119.978798</td>\n",
       "    </tr>\n",
       "    <tr>\n",
       "      <th>7676</th>\n",
       "      <td>0.931801</td>\n",
       "      <td>10.009946</td>\n",
       "      <td>119.978828</td>\n",
       "    </tr>\n",
       "    <tr>\n",
       "      <th>7677</th>\n",
       "      <td>4.519638</td>\n",
       "      <td>10.000893</td>\n",
       "      <td>119.978104</td>\n",
       "    </tr>\n",
       "    <tr>\n",
       "      <th>7678</th>\n",
       "      <td>0.905674</td>\n",
       "      <td>10.010014</td>\n",
       "      <td>119.978844</td>\n",
       "    </tr>\n",
       "    <tr>\n",
       "      <th>7679</th>\n",
       "      <td>1.553080</td>\n",
       "      <td>10.008379</td>\n",
       "      <td>119.978691</td>\n",
       "    </tr>\n",
       "  </tbody>\n",
       "</table>\n",
       "<p>7680 rows × 3 columns</p>\n",
       "</div>"
      ],
      "text/plain": [
       "             0          1           2\n",
       "0     1.551521  10.008383  119.978691\n",
       "1     1.094875  10.009536  119.978798\n",
       "2     0.935169  10.009937  119.978844\n",
       "3     0.925050  10.009963  119.978828\n",
       "4     1.190289  10.009294  119.978767\n",
       "...        ...        ...         ...\n",
       "7675  1.096004  10.009532  119.978798\n",
       "7676  0.931801  10.009946  119.978828\n",
       "7677  4.519638  10.000893  119.978104\n",
       "7678  0.905674  10.010014  119.978844\n",
       "7679  1.553080  10.008379  119.978691\n",
       "\n",
       "[7680 rows x 3 columns]"
      ]
     },
     "execution_count": 138,
     "metadata": {},
     "output_type": "execute_result"
    }
   ],
   "source": [
    "predicciones = pd.DataFrame(y_pred)\n",
    "predicciones"
   ]
  },
  {
   "attachments": {},
   "cell_type": "markdown",
   "metadata": {},
   "source": [
    "# Renombrando las columnas"
   ]
  },
  {
   "cell_type": "code",
   "execution_count": 139,
   "metadata": {},
   "outputs": [
    {
     "data": {
      "text/html": [
       "<div>\n",
       "<style scoped>\n",
       "    .dataframe tbody tr th:only-of-type {\n",
       "        vertical-align: middle;\n",
       "    }\n",
       "\n",
       "    .dataframe tbody tr th {\n",
       "        vertical-align: top;\n",
       "    }\n",
       "\n",
       "    .dataframe thead th {\n",
       "        text-align: right;\n",
       "    }\n",
       "</style>\n",
       "<table border=\"1\" class=\"dataframe\">\n",
       "  <thead>\n",
       "    <tr style=\"text-align: right;\">\n",
       "      <th></th>\n",
       "      <th>Fracción Volumen</th>\n",
       "      <th>Radio (nm)</th>\n",
       "      <th>Espesor de la película (nm)</th>\n",
       "    </tr>\n",
       "  </thead>\n",
       "  <tbody>\n",
       "    <tr>\n",
       "      <th>0</th>\n",
       "      <td>1.551521</td>\n",
       "      <td>10.008383</td>\n",
       "      <td>119.978691</td>\n",
       "    </tr>\n",
       "    <tr>\n",
       "      <th>1</th>\n",
       "      <td>1.094875</td>\n",
       "      <td>10.009536</td>\n",
       "      <td>119.978798</td>\n",
       "    </tr>\n",
       "    <tr>\n",
       "      <th>2</th>\n",
       "      <td>0.935169</td>\n",
       "      <td>10.009937</td>\n",
       "      <td>119.978844</td>\n",
       "    </tr>\n",
       "    <tr>\n",
       "      <th>3</th>\n",
       "      <td>0.925050</td>\n",
       "      <td>10.009963</td>\n",
       "      <td>119.978828</td>\n",
       "    </tr>\n",
       "    <tr>\n",
       "      <th>4</th>\n",
       "      <td>1.190289</td>\n",
       "      <td>10.009294</td>\n",
       "      <td>119.978767</td>\n",
       "    </tr>\n",
       "    <tr>\n",
       "      <th>...</th>\n",
       "      <td>...</td>\n",
       "      <td>...</td>\n",
       "      <td>...</td>\n",
       "    </tr>\n",
       "    <tr>\n",
       "      <th>7675</th>\n",
       "      <td>1.096004</td>\n",
       "      <td>10.009532</td>\n",
       "      <td>119.978798</td>\n",
       "    </tr>\n",
       "    <tr>\n",
       "      <th>7676</th>\n",
       "      <td>0.931801</td>\n",
       "      <td>10.009946</td>\n",
       "      <td>119.978828</td>\n",
       "    </tr>\n",
       "    <tr>\n",
       "      <th>7677</th>\n",
       "      <td>4.519638</td>\n",
       "      <td>10.000893</td>\n",
       "      <td>119.978104</td>\n",
       "    </tr>\n",
       "    <tr>\n",
       "      <th>7678</th>\n",
       "      <td>0.905674</td>\n",
       "      <td>10.010014</td>\n",
       "      <td>119.978844</td>\n",
       "    </tr>\n",
       "    <tr>\n",
       "      <th>7679</th>\n",
       "      <td>1.553080</td>\n",
       "      <td>10.008379</td>\n",
       "      <td>119.978691</td>\n",
       "    </tr>\n",
       "  </tbody>\n",
       "</table>\n",
       "<p>7680 rows × 3 columns</p>\n",
       "</div>"
      ],
      "text/plain": [
       "      Fracción Volumen  Radio (nm)  Espesor de la película (nm)\n",
       "0             1.551521   10.008383                   119.978691\n",
       "1             1.094875   10.009536                   119.978798\n",
       "2             0.935169   10.009937                   119.978844\n",
       "3             0.925050   10.009963                   119.978828\n",
       "4             1.190289   10.009294                   119.978767\n",
       "...                ...         ...                          ...\n",
       "7675          1.096004   10.009532                   119.978798\n",
       "7676          0.931801   10.009946                   119.978828\n",
       "7677          4.519638   10.000893                   119.978104\n",
       "7678          0.905674   10.010014                   119.978844\n",
       "7679          1.553080   10.008379                   119.978691\n",
       "\n",
       "[7680 rows x 3 columns]"
      ]
     },
     "execution_count": 139,
     "metadata": {},
     "output_type": "execute_result"
    }
   ],
   "source": [
    "predicciones.columns = ['Fracción Volumen', 'Radio (nm)', 'Espesor de la película (nm)']\n",
    "predicciones"
   ]
  },
  {
   "attachments": {},
   "cell_type": "markdown",
   "metadata": {},
   "source": [
    "# Redondeando los valores"
   ]
  },
  {
   "attachments": {},
   "cell_type": "markdown",
   "metadata": {},
   "source": [
    "normal"
   ]
  },
  {
   "cell_type": "code",
   "execution_count": 140,
   "metadata": {},
   "outputs": [
    {
     "data": {
      "text/html": [
       "<div>\n",
       "<style scoped>\n",
       "    .dataframe tbody tr th:only-of-type {\n",
       "        vertical-align: middle;\n",
       "    }\n",
       "\n",
       "    .dataframe tbody tr th {\n",
       "        vertical-align: top;\n",
       "    }\n",
       "\n",
       "    .dataframe thead th {\n",
       "        text-align: right;\n",
       "    }\n",
       "</style>\n",
       "<table border=\"1\" class=\"dataframe\">\n",
       "  <thead>\n",
       "    <tr style=\"text-align: right;\">\n",
       "      <th></th>\n",
       "      <th>Fracción Volumen</th>\n",
       "      <th>Radio (nm)</th>\n",
       "      <th>Espesor de la película (nm)</th>\n",
       "    </tr>\n",
       "  </thead>\n",
       "  <tbody>\n",
       "    <tr>\n",
       "      <th>0</th>\n",
       "      <td>2.0</td>\n",
       "      <td>10.0</td>\n",
       "      <td>120.0</td>\n",
       "    </tr>\n",
       "    <tr>\n",
       "      <th>1</th>\n",
       "      <td>1.0</td>\n",
       "      <td>10.0</td>\n",
       "      <td>120.0</td>\n",
       "    </tr>\n",
       "    <tr>\n",
       "      <th>2</th>\n",
       "      <td>1.0</td>\n",
       "      <td>10.0</td>\n",
       "      <td>120.0</td>\n",
       "    </tr>\n",
       "    <tr>\n",
       "      <th>3</th>\n",
       "      <td>1.0</td>\n",
       "      <td>10.0</td>\n",
       "      <td>120.0</td>\n",
       "    </tr>\n",
       "    <tr>\n",
       "      <th>4</th>\n",
       "      <td>1.0</td>\n",
       "      <td>10.0</td>\n",
       "      <td>120.0</td>\n",
       "    </tr>\n",
       "    <tr>\n",
       "      <th>...</th>\n",
       "      <td>...</td>\n",
       "      <td>...</td>\n",
       "      <td>...</td>\n",
       "    </tr>\n",
       "    <tr>\n",
       "      <th>7675</th>\n",
       "      <td>1.0</td>\n",
       "      <td>10.0</td>\n",
       "      <td>120.0</td>\n",
       "    </tr>\n",
       "    <tr>\n",
       "      <th>7676</th>\n",
       "      <td>1.0</td>\n",
       "      <td>10.0</td>\n",
       "      <td>120.0</td>\n",
       "    </tr>\n",
       "    <tr>\n",
       "      <th>7677</th>\n",
       "      <td>5.0</td>\n",
       "      <td>10.0</td>\n",
       "      <td>120.0</td>\n",
       "    </tr>\n",
       "    <tr>\n",
       "      <th>7678</th>\n",
       "      <td>1.0</td>\n",
       "      <td>10.0</td>\n",
       "      <td>120.0</td>\n",
       "    </tr>\n",
       "    <tr>\n",
       "      <th>7679</th>\n",
       "      <td>2.0</td>\n",
       "      <td>10.0</td>\n",
       "      <td>120.0</td>\n",
       "    </tr>\n",
       "  </tbody>\n",
       "</table>\n",
       "<p>7680 rows × 3 columns</p>\n",
       "</div>"
      ],
      "text/plain": [
       "      Fracción Volumen  Radio (nm)  Espesor de la película (nm)\n",
       "0                  2.0        10.0                        120.0\n",
       "1                  1.0        10.0                        120.0\n",
       "2                  1.0        10.0                        120.0\n",
       "3                  1.0        10.0                        120.0\n",
       "4                  1.0        10.0                        120.0\n",
       "...                ...         ...                          ...\n",
       "7675               1.0        10.0                        120.0\n",
       "7676               1.0        10.0                        120.0\n",
       "7677               5.0        10.0                        120.0\n",
       "7678               1.0        10.0                        120.0\n",
       "7679               2.0        10.0                        120.0\n",
       "\n",
       "[7680 rows x 3 columns]"
      ]
     },
     "execution_count": 140,
     "metadata": {},
     "output_type": "execute_result"
    }
   ],
   "source": [
    "redondeo_arriba = predicciones.round()\n",
    "redondeo_arriba"
   ]
  },
  {
   "attachments": {},
   "cell_type": "markdown",
   "metadata": {},
   "source": [
    "hacia arriba"
   ]
  },
  {
   "cell_type": "code",
   "execution_count": 141,
   "metadata": {},
   "outputs": [
    {
     "data": {
      "text/html": [
       "<div>\n",
       "<style scoped>\n",
       "    .dataframe tbody tr th:only-of-type {\n",
       "        vertical-align: middle;\n",
       "    }\n",
       "\n",
       "    .dataframe tbody tr th {\n",
       "        vertical-align: top;\n",
       "    }\n",
       "\n",
       "    .dataframe thead th {\n",
       "        text-align: right;\n",
       "    }\n",
       "</style>\n",
       "<table border=\"1\" class=\"dataframe\">\n",
       "  <thead>\n",
       "    <tr style=\"text-align: right;\">\n",
       "      <th></th>\n",
       "      <th>Fracción Volumen</th>\n",
       "      <th>Radio (nm)</th>\n",
       "      <th>Espesor de la película (nm)</th>\n",
       "    </tr>\n",
       "  </thead>\n",
       "  <tbody>\n",
       "    <tr>\n",
       "      <th>0</th>\n",
       "      <td>2.0</td>\n",
       "      <td>11.0</td>\n",
       "      <td>120.0</td>\n",
       "    </tr>\n",
       "    <tr>\n",
       "      <th>1</th>\n",
       "      <td>2.0</td>\n",
       "      <td>11.0</td>\n",
       "      <td>120.0</td>\n",
       "    </tr>\n",
       "    <tr>\n",
       "      <th>2</th>\n",
       "      <td>1.0</td>\n",
       "      <td>11.0</td>\n",
       "      <td>120.0</td>\n",
       "    </tr>\n",
       "    <tr>\n",
       "      <th>3</th>\n",
       "      <td>1.0</td>\n",
       "      <td>11.0</td>\n",
       "      <td>120.0</td>\n",
       "    </tr>\n",
       "    <tr>\n",
       "      <th>4</th>\n",
       "      <td>2.0</td>\n",
       "      <td>11.0</td>\n",
       "      <td>120.0</td>\n",
       "    </tr>\n",
       "    <tr>\n",
       "      <th>...</th>\n",
       "      <td>...</td>\n",
       "      <td>...</td>\n",
       "      <td>...</td>\n",
       "    </tr>\n",
       "    <tr>\n",
       "      <th>7675</th>\n",
       "      <td>2.0</td>\n",
       "      <td>11.0</td>\n",
       "      <td>120.0</td>\n",
       "    </tr>\n",
       "    <tr>\n",
       "      <th>7676</th>\n",
       "      <td>1.0</td>\n",
       "      <td>11.0</td>\n",
       "      <td>120.0</td>\n",
       "    </tr>\n",
       "    <tr>\n",
       "      <th>7677</th>\n",
       "      <td>5.0</td>\n",
       "      <td>11.0</td>\n",
       "      <td>120.0</td>\n",
       "    </tr>\n",
       "    <tr>\n",
       "      <th>7678</th>\n",
       "      <td>1.0</td>\n",
       "      <td>11.0</td>\n",
       "      <td>120.0</td>\n",
       "    </tr>\n",
       "    <tr>\n",
       "      <th>7679</th>\n",
       "      <td>2.0</td>\n",
       "      <td>11.0</td>\n",
       "      <td>120.0</td>\n",
       "    </tr>\n",
       "  </tbody>\n",
       "</table>\n",
       "<p>7680 rows × 3 columns</p>\n",
       "</div>"
      ],
      "text/plain": [
       "      Fracción Volumen  Radio (nm)  Espesor de la película (nm)\n",
       "0                  2.0        11.0                        120.0\n",
       "1                  2.0        11.0                        120.0\n",
       "2                  1.0        11.0                        120.0\n",
       "3                  1.0        11.0                        120.0\n",
       "4                  2.0        11.0                        120.0\n",
       "...                ...         ...                          ...\n",
       "7675               2.0        11.0                        120.0\n",
       "7676               1.0        11.0                        120.0\n",
       "7677               5.0        11.0                        120.0\n",
       "7678               1.0        11.0                        120.0\n",
       "7679               2.0        11.0                        120.0\n",
       "\n",
       "[7680 rows x 3 columns]"
      ]
     },
     "execution_count": 141,
     "metadata": {},
     "output_type": "execute_result"
    }
   ],
   "source": [
    "redondeo_ceil =  predicciones.applymap(lambda x: math.ceil(x))\n",
    "redondeo_ceil = redondeo_ceil.astype(float)\n",
    "redondeo_ceil"
   ]
  },
  {
   "attachments": {},
   "cell_type": "markdown",
   "metadata": {},
   "source": [
    "hacia abajo"
   ]
  },
  {
   "cell_type": "code",
   "execution_count": 142,
   "metadata": {},
   "outputs": [
    {
     "data": {
      "text/html": [
       "<div>\n",
       "<style scoped>\n",
       "    .dataframe tbody tr th:only-of-type {\n",
       "        vertical-align: middle;\n",
       "    }\n",
       "\n",
       "    .dataframe tbody tr th {\n",
       "        vertical-align: top;\n",
       "    }\n",
       "\n",
       "    .dataframe thead th {\n",
       "        text-align: right;\n",
       "    }\n",
       "</style>\n",
       "<table border=\"1\" class=\"dataframe\">\n",
       "  <thead>\n",
       "    <tr style=\"text-align: right;\">\n",
       "      <th></th>\n",
       "      <th>Fracción Volumen</th>\n",
       "      <th>Radio (nm)</th>\n",
       "      <th>Espesor de la película (nm)</th>\n",
       "    </tr>\n",
       "  </thead>\n",
       "  <tbody>\n",
       "    <tr>\n",
       "      <th>0</th>\n",
       "      <td>1.0</td>\n",
       "      <td>10.0</td>\n",
       "      <td>119.0</td>\n",
       "    </tr>\n",
       "    <tr>\n",
       "      <th>1</th>\n",
       "      <td>1.0</td>\n",
       "      <td>10.0</td>\n",
       "      <td>119.0</td>\n",
       "    </tr>\n",
       "    <tr>\n",
       "      <th>2</th>\n",
       "      <td>0.0</td>\n",
       "      <td>10.0</td>\n",
       "      <td>119.0</td>\n",
       "    </tr>\n",
       "    <tr>\n",
       "      <th>3</th>\n",
       "      <td>0.0</td>\n",
       "      <td>10.0</td>\n",
       "      <td>119.0</td>\n",
       "    </tr>\n",
       "    <tr>\n",
       "      <th>4</th>\n",
       "      <td>1.0</td>\n",
       "      <td>10.0</td>\n",
       "      <td>119.0</td>\n",
       "    </tr>\n",
       "    <tr>\n",
       "      <th>...</th>\n",
       "      <td>...</td>\n",
       "      <td>...</td>\n",
       "      <td>...</td>\n",
       "    </tr>\n",
       "    <tr>\n",
       "      <th>7675</th>\n",
       "      <td>1.0</td>\n",
       "      <td>10.0</td>\n",
       "      <td>119.0</td>\n",
       "    </tr>\n",
       "    <tr>\n",
       "      <th>7676</th>\n",
       "      <td>0.0</td>\n",
       "      <td>10.0</td>\n",
       "      <td>119.0</td>\n",
       "    </tr>\n",
       "    <tr>\n",
       "      <th>7677</th>\n",
       "      <td>4.0</td>\n",
       "      <td>10.0</td>\n",
       "      <td>119.0</td>\n",
       "    </tr>\n",
       "    <tr>\n",
       "      <th>7678</th>\n",
       "      <td>0.0</td>\n",
       "      <td>10.0</td>\n",
       "      <td>119.0</td>\n",
       "    </tr>\n",
       "    <tr>\n",
       "      <th>7679</th>\n",
       "      <td>1.0</td>\n",
       "      <td>10.0</td>\n",
       "      <td>119.0</td>\n",
       "    </tr>\n",
       "  </tbody>\n",
       "</table>\n",
       "<p>7680 rows × 3 columns</p>\n",
       "</div>"
      ],
      "text/plain": [
       "      Fracción Volumen  Radio (nm)  Espesor de la película (nm)\n",
       "0                  1.0        10.0                        119.0\n",
       "1                  1.0        10.0                        119.0\n",
       "2                  0.0        10.0                        119.0\n",
       "3                  0.0        10.0                        119.0\n",
       "4                  1.0        10.0                        119.0\n",
       "...                ...         ...                          ...\n",
       "7675               1.0        10.0                        119.0\n",
       "7676               0.0        10.0                        119.0\n",
       "7677               4.0        10.0                        119.0\n",
       "7678               0.0        10.0                        119.0\n",
       "7679               1.0        10.0                        119.0\n",
       "\n",
       "[7680 rows x 3 columns]"
      ]
     },
     "execution_count": 142,
     "metadata": {},
     "output_type": "execute_result"
    }
   ],
   "source": [
    "redondeo_abajo = predicciones.apply(np.floor)\n",
    "redondeo_abajo"
   ]
  },
  {
   "cell_type": "code",
   "execution_count": 143,
   "metadata": {},
   "outputs": [
    {
     "data": {
      "text/html": [
       "<div>\n",
       "<style scoped>\n",
       "    .dataframe tbody tr th:only-of-type {\n",
       "        vertical-align: middle;\n",
       "    }\n",
       "\n",
       "    .dataframe tbody tr th {\n",
       "        vertical-align: top;\n",
       "    }\n",
       "\n",
       "    .dataframe thead th {\n",
       "        text-align: right;\n",
       "    }\n",
       "</style>\n",
       "<table border=\"1\" class=\"dataframe\">\n",
       "  <thead>\n",
       "    <tr style=\"text-align: right;\">\n",
       "      <th></th>\n",
       "      <th>Longitud de onda</th>\n",
       "      <th>Índice de absorción</th>\n",
       "      <th>Fracvol</th>\n",
       "      <th>Radio (nm)</th>\n",
       "      <th>Espesor de la película (nm)</th>\n",
       "    </tr>\n",
       "  </thead>\n",
       "  <tbody>\n",
       "    <tr>\n",
       "      <th>27452</th>\n",
       "      <td>492</td>\n",
       "      <td>0.006226</td>\n",
       "      <td>5</td>\n",
       "      <td>10</td>\n",
       "      <td>120</td>\n",
       "    </tr>\n",
       "    <tr>\n",
       "      <th>15009</th>\n",
       "      <td>831</td>\n",
       "      <td>0.001993</td>\n",
       "      <td>1</td>\n",
       "      <td>26</td>\n",
       "      <td>120</td>\n",
       "    </tr>\n",
       "    <tr>\n",
       "      <th>8124</th>\n",
       "      <td>700</td>\n",
       "      <td>0.000512</td>\n",
       "      <td>1</td>\n",
       "      <td>26</td>\n",
       "      <td>120</td>\n",
       "    </tr>\n",
       "    <tr>\n",
       "      <th>38103</th>\n",
       "      <td>748</td>\n",
       "      <td>0.000418</td>\n",
       "      <td>11</td>\n",
       "      <td>10</td>\n",
       "      <td>120</td>\n",
       "    </tr>\n",
       "    <tr>\n",
       "      <th>25872</th>\n",
       "      <td>432</td>\n",
       "      <td>0.002877</td>\n",
       "      <td>1</td>\n",
       "      <td>10</td>\n",
       "      <td>65</td>\n",
       "    </tr>\n",
       "    <tr>\n",
       "      <th>...</th>\n",
       "      <td>...</td>\n",
       "      <td>...</td>\n",
       "      <td>...</td>\n",
       "      <td>...</td>\n",
       "      <td>...</td>\n",
       "    </tr>\n",
       "    <tr>\n",
       "      <th>3746</th>\n",
       "      <td>820</td>\n",
       "      <td>0.002003</td>\n",
       "      <td>7</td>\n",
       "      <td>10</td>\n",
       "      <td>120</td>\n",
       "    </tr>\n",
       "    <tr>\n",
       "      <th>18195</th>\n",
       "      <td>422</td>\n",
       "      <td>0.000481</td>\n",
       "      <td>1</td>\n",
       "      <td>7</td>\n",
       "      <td>120</td>\n",
       "    </tr>\n",
       "    <tr>\n",
       "      <th>37286</th>\n",
       "      <td>551</td>\n",
       "      <td>0.033743</td>\n",
       "      <td>4</td>\n",
       "      <td>10</td>\n",
       "      <td>120</td>\n",
       "    </tr>\n",
       "    <tr>\n",
       "      <th>15361</th>\n",
       "      <td>703</td>\n",
       "      <td>0.000239</td>\n",
       "      <td>1</td>\n",
       "      <td>29</td>\n",
       "      <td>120</td>\n",
       "    </tr>\n",
       "    <tr>\n",
       "      <th>10423</th>\n",
       "      <td>560</td>\n",
       "      <td>0.006241</td>\n",
       "      <td>1</td>\n",
       "      <td>16</td>\n",
       "      <td>120</td>\n",
       "    </tr>\n",
       "  </tbody>\n",
       "</table>\n",
       "<p>7680 rows × 5 columns</p>\n",
       "</div>"
      ],
      "text/plain": [
       "       Longitud de onda  Índice de absorción  Fracvol  Radio (nm)  \\\n",
       "27452               492             0.006226        5          10   \n",
       "15009               831             0.001993        1          26   \n",
       "8124                700             0.000512        1          26   \n",
       "38103               748             0.000418       11          10   \n",
       "25872               432             0.002877        1          10   \n",
       "...                 ...                  ...      ...         ...   \n",
       "3746                820             0.002003        7          10   \n",
       "18195               422             0.000481        1           7   \n",
       "37286               551             0.033743        4          10   \n",
       "15361               703             0.000239        1          29   \n",
       "10423               560             0.006241        1          16   \n",
       "\n",
       "       Espesor de la película (nm)  \n",
       "27452                          120  \n",
       "15009                          120  \n",
       "8124                           120  \n",
       "38103                          120  \n",
       "25872                           65  \n",
       "...                            ...  \n",
       "3746                           120  \n",
       "18195                          120  \n",
       "37286                          120  \n",
       "15361                          120  \n",
       "10423                          120  \n",
       "\n",
       "[7680 rows x 5 columns]"
      ]
     },
     "execution_count": 143,
     "metadata": {},
     "output_type": "execute_result"
    }
   ],
   "source": [
    "test_df"
   ]
  },
  {
   "attachments": {},
   "cell_type": "markdown",
   "metadata": {},
   "source": [
    "# Probando la accurancy del modelo"
   ]
  },
  {
   "attachments": {},
   "cell_type": "markdown",
   "metadata": {},
   "source": [
    "Primero lo haremos por cada parámetro. Se le restará los valores predichos por la red a los valores originales de test. Se contarán el número de ceros y ese será lo acertada que es nuestra red. De tener valores inferiores a 80% en número de ceros este rango se incrementará hasta llegar a un valor que el 80% de los valores sean menores a este"
   ]
  },
  {
   "attachments": {},
   "cell_type": "markdown",
   "metadata": {},
   "source": [
    "# Fracción Volumen"
   ]
  },
  {
   "attachments": {},
   "cell_type": "markdown",
   "metadata": {},
   "source": [
    "Redondeo abajo fracción volumen"
   ]
  },
  {
   "cell_type": "code",
   "execution_count": 144,
   "metadata": {},
   "outputs": [
    {
     "name": "stdout",
     "output_type": "stream",
     "text": [
      "presición del  48.736979166666664 %. Con el redondeo para abajo en fracción volumen\n"
     ]
    }
   ],
   "source": [
    "redondeo_abajo_fracvol = redondeo_abajo['Fracción Volumen'].to_numpy()\n",
    "test_df_fracvol = test_df['Fracvol'].to_numpy()\n",
    "dif = redondeo_abajo_fracvol - test_df_fracvol\n",
    "#count_nonzero() cuenta el número de elementos distintos de cero en el arreglo, mientras que la función size() devuelve el tamaño total del arreglo. \n",
    "total = dif.size\n",
    "num_zeros = dif.size - np.count_nonzero(dif)\n",
    "porcentaje = num_zeros*100/total\n",
    "print(\"presición del \", porcentaje, \"%. Con el redondeo para abajo en fracción volumen\")"
   ]
  },
  {
   "cell_type": "code",
   "execution_count": 145,
   "metadata": {},
   "outputs": [
    {
     "data": {
      "text/plain": [
       "3743"
      ]
     },
     "execution_count": 145,
     "metadata": {},
     "output_type": "execute_result"
    }
   ],
   "source": [
    "num_zeros"
   ]
  },
  {
   "attachments": {},
   "cell_type": "markdown",
   "metadata": {},
   "source": [
    "Umbral de 1"
   ]
  },
  {
   "cell_type": "code",
   "execution_count": 146,
   "metadata": {},
   "outputs": [
    {
     "name": "stdout",
     "output_type": "stream",
     "text": [
      "presición del  78.19010416666667 %. Con el redondeo para abajo en fracción volumen y un rango de 1\n"
     ]
    }
   ],
   "source": [
    "#quiere decir que el 79.60% de los datos son (valor absoluto) 1 o 0 después de restar el test con el predicciones\n",
    "umbral = 1\n",
    "num = np.count_nonzero(np.abs(dif) <= umbral)\n",
    "porcentaje = num*100/total\n",
    "print(\"presición del \", porcentaje, \"%. Con el redondeo para abajo en fracción volumen y un rango de 1\")"
   ]
  },
  {
   "cell_type": "code",
   "execution_count": 108,
   "metadata": {},
   "outputs": [
    {
     "data": {
      "text/plain": [
       "5345"
      ]
     },
     "execution_count": 108,
     "metadata": {},
     "output_type": "execute_result"
    }
   ],
   "source": [
    "nums = []\n",
    "for num in dif:\n",
    "    if np.abs(num) <= 1:\n",
    "        nums.append(num)\n",
    "len(nums)"
   ]
  },
  {
   "attachments": {},
   "cell_type": "markdown",
   "metadata": {},
   "source": [
    "Redondeo arriba fracción volumen"
   ]
  },
  {
   "cell_type": "code",
   "execution_count": 147,
   "metadata": {},
   "outputs": [
    {
     "name": "stdout",
     "output_type": "stream",
     "text": [
      "presición del  66.796875 %. Con el redondeo para arriba en fracción volumen\n"
     ]
    }
   ],
   "source": [
    "redondeo_arriba_fracvol = redondeo_arriba['Fracción Volumen'].to_numpy()\n",
    "test_df_fracvol = test_df['Fracvol'].to_numpy()\n",
    "dif = redondeo_arriba_fracvol - test_df_fracvol\n",
    "#count_nonzero() cuenta el número de elementos distintos de cero en el arreglo, mientras que la función size() devuelve el tamaño total del arreglo. \n",
    "total = dif.size\n",
    "num_zeros = dif.size - np.count_nonzero(dif)\n",
    "porcentaje = num_zeros*100/total\n",
    "print(\"presición del \", porcentaje, \"%. Con el redondeo para arriba en fracción volumen\")"
   ]
  },
  {
   "cell_type": "code",
   "execution_count": 148,
   "metadata": {},
   "outputs": [
    {
     "data": {
      "text/plain": [
       "5130"
      ]
     },
     "execution_count": 148,
     "metadata": {},
     "output_type": "execute_result"
    }
   ],
   "source": [
    "num_zeros"
   ]
  },
  {
   "attachments": {},
   "cell_type": "markdown",
   "metadata": {},
   "source": [
    "Se agrega umbral hasta llegar a 80% de aceptación "
   ]
  },
  {
   "cell_type": "code",
   "execution_count": 149,
   "metadata": {},
   "outputs": [
    {
     "name": "stdout",
     "output_type": "stream",
     "text": [
      "presición del  78.046875 %. Con el redondeo para arriba en fracción volumen y un rango de 1\n",
      "presición del  80.76822916666667 %. Con el redondeo para arriba en fracción volumen y un rango de 2\n"
     ]
    }
   ],
   "source": [
    "i = 1\n",
    "while(porcentaje < 80):\n",
    "    umbral = i\n",
    "    num = np.count_nonzero(np.abs(dif) <= umbral)\n",
    "    porcentaje = num*100/total\n",
    "    print(\"presición del \", porcentaje, \"%. Con el redondeo para arriba en fracción volumen y un rango de\", umbral)\n",
    "    i = i+1"
   ]
  },
  {
   "attachments": {},
   "cell_type": "markdown",
   "metadata": {},
   "source": [
    "Redondeo con ceil"
   ]
  },
  {
   "cell_type": "code",
   "execution_count": 150,
   "metadata": {},
   "outputs": [
    {
     "name": "stdout",
     "output_type": "stream",
     "text": [
      "presición del  26.966145833333332 %. Con el redondeo con ceil en fracción volumen\n"
     ]
    }
   ],
   "source": [
    "redondeo_ceil_fracvol = redondeo_ceil['Fracción Volumen'].to_numpy()\n",
    "test_df_fracvol = test_df['Fracvol'].to_numpy()\n",
    "dif = redondeo_ceil_fracvol - test_df_fracvol\n",
    "#count_nonzero() cuenta el número de elementos distintos de cero en el arreglo, mientras que la función size() devuelve el tamaño total del arreglo. \n",
    "total = dif.size\n",
    "num_zeros = dif.size - np.count_nonzero(dif)\n",
    "porcentaje = num_zeros*100/total\n",
    "print(\"presición del \", porcentaje, \"%. Con el redondeo con ceil en fracción volumen\")"
   ]
  },
  {
   "attachments": {},
   "cell_type": "markdown",
   "metadata": {},
   "source": [
    "Se agrega umbral hasta llegar a 80% de aceptación "
   ]
  },
  {
   "cell_type": "code",
   "execution_count": 151,
   "metadata": {},
   "outputs": [
    {
     "name": "stdout",
     "output_type": "stream",
     "text": [
      "presición del  77.5 %. Con el redondeo ceil en fracción volumen y un rango de 1\n",
      "presición del  81.82291666666667 %. Con el redondeo ceil en fracción volumen y un rango de 2\n"
     ]
    }
   ],
   "source": [
    "i = 1\n",
    "while(porcentaje < 80):\n",
    "    umbral = i\n",
    "    num = np.count_nonzero(np.abs(dif) <= umbral)\n",
    "    porcentaje = num*100/total\n",
    "    print(\"presición del \", porcentaje, \"%. Con el redondeo ceil en fracción volumen y un rango de\", umbral)\n",
    "    i = i+1"
   ]
  },
  {
   "attachments": {},
   "cell_type": "markdown",
   "metadata": {},
   "source": [
    "# Radio"
   ]
  },
  {
   "attachments": {},
   "cell_type": "markdown",
   "metadata": {},
   "source": [
    "Redondeo abajo radio"
   ]
  },
  {
   "cell_type": "code",
   "execution_count": 152,
   "metadata": {},
   "outputs": [
    {
     "name": "stdout",
     "output_type": "stream",
     "text": [
      "presición del  51.015625 %. Con el redondeo para abajo en radio\n"
     ]
    }
   ],
   "source": [
    "redondeo_abajo_radio = redondeo_abajo['Radio (nm)'].to_numpy()\n",
    "test_df_radio = test_df['Radio (nm)'].to_numpy()\n",
    "dif = redondeo_abajo_radio - test_df_radio\n",
    "#count_nonzero() cuenta el número de elementos distintos de cero en el arreglo, mientras que la función size() devuelve el tamaño total del arreglo. \n",
    "total = dif.size\n",
    "num_zeros = dif.size - np.count_nonzero(dif)\n",
    "porcentaje = num_zeros*100/total\n",
    "print(\"presición del \", porcentaje, \"%. Con el redondeo para abajo en radio\")"
   ]
  },
  {
   "attachments": {},
   "cell_type": "markdown",
   "metadata": {},
   "source": [
    "Se agrega umbral hasta llegar a 80% de aceptación "
   ]
  },
  {
   "cell_type": "code",
   "execution_count": 153,
   "metadata": {},
   "outputs": [
    {
     "name": "stdout",
     "output_type": "stream",
     "text": [
      "presición del  55.234375 %. Con el redondeo para abajo en radio y un rango de 1\n",
      "presición del  58.138020833333336 %. Con el redondeo para abajo en radio y un rango de 2\n",
      "presición del  61.393229166666664 %. Con el redondeo para abajo en radio y un rango de 3\n",
      "presición del  64.62239583333333 %. Con el redondeo para abajo en radio y un rango de 4\n",
      "presición del  67.8515625 %. Con el redondeo para abajo en radio y un rango de 5\n",
      "presición del  69.58333333333333 %. Con el redondeo para abajo en radio y un rango de 6\n",
      "presición del  71.2109375 %. Con el redondeo para abajo en radio y un rango de 7\n",
      "presición del  72.87760416666667 %. Con el redondeo para abajo en radio y un rango de 8\n",
      "presición del  74.27083333333333 %. Con el redondeo para abajo en radio y un rango de 9\n",
      "presición del  75.6640625 %. Con el redondeo para abajo en radio y un rango de 10\n",
      "presición del  77.27864583333333 %. Con el redondeo para abajo en radio y un rango de 11\n",
      "presición del  78.90625 %. Con el redondeo para abajo en radio y un rango de 12\n",
      "presición del  80.40364583333333 %. Con el redondeo para abajo en radio y un rango de 13\n"
     ]
    }
   ],
   "source": [
    "i = 1\n",
    "while(porcentaje < 80):\n",
    "    umbral = i\n",
    "    num = np.count_nonzero(np.abs(dif) <= umbral)\n",
    "    porcentaje = num*100/total\n",
    "    print(\"presición del \", porcentaje, \"%. Con el redondeo para abajo en radio y un rango de\", umbral)\n",
    "    i = i+1"
   ]
  },
  {
   "attachments": {},
   "cell_type": "markdown",
   "metadata": {},
   "source": [
    "Redondeo arriba radio"
   ]
  },
  {
   "cell_type": "code",
   "execution_count": 154,
   "metadata": {},
   "outputs": [
    {
     "name": "stdout",
     "output_type": "stream",
     "text": [
      "presición del  52.265625 %. Con el redondeo para arriba en radio\n"
     ]
    }
   ],
   "source": [
    "redondeo_arriba_radio = redondeo_arriba['Radio (nm)'].to_numpy()\n",
    "test_df_radio = test_df['Radio (nm)'].to_numpy()\n",
    "dif = redondeo_arriba_radio - test_df_radio\n",
    "#count_nonzero() cuenta el número de elementos distintos de cero en el arreglo, mientras que la función size() devuelve el tamaño total del arreglo. \n",
    "total = dif.size\n",
    "num_zeros = dif.size - np.count_nonzero(dif)\n",
    "porcentaje = num_zeros*100/total\n",
    "print(\"presición del \", porcentaje, \"%. Con el redondeo para arriba en radio\")"
   ]
  },
  {
   "attachments": {},
   "cell_type": "markdown",
   "metadata": {},
   "source": [
    "Se agrega Umbral hasta llegar a 80% de aceptación"
   ]
  },
  {
   "cell_type": "code",
   "execution_count": 155,
   "metadata": {},
   "outputs": [
    {
     "name": "stdout",
     "output_type": "stream",
     "text": [
      "presición del  55.234375 %. Con el redondeo para arriba en radio y un rango de 1\n",
      "presición del  58.138020833333336 %. Con el redondeo para arriba en radio y un rango de 2\n",
      "presición del  61.393229166666664 %. Con el redondeo para arriba en radio y un rango de 3\n",
      "presición del  64.62239583333333 %. Con el redondeo para arriba en radio y un rango de 4\n",
      "presición del  67.8515625 %. Con el redondeo para arriba en radio y un rango de 5\n",
      "presición del  69.58333333333333 %. Con el redondeo para arriba en radio y un rango de 6\n",
      "presición del  71.2109375 %. Con el redondeo para arriba en radio y un rango de 7\n",
      "presición del  72.87760416666667 %. Con el redondeo para arriba en radio y un rango de 8\n",
      "presición del  74.27083333333333 %. Con el redondeo para arriba en radio y un rango de 9\n",
      "presición del  75.6640625 %. Con el redondeo para arriba en radio y un rango de 10\n",
      "presición del  77.27864583333333 %. Con el redondeo para arriba en radio y un rango de 11\n",
      "presición del  78.90625 %. Con el redondeo para arriba en radio y un rango de 12\n",
      "presición del  80.40364583333333 %. Con el redondeo para arriba en radio y un rango de 13\n"
     ]
    }
   ],
   "source": [
    "i = 1\n",
    "while(porcentaje < 80):\n",
    "    umbral = i\n",
    "    num = np.count_nonzero(np.abs(dif) <= umbral)\n",
    "    porcentaje = num*100/total\n",
    "    print(\"presición del \", porcentaje, \"%. Con el redondeo para arriba en radio y un rango de\", umbral)\n",
    "    i = i+1"
   ]
  },
  {
   "attachments": {},
   "cell_type": "markdown",
   "metadata": {},
   "source": [
    "Redondeo con ceil"
   ]
  },
  {
   "cell_type": "code",
   "execution_count": 157,
   "metadata": {},
   "outputs": [
    {
     "name": "stdout",
     "output_type": "stream",
     "text": [
      "presición del  1.796875 %. Con el redondeo el ceil en radio\n"
     ]
    }
   ],
   "source": [
    "redondeo_ceil_radio = redondeo_ceil['Radio (nm)'].to_numpy()\n",
    "test_df_radio = test_df['Radio (nm)'].to_numpy()\n",
    "dif = redondeo_ceil_radio - test_df_fracvol\n",
    "#count_nonzero() cuenta el número de elementos distintos de cero en el arreglo, mientras que la función size() devuelve el tamaño total del arreglo. \n",
    "total = dif.size\n",
    "num_zeros = dif.size - np.count_nonzero(dif)\n",
    "porcentaje = num_zeros*100/total\n",
    "print(\"presición del \", porcentaje, \"%. Con el redondeo el ceil en radio\")"
   ]
  },
  {
   "cell_type": "code",
   "execution_count": 158,
   "metadata": {},
   "outputs": [
    {
     "name": "stdout",
     "output_type": "stream",
     "text": [
      "presición del  4.8046875 %. Con el redondeo para arriba en radio y un rango de 1\n",
      "presición del  8.033854166666666 %. Con el redondeo para arriba en radio y un rango de 2\n",
      "presición del  11.145833333333334 %. Con el redondeo para arriba en radio y un rango de 3\n",
      "presición del  14.153645833333334 %. Con el redondeo para arriba en radio y un rango de 4\n",
      "presición del  17.122395833333332 %. Con el redondeo para arriba en radio y un rango de 5\n",
      "presición del  18.776041666666668 %. Con el redondeo para arriba en radio y un rango de 6\n",
      "presición del  20.442708333333332 %. Con el redondeo para arriba en radio y un rango de 7\n",
      "presición del  22.044270833333332 %. Con el redondeo para arriba en radio y un rango de 8\n",
      "presición del  23.697916666666668 %. Con el redondeo para arriba en radio y un rango de 9\n",
      "presición del  100.0 %. Con el redondeo para arriba en radio y un rango de 10\n"
     ]
    }
   ],
   "source": [
    "i = 1\n",
    "while(porcentaje < 80):\n",
    "    umbral = i\n",
    "    num = np.count_nonzero(np.abs(dif) <= umbral)\n",
    "    porcentaje = num*100/total\n",
    "    print(\"presición del \", porcentaje, \"%. Con el redondeo para arriba en radio y un rango de\", umbral)\n",
    "    i = i+1"
   ]
  },
  {
   "attachments": {},
   "cell_type": "markdown",
   "metadata": {},
   "source": [
    "# Espesor"
   ]
  },
  {
   "attachments": {},
   "cell_type": "markdown",
   "metadata": {},
   "source": [
    "Redondeo abajo espesor"
   ]
  },
  {
   "cell_type": "code",
   "execution_count": 160,
   "metadata": {},
   "outputs": [
    {
     "name": "stdout",
     "output_type": "stream",
     "text": [
      "presición del  0.0 %. Con el redondeo para abajo en espesor\n"
     ]
    }
   ],
   "source": [
    "redondeo_abajo_espesor = redondeo_abajo['Espesor de la película (nm)'].to_numpy()\n",
    "test_df_espesor = test_df['Espesor de la película (nm)'].to_numpy()\n",
    "dif = redondeo_abajo_espesor - test_df_espesor\n",
    "#count_nonzero() cuenta el número de elementos distintos de cero en el arreglo, mientras que la función size() devuelve el tamaño total del arreglo. \n",
    "total = dif.size\n",
    "num_zeros = dif.size - np.count_nonzero(dif)\n",
    "porcentaje = num_zeros*100/total\n",
    "print(\"presición del \", porcentaje, \"%. Con el redondeo para abajo en espesor\")"
   ]
  },
  {
   "attachments": {},
   "cell_type": "markdown",
   "metadata": {},
   "source": [
    "Se agrega Umbral hasta llegar a 80% de aceptación"
   ]
  },
  {
   "cell_type": "code",
   "execution_count": 161,
   "metadata": {},
   "outputs": [
    {
     "name": "stdout",
     "output_type": "stream",
     "text": [
      "presición del  76.10677083333333 %. Con el redondeo para abajo en espesor y un rango de 1\n",
      "presición del  76.10677083333333 %. Con el redondeo para abajo en espesor y un rango de 2\n",
      "presición del  76.10677083333333 %. Con el redondeo para abajo en espesor y un rango de 3\n",
      "presición del  77.56510416666667 %. Con el redondeo para abajo en espesor y un rango de 4\n",
      "presición del  77.56510416666667 %. Con el redondeo para abajo en espesor y un rango de 5\n",
      "presición del  79.2578125 %. Con el redondeo para abajo en espesor y un rango de 6\n",
      "presición del  79.2578125 %. Con el redondeo para abajo en espesor y un rango de 7\n",
      "presición del  79.2578125 %. Con el redondeo para abajo en espesor y un rango de 8\n",
      "presición del  80.88541666666667 %. Con el redondeo para abajo en espesor y un rango de 9\n"
     ]
    }
   ],
   "source": [
    "i = 1\n",
    "while(porcentaje < 80):\n",
    "    umbral = i\n",
    "    num = np.count_nonzero(np.abs(dif) <= umbral)\n",
    "    porcentaje = num*100/total\n",
    "    print(\"presición del \", porcentaje, \"%. Con el redondeo para abajo en espesor y un rango de\", umbral)\n",
    "    i = i+1"
   ]
  },
  {
   "attachments": {},
   "cell_type": "markdown",
   "metadata": {},
   "source": [
    "Redondeo hacia arriba espesor"
   ]
  },
  {
   "cell_type": "code",
   "execution_count": 162,
   "metadata": {},
   "outputs": [
    {
     "name": "stdout",
     "output_type": "stream",
     "text": [
      "presición del  76.10677083333333 %. Con el redondeo para abajo en espesor\n"
     ]
    }
   ],
   "source": [
    "redondeo_arriba_espesor = redondeo_arriba['Espesor de la película (nm)'].to_numpy()\n",
    "test_df_espesor = test_df['Espesor de la película (nm)'].to_numpy()\n",
    "dif = redondeo_arriba_espesor - test_df_espesor\n",
    "#count_nonzero() cuenta el número de elementos distintos de cero en el arreglo, mientras que la función size() devuelve el tamaño total del arreglo. \n",
    "total = dif.size\n",
    "num_zeros = dif.size - np.count_nonzero(dif)\n",
    "porcentaje = num_zeros*100/total\n",
    "print(\"presición del \", porcentaje, \"%. Con el redondeo para abajo en espesor\")"
   ]
  },
  {
   "attachments": {},
   "cell_type": "markdown",
   "metadata": {},
   "source": [
    "Se agrega Umbral hasta llegar a 80% de aceptación"
   ]
  },
  {
   "cell_type": "code",
   "execution_count": 163,
   "metadata": {},
   "outputs": [
    {
     "name": "stdout",
     "output_type": "stream",
     "text": [
      "presición del  76.10677083333333 %. Con el redondeo para arriba en espesor y un rango de 1\n",
      "presición del  76.10677083333333 %. Con el redondeo para arriba en espesor y un rango de 2\n",
      "presición del  76.10677083333333 %. Con el redondeo para arriba en espesor y un rango de 3\n",
      "presición del  76.10677083333333 %. Con el redondeo para arriba en espesor y un rango de 4\n",
      "presición del  79.2578125 %. Con el redondeo para arriba en espesor y un rango de 5\n",
      "presición del  79.2578125 %. Con el redondeo para arriba en espesor y un rango de 6\n",
      "presición del  79.2578125 %. Con el redondeo para arriba en espesor y un rango de 7\n",
      "presición del  79.2578125 %. Con el redondeo para arriba en espesor y un rango de 8\n",
      "presición del  79.2578125 %. Con el redondeo para arriba en espesor y un rango de 9\n",
      "presición del  82.60416666666667 %. Con el redondeo para arriba en espesor y un rango de 10\n"
     ]
    }
   ],
   "source": [
    "i = 1\n",
    "while(porcentaje < 80):\n",
    "    umbral = i\n",
    "    num = np.count_nonzero(np.abs(dif) <= umbral)\n",
    "    porcentaje = num*100/total\n",
    "    print(\"presición del \", porcentaje, \"%. Con el redondeo para arriba en espesor y un rango de\", umbral)\n",
    "    i = i+1"
   ]
  },
  {
   "attachments": {},
   "cell_type": "markdown",
   "metadata": {},
   "source": [
    "Redondeo con ceil"
   ]
  },
  {
   "cell_type": "code",
   "execution_count": 164,
   "metadata": {},
   "outputs": [
    {
     "name": "stdout",
     "output_type": "stream",
     "text": [
      "presición del  76.10677083333333 %. Con el redondeo ceil abajo en espesor\n"
     ]
    }
   ],
   "source": [
    "redondeo_ceil_espesor = redondeo_ceil['Espesor de la película (nm)'].to_numpy()\n",
    "test_df_espesor = test_df['Espesor de la película (nm)'].to_numpy()\n",
    "dif = redondeo_ceil_espesor - test_df_espesor\n",
    "#count_nonzero() cuenta el número de elementos distintos de cero en el arreglo, mientras que la función size() devuelve el tamaño total del arreglo. \n",
    "total = dif.size\n",
    "num_zeros = dif.size - np.count_nonzero(dif)\n",
    "porcentaje = num_zeros*100/total\n",
    "print(\"presición del \", porcentaje, \"%. Con el redondeo ceil abajo en espesor\")"
   ]
  },
  {
   "attachments": {},
   "cell_type": "markdown",
   "metadata": {},
   "source": [
    "Se agrega Umbral hasta llegar a 80% de aceptación"
   ]
  },
  {
   "cell_type": "code",
   "execution_count": 165,
   "metadata": {},
   "outputs": [
    {
     "name": "stdout",
     "output_type": "stream",
     "text": [
      "presición del  76.10677083333333 %. Con el redondeo para arriba en espesor y un rango de 1\n",
      "presición del  76.10677083333333 %. Con el redondeo para arriba en espesor y un rango de 2\n",
      "presición del  76.10677083333333 %. Con el redondeo para arriba en espesor y un rango de 3\n",
      "presición del  76.10677083333333 %. Con el redondeo para arriba en espesor y un rango de 4\n",
      "presición del  79.2578125 %. Con el redondeo para arriba en espesor y un rango de 5\n",
      "presición del  79.2578125 %. Con el redondeo para arriba en espesor y un rango de 6\n",
      "presición del  79.2578125 %. Con el redondeo para arriba en espesor y un rango de 7\n",
      "presición del  79.2578125 %. Con el redondeo para arriba en espesor y un rango de 8\n",
      "presición del  79.2578125 %. Con el redondeo para arriba en espesor y un rango de 9\n",
      "presición del  82.60416666666667 %. Con el redondeo para arriba en espesor y un rango de 10\n"
     ]
    }
   ],
   "source": [
    "i = 1\n",
    "while(porcentaje < 80):\n",
    "    umbral = i\n",
    "    num = np.count_nonzero(np.abs(dif) <= umbral)\n",
    "    porcentaje = num*100/total\n",
    "    print(\"presición del \", porcentaje, \"%. Con el redondeo para arriba en espesor y un rango de\", umbral)\n",
    "    i = i+1"
   ]
  },
  {
   "attachments": {},
   "cell_type": "markdown",
   "metadata": {},
   "source": [
    "# Colectivo"
   ]
  },
  {
   "attachments": {},
   "cell_type": "markdown",
   "metadata": {},
   "source": [
    "Ajustando la columna test para poder tenerla igual que las de redondeo"
   ]
  },
  {
   "cell_type": "code",
   "execution_count": 126,
   "metadata": {},
   "outputs": [
    {
     "data": {
      "text/html": [
       "<div>\n",
       "<style scoped>\n",
       "    .dataframe tbody tr th:only-of-type {\n",
       "        vertical-align: middle;\n",
       "    }\n",
       "\n",
       "    .dataframe tbody tr th {\n",
       "        vertical-align: top;\n",
       "    }\n",
       "\n",
       "    .dataframe thead th {\n",
       "        text-align: right;\n",
       "    }\n",
       "</style>\n",
       "<table border=\"1\" class=\"dataframe\">\n",
       "  <thead>\n",
       "    <tr style=\"text-align: right;\">\n",
       "      <th></th>\n",
       "      <th>Fracción Volumen</th>\n",
       "      <th>Radio (nm)</th>\n",
       "      <th>Espesor de la película (nm)</th>\n",
       "    </tr>\n",
       "  </thead>\n",
       "  <tbody>\n",
       "    <tr>\n",
       "      <th>0</th>\n",
       "      <td>5.0</td>\n",
       "      <td>10.0</td>\n",
       "      <td>120.0</td>\n",
       "    </tr>\n",
       "    <tr>\n",
       "      <th>1</th>\n",
       "      <td>1.0</td>\n",
       "      <td>26.0</td>\n",
       "      <td>120.0</td>\n",
       "    </tr>\n",
       "    <tr>\n",
       "      <th>2</th>\n",
       "      <td>1.0</td>\n",
       "      <td>26.0</td>\n",
       "      <td>120.0</td>\n",
       "    </tr>\n",
       "    <tr>\n",
       "      <th>3</th>\n",
       "      <td>11.0</td>\n",
       "      <td>10.0</td>\n",
       "      <td>120.0</td>\n",
       "    </tr>\n",
       "    <tr>\n",
       "      <th>4</th>\n",
       "      <td>1.0</td>\n",
       "      <td>10.0</td>\n",
       "      <td>65.0</td>\n",
       "    </tr>\n",
       "    <tr>\n",
       "      <th>...</th>\n",
       "      <td>...</td>\n",
       "      <td>...</td>\n",
       "      <td>...</td>\n",
       "    </tr>\n",
       "    <tr>\n",
       "      <th>7675</th>\n",
       "      <td>7.0</td>\n",
       "      <td>10.0</td>\n",
       "      <td>120.0</td>\n",
       "    </tr>\n",
       "    <tr>\n",
       "      <th>7676</th>\n",
       "      <td>1.0</td>\n",
       "      <td>7.0</td>\n",
       "      <td>120.0</td>\n",
       "    </tr>\n",
       "    <tr>\n",
       "      <th>7677</th>\n",
       "      <td>4.0</td>\n",
       "      <td>10.0</td>\n",
       "      <td>120.0</td>\n",
       "    </tr>\n",
       "    <tr>\n",
       "      <th>7678</th>\n",
       "      <td>1.0</td>\n",
       "      <td>29.0</td>\n",
       "      <td>120.0</td>\n",
       "    </tr>\n",
       "    <tr>\n",
       "      <th>7679</th>\n",
       "      <td>1.0</td>\n",
       "      <td>16.0</td>\n",
       "      <td>120.0</td>\n",
       "    </tr>\n",
       "  </tbody>\n",
       "</table>\n",
       "<p>7680 rows × 3 columns</p>\n",
       "</div>"
      ],
      "text/plain": [
       "      Fracción Volumen  Radio (nm)  Espesor de la película (nm)\n",
       "0                  5.0        10.0                        120.0\n",
       "1                  1.0        26.0                        120.0\n",
       "2                  1.0        26.0                        120.0\n",
       "3                 11.0        10.0                        120.0\n",
       "4                  1.0        10.0                         65.0\n",
       "...                ...         ...                          ...\n",
       "7675               7.0        10.0                        120.0\n",
       "7676               1.0         7.0                        120.0\n",
       "7677               4.0        10.0                        120.0\n",
       "7678               1.0        29.0                        120.0\n",
       "7679               1.0        16.0                        120.0\n",
       "\n",
       "[7680 rows x 3 columns]"
      ]
     },
     "execution_count": 126,
     "metadata": {},
     "output_type": "execute_result"
    }
   ],
   "source": [
    "test2 = test_df.drop(['Longitud de onda', 'Índice de absorción'], axis=1)\n",
    "test2 = test2.astype(float)\n",
    "nuevo = {'Fracvol': 'Fracción Volumen'}\n",
    "test2 = test2.rename(columns = nuevo)\n",
    "test2 = test2.reset_index()\n",
    "test2 = test2.drop(['index'], axis = 1)\n",
    "test2"
   ]
  },
  {
   "cell_type": "code",
   "execution_count": 127,
   "metadata": {},
   "outputs": [
    {
     "data": {
      "text/html": [
       "<div>\n",
       "<style scoped>\n",
       "    .dataframe tbody tr th:only-of-type {\n",
       "        vertical-align: middle;\n",
       "    }\n",
       "\n",
       "    .dataframe tbody tr th {\n",
       "        vertical-align: top;\n",
       "    }\n",
       "\n",
       "    .dataframe thead th {\n",
       "        text-align: right;\n",
       "    }\n",
       "</style>\n",
       "<table border=\"1\" class=\"dataframe\">\n",
       "  <thead>\n",
       "    <tr style=\"text-align: right;\">\n",
       "      <th></th>\n",
       "      <th>Fracción Volumen</th>\n",
       "      <th>Radio (nm)</th>\n",
       "      <th>Espesor de la película (nm)</th>\n",
       "    </tr>\n",
       "  </thead>\n",
       "  <tbody>\n",
       "    <tr>\n",
       "      <th>0</th>\n",
       "      <td>2.0</td>\n",
       "      <td>-5.0</td>\n",
       "      <td>6.0</td>\n",
       "    </tr>\n",
       "    <tr>\n",
       "      <th>1</th>\n",
       "      <td>-1.0</td>\n",
       "      <td>11.0</td>\n",
       "      <td>6.0</td>\n",
       "    </tr>\n",
       "    <tr>\n",
       "      <th>2</th>\n",
       "      <td>-1.0</td>\n",
       "      <td>11.0</td>\n",
       "      <td>6.0</td>\n",
       "    </tr>\n",
       "    <tr>\n",
       "      <th>3</th>\n",
       "      <td>9.0</td>\n",
       "      <td>-5.0</td>\n",
       "      <td>6.0</td>\n",
       "    </tr>\n",
       "    <tr>\n",
       "      <th>4</th>\n",
       "      <td>-1.0</td>\n",
       "      <td>-5.0</td>\n",
       "      <td>-49.0</td>\n",
       "    </tr>\n",
       "    <tr>\n",
       "      <th>...</th>\n",
       "      <td>...</td>\n",
       "      <td>...</td>\n",
       "      <td>...</td>\n",
       "    </tr>\n",
       "    <tr>\n",
       "      <th>7675</th>\n",
       "      <td>5.0</td>\n",
       "      <td>-5.0</td>\n",
       "      <td>6.0</td>\n",
       "    </tr>\n",
       "    <tr>\n",
       "      <th>7676</th>\n",
       "      <td>-1.0</td>\n",
       "      <td>-8.0</td>\n",
       "      <td>6.0</td>\n",
       "    </tr>\n",
       "    <tr>\n",
       "      <th>7677</th>\n",
       "      <td>-3.0</td>\n",
       "      <td>-1.0</td>\n",
       "      <td>5.0</td>\n",
       "    </tr>\n",
       "    <tr>\n",
       "      <th>7678</th>\n",
       "      <td>-1.0</td>\n",
       "      <td>14.0</td>\n",
       "      <td>6.0</td>\n",
       "    </tr>\n",
       "    <tr>\n",
       "      <th>7679</th>\n",
       "      <td>-2.0</td>\n",
       "      <td>1.0</td>\n",
       "      <td>6.0</td>\n",
       "    </tr>\n",
       "  </tbody>\n",
       "</table>\n",
       "<p>7680 rows × 3 columns</p>\n",
       "</div>"
      ],
      "text/plain": [
       "      Fracción Volumen  Radio (nm)  Espesor de la película (nm)\n",
       "0                  2.0        -5.0                          6.0\n",
       "1                 -1.0        11.0                          6.0\n",
       "2                 -1.0        11.0                          6.0\n",
       "3                  9.0        -5.0                          6.0\n",
       "4                 -1.0        -5.0                        -49.0\n",
       "...                ...         ...                          ...\n",
       "7675               5.0        -5.0                          6.0\n",
       "7676              -1.0        -8.0                          6.0\n",
       "7677              -3.0        -1.0                          5.0\n",
       "7678              -1.0        14.0                          6.0\n",
       "7679              -2.0         1.0                          6.0\n",
       "\n",
       "[7680 rows x 3 columns]"
      ]
     },
     "execution_count": 127,
     "metadata": {},
     "output_type": "execute_result"
    }
   ],
   "source": [
    "dif_abajo = test2 - redondeo_abajo\n",
    "dif_abajo"
   ]
  },
  {
   "attachments": {},
   "cell_type": "markdown",
   "metadata": {},
   "source": [
    "Queremos que elimine los renglones que tengan 3 0's"
   ]
  },
  {
   "cell_type": "code",
   "execution_count": 128,
   "metadata": {},
   "outputs": [
    {
     "data": {
      "text/html": [
       "<div>\n",
       "<style scoped>\n",
       "    .dataframe tbody tr th:only-of-type {\n",
       "        vertical-align: middle;\n",
       "    }\n",
       "\n",
       "    .dataframe tbody tr th {\n",
       "        vertical-align: top;\n",
       "    }\n",
       "\n",
       "    .dataframe thead th {\n",
       "        text-align: right;\n",
       "    }\n",
       "</style>\n",
       "<table border=\"1\" class=\"dataframe\">\n",
       "  <thead>\n",
       "    <tr style=\"text-align: right;\">\n",
       "      <th></th>\n",
       "      <th>Fracción Volumen</th>\n",
       "      <th>Radio (nm)</th>\n",
       "      <th>Espesor de la película (nm)</th>\n",
       "    </tr>\n",
       "  </thead>\n",
       "  <tbody>\n",
       "    <tr>\n",
       "      <th>0</th>\n",
       "      <td>2.0</td>\n",
       "      <td>-5.0</td>\n",
       "      <td>6.0</td>\n",
       "    </tr>\n",
       "    <tr>\n",
       "      <th>1</th>\n",
       "      <td>-1.0</td>\n",
       "      <td>11.0</td>\n",
       "      <td>6.0</td>\n",
       "    </tr>\n",
       "    <tr>\n",
       "      <th>2</th>\n",
       "      <td>-1.0</td>\n",
       "      <td>11.0</td>\n",
       "      <td>6.0</td>\n",
       "    </tr>\n",
       "    <tr>\n",
       "      <th>3</th>\n",
       "      <td>9.0</td>\n",
       "      <td>-5.0</td>\n",
       "      <td>6.0</td>\n",
       "    </tr>\n",
       "    <tr>\n",
       "      <th>4</th>\n",
       "      <td>-1.0</td>\n",
       "      <td>-5.0</td>\n",
       "      <td>-49.0</td>\n",
       "    </tr>\n",
       "    <tr>\n",
       "      <th>...</th>\n",
       "      <td>...</td>\n",
       "      <td>...</td>\n",
       "      <td>...</td>\n",
       "    </tr>\n",
       "    <tr>\n",
       "      <th>7675</th>\n",
       "      <td>5.0</td>\n",
       "      <td>-5.0</td>\n",
       "      <td>6.0</td>\n",
       "    </tr>\n",
       "    <tr>\n",
       "      <th>7676</th>\n",
       "      <td>-1.0</td>\n",
       "      <td>-8.0</td>\n",
       "      <td>6.0</td>\n",
       "    </tr>\n",
       "    <tr>\n",
       "      <th>7677</th>\n",
       "      <td>-3.0</td>\n",
       "      <td>-1.0</td>\n",
       "      <td>5.0</td>\n",
       "    </tr>\n",
       "    <tr>\n",
       "      <th>7678</th>\n",
       "      <td>-1.0</td>\n",
       "      <td>14.0</td>\n",
       "      <td>6.0</td>\n",
       "    </tr>\n",
       "    <tr>\n",
       "      <th>7679</th>\n",
       "      <td>-2.0</td>\n",
       "      <td>1.0</td>\n",
       "      <td>6.0</td>\n",
       "    </tr>\n",
       "  </tbody>\n",
       "</table>\n",
       "<p>7680 rows × 3 columns</p>\n",
       "</div>"
      ],
      "text/plain": [
       "      Fracción Volumen  Radio (nm)  Espesor de la película (nm)\n",
       "0                  2.0        -5.0                          6.0\n",
       "1                 -1.0        11.0                          6.0\n",
       "2                 -1.0        11.0                          6.0\n",
       "3                  9.0        -5.0                          6.0\n",
       "4                 -1.0        -5.0                        -49.0\n",
       "...                ...         ...                          ...\n",
       "7675               5.0        -5.0                          6.0\n",
       "7676              -1.0        -8.0                          6.0\n",
       "7677              -3.0        -1.0                          5.0\n",
       "7678              -1.0        14.0                          6.0\n",
       "7679              -2.0         1.0                          6.0\n",
       "\n",
       "[7680 rows x 3 columns]"
      ]
     },
     "execution_count": 128,
     "metadata": {},
     "output_type": "execute_result"
    }
   ],
   "source": [
    "nans3 = ~(dif_abajo == 0).all(axis=1)\n",
    "df_sin_ceros = dif_abajo[nans3]\n",
    "df_sin_ceros"
   ]
  },
  {
   "cell_type": "code",
   "execution_count": 129,
   "metadata": {},
   "outputs": [
    {
     "data": {
      "text/plain": [
       "True"
      ]
     },
     "execution_count": 129,
     "metadata": {},
     "output_type": "execute_result"
    }
   ],
   "source": [
    "df_sin_ceros.equals(dif_abajo)"
   ]
  },
  {
   "attachments": {},
   "cell_type": "markdown",
   "metadata": {},
   "source": [
    "Queremos que elimine los que tengan 2 0's"
   ]
  },
  {
   "cell_type": "code",
   "execution_count": 130,
   "metadata": {},
   "outputs": [
    {
     "data": {
      "text/html": [
       "<div>\n",
       "<style scoped>\n",
       "    .dataframe tbody tr th:only-of-type {\n",
       "        vertical-align: middle;\n",
       "    }\n",
       "\n",
       "    .dataframe tbody tr th {\n",
       "        vertical-align: top;\n",
       "    }\n",
       "\n",
       "    .dataframe thead th {\n",
       "        text-align: right;\n",
       "    }\n",
       "</style>\n",
       "<table border=\"1\" class=\"dataframe\">\n",
       "  <thead>\n",
       "    <tr style=\"text-align: right;\">\n",
       "      <th></th>\n",
       "      <th>Fracción Volumen</th>\n",
       "      <th>Radio (nm)</th>\n",
       "      <th>Espesor de la película (nm)</th>\n",
       "    </tr>\n",
       "  </thead>\n",
       "  <tbody>\n",
       "    <tr>\n",
       "      <th>0</th>\n",
       "      <td>2.0</td>\n",
       "      <td>-5.0</td>\n",
       "      <td>6.0</td>\n",
       "    </tr>\n",
       "    <tr>\n",
       "      <th>1</th>\n",
       "      <td>-1.0</td>\n",
       "      <td>11.0</td>\n",
       "      <td>6.0</td>\n",
       "    </tr>\n",
       "    <tr>\n",
       "      <th>2</th>\n",
       "      <td>-1.0</td>\n",
       "      <td>11.0</td>\n",
       "      <td>6.0</td>\n",
       "    </tr>\n",
       "    <tr>\n",
       "      <th>3</th>\n",
       "      <td>9.0</td>\n",
       "      <td>-5.0</td>\n",
       "      <td>6.0</td>\n",
       "    </tr>\n",
       "    <tr>\n",
       "      <th>4</th>\n",
       "      <td>-1.0</td>\n",
       "      <td>-5.0</td>\n",
       "      <td>-49.0</td>\n",
       "    </tr>\n",
       "    <tr>\n",
       "      <th>...</th>\n",
       "      <td>...</td>\n",
       "      <td>...</td>\n",
       "      <td>...</td>\n",
       "    </tr>\n",
       "    <tr>\n",
       "      <th>7675</th>\n",
       "      <td>5.0</td>\n",
       "      <td>-5.0</td>\n",
       "      <td>6.0</td>\n",
       "    </tr>\n",
       "    <tr>\n",
       "      <th>7676</th>\n",
       "      <td>-1.0</td>\n",
       "      <td>-8.0</td>\n",
       "      <td>6.0</td>\n",
       "    </tr>\n",
       "    <tr>\n",
       "      <th>7677</th>\n",
       "      <td>-3.0</td>\n",
       "      <td>-1.0</td>\n",
       "      <td>5.0</td>\n",
       "    </tr>\n",
       "    <tr>\n",
       "      <th>7678</th>\n",
       "      <td>-1.0</td>\n",
       "      <td>14.0</td>\n",
       "      <td>6.0</td>\n",
       "    </tr>\n",
       "    <tr>\n",
       "      <th>7679</th>\n",
       "      <td>-2.0</td>\n",
       "      <td>1.0</td>\n",
       "      <td>6.0</td>\n",
       "    </tr>\n",
       "  </tbody>\n",
       "</table>\n",
       "<p>7679 rows × 3 columns</p>\n",
       "</div>"
      ],
      "text/plain": [
       "      Fracción Volumen  Radio (nm)  Espesor de la película (nm)\n",
       "0                  2.0        -5.0                          6.0\n",
       "1                 -1.0        11.0                          6.0\n",
       "2                 -1.0        11.0                          6.0\n",
       "3                  9.0        -5.0                          6.0\n",
       "4                 -1.0        -5.0                        -49.0\n",
       "...                ...         ...                          ...\n",
       "7675               5.0        -5.0                          6.0\n",
       "7676              -1.0        -8.0                          6.0\n",
       "7677              -3.0        -1.0                          5.0\n",
       "7678              -1.0        14.0                          6.0\n",
       "7679              -2.0         1.0                          6.0\n",
       "\n",
       "[7679 rows x 3 columns]"
      ]
     },
     "execution_count": 130,
     "metadata": {},
     "output_type": "execute_result"
    }
   ],
   "source": [
    "nans2 = dif_abajo\n",
    "# Definimos una tolerancia\n",
    "tolerancia = 1e-9\n",
    "# Creamos una nueva columna que contenga el número de ceros por fila\n",
    "nans2['zeros'] = (np.isclose(nans2, 0.0, atol=tolerancia)).sum(axis=1)\n",
    "df_sin_ceros = nans2[nans2['zeros'] < 2]\n",
    "df_sin_ceros = df_sin_ceros.drop(columns=['zeros'])\n",
    "df_sin_ceros"
   ]
  },
  {
   "cell_type": "code",
   "execution_count": 131,
   "metadata": {},
   "outputs": [
    {
     "data": {
      "text/plain": [
       "True"
      ]
     },
     "execution_count": 131,
     "metadata": {},
     "output_type": "execute_result"
    }
   ],
   "source": [
    "nans2.equals(dif_abajo)"
   ]
  },
  {
   "attachments": {},
   "cell_type": "markdown",
   "metadata": {},
   "source": [
    "Queremos que elimine los que tenga un NaN"
   ]
  },
  {
   "cell_type": "code",
   "execution_count": 132,
   "metadata": {},
   "outputs": [
    {
     "data": {
      "text/html": [
       "<div>\n",
       "<style scoped>\n",
       "    .dataframe tbody tr th:only-of-type {\n",
       "        vertical-align: middle;\n",
       "    }\n",
       "\n",
       "    .dataframe tbody tr th {\n",
       "        vertical-align: top;\n",
       "    }\n",
       "\n",
       "    .dataframe thead th {\n",
       "        text-align: right;\n",
       "    }\n",
       "</style>\n",
       "<table border=\"1\" class=\"dataframe\">\n",
       "  <thead>\n",
       "    <tr style=\"text-align: right;\">\n",
       "      <th></th>\n",
       "      <th>Fracción Volumen</th>\n",
       "      <th>Radio (nm)</th>\n",
       "      <th>Espesor de la película (nm)</th>\n",
       "      <th>zeros</th>\n",
       "    </tr>\n",
       "  </thead>\n",
       "  <tbody>\n",
       "  </tbody>\n",
       "</table>\n",
       "</div>"
      ],
      "text/plain": [
       "Empty DataFrame\n",
       "Columns: [Fracción Volumen, Radio (nm), Espesor de la película (nm), zeros]\n",
       "Index: []"
      ]
     },
     "execution_count": 132,
     "metadata": {},
     "output_type": "execute_result"
    }
   ],
   "source": [
    "nan1 = dif_abajo\n",
    "df_sin_ceros = nan1.loc[(nan1 != 0).all(axis=1)]\n",
    "df_sin_ceros"
   ]
  },
  {
   "cell_type": "code",
   "execution_count": 133,
   "metadata": {},
   "outputs": [
    {
     "data": {
      "text/plain": [
       "False"
      ]
     },
     "execution_count": 133,
     "metadata": {},
     "output_type": "execute_result"
    }
   ],
   "source": [
    "df_sin_ceros.equals(dif_abajo)"
   ]
  },
  {
   "attachments": {},
   "cell_type": "markdown",
   "metadata": {},
   "source": [
    "Redondeo hacia arriba"
   ]
  },
  {
   "cell_type": "code",
   "execution_count": null,
   "metadata": {},
   "outputs": [
    {
     "data": {
      "text/html": [
       "<div>\n",
       "<style scoped>\n",
       "    .dataframe tbody tr th:only-of-type {\n",
       "        vertical-align: middle;\n",
       "    }\n",
       "\n",
       "    .dataframe tbody tr th {\n",
       "        vertical-align: top;\n",
       "    }\n",
       "\n",
       "    .dataframe thead th {\n",
       "        text-align: right;\n",
       "    }\n",
       "</style>\n",
       "<table border=\"1\" class=\"dataframe\">\n",
       "  <thead>\n",
       "    <tr style=\"text-align: right;\">\n",
       "      <th></th>\n",
       "      <th>Fracción Volumen</th>\n",
       "      <th>Radio (nm)</th>\n",
       "      <th>Espesor de la película (nm)</th>\n",
       "    </tr>\n",
       "  </thead>\n",
       "  <tbody>\n",
       "    <tr>\n",
       "      <th>0</th>\n",
       "      <td>NaN</td>\n",
       "      <td>NaN</td>\n",
       "      <td>NaN</td>\n",
       "    </tr>\n",
       "    <tr>\n",
       "      <th>1</th>\n",
       "      <td>NaN</td>\n",
       "      <td>NaN</td>\n",
       "      <td>NaN</td>\n",
       "    </tr>\n",
       "    <tr>\n",
       "      <th>2</th>\n",
       "      <td>NaN</td>\n",
       "      <td>NaN</td>\n",
       "      <td>NaN</td>\n",
       "    </tr>\n",
       "    <tr>\n",
       "      <th>3</th>\n",
       "      <td>NaN</td>\n",
       "      <td>NaN</td>\n",
       "      <td>NaN</td>\n",
       "    </tr>\n",
       "    <tr>\n",
       "      <th>4</th>\n",
       "      <td>2.0</td>\n",
       "      <td>-6.0</td>\n",
       "      <td>-6.0</td>\n",
       "    </tr>\n",
       "    <tr>\n",
       "      <th>...</th>\n",
       "      <td>...</td>\n",
       "      <td>...</td>\n",
       "      <td>...</td>\n",
       "    </tr>\n",
       "    <tr>\n",
       "      <th>38357</th>\n",
       "      <td>NaN</td>\n",
       "      <td>NaN</td>\n",
       "      <td>NaN</td>\n",
       "    </tr>\n",
       "    <tr>\n",
       "      <th>38373</th>\n",
       "      <td>NaN</td>\n",
       "      <td>NaN</td>\n",
       "      <td>NaN</td>\n",
       "    </tr>\n",
       "    <tr>\n",
       "      <th>38375</th>\n",
       "      <td>NaN</td>\n",
       "      <td>NaN</td>\n",
       "      <td>NaN</td>\n",
       "    </tr>\n",
       "    <tr>\n",
       "      <th>38378</th>\n",
       "      <td>NaN</td>\n",
       "      <td>NaN</td>\n",
       "      <td>NaN</td>\n",
       "    </tr>\n",
       "    <tr>\n",
       "      <th>38399</th>\n",
       "      <td>NaN</td>\n",
       "      <td>NaN</td>\n",
       "      <td>NaN</td>\n",
       "    </tr>\n",
       "  </tbody>\n",
       "</table>\n",
       "<p>13796 rows × 3 columns</p>\n",
       "</div>"
      ],
      "text/plain": [
       "       Fracción Volumen  Radio (nm)  Espesor de la película (nm)\n",
       "0                   NaN         NaN                          NaN\n",
       "1                   NaN         NaN                          NaN\n",
       "2                   NaN         NaN                          NaN\n",
       "3                   NaN         NaN                          NaN\n",
       "4                   2.0        -6.0                         -6.0\n",
       "...                 ...         ...                          ...\n",
       "38357               NaN         NaN                          NaN\n",
       "38373               NaN         NaN                          NaN\n",
       "38375               NaN         NaN                          NaN\n",
       "38378               NaN         NaN                          NaN\n",
       "38399               NaN         NaN                          NaN\n",
       "\n",
       "[13796 rows x 3 columns]"
      ]
     },
     "execution_count": 219,
     "metadata": {},
     "output_type": "execute_result"
    }
   ],
   "source": [
    "dif_arriba = redondeo_arriba - test2\n",
    "dif_arriba"
   ]
  },
  {
   "cell_type": "code",
   "execution_count": null,
   "metadata": {},
   "outputs": [
    {
     "data": {
      "text/html": [
       "<div>\n",
       "<style scoped>\n",
       "    .dataframe tbody tr th:only-of-type {\n",
       "        vertical-align: middle;\n",
       "    }\n",
       "\n",
       "    .dataframe tbody tr th {\n",
       "        vertical-align: top;\n",
       "    }\n",
       "\n",
       "    .dataframe thead th {\n",
       "        text-align: right;\n",
       "    }\n",
       "</style>\n",
       "<table border=\"1\" class=\"dataframe\">\n",
       "  <thead>\n",
       "    <tr style=\"text-align: right;\">\n",
       "      <th></th>\n",
       "      <th>Fracción Volumen</th>\n",
       "      <th>Radio (nm)</th>\n",
       "      <th>Espesor de la película (nm)</th>\n",
       "    </tr>\n",
       "  </thead>\n",
       "  <tbody>\n",
       "    <tr>\n",
       "      <th>4</th>\n",
       "      <td>1.0</td>\n",
       "      <td>-6.0</td>\n",
       "      <td>-6.0</td>\n",
       "    </tr>\n",
       "    <tr>\n",
       "      <th>6</th>\n",
       "      <td>1.0</td>\n",
       "      <td>-18.0</td>\n",
       "      <td>-6.0</td>\n",
       "    </tr>\n",
       "    <tr>\n",
       "      <th>7</th>\n",
       "      <td>-13.0</td>\n",
       "      <td>5.0</td>\n",
       "      <td>-6.0</td>\n",
       "    </tr>\n",
       "    <tr>\n",
       "      <th>13</th>\n",
       "      <td>-6.0</td>\n",
       "      <td>5.0</td>\n",
       "      <td>-6.0</td>\n",
       "    </tr>\n",
       "    <tr>\n",
       "      <th>23</th>\n",
       "      <td>1.0</td>\n",
       "      <td>5.0</td>\n",
       "      <td>-16.0</td>\n",
       "    </tr>\n",
       "    <tr>\n",
       "      <th>...</th>\n",
       "      <td>...</td>\n",
       "      <td>...</td>\n",
       "      <td>...</td>\n",
       "    </tr>\n",
       "    <tr>\n",
       "      <th>7656</th>\n",
       "      <td>1.0</td>\n",
       "      <td>-13.0</td>\n",
       "      <td>-6.0</td>\n",
       "    </tr>\n",
       "    <tr>\n",
       "      <th>7665</th>\n",
       "      <td>1.0</td>\n",
       "      <td>7.0</td>\n",
       "      <td>-6.0</td>\n",
       "    </tr>\n",
       "    <tr>\n",
       "      <th>7672</th>\n",
       "      <td>1.0</td>\n",
       "      <td>5.0</td>\n",
       "      <td>-21.0</td>\n",
       "    </tr>\n",
       "    <tr>\n",
       "      <th>7678</th>\n",
       "      <td>-1.0</td>\n",
       "      <td>5.0</td>\n",
       "      <td>-6.0</td>\n",
       "    </tr>\n",
       "    <tr>\n",
       "      <th>7679</th>\n",
       "      <td>-9.0</td>\n",
       "      <td>5.0</td>\n",
       "      <td>-6.0</td>\n",
       "    </tr>\n",
       "  </tbody>\n",
       "</table>\n",
       "<p>1564 rows × 3 columns</p>\n",
       "</div>"
      ],
      "text/plain": [
       "      Fracción Volumen  Radio (nm)  Espesor de la película (nm)\n",
       "4                  1.0        -6.0                         -6.0\n",
       "6                  1.0       -18.0                         -6.0\n",
       "7                -13.0         5.0                         -6.0\n",
       "13                -6.0         5.0                         -6.0\n",
       "23                 1.0         5.0                        -16.0\n",
       "...                ...         ...                          ...\n",
       "7656               1.0       -13.0                         -6.0\n",
       "7665               1.0         7.0                         -6.0\n",
       "7672               1.0         5.0                        -21.0\n",
       "7678              -1.0         5.0                         -6.0\n",
       "7679              -9.0         5.0                         -6.0\n",
       "\n",
       "[1564 rows x 3 columns]"
      ]
     },
     "execution_count": 220,
     "metadata": {},
     "output_type": "execute_result"
    }
   ],
   "source": [
    "dif_arriba = dif_abajo.dropna(how= 'all')\n",
    "dif_arriba"
   ]
  },
  {
   "attachments": {},
   "cell_type": "markdown",
   "metadata": {},
   "source": [
    "# Función que evalua 2 tipos de errores"
   ]
  },
  {
   "cell_type": "code",
   "execution_count": null,
   "metadata": {},
   "outputs": [],
   "source": [
    "from sklearn.metrics import mean_squared_error, r2_score"
   ]
  },
  {
   "cell_type": "code",
   "execution_count": null,
   "metadata": {},
   "outputs": [],
   "source": [
    "def evaluar_red_neuronal(y_pred, y_true):\n",
    "    # Convertir los DataFrames a numpy arrays\n",
    "    y_pred = y_pred.values\n",
    "    y_true = y_true.values\n",
    "    \n",
    "    # Calcular el MSE y el R2\n",
    "    mse = mean_squared_error(y_true, y_pred)\n",
    "    r2 = r2_score(y_true, y_pred)\n",
    "    \n",
    "    # Imprimir los resultados\n",
    "    print(\"MSE: \", mse)\n",
    "    print(\"R2: \", r2)\n",
    "    \n",
    "    # Devolver el MSE y el R2 como una tupla\n",
    "    return (mse, r2)"
   ]
  },
  {
   "cell_type": "code",
   "execution_count": null,
   "metadata": {},
   "outputs": [
    {
     "name": "stdout",
     "output_type": "stream",
     "text": [
      "MSE:  229.42565104166667\n",
      "R2:  -0.0005251041711837878\n"
     ]
    }
   ],
   "source": [
    "mse, r2 = evaluar_red_neuronal(redondeo_abajo['Espesor de la película (nm)'], test2['Espesor de la película (nm)'])\n"
   ]
  },
  {
   "cell_type": "code",
   "execution_count": null,
   "metadata": {},
   "outputs": [
    {
     "name": "stdout",
     "output_type": "stream",
     "text": [
      "MSE:  15.985416666666667\n",
      "R2:  -0.028586265256485666\n"
     ]
    }
   ],
   "source": [
    "mse, r2 = evaluar_red_neuronal(redondeo_abajo['Fracción Volumen'], test2['Fracción Volumen'])\n"
   ]
  },
  {
   "cell_type": "code",
   "execution_count": null,
   "metadata": {},
   "outputs": [
    {
     "name": "stdout",
     "output_type": "stream",
     "text": [
      "MSE:  69.266015625\n",
      "R2:  0.000445180446051463\n"
     ]
    }
   ],
   "source": [
    "mse, r2 = evaluar_red_neuronal(redondeo_abajo['Radio (nm)'], test2['Radio (nm)'])\n"
   ]
  },
  {
   "cell_type": "code",
   "execution_count": null,
   "metadata": {},
   "outputs": [],
   "source": []
  }
 ],
 "metadata": {
  "kernelspec": {
   "display_name": "Python 3",
   "language": "python",
   "name": "python3"
  },
  "language_info": {
   "codemirror_mode": {
    "name": "ipython",
    "version": 3
   },
   "file_extension": ".py",
   "mimetype": "text/x-python",
   "name": "python",
   "nbconvert_exporter": "python",
   "pygments_lexer": "ipython3",
   "version": "3.10.10"
  },
  "orig_nbformat": 4
 },
 "nbformat": 4,
 "nbformat_minor": 2
}
