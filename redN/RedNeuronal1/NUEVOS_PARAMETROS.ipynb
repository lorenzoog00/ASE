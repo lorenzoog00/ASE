{
 "cells": [
  {
   "cell_type": "code",
   "execution_count": 52,
   "metadata": {},
   "outputs": [],
   "source": [
    "import pandas as pd\n",
    "import os\n",
    "import glob\n",
    "import matplotlib.pyplot as plt\n",
    "import numpy as np\n",
    "import tensorflow as tf\n",
    "import math\n",
    "from sklearn.metrics import mean_squared_error, r2_score\n",
    "import pandas as pd\n",
    "from keras.models import Sequential\n",
    "from keras.layers import Dense\n",
    "from sklearn.preprocessing import MinMaxScaler\n",
    "from sklearn.model_selection import train_test_split\n",
    "from sklearn.neural_network import MLPClassifier\n",
    "from sklearn.preprocessing import MultiLabelBinarizer\n",
    "from sklearn.preprocessing import StandardScaler\n",
    "from sklearn.preprocessing import MaxAbsScaler\n",
    "import numpy as np\n",
    "from sklearn.metrics import mean_absolute_error, r2_score\n",
    "from scipy.stats import pearsonr\n",
    "from tensorflow.keras.models import load_model\n",
    "from joblib import load\n",
    "import joblib\n",
    "import shutil\n",
    "from collections import Counter"
   ]
  },
  {
   "cell_type": "markdown",
   "metadata": {},
   "source": [
    "# Se predicen resultados primero individuales y luego genera 3 carpetas"
   ]
  },
  {
   "cell_type": "markdown",
   "metadata": {},
   "source": [
    "Una de graficas reales que grafica todo los datos que se tienen en graficas individuales, luego una que grafica graficas predichas, que predice con el modelo cargado al principio, la tercera compara las 2 pasadas"
   ]
  },
  {
   "cell_type": "markdown",
   "metadata": {},
   "source": [
    "Carga del modelo normalizado"
   ]
  },
  {
   "cell_type": "code",
   "execution_count": 53,
   "metadata": {},
   "outputs": [],
   "source": [
    "model = tf.keras.models.load_model('h5/EXPERIMENT.h5')"
   ]
  },
  {
   "cell_type": "markdown",
   "metadata": {},
   "source": [
    "# Especificando los valores a usar"
   ]
  },
  {
   "cell_type": "code",
   "execution_count": 54,
   "metadata": {},
   "outputs": [],
   "source": [
    "fracvol =  5\n",
    "radio = 50\n",
    "espesor = 100\n",
    "longitud_de_onda = list(range(301, 901))"
   ]
  },
  {
   "cell_type": "markdown",
   "metadata": {},
   "source": [
    "Creando diccionario"
   ]
  },
  {
   "cell_type": "code",
   "execution_count": 55,
   "metadata": {},
   "outputs": [],
   "source": [
    "data = {\n",
    "    \"Longitud de onda\": longitud_de_onda,\n",
    "    \"Fracvol\": [fracvol] * len(longitud_de_onda),\n",
    "    \"Radio (nm)\": [radio] * len(longitud_de_onda),\n",
    "    \"Espesor de la película (nm)\": [espesor] * len(longitud_de_onda)\n",
    "}"
   ]
  },
  {
   "cell_type": "markdown",
   "metadata": {},
   "source": [
    "Creando DF"
   ]
  },
  {
   "cell_type": "code",
   "execution_count": 56,
   "metadata": {},
   "outputs": [
    {
     "data": {
      "text/html": [
       "<div>\n",
       "<style scoped>\n",
       "    .dataframe tbody tr th:only-of-type {\n",
       "        vertical-align: middle;\n",
       "    }\n",
       "\n",
       "    .dataframe tbody tr th {\n",
       "        vertical-align: top;\n",
       "    }\n",
       "\n",
       "    .dataframe thead th {\n",
       "        text-align: right;\n",
       "    }\n",
       "</style>\n",
       "<table border=\"1\" class=\"dataframe\">\n",
       "  <thead>\n",
       "    <tr style=\"text-align: right;\">\n",
       "      <th></th>\n",
       "      <th>Longitud de onda</th>\n",
       "      <th>Fracvol</th>\n",
       "      <th>Radio (nm)</th>\n",
       "      <th>Espesor de la película (nm)</th>\n",
       "    </tr>\n",
       "  </thead>\n",
       "  <tbody>\n",
       "    <tr>\n",
       "      <th>0</th>\n",
       "      <td>301</td>\n",
       "      <td>5</td>\n",
       "      <td>50</td>\n",
       "      <td>100</td>\n",
       "    </tr>\n",
       "    <tr>\n",
       "      <th>1</th>\n",
       "      <td>302</td>\n",
       "      <td>5</td>\n",
       "      <td>50</td>\n",
       "      <td>100</td>\n",
       "    </tr>\n",
       "    <tr>\n",
       "      <th>2</th>\n",
       "      <td>303</td>\n",
       "      <td>5</td>\n",
       "      <td>50</td>\n",
       "      <td>100</td>\n",
       "    </tr>\n",
       "    <tr>\n",
       "      <th>3</th>\n",
       "      <td>304</td>\n",
       "      <td>5</td>\n",
       "      <td>50</td>\n",
       "      <td>100</td>\n",
       "    </tr>\n",
       "    <tr>\n",
       "      <th>4</th>\n",
       "      <td>305</td>\n",
       "      <td>5</td>\n",
       "      <td>50</td>\n",
       "      <td>100</td>\n",
       "    </tr>\n",
       "    <tr>\n",
       "      <th>...</th>\n",
       "      <td>...</td>\n",
       "      <td>...</td>\n",
       "      <td>...</td>\n",
       "      <td>...</td>\n",
       "    </tr>\n",
       "    <tr>\n",
       "      <th>595</th>\n",
       "      <td>896</td>\n",
       "      <td>5</td>\n",
       "      <td>50</td>\n",
       "      <td>100</td>\n",
       "    </tr>\n",
       "    <tr>\n",
       "      <th>596</th>\n",
       "      <td>897</td>\n",
       "      <td>5</td>\n",
       "      <td>50</td>\n",
       "      <td>100</td>\n",
       "    </tr>\n",
       "    <tr>\n",
       "      <th>597</th>\n",
       "      <td>898</td>\n",
       "      <td>5</td>\n",
       "      <td>50</td>\n",
       "      <td>100</td>\n",
       "    </tr>\n",
       "    <tr>\n",
       "      <th>598</th>\n",
       "      <td>899</td>\n",
       "      <td>5</td>\n",
       "      <td>50</td>\n",
       "      <td>100</td>\n",
       "    </tr>\n",
       "    <tr>\n",
       "      <th>599</th>\n",
       "      <td>900</td>\n",
       "      <td>5</td>\n",
       "      <td>50</td>\n",
       "      <td>100</td>\n",
       "    </tr>\n",
       "  </tbody>\n",
       "</table>\n",
       "<p>600 rows × 4 columns</p>\n",
       "</div>"
      ],
      "text/plain": [
       "     Longitud de onda  Fracvol  Radio (nm)  Espesor de la película (nm)\n",
       "0                 301        5          50                          100\n",
       "1                 302        5          50                          100\n",
       "2                 303        5          50                          100\n",
       "3                 304        5          50                          100\n",
       "4                 305        5          50                          100\n",
       "..                ...      ...         ...                          ...\n",
       "595               896        5          50                          100\n",
       "596               897        5          50                          100\n",
       "597               898        5          50                          100\n",
       "598               899        5          50                          100\n",
       "599               900        5          50                          100\n",
       "\n",
       "[600 rows x 4 columns]"
      ]
     },
     "execution_count": 56,
     "metadata": {},
     "output_type": "execute_result"
    }
   ],
   "source": [
    "df  = pd.DataFrame(data)\n",
    "df"
   ]
  },
  {
   "cell_type": "markdown",
   "metadata": {},
   "source": [
    "Normalizando valores"
   ]
  },
  {
   "cell_type": "code",
   "execution_count": 57,
   "metadata": {},
   "outputs": [],
   "source": [
    "scaler_X = joblib.load('minmax_scaler_X.pkl')\n",
    "x = df.values\n",
    "x_norm = scaler_X.transform(x)"
   ]
  },
  {
   "cell_type": "markdown",
   "metadata": {},
   "source": [
    "# Predicciones"
   ]
  },
  {
   "cell_type": "code",
   "execution_count": 58,
   "metadata": {},
   "outputs": [
    {
     "name": "stdout",
     "output_type": "stream",
     "text": [
      "19/19 [==============================] - 0s 622us/step\n"
     ]
    }
   ],
   "source": [
    "predictions = model.predict(x_norm)"
   ]
  },
  {
   "cell_type": "code",
   "execution_count": 59,
   "metadata": {},
   "outputs": [],
   "source": [
    "df1 = pd.DataFrame(df, columns = ['Longitud de onda', 'Fracvol', 'Radio (nm)', 'Espesor de la película (nm)'])\n",
    "df2 = pd.DataFrame(predictions , columns = ['Índice de absorción'])"
   ]
  },
  {
   "cell_type": "code",
   "execution_count": 60,
   "metadata": {},
   "outputs": [
    {
     "data": {
      "text/html": [
       "<div>\n",
       "<style scoped>\n",
       "    .dataframe tbody tr th:only-of-type {\n",
       "        vertical-align: middle;\n",
       "    }\n",
       "\n",
       "    .dataframe tbody tr th {\n",
       "        vertical-align: top;\n",
       "    }\n",
       "\n",
       "    .dataframe thead th {\n",
       "        text-align: right;\n",
       "    }\n",
       "</style>\n",
       "<table border=\"1\" class=\"dataframe\">\n",
       "  <thead>\n",
       "    <tr style=\"text-align: right;\">\n",
       "      <th></th>\n",
       "      <th>Longitud de onda</th>\n",
       "      <th>Fracvol</th>\n",
       "      <th>Radio (nm)</th>\n",
       "      <th>Espesor de la película (nm)</th>\n",
       "      <th>Índice de absorción</th>\n",
       "    </tr>\n",
       "  </thead>\n",
       "  <tbody>\n",
       "    <tr>\n",
       "      <th>0</th>\n",
       "      <td>301</td>\n",
       "      <td>5</td>\n",
       "      <td>50</td>\n",
       "      <td>100</td>\n",
       "      <td>0.003349</td>\n",
       "    </tr>\n",
       "    <tr>\n",
       "      <th>1</th>\n",
       "      <td>302</td>\n",
       "      <td>5</td>\n",
       "      <td>50</td>\n",
       "      <td>100</td>\n",
       "      <td>0.003297</td>\n",
       "    </tr>\n",
       "    <tr>\n",
       "      <th>2</th>\n",
       "      <td>303</td>\n",
       "      <td>5</td>\n",
       "      <td>50</td>\n",
       "      <td>100</td>\n",
       "      <td>0.003242</td>\n",
       "    </tr>\n",
       "    <tr>\n",
       "      <th>3</th>\n",
       "      <td>304</td>\n",
       "      <td>5</td>\n",
       "      <td>50</td>\n",
       "      <td>100</td>\n",
       "      <td>0.003013</td>\n",
       "    </tr>\n",
       "    <tr>\n",
       "      <th>4</th>\n",
       "      <td>305</td>\n",
       "      <td>5</td>\n",
       "      <td>50</td>\n",
       "      <td>100</td>\n",
       "      <td>0.002823</td>\n",
       "    </tr>\n",
       "    <tr>\n",
       "      <th>...</th>\n",
       "      <td>...</td>\n",
       "      <td>...</td>\n",
       "      <td>...</td>\n",
       "      <td>...</td>\n",
       "      <td>...</td>\n",
       "    </tr>\n",
       "    <tr>\n",
       "      <th>595</th>\n",
       "      <td>896</td>\n",
       "      <td>5</td>\n",
       "      <td>50</td>\n",
       "      <td>100</td>\n",
       "      <td>0.004938</td>\n",
       "    </tr>\n",
       "    <tr>\n",
       "      <th>596</th>\n",
       "      <td>897</td>\n",
       "      <td>5</td>\n",
       "      <td>50</td>\n",
       "      <td>100</td>\n",
       "      <td>0.004944</td>\n",
       "    </tr>\n",
       "    <tr>\n",
       "      <th>597</th>\n",
       "      <td>898</td>\n",
       "      <td>5</td>\n",
       "      <td>50</td>\n",
       "      <td>100</td>\n",
       "      <td>0.004951</td>\n",
       "    </tr>\n",
       "    <tr>\n",
       "      <th>598</th>\n",
       "      <td>899</td>\n",
       "      <td>5</td>\n",
       "      <td>50</td>\n",
       "      <td>100</td>\n",
       "      <td>0.004958</td>\n",
       "    </tr>\n",
       "    <tr>\n",
       "      <th>599</th>\n",
       "      <td>900</td>\n",
       "      <td>5</td>\n",
       "      <td>50</td>\n",
       "      <td>100</td>\n",
       "      <td>0.004964</td>\n",
       "    </tr>\n",
       "  </tbody>\n",
       "</table>\n",
       "<p>600 rows × 5 columns</p>\n",
       "</div>"
      ],
      "text/plain": [
       "     Longitud de onda  Fracvol  Radio (nm)  Espesor de la película (nm)  \\\n",
       "0                 301        5          50                          100   \n",
       "1                 302        5          50                          100   \n",
       "2                 303        5          50                          100   \n",
       "3                 304        5          50                          100   \n",
       "4                 305        5          50                          100   \n",
       "..                ...      ...         ...                          ...   \n",
       "595               896        5          50                          100   \n",
       "596               897        5          50                          100   \n",
       "597               898        5          50                          100   \n",
       "598               899        5          50                          100   \n",
       "599               900        5          50                          100   \n",
       "\n",
       "     Índice de absorción  \n",
       "0               0.003349  \n",
       "1               0.003297  \n",
       "2               0.003242  \n",
       "3               0.003013  \n",
       "4               0.002823  \n",
       "..                   ...  \n",
       "595             0.004938  \n",
       "596             0.004944  \n",
       "597             0.004951  \n",
       "598             0.004958  \n",
       "599             0.004964  \n",
       "\n",
       "[600 rows x 5 columns]"
      ]
     },
     "execution_count": 60,
     "metadata": {},
     "output_type": "execute_result"
    }
   ],
   "source": [
    "result_df = pd.concat([df1, df2], axis=1)\n",
    "result_df"
   ]
  },
  {
   "cell_type": "markdown",
   "metadata": {},
   "source": [
    "# Gráfica con valores normalizados"
   ]
  },
  {
   "cell_type": "code",
   "execution_count": 61,
   "metadata": {},
   "outputs": [
    {
     "data": {
      "image/png": "[encoded data removed]",
      "text/plain": [
       "<Figure size 1000x600 with 1 Axes>"
      ]
     },
     "metadata": {},
     "output_type": "display_data"
    }
   ],
   "source": [
    "columnas_seleccionadas = ['Longitud de onda', 'Índice de absorción']\n",
    "df_seleccionado = result_df[columnas_seleccionadas]\n",
    "titulo = 'fracción volumen: {:.2f}, radio: {:.2f}, espesor: {:.2f}'.format(fracvol, radio, espesor)\n",
    "\n",
    "# Crear la gráfica de dispersión\n",
    "plt.figure(figsize=(10, 6))\n",
    "plt.plot(df_seleccionado['Longitud de onda'], df_seleccionado['Índice de absorción'], color='blue')\n",
    "plt.xlabel('Longitud de onda')\n",
    "plt.ylabel('Índice de absorción')\n",
    "plt.title(titulo)\n",
    "plt.grid(True)\n",
    "plt.show()"
   ]
  },
  {
   "cell_type": "markdown",
   "metadata": {},
   "source": [
    "# Haciendolo con varias gráficas a la vez"
   ]
  },
  {
   "cell_type": "markdown",
   "metadata": {},
   "source": [
    "Funcion que genera y guarda imagenes generadas"
   ]
  },
  {
   "cell_type": "code",
   "execution_count": 62,
   "metadata": {},
   "outputs": [],
   "source": [
    "files = [file for file in os.listdir('./parametros')]\n",
    "\n",
    "param = pd.DataFrame()\n",
    "for file in files:\n",
    "  df = pd.read_csv('./parametros/'+file)\n",
    "  param = pd.concat([param, df], axis= 0)"
   ]
  },
  {
   "cell_type": "code",
   "execution_count": 63,
   "metadata": {},
   "outputs": [],
   "source": [
    "combinaciones_unicas = param[['Fracvol', 'Radio (nm)', 'Espesor de la película (nm)']].drop_duplicates().reset_index(drop=True)\n",
    "combinaciones_filtradas = combinaciones_unicas[combinaciones_unicas['Fracvol'] <= 3].reset_index(drop=True)"
   ]
  },
  {
   "cell_type": "code",
   "execution_count": 64,
   "metadata": {},
   "outputs": [],
   "source": [
    "fracvol = combinaciones_filtradas['Fracvol'].tolist()\n",
    "radio = combinaciones_filtradas['Radio (nm)'].tolist()\n",
    "espesor = combinaciones_filtradas['Espesor de la película (nm)'].tolist()\n",
    "longitud_de_onda = list(range(301, 901))"
   ]
  },
  {
   "cell_type": "markdown",
   "metadata": {},
   "source": [
    "Borrando carpetas para que no se dupliquen"
   ]
  },
  {
   "cell_type": "code",
   "execution_count": 65,
   "metadata": {},
   "outputs": [],
   "source": [
    "# Ruta del directorio\n",
    "dir_path = 'graficas_reales'\n",
    "\n",
    "# Si el directorio ya existe, eliminarlo\n",
    "if os.path.exists(dir_path):\n",
    "    shutil.rmtree(dir_path)\n",
    "\n",
    "# Crear el directorio\n",
    "os.makedirs(dir_path)"
   ]
  },
  {
   "cell_type": "code",
   "execution_count": 66,
   "metadata": {},
   "outputs": [],
   "source": [
    "# Asegurarse de que la carpeta graficas_reales exista\n",
    "if not os.path.exists('graficas_reales'):\n",
    "    os.makedirs('graficas_reales')\n",
    "\n",
    "# Iterar sobre las combinaciones únicas y filtradas\n",
    "for f, r, e in zip(fracvol, radio, espesor):\n",
    "    # Filtrar el dataframe params para obtener datos que coincidan con la combinación actual\n",
    "    subset = param[(param['Fracvol'] == f) & \n",
    "                    (param['Radio (nm)'] == r) & \n",
    "                    (param['Espesor de la película (nm)'] == e)]\n",
    "    \n",
    "    # Si hay menos de 600 datos para esta combinación, saltar a la siguiente iteración\n",
    "    if len(subset) < 600:\n",
    "        continue\n",
    "\n",
    "    # Crear la gráfica de dispersión para esta combinación\n",
    "    plt.figure(figsize=(10, 6))\n",
    "    plt.plot(subset['Longitud de onda'], subset['Índice de absorción'], color='blue')\n",
    "    plt.xlabel('Longitud de onda')\n",
    "    plt.ylabel('Índice de absorción')\n",
    "    titulo = 'fracción volumen: {:.2f}, radio: {:.2f}, espesor: {:.2f}'.format(f, r, e)\n",
    "    plt.title(titulo)\n",
    "    plt.grid(True)\n",
    "    filename = 'graficas_reales/grafica_{:.2f}_{:.2f}_{:.2f}.png'.format(f, r, e)\n",
    "    plt.savefig(filename)\n",
    "    plt.close()\n",
    "\n",
    "\n"
   ]
  },
  {
   "cell_type": "code",
   "execution_count": 67,
   "metadata": {},
   "outputs": [],
   "source": [
    "# Ruta del directorio\n",
    "dir_path = 'graficas_predichas'\n",
    "\n",
    "# Si el directorio ya existe, eliminarlo\n",
    "if os.path.exists(dir_path):\n",
    "    shutil.rmtree(dir_path)\n",
    "\n",
    "# Crear el directorio\n",
    "os.makedirs(dir_path)"
   ]
  },
  {
   "cell_type": "code",
   "execution_count": 68,
   "metadata": {},
   "outputs": [
    {
     "name": "stdout",
     "output_type": "stream",
     "text": [
      "19/19 [==============================] - 0s 611us/step\n"
     ]
    },
    {
     "name": "stdout",
     "output_type": "stream",
     "text": [
      "19/19 [==============================] - 0s 532us/step\n",
      "19/19 [==============================] - 0s 439us/step\n",
      "19/19 [==============================] - 0s 385us/step\n",
      "19/19 [==============================] - 0s 438us/step\n",
      "19/19 [==============================] - 0s 393us/step\n",
      "19/19 [==============================] - 0s 702us/step\n",
      "19/19 [==============================] - 0s 630us/step\n",
      "19/19 [==============================] - 0s 772us/step\n",
      "19/19 [==============================] - 0s 391us/step\n",
      "19/19 [==============================] - 0s 375us/step\n",
      "19/19 [==============================] - 0s 425us/step\n",
      "19/19 [==============================] - 0s 748us/step\n",
      "19/19 [==============================] - 0s 391us/step\n",
      "19/19 [==============================] - 0s 766us/step\n",
      "19/19 [==============================] - 0s 425us/step\n",
      "19/19 [==============================] - 0s 395us/step\n",
      "19/19 [==============================] - 0s 564us/step\n",
      "19/19 [==============================] - 0s 768us/step\n",
      "19/19 [==============================] - 0s 390us/step\n",
      "19/19 [==============================] - 0s 370us/step\n",
      "19/19 [==============================] - 0s 375us/step\n",
      "19/19 [==============================] - 0s 380us/step\n",
      "19/19 [==============================] - 0s 391us/step\n",
      "19/19 [==============================] - 0s 387us/step\n",
      "19/19 [==============================] - 0s 726us/step\n",
      "19/19 [==============================] - 0s 386us/step\n",
      "19/19 [==============================] - 0s 429us/step\n",
      "19/19 [==============================] - 0s 373us/step\n",
      "19/19 [==============================] - 0s 392us/step\n",
      "19/19 [==============================] - 0s 768us/step\n",
      "19/19 [==============================] - 0s 391us/step\n",
      "19/19 [==============================] - 0s 395us/step\n",
      "19/19 [==============================] - 0s 730us/step\n",
      "19/19 [==============================] - 0s 555us/step\n",
      "19/19 [==============================] - 0s 731us/step\n",
      "19/19 [==============================] - 0s 727us/step\n",
      "19/19 [==============================] - 0s 782us/step\n",
      "19/19 [==============================] - 0s 769us/step\n",
      "19/19 [==============================] - 0s 426us/step\n",
      "19/19 [==============================] - 0s 767us/step\n",
      "19/19 [==============================] - 0s 772us/step\n",
      "19/19 [==============================] - 0s 766us/step\n",
      "19/19 [==============================] - 0s 385us/step\n",
      "19/19 [==============================] - 0s 426us/step\n",
      "19/19 [==============================] - 0s 390us/step\n",
      "19/19 [==============================] - 0s 765us/step\n",
      "19/19 [==============================] - 0s 767us/step\n",
      "19/19 [==============================] - 0s 562us/step\n",
      "19/19 [==============================] - 0s 769us/step\n",
      "19/19 [==============================] - 0s 725us/step\n",
      "19/19 [==============================] - 0s 400us/step\n",
      "19/19 [==============================] - 0s 391us/step\n",
      "19/19 [==============================] - 0s 393us/step\n",
      "19/19 [==============================] - 0s 379us/step\n",
      "19/19 [==============================] - 0s 775us/step\n",
      "19/19 [==============================] - 0s 389us/step\n",
      "19/19 [==============================] - 0s 395us/step\n",
      "19/19 [==============================] - 0s 423us/step\n",
      "19/19 [==============================] - 0s 392us/step\n",
      "19/19 [==============================] - 0s 764us/step\n",
      "19/19 [==============================] - 0s 769us/step\n",
      "19/19 [==============================] - 0s 732us/step\n",
      "19/19 [==============================] - 0s 748us/step\n",
      "19/19 [==============================] - 0s 396us/step\n",
      "19/19 [==============================] - 0s 462us/step\n",
      "19/19 [==============================] - 0s 389us/step\n",
      "19/19 [==============================] - 0s 489us/step\n",
      "19/19 [==============================] - 0s 497us/step\n",
      "19/19 [==============================] - 0s 492us/step\n",
      "19/19 [==============================] - 0s 497us/step\n",
      "19/19 [==============================] - 0s 423us/step\n",
      "19/19 [==============================] - 0s 326us/step\n",
      "19/19 [==============================] - 0s 659us/step\n",
      "19/19 [==============================] - 0s 545us/step\n",
      "19/19 [==============================] - 0s 517us/step\n",
      "19/19 [==============================] - 0s 304us/step\n",
      "19/19 [==============================] - 0s 516us/step\n",
      "19/19 [==============================] - 0s 609us/step\n",
      "19/19 [==============================] - 0s 528us/step\n",
      "19/19 [==============================] - 0s 382us/step\n",
      "19/19 [==============================] - 0s 609us/step\n",
      "19/19 [==============================] - 0s 500us/step\n"
     ]
    }
   ],
   "source": [
    "# Asegurar que la carpeta existe o crearla\n",
    "carpeta = \"graficas_predichas\"\n",
    "if not os.path.exists(carpeta):\n",
    "    os.mkdir(carpeta)\n",
    "\n",
    "# Asumiendo que todos los arrays (fracvol, radio, espesor) tienen la misma longitud:\n",
    "num_elementos = len(fracvol)\n",
    "\n",
    "scaler_X = load('minmax_scaler_X.pkl')\n",
    "\n",
    "for i in range(num_elementos):\n",
    "    data = {\n",
    "        \"Longitud de onda\": longitud_de_onda,\n",
    "        \"Fracvol\": [fracvol[i]] * len(longitud_de_onda),\n",
    "        \"Radio (nm)\": [radio[i]] * len(longitud_de_onda),\n",
    "        \"Espesor de la película (nm)\": [espesor[i]] * len(longitud_de_onda)\n",
    "    }\n",
    "    \n",
    "    df = pd.DataFrame(data)\n",
    "    x = df.values\n",
    "    x_norm = scaler_X.transform(x)\n",
    "    predictions = model.predict(x_norm)\n",
    "\n",
    "    df[\"Índice de absorción\"] = predictions\n",
    "\n",
    "    columnas_seleccionadas = ['Longitud de onda', 'Índice de absorción']\n",
    "    df_seleccionado = df[columnas_seleccionadas]\n",
    "    titulo = 'fracción volumen: {:.2f}, radio: {:.2f}, espesor: {:.2f}'.format(fracvol[i], radio[i], espesor[i])\n",
    "\n",
    "    # Crear la gráfica de dispersión\n",
    "    plt.figure(figsize=(10, 6))\n",
    "    plt.plot(df_seleccionado['Longitud de onda'], df_seleccionado['Índice de absorción'], color='blue')\n",
    "    plt.xlabel('Longitud de onda')\n",
    "    plt.ylabel('Índice de absorción')\n",
    "    plt.title(titulo)\n",
    "    plt.grid(True)\n",
    "    \n",
    "    # Guardar la gráfica como imagen en la carpeta especificada\n",
    "    nombre_archivo = os.path.join(carpeta, \"grafica_{}_{}_{}.png\".format(fracvol[i], radio[i], espesor[i]))\n",
    "    plt.savefig(nombre_archivo)\n",
    "    plt.close()"
   ]
  },
  {
   "cell_type": "code",
   "execution_count": 69,
   "metadata": {},
   "outputs": [],
   "source": [
    "longitud_de_onda = list(range(300, 900))"
   ]
  },
  {
   "cell_type": "code",
   "execution_count": 70,
   "metadata": {},
   "outputs": [
    {
     "data": {
      "text/plain": [
       "600"
      ]
     },
     "execution_count": 70,
     "metadata": {},
     "output_type": "execute_result"
    }
   ],
   "source": [
    "len(longitud_de_onda)"
   ]
  },
  {
   "cell_type": "markdown",
   "metadata": {},
   "source": [
    "Borrando carpetas si ya existen"
   ]
  },
  {
   "cell_type": "code",
   "execution_count": 71,
   "metadata": {},
   "outputs": [],
   "source": [
    "# Ruta del directorio\n",
    "dir_path = 'comparacion_de_datos'\n",
    "\n",
    "# Si el directorio ya existe, eliminarlo\n",
    "if os.path.exists(dir_path):\n",
    "    shutil.rmtree(dir_path)\n",
    "\n",
    "# Crear el directorio\n",
    "os.makedirs(dir_path)\n",
    "\n",
    "# Lista para almacenar los errores MSE\n",
    "errores_mse = []"
   ]
  },
  {
   "cell_type": "markdown",
   "metadata": {},
   "source": [
    "Solo guarda las graficas con errores menores a 2.5611e-06, que fue el error medio cuando tomamos en cuenta todos los valores.\n",
    "Se está utilizando la regla del trapecio, se divide el area bajo la curva en una serie de trapecios y luego se suma para calcular el total. AUC = area bajo la curva, en un rango de 400 a 700 nm, nos dice cuánta absorción hay"
   ]
  },
  {
   "cell_type": "code",
   "execution_count": 72,
   "metadata": {},
   "outputs": [
    {
     "name": "stdout",
     "output_type": "stream",
     "text": [
      "19/19 [==============================] - 0s 605us/step\n"
     ]
    },
    {
     "name": "stdout",
     "output_type": "stream",
     "text": [
      "19/19 [==============================] - 0s 608us/step\n",
      "19/19 [==============================] - 0s 104us/step\n",
      "19/19 [==============================] - 0s 214us/step\n",
      "19/19 [==============================] - 0s 834us/step\n",
      "19/19 [==============================] - 0s 394us/step\n",
      "19/19 [==============================] - 0s 868us/step\n",
      "19/19 [==============================] - 0s 834us/step\n",
      "19/19 [==============================] - 0s 0s/step\n",
      "19/19 [==============================] - 0s 868us/step\n",
      "19/19 [==============================] - 0s 0s/step\n",
      "19/19 [==============================] - 0s 1ms/step\n",
      "19/19 [==============================] - 0s 1ms/step\n",
      "19/19 [==============================] - 0s 778us/step\n",
      "19/19 [==============================] - 0s 0s/step\n",
      "19/19 [==============================] - 0s 868us/step\n",
      "19/19 [==============================] - 0s 1ms/step\n",
      "19/19 [==============================] - 0s 0s/step\n",
      "19/19 [==============================] - 0s 778us/step\n",
      "19/19 [==============================] - 0s 764us/step\n",
      "19/19 [==============================] - 0s 834us/step\n",
      "19/19 [==============================] - 0s 605us/step\n",
      "19/19 [==============================] - 0s 834us/step\n",
      "19/19 [==============================] - 0s 584us/step\n",
      "19/19 [==============================] - 0s 64us/step\n",
      "19/19 [==============================] - 0s 556us/step\n",
      "19/19 [==============================] - 0s 861us/step\n",
      "19/19 [==============================] - 0s 0s/step\n",
      "19/19 [==============================] - 0s 63us/step\n",
      "19/19 [==============================] - 0s 806us/step\n",
      "19/19 [==============================] - 0s 417us/step\n",
      "19/19 [==============================] - 0s 0s/step\n",
      "19/19 [==============================] - 0s 868us/step\n",
      "19/19 [==============================] - 0s 876us/step\n",
      "19/19 [==============================] - 0s 431us/step\n",
      "19/19 [==============================] - 0s 546us/step\n",
      "19/19 [==============================] - 0s 442us/step\n",
      "19/19 [==============================] - 0s 561us/step\n",
      "19/19 [==============================] - 0s 1ms/step\n",
      "19/19 [==============================] - 0s 868us/step\n",
      "19/19 [==============================] - 0s 584us/step\n",
      "19/19 [==============================] - 0s 892us/step\n",
      "19/19 [==============================] - 0s 1ms/step\n",
      "19/19 [==============================] - 0s 0s/step\n",
      "19/19 [==============================] - 0s 435us/step\n",
      "19/19 [==============================] - 0s 750us/step\n",
      "19/19 [==============================] - 0s 527us/step\n",
      "19/19 [==============================] - 0s 388us/step\n",
      "19/19 [==============================] - 0s 760us/step\n",
      "19/19 [==============================] - 0s 680us/step\n",
      "19/19 [==============================] - 0s 954us/step\n",
      "19/19 [==============================] - 0s 566us/step\n",
      "19/19 [==============================] - 0s 361us/step\n",
      "19/19 [==============================] - 0s 914us/step\n",
      "19/19 [==============================] - 0s 869us/step\n",
      "19/19 [==============================] - 0s 611us/step\n",
      "19/19 [==============================] - 0s 0s/step\n",
      "19/19 [==============================] - 0s 874us/step\n",
      "19/19 [==============================] - 0s 868us/step\n",
      "19/19 [==============================] - 0s 0s/step\n",
      "19/19 [==============================] - 0s 0s/step\n",
      "19/19 [==============================] - 0s 183us/step\n",
      "19/19 [==============================] - 0s 639us/step\n",
      "19/19 [==============================] - 0s 0s/step\n",
      "19/19 [==============================] - 0s 0s/step\n",
      "19/19 [==============================] - 0s 872us/step\n",
      "19/19 [==============================] - 0s 1ms/step\n",
      "19/19 [==============================] - 0s 868us/step\n",
      "19/19 [==============================] - 0s 834us/step\n",
      "19/19 [==============================] - 0s 868us/step\n",
      "19/19 [==============================] - 0s 111us/step\n",
      "19/19 [==============================] - 0s 868us/step\n",
      "19/19 [==============================] - 0s 868us/step\n",
      "19/19 [==============================] - 0s 1ms/step\n",
      "19/19 [==============================] - 0s 0s/step\n",
      "19/19 [==============================] - 0s 0s/step\n",
      "19/19 [==============================] - 0s 556us/step\n",
      "19/19 [==============================] - 0s 868us/step\n",
      "19/19 [==============================] - 0s 362us/step\n",
      "19/19 [==============================] - 0s 0s/step\n",
      "19/19 [==============================] - 0s 868us/step\n",
      "El MSE promedio es: 2.5611e-06\n"
     ]
    }
   ],
   "source": [
    "# Iteramos sobre todas las combinaciones posibles de fracvol, radio y espesor\n",
    "for f, r, e in zip(fracvol, radio, espesor):\n",
    "    \n",
    "    # Filtrar el dataframe `param` para obtener los datos reales asociados con esa combinación\n",
    "    subset = param[(param['Fracvol'] == f) & \n",
    "                   (param['Radio (nm)'] == r) & \n",
    "                   (param['Espesor de la película (nm)'] == e)]\n",
    "    \n",
    "    # Si hay menos de 600 datos o más de 600, saltamos a la siguiente iteración\n",
    "    if len(subset) != 600:\n",
    "        continue\n",
    "\n",
    "    # Extraer la 'Longitud de onda' y el 'Índice de absorción'\n",
    "    X_real = subset[['Longitud de onda', 'Fracvol', 'Radio (nm)', 'Espesor de la película (nm)']].values\n",
    "    y_real = subset['Índice de absorción'].values\n",
    "\n",
    "    # Hacer las predicciones con el modelo\n",
    "    y_pred = model.predict(scaler_X.transform(X_real))\n",
    "\n",
    "    # Calcular el MSE y agregarlo a la lista\n",
    "    mse = mean_squared_error(y_real, y_pred)\n",
    "    errores_mse.append(mse)\n",
    "    y_pred = y_pred.ravel()\n",
    "    longitud_de_onda = np.array(longitud_de_onda)\n",
    "    \n",
    "    # Calcular el AUC para el rango de 400 a 700 nm\n",
    "    mask = (X_real[:, 0] >= 400) & (X_real[:, 0] <= 700)\n",
    "    auc_real = np.trapz(y_real[mask], X_real[mask, 0])\n",
    "    auc_pred = np.trapz(y_pred[mask], X_real[mask, 0])\n",
    "\n",
    "    # Guardar la figura en la carpeta \"comparacion_de_datos\" si el MSE es menor al límite\n",
    "    if mse <= 2.5547e-06:\n",
    "        # Graficar las curvas reales y predichas\n",
    "        plt.figure(figsize=(10, 6))\n",
    "        plt.plot(longitud_de_onda, y_real, label='Real', color='blue')\n",
    "        plt.plot(longitud_de_onda, y_pred, label='Predicción', color='red', linestyle='--')\n",
    "        plt.xlabel('Longitud de onda')\n",
    "        plt.ylabel('Índice de absorción')\n",
    "        plt.title(f'Real vs Predicha - Fracvol: {f}, Radio: {r} nm, Espesor: {e} nm. MSE: {mse:.4e},\\n AUC Real: {auc_real:.4e}, AUC Pred: {auc_pred:.4e}')\n",
    "        plt.legend()\n",
    "        filename = f\"Comparacion_Fracvol_{f}_Radio_{r}nm_Espesor_{e}nm.png\"\n",
    "        plt.savefig(os.path.join(dir_path, filename))\n",
    "        plt.close()  # Cerrar la figura actual para no llenar la memoria\n",
    "\n",
    "# Calcular el promedio de todos los MSEs\n",
    "mse_promedio = sum(errores_mse) / len(errores_mse)\n",
    "print(f\"El MSE promedio es: {mse_promedio:.4e}\")"
   ]
  },
  {
   "cell_type": "code",
   "execution_count": null,
   "metadata": {},
   "outputs": [],
   "source": []
  }
 ],
 "metadata": {
  "kernelspec": {
   "display_name": "Python 3",
   "language": "python",
   "name": "python3"
  },
  "language_info": {
   "codemirror_mode": {
    "name": "ipython",
    "version": 3
   },
   "file_extension": ".py",
   "mimetype": "text/x-python",
   "name": "python",
   "nbconvert_exporter": "python",
   "pygments_lexer": "ipython3",
   "version": "3.10.11"
  }
 },
 "nbformat": 4,
 "nbformat_minor": 2
}
