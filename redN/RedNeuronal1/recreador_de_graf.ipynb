{
 "cells": [
  {
   "cell_type": "code",
   "execution_count": 15,
   "metadata": {},
   "outputs": [],
   "source": [
    "import pandas as pd\n",
    "import os\n",
    "import glob\n",
    "import matplotlib.pyplot as plt\n",
    "import numpy as np\n",
    "import tensorflow as tf\n",
    "import math\n",
    "from sklearn.metrics import mean_squared_error, r2_score\n",
    "import pandas as pd\n",
    "from keras.models import Sequential\n",
    "from keras.layers import Dense\n",
    "from sklearn.preprocessing import MinMaxScaler\n",
    "from sklearn.model_selection import train_test_split\n",
    "from sklearn.neural_network import MLPClassifier\n",
    "from sklearn.preprocessing import MultiLabelBinarizer\n",
    "from sklearn.preprocessing import StandardScaler\n",
    "from sklearn.preprocessing import MaxAbsScaler\n",
    "import numpy as np\n",
    "from sklearn.metrics import mean_absolute_error, r2_score\n",
    "from scipy.stats import pearsonr"
   ]
  },
  {
   "cell_type": "markdown",
   "metadata": {},
   "source": [
    "Cargando el modelo"
   ]
  },
  {
   "cell_type": "code",
   "execution_count": 16,
   "metadata": {},
   "outputs": [],
   "source": [
    "model = tf.keras.models.load_model('generadorPuntos.h5')"
   ]
  },
  {
   "cell_type": "code",
   "execution_count": 17,
   "metadata": {},
   "outputs": [],
   "source": [
    "files = [file for file in os.listdir('./parametros')]\n",
    "\n",
    "param = pd.DataFrame()\n",
    "for file in files:\n",
    "  df = pd.read_csv('./parametros/'+file)\n",
    "  param = pd.concat([param, df], axis= 0)"
   ]
  },
  {
   "cell_type": "code",
   "execution_count": 18,
   "metadata": {},
   "outputs": [
    {
     "data": {
      "text/html": [
       "<div>\n",
       "<style scoped>\n",
       "    .dataframe tbody tr th:only-of-type {\n",
       "        vertical-align: middle;\n",
       "    }\n",
       "\n",
       "    .dataframe tbody tr th {\n",
       "        vertical-align: top;\n",
       "    }\n",
       "\n",
       "    .dataframe thead th {\n",
       "        text-align: right;\n",
       "    }\n",
       "</style>\n",
       "<table border=\"1\" class=\"dataframe\">\n",
       "  <thead>\n",
       "    <tr style=\"text-align: right;\">\n",
       "      <th></th>\n",
       "      <th>Longitud de onda</th>\n",
       "      <th>Índice de absorción</th>\n",
       "      <th>Fracvol</th>\n",
       "      <th>Radio (nm)</th>\n",
       "      <th>Espesor de la película (nm)</th>\n",
       "    </tr>\n",
       "  </thead>\n",
       "  <tbody>\n",
       "    <tr>\n",
       "      <th>0</th>\n",
       "      <td>301</td>\n",
       "      <td>0.016685</td>\n",
       "      <td>1</td>\n",
       "      <td>10</td>\n",
       "      <td>100</td>\n",
       "    </tr>\n",
       "    <tr>\n",
       "      <th>1</th>\n",
       "      <td>302</td>\n",
       "      <td>0.016167</td>\n",
       "      <td>1</td>\n",
       "      <td>10</td>\n",
       "      <td>100</td>\n",
       "    </tr>\n",
       "    <tr>\n",
       "      <th>2</th>\n",
       "      <td>303</td>\n",
       "      <td>0.015703</td>\n",
       "      <td>1</td>\n",
       "      <td>10</td>\n",
       "      <td>100</td>\n",
       "    </tr>\n",
       "    <tr>\n",
       "      <th>3</th>\n",
       "      <td>304</td>\n",
       "      <td>0.015290</td>\n",
       "      <td>1</td>\n",
       "      <td>10</td>\n",
       "      <td>100</td>\n",
       "    </tr>\n",
       "    <tr>\n",
       "      <th>4</th>\n",
       "      <td>305</td>\n",
       "      <td>0.014916</td>\n",
       "      <td>1</td>\n",
       "      <td>10</td>\n",
       "      <td>100</td>\n",
       "    </tr>\n",
       "    <tr>\n",
       "      <th>...</th>\n",
       "      <td>...</td>\n",
       "      <td>...</td>\n",
       "      <td>...</td>\n",
       "      <td>...</td>\n",
       "      <td>...</td>\n",
       "    </tr>\n",
       "    <tr>\n",
       "      <th>19195</th>\n",
       "      <td>896</td>\n",
       "      <td>0.002255</td>\n",
       "      <td>1</td>\n",
       "      <td>9</td>\n",
       "      <td>120</td>\n",
       "    </tr>\n",
       "    <tr>\n",
       "      <th>19196</th>\n",
       "      <td>897</td>\n",
       "      <td>0.002257</td>\n",
       "      <td>1</td>\n",
       "      <td>9</td>\n",
       "      <td>120</td>\n",
       "    </tr>\n",
       "    <tr>\n",
       "      <th>19197</th>\n",
       "      <td>898</td>\n",
       "      <td>0.002258</td>\n",
       "      <td>1</td>\n",
       "      <td>9</td>\n",
       "      <td>120</td>\n",
       "    </tr>\n",
       "    <tr>\n",
       "      <th>19198</th>\n",
       "      <td>899</td>\n",
       "      <td>0.002260</td>\n",
       "      <td>1</td>\n",
       "      <td>9</td>\n",
       "      <td>120</td>\n",
       "    </tr>\n",
       "    <tr>\n",
       "      <th>19199</th>\n",
       "      <td>900</td>\n",
       "      <td>0.002262</td>\n",
       "      <td>1</td>\n",
       "      <td>9</td>\n",
       "      <td>120</td>\n",
       "    </tr>\n",
       "  </tbody>\n",
       "</table>\n",
       "<p>38400 rows × 5 columns</p>\n",
       "</div>"
      ],
      "text/plain": [
       "       Longitud de onda  Índice de absorción  Fracvol  Radio (nm)  \\\n",
       "0                   301             0.016685        1          10   \n",
       "1                   302             0.016167        1          10   \n",
       "2                   303             0.015703        1          10   \n",
       "3                   304             0.015290        1          10   \n",
       "4                   305             0.014916        1          10   \n",
       "...                 ...                  ...      ...         ...   \n",
       "19195               896             0.002255        1           9   \n",
       "19196               897             0.002257        1           9   \n",
       "19197               898             0.002258        1           9   \n",
       "19198               899             0.002260        1           9   \n",
       "19199               900             0.002262        1           9   \n",
       "\n",
       "       Espesor de la película (nm)  \n",
       "0                              100  \n",
       "1                              100  \n",
       "2                              100  \n",
       "3                              100  \n",
       "4                              100  \n",
       "...                            ...  \n",
       "19195                          120  \n",
       "19196                          120  \n",
       "19197                          120  \n",
       "19198                          120  \n",
       "19199                          120  \n",
       "\n",
       "[38400 rows x 5 columns]"
      ]
     },
     "execution_count": 18,
     "metadata": {},
     "output_type": "execute_result"
    }
   ],
   "source": [
    "param"
   ]
  },
  {
   "cell_type": "markdown",
   "metadata": {},
   "source": [
    "Agarramos los primeros 600 de nuestro df porque eso es toda la gráfica"
   ]
  },
  {
   "cell_type": "code",
   "execution_count": 19,
   "metadata": {},
   "outputs": [
    {
     "data": {
      "text/html": [
       "<div>\n",
       "<style scoped>\n",
       "    .dataframe tbody tr th:only-of-type {\n",
       "        vertical-align: middle;\n",
       "    }\n",
       "\n",
       "    .dataframe tbody tr th {\n",
       "        vertical-align: top;\n",
       "    }\n",
       "\n",
       "    .dataframe thead th {\n",
       "        text-align: right;\n",
       "    }\n",
       "</style>\n",
       "<table border=\"1\" class=\"dataframe\">\n",
       "  <thead>\n",
       "    <tr style=\"text-align: right;\">\n",
       "      <th></th>\n",
       "      <th>Longitud de onda</th>\n",
       "      <th>Índice de absorción</th>\n",
       "      <th>Fracvol</th>\n",
       "      <th>Radio (nm)</th>\n",
       "      <th>Espesor de la película (nm)</th>\n",
       "    </tr>\n",
       "  </thead>\n",
       "  <tbody>\n",
       "    <tr>\n",
       "      <th>0</th>\n",
       "      <td>301</td>\n",
       "      <td>0.017537</td>\n",
       "      <td>1</td>\n",
       "      <td>10</td>\n",
       "      <td>120</td>\n",
       "    </tr>\n",
       "    <tr>\n",
       "      <th>1</th>\n",
       "      <td>302</td>\n",
       "      <td>0.017043</td>\n",
       "      <td>1</td>\n",
       "      <td>10</td>\n",
       "      <td>120</td>\n",
       "    </tr>\n",
       "    <tr>\n",
       "      <th>2</th>\n",
       "      <td>303</td>\n",
       "      <td>0.016599</td>\n",
       "      <td>1</td>\n",
       "      <td>10</td>\n",
       "      <td>120</td>\n",
       "    </tr>\n",
       "    <tr>\n",
       "      <th>3</th>\n",
       "      <td>304</td>\n",
       "      <td>0.016203</td>\n",
       "      <td>1</td>\n",
       "      <td>10</td>\n",
       "      <td>120</td>\n",
       "    </tr>\n",
       "    <tr>\n",
       "      <th>4</th>\n",
       "      <td>305</td>\n",
       "      <td>0.015845</td>\n",
       "      <td>1</td>\n",
       "      <td>10</td>\n",
       "      <td>120</td>\n",
       "    </tr>\n",
       "    <tr>\n",
       "      <th>...</th>\n",
       "      <td>...</td>\n",
       "      <td>...</td>\n",
       "      <td>...</td>\n",
       "      <td>...</td>\n",
       "      <td>...</td>\n",
       "    </tr>\n",
       "    <tr>\n",
       "      <th>595</th>\n",
       "      <td>896</td>\n",
       "      <td>0.002254</td>\n",
       "      <td>1</td>\n",
       "      <td>10</td>\n",
       "      <td>120</td>\n",
       "    </tr>\n",
       "    <tr>\n",
       "      <th>596</th>\n",
       "      <td>897</td>\n",
       "      <td>0.002256</td>\n",
       "      <td>1</td>\n",
       "      <td>10</td>\n",
       "      <td>120</td>\n",
       "    </tr>\n",
       "    <tr>\n",
       "      <th>597</th>\n",
       "      <td>898</td>\n",
       "      <td>0.002258</td>\n",
       "      <td>1</td>\n",
       "      <td>10</td>\n",
       "      <td>120</td>\n",
       "    </tr>\n",
       "    <tr>\n",
       "      <th>598</th>\n",
       "      <td>899</td>\n",
       "      <td>0.002259</td>\n",
       "      <td>1</td>\n",
       "      <td>10</td>\n",
       "      <td>120</td>\n",
       "    </tr>\n",
       "    <tr>\n",
       "      <th>599</th>\n",
       "      <td>900</td>\n",
       "      <td>0.002261</td>\n",
       "      <td>1</td>\n",
       "      <td>10</td>\n",
       "      <td>120</td>\n",
       "    </tr>\n",
       "  </tbody>\n",
       "</table>\n",
       "<p>600 rows × 5 columns</p>\n",
       "</div>"
      ],
      "text/plain": [
       "     Longitud de onda  Índice de absorción  Fracvol  Radio (nm)  \\\n",
       "0                 301             0.017537        1          10   \n",
       "1                 302             0.017043        1          10   \n",
       "2                 303             0.016599        1          10   \n",
       "3                 304             0.016203        1          10   \n",
       "4                 305             0.015845        1          10   \n",
       "..                ...                  ...      ...         ...   \n",
       "595               896             0.002254        1          10   \n",
       "596               897             0.002256        1          10   \n",
       "597               898             0.002258        1          10   \n",
       "598               899             0.002259        1          10   \n",
       "599               900             0.002261        1          10   \n",
       "\n",
       "     Espesor de la película (nm)  \n",
       "0                            120  \n",
       "1                            120  \n",
       "2                            120  \n",
       "3                            120  \n",
       "4                            120  \n",
       "..                           ...  \n",
       "595                          120  \n",
       "596                          120  \n",
       "597                          120  \n",
       "598                          120  \n",
       "599                          120  \n",
       "\n",
       "[600 rows x 5 columns]"
      ]
     },
     "execution_count": 19,
     "metadata": {},
     "output_type": "execute_result"
    }
   ],
   "source": [
    "primeros_600 = df.head(600)\n",
    "primeros_600"
   ]
  },
  {
   "cell_type": "markdown",
   "metadata": {},
   "source": [
    "Esta es la gráfica que la red intentará predecir"
   ]
  },
  {
   "cell_type": "code",
   "execution_count": 20,
   "metadata": {},
   "outputs": [
    {
     "data": {
      "image/png": "[encoded data removed]",
      "text/plain": [
       "<Figure size 1000x600 with 1 Axes>"
      ]
     },
     "metadata": {},
     "output_type": "display_data"
    }
   ],
   "source": [
    "columnas_seleccionadas = ['Longitud de onda', 'Índice de absorción']\n",
    "df_seleccionado = primeros_600[columnas_seleccionadas]\n",
    "\n",
    "# Crear la gráfica de dispersión\n",
    "plt.figure(figsize=(10, 6))\n",
    "plt.plot(df_seleccionado['Longitud de onda'], df_seleccionado['Índice de absorción'], color='blue')\n",
    "plt.xlabel('Longitud de onda')\n",
    "plt.ylabel('Índice de absorción')\n",
    "plt.title('Gráfica de Índice de absorción vs Longitud de onda')\n",
    "plt.grid(True)\n",
    "plt.show()"
   ]
  },
  {
   "cell_type": "markdown",
   "metadata": {},
   "source": [
    "Quitamos Índice de absorción para que la red haga su trabajo"
   ]
  },
  {
   "cell_type": "code",
   "execution_count": 21,
   "metadata": {},
   "outputs": [],
   "source": [
    "new_data = primeros_600.drop('Índice de absorción', axis=1)"
   ]
  },
  {
   "cell_type": "code",
   "execution_count": 22,
   "metadata": {},
   "outputs": [
    {
     "data": {
      "text/plain": [
       "array([[301,   1,  10, 120],\n",
       "       [302,   1,  10, 120],\n",
       "       [303,   1,  10, 120],\n",
       "       ...,\n",
       "       [898,   1,  10, 120],\n",
       "       [899,   1,  10, 120],\n",
       "       [900,   1,  10, 120]], dtype=int64)"
      ]
     },
     "execution_count": 22,
     "metadata": {},
     "output_type": "execute_result"
    }
   ],
   "source": [
    "new_data = new_data.values\n",
    "new_data"
   ]
  },
  {
   "cell_type": "markdown",
   "metadata": {},
   "source": [
    "Normalizando los datos de entrada"
   ]
  },
  {
   "cell_type": "code",
   "execution_count": 23,
   "metadata": {},
   "outputs": [
    {
     "data": {
      "text/plain": [
       "array([[0.        , 0.        , 0.        , 0.        ],\n",
       "       [0.00166945, 0.        , 0.        , 0.        ],\n",
       "       [0.0033389 , 0.        , 0.        , 0.        ],\n",
       "       ...,\n",
       "       [0.9966611 , 0.        , 0.        , 0.        ],\n",
       "       [0.99833055, 0.        , 0.        , 0.        ],\n",
       "       [1.        , 0.        , 0.        , 0.        ]])"
      ]
     },
     "execution_count": 23,
     "metadata": {},
     "output_type": "execute_result"
    }
   ],
   "source": [
    "scaler = MinMaxScaler()\n",
    "new_data_normalized = scaler.fit_transform(new_data)\n",
    "new_data_normalized"
   ]
  },
  {
   "cell_type": "markdown",
   "metadata": {},
   "source": [
    "Prediciendo los nuevos datos"
   ]
  },
  {
   "cell_type": "code",
   "execution_count": 29,
   "metadata": {},
   "outputs": [
    {
     "name": "stdout",
     "output_type": "stream",
     "text": [
      "19/19 [==============================] - 0s 585us/step\n"
     ]
    }
   ],
   "source": [
    "predictions_normalized = model.predict(new_data_normalized)"
   ]
  },
  {
   "cell_type": "markdown",
   "metadata": {},
   "source": [
    "creando 2 dataframes para poderlos unir y que no sean np arrays"
   ]
  },
  {
   "cell_type": "code",
   "execution_count": 26,
   "metadata": {},
   "outputs": [],
   "source": [
    "df1 = pd.DataFrame(new_data, columns = ['Longitud de onda', 'Fracvol', 'Radio (nm)', 'Espesor de la película (nm)'])\n",
    "df2 = pd.DataFrame(predictions_normalized , columns = ['Índice de absorción'])"
   ]
  },
  {
   "cell_type": "markdown",
   "metadata": {},
   "source": [
    "juntando las predicciones con los valores anteriores"
   ]
  },
  {
   "cell_type": "code",
   "execution_count": 27,
   "metadata": {},
   "outputs": [
    {
     "data": {
      "text/html": [
       "<div>\n",
       "<style scoped>\n",
       "    .dataframe tbody tr th:only-of-type {\n",
       "        vertical-align: middle;\n",
       "    }\n",
       "\n",
       "    .dataframe tbody tr th {\n",
       "        vertical-align: top;\n",
       "    }\n",
       "\n",
       "    .dataframe thead th {\n",
       "        text-align: right;\n",
       "    }\n",
       "</style>\n",
       "<table border=\"1\" class=\"dataframe\">\n",
       "  <thead>\n",
       "    <tr style=\"text-align: right;\">\n",
       "      <th></th>\n",
       "      <th>Longitud de onda</th>\n",
       "      <th>Fracvol</th>\n",
       "      <th>Radio (nm)</th>\n",
       "      <th>Espesor de la película (nm)</th>\n",
       "      <th>Índice de absorción</th>\n",
       "    </tr>\n",
       "  </thead>\n",
       "  <tbody>\n",
       "    <tr>\n",
       "      <th>0</th>\n",
       "      <td>301</td>\n",
       "      <td>1</td>\n",
       "      <td>10</td>\n",
       "      <td>120</td>\n",
       "      <td>0.984737</td>\n",
       "    </tr>\n",
       "    <tr>\n",
       "      <th>1</th>\n",
       "      <td>302</td>\n",
       "      <td>1</td>\n",
       "      <td>10</td>\n",
       "      <td>120</td>\n",
       "      <td>0.967513</td>\n",
       "    </tr>\n",
       "    <tr>\n",
       "      <th>2</th>\n",
       "      <td>303</td>\n",
       "      <td>1</td>\n",
       "      <td>10</td>\n",
       "      <td>120</td>\n",
       "      <td>0.950290</td>\n",
       "    </tr>\n",
       "    <tr>\n",
       "      <th>3</th>\n",
       "      <td>304</td>\n",
       "      <td>1</td>\n",
       "      <td>10</td>\n",
       "      <td>120</td>\n",
       "      <td>0.933067</td>\n",
       "    </tr>\n",
       "    <tr>\n",
       "      <th>4</th>\n",
       "      <td>305</td>\n",
       "      <td>1</td>\n",
       "      <td>10</td>\n",
       "      <td>120</td>\n",
       "      <td>0.915843</td>\n",
       "    </tr>\n",
       "    <tr>\n",
       "      <th>...</th>\n",
       "      <td>...</td>\n",
       "      <td>...</td>\n",
       "      <td>...</td>\n",
       "      <td>...</td>\n",
       "      <td>...</td>\n",
       "    </tr>\n",
       "    <tr>\n",
       "      <th>595</th>\n",
       "      <td>896</td>\n",
       "      <td>1</td>\n",
       "      <td>10</td>\n",
       "      <td>120</td>\n",
       "      <td>0.131293</td>\n",
       "    </tr>\n",
       "    <tr>\n",
       "      <th>596</th>\n",
       "      <td>897</td>\n",
       "      <td>1</td>\n",
       "      <td>10</td>\n",
       "      <td>120</td>\n",
       "      <td>0.131494</td>\n",
       "    </tr>\n",
       "    <tr>\n",
       "      <th>597</th>\n",
       "      <td>898</td>\n",
       "      <td>1</td>\n",
       "      <td>10</td>\n",
       "      <td>120</td>\n",
       "      <td>0.131694</td>\n",
       "    </tr>\n",
       "    <tr>\n",
       "      <th>598</th>\n",
       "      <td>899</td>\n",
       "      <td>1</td>\n",
       "      <td>10</td>\n",
       "      <td>120</td>\n",
       "      <td>0.131894</td>\n",
       "    </tr>\n",
       "    <tr>\n",
       "      <th>599</th>\n",
       "      <td>900</td>\n",
       "      <td>1</td>\n",
       "      <td>10</td>\n",
       "      <td>120</td>\n",
       "      <td>0.132095</td>\n",
       "    </tr>\n",
       "  </tbody>\n",
       "</table>\n",
       "<p>600 rows × 5 columns</p>\n",
       "</div>"
      ],
      "text/plain": [
       "     Longitud de onda  Fracvol  Radio (nm)  Espesor de la película (nm)  \\\n",
       "0                 301        1          10                          120   \n",
       "1                 302        1          10                          120   \n",
       "2                 303        1          10                          120   \n",
       "3                 304        1          10                          120   \n",
       "4                 305        1          10                          120   \n",
       "..                ...      ...         ...                          ...   \n",
       "595               896        1          10                          120   \n",
       "596               897        1          10                          120   \n",
       "597               898        1          10                          120   \n",
       "598               899        1          10                          120   \n",
       "599               900        1          10                          120   \n",
       "\n",
       "     Índice de absorción  \n",
       "0               0.984737  \n",
       "1               0.967513  \n",
       "2               0.950290  \n",
       "3               0.933067  \n",
       "4               0.915843  \n",
       "..                   ...  \n",
       "595             0.131293  \n",
       "596             0.131494  \n",
       "597             0.131694  \n",
       "598             0.131894  \n",
       "599             0.132095  \n",
       "\n",
       "[600 rows x 5 columns]"
      ]
     },
     "execution_count": 27,
     "metadata": {},
     "output_type": "execute_result"
    }
   ],
   "source": [
    "result_df = pd.concat([df1, df2], axis=1)\n",
    "result_df"
   ]
  },
  {
   "cell_type": "markdown",
   "metadata": {},
   "source": [
    "# Graficando los valores que obtuvo la red"
   ]
  },
  {
   "cell_type": "code",
   "execution_count": 28,
   "metadata": {},
   "outputs": [
    {
     "data": {
      "image/png": "[encoded data removed]",
      "text/plain": [
       "<Figure size 1000x600 with 1 Axes>"
      ]
     },
     "metadata": {},
     "output_type": "display_data"
    }
   ],
   "source": [
    "columnas_seleccionadas = ['Longitud de onda', 'Índice de absorción']\n",
    "df_seleccionado = result_df[columnas_seleccionadas]\n",
    "\n",
    "# Crear la gráfica de dispersión\n",
    "plt.figure(figsize=(10, 6))\n",
    "plt.plot(df_seleccionado['Longitud de onda'], df_seleccionado['Índice de absorción'], color='blue')\n",
    "plt.xlabel('Longitud de onda')\n",
    "plt.ylabel('Índice de absorción')\n",
    "plt.title('Gráfica de Índice de absorción vs Longitud de onda')\n",
    "plt.grid(True)\n",
    "plt.show()"
   ]
  },
  {
   "cell_type": "code",
   "execution_count": null,
   "metadata": {},
   "outputs": [],
   "source": []
  }
 ],
 "metadata": {
  "kernelspec": {
   "display_name": "Python 3",
   "language": "python",
   "name": "python3"
  },
  "language_info": {
   "codemirror_mode": {
    "name": "ipython",
    "version": 3
   },
   "file_extension": ".py",
   "mimetype": "text/x-python",
   "name": "python",
   "nbconvert_exporter": "python",
   "pygments_lexer": "ipython3",
   "version": "3.10.11"
  },
  "orig_nbformat": 4
 },
 "nbformat": 4,
 "nbformat_minor": 2
}
