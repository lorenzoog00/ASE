{
 "cells": [
  {
   "cell_type": "code",
   "execution_count": 206,
   "metadata": {},
   "outputs": [],
   "source": [
    "import pandas as pd\n",
    "import os\n",
    "import glob\n",
    "import matplotlib.pyplot as plt\n",
    "import numpy as np\n",
    "import tensorflow as tf\n",
    "import math\n",
    "from sklearn.metrics import mean_squared_error, r2_score\n",
    "import pandas as pd\n",
    "from keras.models import Sequential\n",
    "from keras.layers import Dense\n",
    "from sklearn.preprocessing import MinMaxScaler\n",
    "from sklearn.model_selection import train_test_split\n",
    "from sklearn.neural_network import MLPClassifier\n",
    "from sklearn.preprocessing import MultiLabelBinarizer\n",
    "from sklearn.preprocessing import StandardScaler\n",
    "from sklearn.preprocessing import MaxAbsScaler\n"
   ]
  },
  {
   "cell_type": "code",
   "execution_count": 201,
   "metadata": {},
   "outputs": [],
   "source": [
    "files = [file for file in os.listdir('./parametros')]\n",
    "\n",
    "param = pd.DataFrame()\n",
    "for file in files:\n",
    "  df = pd.read_csv('./parametros/'+file)\n",
    "  param = pd.concat([param, df], axis= 0)"
   ]
  },
  {
   "cell_type": "code",
   "execution_count": 204,
   "metadata": {},
   "outputs": [],
   "source": [
    "from sklearn.model_selection import train_test_split\n",
    "param = param.sample(frac=1, random_state=42).reset_index(drop=True)\n",
    "train_df, test_df = train_test_split(param, test_size=0.2, random_state=42)"
   ]
  },
  {
   "attachments": {},
   "cell_type": "markdown",
   "metadata": {},
   "source": [
    "# Ahora invertimos la red, de input será Fracción vol, espesor y radio. Output longitud de onda e Índice de absorción"
   ]
  },
  {
   "attachments": {},
   "cell_type": "markdown",
   "metadata": {},
   "source": [
    "Normalizacion"
   ]
  },
  {
   "cell_type": "code",
   "execution_count": 207,
   "metadata": {},
   "outputs": [],
   "source": [
    "scaler = MaxAbsScaler()\n",
    "df_normalized = pd.DataFrame(scaler.fit_transform(train_df), columns=train_df.columns)"
   ]
  },
  {
   "cell_type": "code",
   "execution_count": 208,
   "metadata": {},
   "outputs": [],
   "source": [
    "# Cargar DataFrame\n",
    "df = df_normalized\n",
    "# Separar datos de entrada y salida\n",
    "Y = df[['Índice de absorción', 'Longitud de onda']]\n",
    "X = df[['Fracvol', 'Radio (nm)', 'Espesor de la película (nm)']]"
   ]
  },
  {
   "cell_type": "code",
   "execution_count": 209,
   "metadata": {},
   "outputs": [],
   "source": [
    "# Convertimos los dataframes en numpy arrays\n",
    "X = np.array(X)\n",
    "y = np.array(Y)"
   ]
  },
  {
   "cell_type": "code",
   "execution_count": 210,
   "metadata": {},
   "outputs": [],
   "source": [
    "# Creamos el modelo de la red neuronal\n",
    "model = Sequential()\n",
    "model.add(Dense(64, input_dim=3, activation='relu'))\n",
    "model.add(Dense(2, activation='linear'))"
   ]
  },
  {
   "cell_type": "code",
   "execution_count": 211,
   "metadata": {},
   "outputs": [],
   "source": [
    "model.compile(loss='mean_absolute_error', optimizer='adam')"
   ]
  },
  {
   "cell_type": "code",
   "execution_count": 212,
   "metadata": {},
   "outputs": [
    {
     "name": "stdout",
     "output_type": "stream",
     "text": [
      "Epoch 1/10\n",
      "960/960 [==============================] - 1s 623us/step - loss: 0.1083\n",
      "Epoch 2/10\n",
      "960/960 [==============================] - 1s 607us/step - loss: 0.0950\n",
      "Epoch 3/10\n",
      "960/960 [==============================] - 1s 598us/step - loss: 0.0948\n",
      "Epoch 4/10\n",
      "960/960 [==============================] - 1s 602us/step - loss: 0.0947\n",
      "Epoch 5/10\n",
      "960/960 [==============================] - 1s 599us/step - loss: 0.0947\n",
      "Epoch 6/10\n",
      "960/960 [==============================] - 1s 583us/step - loss: 0.0948\n",
      "Epoch 7/10\n",
      "960/960 [==============================] - 1s 581us/step - loss: 0.0947\n",
      "Epoch 8/10\n",
      "960/960 [==============================] - 1s 593us/step - loss: 0.0948\n",
      "Epoch 9/10\n",
      "960/960 [==============================] - 1s 646us/step - loss: 0.0947\n",
      "Epoch 10/10\n",
      "960/960 [==============================] - 1s 580us/step - loss: 0.0947\n"
     ]
    },
    {
     "data": {
      "text/plain": [
       "<keras.callbacks.History at 0x1eb6b220fd0>"
      ]
     },
     "execution_count": 212,
     "metadata": {},
     "output_type": "execute_result"
    }
   ],
   "source": [
    "model.fit(X, y, epochs=10, batch_size=32)"
   ]
  },
  {
   "cell_type": "code",
   "execution_count": 213,
   "metadata": {},
   "outputs": [],
   "source": [
    "arr = df_normalized[['Fracvol', 'Radio (nm)', 'Espesor de la película (nm)']]"
   ]
  },
  {
   "cell_type": "code",
   "execution_count": 214,
   "metadata": {},
   "outputs": [
    {
     "name": "stdout",
     "output_type": "stream",
     "text": [
      "960/960 [==============================] - 1s 529us/step\n",
      "[[0.01163281 0.6875825 ]\n",
      " [0.02485019 0.67850894]\n",
      " [0.00553828 0.7068578 ]\n",
      " ...\n",
      " [0.00948662 0.6974232 ]\n",
      " [0.01453865 0.6846661 ]\n",
      " [0.01149192 0.6914752 ]]\n"
     ]
    }
   ],
   "source": [
    "y_pred = model.predict(arr)\n",
    "print(y_pred)"
   ]
  },
  {
   "attachments": {},
   "cell_type": "markdown",
   "metadata": {},
   "source": [
    "# Renombrando las columnas"
   ]
  },
  {
   "cell_type": "code",
   "execution_count": 223,
   "metadata": {},
   "outputs": [
    {
     "data": {
      "text/html": [
       "<div>\n",
       "<style scoped>\n",
       "    .dataframe tbody tr th:only-of-type {\n",
       "        vertical-align: middle;\n",
       "    }\n",
       "\n",
       "    .dataframe tbody tr th {\n",
       "        vertical-align: top;\n",
       "    }\n",
       "\n",
       "    .dataframe thead th {\n",
       "        text-align: right;\n",
       "    }\n",
       "</style>\n",
       "<table border=\"1\" class=\"dataframe\">\n",
       "  <thead>\n",
       "    <tr style=\"text-align: right;\">\n",
       "      <th></th>\n",
       "      <th>Índice de absorción</th>\n",
       "      <th>Longitud de onda</th>\n",
       "    </tr>\n",
       "  </thead>\n",
       "  <tbody>\n",
       "    <tr>\n",
       "      <th>0</th>\n",
       "      <td>0.011633</td>\n",
       "      <td>0.687582</td>\n",
       "    </tr>\n",
       "    <tr>\n",
       "      <th>1</th>\n",
       "      <td>0.024850</td>\n",
       "      <td>0.678509</td>\n",
       "    </tr>\n",
       "    <tr>\n",
       "      <th>2</th>\n",
       "      <td>0.005538</td>\n",
       "      <td>0.706858</td>\n",
       "    </tr>\n",
       "    <tr>\n",
       "      <th>3</th>\n",
       "      <td>0.009487</td>\n",
       "      <td>0.697423</td>\n",
       "    </tr>\n",
       "    <tr>\n",
       "      <th>4</th>\n",
       "      <td>0.011492</td>\n",
       "      <td>0.691475</td>\n",
       "    </tr>\n",
       "    <tr>\n",
       "      <th>...</th>\n",
       "      <td>...</td>\n",
       "      <td>...</td>\n",
       "    </tr>\n",
       "    <tr>\n",
       "      <th>30715</th>\n",
       "      <td>0.020802</td>\n",
       "      <td>0.686799</td>\n",
       "    </tr>\n",
       "    <tr>\n",
       "      <th>30716</th>\n",
       "      <td>0.007283</td>\n",
       "      <td>0.704270</td>\n",
       "    </tr>\n",
       "    <tr>\n",
       "      <th>30717</th>\n",
       "      <td>0.009487</td>\n",
       "      <td>0.697423</td>\n",
       "    </tr>\n",
       "    <tr>\n",
       "      <th>30718</th>\n",
       "      <td>0.014539</td>\n",
       "      <td>0.684666</td>\n",
       "    </tr>\n",
       "    <tr>\n",
       "      <th>30719</th>\n",
       "      <td>0.011492</td>\n",
       "      <td>0.691475</td>\n",
       "    </tr>\n",
       "  </tbody>\n",
       "</table>\n",
       "<p>30720 rows × 2 columns</p>\n",
       "</div>"
      ],
      "text/plain": [
       "       Índice de absorción  Longitud de onda\n",
       "0                 0.011633          0.687582\n",
       "1                 0.024850          0.678509\n",
       "2                 0.005538          0.706858\n",
       "3                 0.009487          0.697423\n",
       "4                 0.011492          0.691475\n",
       "...                    ...               ...\n",
       "30715             0.020802          0.686799\n",
       "30716             0.007283          0.704270\n",
       "30717             0.009487          0.697423\n",
       "30718             0.014539          0.684666\n",
       "30719             0.011492          0.691475\n",
       "\n",
       "[30720 rows x 2 columns]"
      ]
     },
     "execution_count": 223,
     "metadata": {},
     "output_type": "execute_result"
    }
   ],
   "source": [
    "predicciones = pd.DataFrame(y_pred)\n",
    "predicciones.columns = ['Índice de absorción', 'Longitud de onda']\n",
    "predicciones"
   ]
  },
  {
   "attachments": {},
   "cell_type": "markdown",
   "metadata": {},
   "source": [
    "# Probando la accurancy del modelo"
   ]
  },
  {
   "attachments": {},
   "cell_type": "markdown",
   "metadata": {},
   "source": [
    "Primero lo haremos por cada parámetro. Se le restará los valores predichos por la red a los valores originales de test. Se contarán el número de ceros y ese será lo acertada que es nuestra red. De tener valores inferiores a 80% en número de ceros este rango se incrementará hasta llegar a un valor que el 80% de los valores sean menores a este"
   ]
  },
  {
   "attachments": {},
   "cell_type": "markdown",
   "metadata": {},
   "source": [
    "# Longitud de onda"
   ]
  },
  {
   "cell_type": "code",
   "execution_count": 231,
   "metadata": {},
   "outputs": [
    {
     "name": "stdout",
     "output_type": "stream",
     "text": [
      "presición del  0.0 %.\n"
     ]
    }
   ],
   "source": [
    "redondeo = predicciones['Longitud de onda'].to_numpy()\n",
    "test_df_long = df_normalized['Longitud de onda'].to_numpy()\n",
    "dif = redondeo - test_df_long \n",
    "#count_nonzero() cuenta el número de elementos distintos de cero en el arreglo, mientras que la función size() devuelve el tamaño total del arreglo. \n",
    "total = dif.size\n",
    "num_zeros = dif.size - np.count_nonzero(dif)\n",
    "porcentaje = num_zeros*100/total\n",
    "print(\"presición del \", porcentaje, \"%.\")"
   ]
  },
  {
   "cell_type": "code",
   "execution_count": 228,
   "metadata": {},
   "outputs": [
    {
     "name": "stdout",
     "output_type": "stream",
     "text": [
      "presición del  0.0 %. Con el redondeo para arriba en espesor y un rango de 0\n",
      "presición del  29.853515625 %. Con el redondeo para arriba en espesor y un rango de 0.1\n",
      "presición del  59.9609375 %. Con el redondeo para arriba en espesor y un rango de 0.2\n",
      "presición del  89.990234375 %. Con el redondeo para arriba en espesor y un rango de 0.30000000000000004\n"
     ]
    }
   ],
   "source": [
    "# Se agrega umbral hasta llegar a 80% de aceptación\n",
    "i = 0\n",
    "while(porcentaje < 80):\n",
    "    umbral = i\n",
    "    num = np.count_nonzero(np.abs(dif) <= umbral)\n",
    "    porcentaje = num*100/total\n",
    "    print(\"presición del \", porcentaje, \"%. Con el redondeo para arriba en espesor y un rango de\", umbral)\n",
    "    i = i + .1"
   ]
  },
  {
   "cell_type": "code",
   "execution_count": 218,
   "metadata": {},
   "outputs": [
    {
     "name": "stdout",
     "output_type": "stream",
     "text": [
      "presición del  0.0 %.\n"
     ]
    }
   ],
   "source": [
    "redondeo = predicciones['Índice de absorción'].to_numpy()\n",
    "test_df_long = df_normalized['Índice de absorción'].to_numpy()\n",
    "dif = redondeo - test_df_long \n",
    "#count_nonzero() cuenta el número de elementos distintos de cero en el arreglo, mientras que la función size() devuelve el tamaño total del arreglo. \n",
    "total = dif.size\n",
    "num_zeros = dif.size - np.count_nonzero(dif)\n",
    "porcentaje = num_zeros*100/total\n",
    "print(\"presición del \", porcentaje, \"%.\")"
   ]
  },
  {
   "cell_type": "code",
   "execution_count": 219,
   "metadata": {},
   "outputs": [
    {
     "name": "stdout",
     "output_type": "stream",
     "text": [
      "presición del  0.0 %. Con el redondeo para arriba en espesor y un rango de 0\n",
      "presición del  57.51953125 %. Con el redondeo para arriba en espesor y un rango de 0.01\n",
      "presición del  76.28255208333333 %. Con el redondeo para arriba en espesor y un rango de 0.02\n",
      "presición del  83.154296875 %. Con el redondeo para arriba en espesor y un rango de 0.03\n"
     ]
    }
   ],
   "source": [
    "# Se agrega umbral hasta llegar a 80% de aceptación\n",
    "i = 0\n",
    "while(porcentaje < 80):\n",
    "    umbral = i\n",
    "    num = np.count_nonzero(np.abs(dif) <= umbral)\n",
    "    porcentaje = num*100/total\n",
    "    print(\"presición del \", porcentaje, \"%. Con el redondeo para arriba en espesor y un rango de\", umbral)\n",
    "    i = i + .01"
   ]
  },
  {
   "cell_type": "code",
   "execution_count": null,
   "metadata": {},
   "outputs": [],
   "source": []
  }
 ],
 "metadata": {
  "kernelspec": {
   "display_name": "base",
   "language": "python",
   "name": "python3"
  },
  "language_info": {
   "codemirror_mode": {
    "name": "ipython",
    "version": 3
   },
   "file_extension": ".py",
   "mimetype": "text/x-python",
   "name": "python",
   "nbconvert_exporter": "python",
   "pygments_lexer": "ipython3",
   "version": "3.10.10"
  },
  "orig_nbformat": 4
 },
 "nbformat": 4,
 "nbformat_minor": 2
}
