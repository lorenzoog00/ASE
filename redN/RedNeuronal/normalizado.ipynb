{
 "cells": [
  {
   "cell_type": "code",
   "execution_count": 1,
   "metadata": {},
   "outputs": [],
   "source": [
    "import pandas as pd\n",
    "import os\n",
    "import glob\n",
    "import matplotlib.pyplot as plt\n",
    "import numpy as np\n",
    "import tensorflow as tf\n",
    "import math\n",
    "from sklearn.metrics import mean_squared_error, r2_score\n",
    "import pandas as pd\n",
    "from keras.models import Sequential\n",
    "from keras.layers import Dense\n",
    "from sklearn.preprocessing import MinMaxScaler\n",
    "from sklearn.model_selection import train_test_split\n",
    "from sklearn.neural_network import MLPClassifier\n",
    "from sklearn.preprocessing import MultiLabelBinarizer\n",
    "from sklearn.preprocessing import StandardScaler\n",
    "from sklearn.preprocessing import MaxAbsScaler\n",
    "import numpy as np\n",
    "from sklearn.metrics import mean_absolute_error, r2_score\n",
    "from scipy.stats import pearsonr"
   ]
  },
  {
   "cell_type": "code",
   "execution_count": 2,
   "metadata": {},
   "outputs": [],
   "source": [
    "files = [file for file in os.listdir('./parametros')]\n",
    "\n",
    "param = pd.DataFrame()\n",
    "for file in files:\n",
    "  df = pd.read_csv('./parametros/'+file)\n",
    "  param = pd.concat([param, df], axis= 0)"
   ]
  },
  {
   "attachments": {},
   "cell_type": "markdown",
   "metadata": {},
   "source": [
    "Revolviendo los datos"
   ]
  },
  {
   "cell_type": "code",
   "execution_count": 3,
   "metadata": {},
   "outputs": [],
   "source": [
    "from sklearn.model_selection import train_test_split\n",
    "param = param.sample(frac=1, random_state=42).reset_index(drop=True)\n",
    "train_df, test_df = train_test_split(param, test_size=0.2, random_state=42)"
   ]
  },
  {
   "attachments": {},
   "cell_type": "markdown",
   "metadata": {},
   "source": [
    "Normalizando"
   ]
  },
  {
   "attachments": {},
   "cell_type": "markdown",
   "metadata": {},
   "source": [
    "# Ahora invertimos la red, de input será Fracción vol, espesor y radio. Output longitud de onda e Índice de absorción"
   ]
  },
  {
   "attachments": {},
   "cell_type": "markdown",
   "metadata": {},
   "source": [
    "Normalizacion"
   ]
  },
  {
   "cell_type": "code",
   "execution_count": 4,
   "metadata": {},
   "outputs": [],
   "source": [
    "# Cargar DataFrame\n",
    "df = train_df\n",
    "# Separar datos de entrada y salida\n",
    "Y = df[['Índice de absorción', 'Longitud de onda']]\n",
    "X = df[['Fracvol', 'Radio (nm)', 'Espesor de la película (nm)']]"
   ]
  },
  {
   "cell_type": "code",
   "execution_count": 5,
   "metadata": {},
   "outputs": [],
   "source": [
    "scaler_X = MinMaxScaler()\n",
    "scaler_Y = MinMaxScaler()\n",
    "\n",
    "X = scaler_X.fit_transform(X)\n",
    "Y = scaler_Y.fit_transform(Y)"
   ]
  },
  {
   "attachments": {},
   "cell_type": "markdown",
   "metadata": {},
   "source": [
    "Esto se hace para poder ver los errores"
   ]
  },
  {
   "cell_type": "code",
   "execution_count": 6,
   "metadata": {},
   "outputs": [],
   "source": [
    "X_train, X_val, y_train, y_val = train_test_split(X, Y, test_size=0.2, random_state=42)"
   ]
  },
  {
   "cell_type": "code",
   "execution_count": 7,
   "metadata": {},
   "outputs": [],
   "source": [
    "# Creamos el modelo de la red neuronal\n",
    "model = Sequential()\n",
    "model.add(Dense(64, input_dim=3, activation='relu'))\n",
    "model.add(Dense(10, activation='relu'))\n",
    "model.add(Dense(2, activation='linear'))"
   ]
  },
  {
   "cell_type": "code",
   "execution_count": 8,
   "metadata": {},
   "outputs": [],
   "source": [
    "model.compile(loss='mean_squared_error', optimizer='adam')"
   ]
  },
  {
   "cell_type": "code",
   "execution_count": 9,
   "metadata": {},
   "outputs": [
    {
     "name": "stdout",
     "output_type": "stream",
     "text": [
      "Epoch 1/100\n",
      "3072/3072 [==============================] - 3s 680us/step - loss: 0.0453 - val_loss: 0.0448\n",
      "Epoch 2/100\n",
      "3072/3072 [==============================] - 2s 649us/step - loss: 0.0440 - val_loss: 0.0439\n",
      "Epoch 3/100\n",
      "3072/3072 [==============================] - 2s 658us/step - loss: 0.0439 - val_loss: 0.0437\n",
      "Epoch 4/100\n",
      "3072/3072 [==============================] - 2s 652us/step - loss: 0.0439 - val_loss: 0.0439\n",
      "Epoch 5/100\n",
      "3072/3072 [==============================] - 2s 649us/step - loss: 0.0439 - val_loss: 0.0437\n",
      "Epoch 6/100\n",
      "3072/3072 [==============================] - 2s 647us/step - loss: 0.0439 - val_loss: 0.0436\n",
      "Epoch 7/100\n",
      "3072/3072 [==============================] - 2s 634us/step - loss: 0.0438 - val_loss: 0.0435\n",
      "Epoch 8/100\n",
      "3072/3072 [==============================] - 2s 646us/step - loss: 0.0438 - val_loss: 0.0436\n",
      "Epoch 9/100\n",
      "3072/3072 [==============================] - 2s 643us/step - loss: 0.0438 - val_loss: 0.0436\n",
      "Epoch 10/100\n",
      "3072/3072 [==============================] - 2s 643us/step - loss: 0.0437 - val_loss: 0.0447\n",
      "Epoch 11/100\n",
      "3072/3072 [==============================] - 2s 634us/step - loss: 0.0437 - val_loss: 0.0435\n",
      "Epoch 12/100\n",
      "3072/3072 [==============================] - 2s 634us/step - loss: 0.0437 - val_loss: 0.0437\n",
      "Epoch 13/100\n",
      "3072/3072 [==============================] - 2s 637us/step - loss: 0.0437 - val_loss: 0.0435\n",
      "Epoch 14/100\n",
      "3072/3072 [==============================] - 2s 643us/step - loss: 0.0437 - val_loss: 0.0435\n",
      "Epoch 15/100\n",
      "3072/3072 [==============================] - 2s 643us/step - loss: 0.0437 - val_loss: 0.0437\n",
      "Epoch 16/100\n",
      "3072/3072 [==============================] - 2s 640us/step - loss: 0.0437 - val_loss: 0.0435\n",
      "Epoch 17/100\n",
      "3072/3072 [==============================] - 2s 634us/step - loss: 0.0437 - val_loss: 0.0435\n",
      "Epoch 18/100\n",
      "3072/3072 [==============================] - 2s 640us/step - loss: 0.0437 - val_loss: 0.0435\n",
      "Epoch 19/100\n",
      "3072/3072 [==============================] - 2s 648us/step - loss: 0.0437 - val_loss: 0.0435\n",
      "Epoch 20/100\n",
      "3072/3072 [==============================] - 2s 637us/step - loss: 0.0437 - val_loss: 0.0435\n",
      "Epoch 21/100\n",
      "3072/3072 [==============================] - 2s 638us/step - loss: 0.0437 - val_loss: 0.0435\n",
      "Epoch 22/100\n",
      "3072/3072 [==============================] - 2s 635us/step - loss: 0.0437 - val_loss: 0.0435\n",
      "Epoch 23/100\n",
      "3072/3072 [==============================] - 2s 635us/step - loss: 0.0437 - val_loss: 0.0435\n",
      "Epoch 24/100\n",
      "3072/3072 [==============================] - 2s 641us/step - loss: 0.0437 - val_loss: 0.0435\n",
      "Epoch 25/100\n",
      "3072/3072 [==============================] - 2s 642us/step - loss: 0.0437 - val_loss: 0.0435\n",
      "Epoch 26/100\n",
      "3072/3072 [==============================] - 2s 639us/step - loss: 0.0437 - val_loss: 0.0435\n",
      "Epoch 27/100\n",
      "3072/3072 [==============================] - 2s 642us/step - loss: 0.0437 - val_loss: 0.0436\n",
      "Epoch 28/100\n",
      "3072/3072 [==============================] - 2s 633us/step - loss: 0.0437 - val_loss: 0.0436\n",
      "Epoch 29/100\n",
      "3072/3072 [==============================] - 2s 636us/step - loss: 0.0437 - val_loss: 0.0435\n",
      "Epoch 30/100\n",
      "3072/3072 [==============================] - 2s 640us/step - loss: 0.0437 - val_loss: 0.0437\n",
      "Epoch 31/100\n",
      "3072/3072 [==============================] - 2s 641us/step - loss: 0.0437 - val_loss: 0.0435\n",
      "Epoch 32/100\n",
      "3072/3072 [==============================] - 2s 644us/step - loss: 0.0437 - val_loss: 0.0435\n",
      "Epoch 33/100\n",
      "3072/3072 [==============================] - 2s 636us/step - loss: 0.0437 - val_loss: 0.0435\n",
      "Epoch 34/100\n",
      "3072/3072 [==============================] - 2s 660us/step - loss: 0.0437 - val_loss: 0.0435\n",
      "Epoch 35/100\n",
      "3072/3072 [==============================] - 2s 646us/step - loss: 0.0437 - val_loss: 0.0435\n",
      "Epoch 36/100\n",
      "3072/3072 [==============================] - 2s 642us/step - loss: 0.0437 - val_loss: 0.0435\n",
      "Epoch 37/100\n",
      "3072/3072 [==============================] - 2s 657us/step - loss: 0.0437 - val_loss: 0.0435\n",
      "Epoch 38/100\n",
      "3072/3072 [==============================] - 2s 649us/step - loss: 0.0437 - val_loss: 0.0435\n",
      "Epoch 39/100\n",
      "3072/3072 [==============================] - 2s 639us/step - loss: 0.0437 - val_loss: 0.0435\n",
      "Epoch 40/100\n",
      "3072/3072 [==============================] - 2s 639us/step - loss: 0.0436 - val_loss: 0.0435\n",
      "Epoch 41/100\n",
      "3072/3072 [==============================] - 2s 639us/step - loss: 0.0437 - val_loss: 0.0436\n",
      "Epoch 42/100\n",
      "3072/3072 [==============================] - 2s 642us/step - loss: 0.0437 - val_loss: 0.0435\n",
      "Epoch 43/100\n",
      "3072/3072 [==============================] - 2s 647us/step - loss: 0.0436 - val_loss: 0.0435\n",
      "Epoch 44/100\n",
      "3072/3072 [==============================] - 2s 644us/step - loss: 0.0437 - val_loss: 0.0435\n",
      "Epoch 45/100\n",
      "3072/3072 [==============================] - 2s 644us/step - loss: 0.0437 - val_loss: 0.0435\n",
      "Epoch 46/100\n",
      "3072/3072 [==============================] - 2s 636us/step - loss: 0.0437 - val_loss: 0.0436\n",
      "Epoch 47/100\n",
      "3072/3072 [==============================] - 2s 642us/step - loss: 0.0437 - val_loss: 0.0435\n",
      "Epoch 48/100\n",
      "3072/3072 [==============================] - 2s 645us/step - loss: 0.0437 - val_loss: 0.0435\n",
      "Epoch 49/100\n",
      "3072/3072 [==============================] - 2s 645us/step - loss: 0.0437 - val_loss: 0.0435\n",
      "Epoch 50/100\n",
      "3072/3072 [==============================] - 2s 637us/step - loss: 0.0437 - val_loss: 0.0436\n",
      "Epoch 51/100\n",
      "3072/3072 [==============================] - 2s 635us/step - loss: 0.0436 - val_loss: 0.0436\n",
      "Epoch 52/100\n",
      "3072/3072 [==============================] - 2s 638us/step - loss: 0.0437 - val_loss: 0.0436\n",
      "Epoch 53/100\n",
      "3072/3072 [==============================] - 2s 646us/step - loss: 0.0437 - val_loss: 0.0435\n",
      "Epoch 54/100\n",
      "3072/3072 [==============================] - 2s 647us/step - loss: 0.0437 - val_loss: 0.0435\n",
      "Epoch 55/100\n",
      "3072/3072 [==============================] - 2s 643us/step - loss: 0.0436 - val_loss: 0.0435\n",
      "Epoch 56/100\n",
      "3072/3072 [==============================] - 2s 645us/step - loss: 0.0436 - val_loss: 0.0436\n",
      "Epoch 57/100\n",
      "3072/3072 [==============================] - 2s 649us/step - loss: 0.0436 - val_loss: 0.0435\n",
      "Epoch 58/100\n",
      "3072/3072 [==============================] - 2s 646us/step - loss: 0.0437 - val_loss: 0.0435\n",
      "Epoch 59/100\n",
      "3072/3072 [==============================] - 2s 647us/step - loss: 0.0436 - val_loss: 0.0436\n",
      "Epoch 60/100\n",
      "3072/3072 [==============================] - 2s 644us/step - loss: 0.0436 - val_loss: 0.0435\n",
      "Epoch 61/100\n",
      "3072/3072 [==============================] - 2s 646us/step - loss: 0.0437 - val_loss: 0.0436\n",
      "Epoch 62/100\n",
      "3072/3072 [==============================] - 2s 642us/step - loss: 0.0436 - val_loss: 0.0435\n",
      "Epoch 63/100\n",
      "3072/3072 [==============================] - 2s 640us/step - loss: 0.0436 - val_loss: 0.0435\n",
      "Epoch 64/100\n",
      "3072/3072 [==============================] - 2s 655us/step - loss: 0.0436 - val_loss: 0.0435\n",
      "Epoch 65/100\n",
      "3072/3072 [==============================] - 2s 644us/step - loss: 0.0436 - val_loss: 0.0436\n",
      "Epoch 66/100\n",
      "3072/3072 [==============================] - 2s 641us/step - loss: 0.0436 - val_loss: 0.0435\n",
      "Epoch 67/100\n",
      "3072/3072 [==============================] - 2s 640us/step - loss: 0.0436 - val_loss: 0.0435\n",
      "Epoch 68/100\n",
      "3072/3072 [==============================] - 2s 640us/step - loss: 0.0436 - val_loss: 0.0436\n",
      "Epoch 69/100\n",
      "3072/3072 [==============================] - 2s 646us/step - loss: 0.0436 - val_loss: 0.0437\n",
      "Epoch 70/100\n",
      "3072/3072 [==============================] - 2s 644us/step - loss: 0.0436 - val_loss: 0.0435\n",
      "Epoch 71/100\n",
      "3072/3072 [==============================] - 2s 696us/step - loss: 0.0436 - val_loss: 0.0435\n",
      "Epoch 72/100\n",
      "3072/3072 [==============================] - 2s 653us/step - loss: 0.0436 - val_loss: 0.0435\n",
      "Epoch 73/100\n",
      "3072/3072 [==============================] - 2s 638us/step - loss: 0.0436 - val_loss: 0.0435\n",
      "Epoch 74/100\n",
      "3072/3072 [==============================] - 2s 663us/step - loss: 0.0436 - val_loss: 0.0435\n",
      "Epoch 75/100\n",
      "3072/3072 [==============================] - 2s 674us/step - loss: 0.0436 - val_loss: 0.0435\n",
      "Epoch 76/100\n",
      "3072/3072 [==============================] - 2s 674us/step - loss: 0.0436 - val_loss: 0.0435\n",
      "Epoch 77/100\n",
      "3072/3072 [==============================] - 2s 667us/step - loss: 0.0436 - val_loss: 0.0435\n",
      "Epoch 78/100\n",
      "3072/3072 [==============================] - 2s 660us/step - loss: 0.0437 - val_loss: 0.0435\n",
      "Epoch 79/100\n",
      "3072/3072 [==============================] - 2s 659us/step - loss: 0.0436 - val_loss: 0.0436\n",
      "Epoch 80/100\n",
      "3072/3072 [==============================] - 2s 657us/step - loss: 0.0437 - val_loss: 0.0435\n",
      "Epoch 81/100\n",
      "3072/3072 [==============================] - 2s 661us/step - loss: 0.0436 - val_loss: 0.0435\n",
      "Epoch 82/100\n",
      "3072/3072 [==============================] - 2s 657us/step - loss: 0.0436 - val_loss: 0.0435\n",
      "Epoch 83/100\n",
      "3072/3072 [==============================] - 2s 651us/step - loss: 0.0436 - val_loss: 0.0435\n",
      "Epoch 84/100\n",
      "3072/3072 [==============================] - 2s 652us/step - loss: 0.0436 - val_loss: 0.0435\n",
      "Epoch 85/100\n",
      "3072/3072 [==============================] - 2s 652us/step - loss: 0.0436 - val_loss: 0.0435\n",
      "Epoch 86/100\n",
      "3072/3072 [==============================] - 2s 663us/step - loss: 0.0436 - val_loss: 0.0435\n",
      "Epoch 87/100\n",
      "3072/3072 [==============================] - 2s 658us/step - loss: 0.0436 - val_loss: 0.0435\n",
      "Epoch 88/100\n",
      "3072/3072 [==============================] - 2s 657us/step - loss: 0.0436 - val_loss: 0.0435\n",
      "Epoch 89/100\n",
      "3072/3072 [==============================] - 2s 652us/step - loss: 0.0436 - val_loss: 0.0435\n",
      "Epoch 90/100\n",
      "3072/3072 [==============================] - 2s 657us/step - loss: 0.0436 - val_loss: 0.0435\n",
      "Epoch 91/100\n",
      "3072/3072 [==============================] - 2s 664us/step - loss: 0.0436 - val_loss: 0.0435\n",
      "Epoch 92/100\n",
      "3072/3072 [==============================] - 2s 678us/step - loss: 0.0436 - val_loss: 0.0435\n",
      "Epoch 93/100\n",
      "3072/3072 [==============================] - 2s 679us/step - loss: 0.0436 - val_loss: 0.0435\n",
      "Epoch 94/100\n",
      "3072/3072 [==============================] - 2s 680us/step - loss: 0.0436 - val_loss: 0.0435\n",
      "Epoch 95/100\n",
      "3072/3072 [==============================] - 2s 662us/step - loss: 0.0436 - val_loss: 0.0435\n",
      "Epoch 96/100\n",
      "3072/3072 [==============================] - 2s 660us/step - loss: 0.0436 - val_loss: 0.0436\n",
      "Epoch 97/100\n",
      "3072/3072 [==============================] - 2s 675us/step - loss: 0.0436 - val_loss: 0.0435\n",
      "Epoch 98/100\n",
      "3072/3072 [==============================] - 2s 678us/step - loss: 0.0436 - val_loss: 0.0435\n",
      "Epoch 99/100\n",
      "3072/3072 [==============================] - 2s 669us/step - loss: 0.0437 - val_loss: 0.0435\n",
      "Epoch 100/100\n",
      "3072/3072 [==============================] - 2s 660us/step - loss: 0.0436 - val_loss: 0.0435\n"
     ]
    }
   ],
   "source": [
    "history = model.fit(X, Y, validation_data=(X_val, y_val),epochs=100, batch_size=10)"
   ]
  },
  {
   "attachments": {},
   "cell_type": "markdown",
   "metadata": {},
   "source": [
    "Normalizando los datos de test"
   ]
  },
  {
   "cell_type": "code",
   "execution_count": 10,
   "metadata": {},
   "outputs": [],
   "source": [
    "x_pred = test_df[['Fracvol', 'Radio (nm)', 'Espesor de la película (nm)']]"
   ]
  },
  {
   "cell_type": "code",
   "execution_count": 11,
   "metadata": {},
   "outputs": [],
   "source": [
    "y_normalized = scaler_Y.transform(test_df[['Índice de absorción', 'Longitud de onda']])"
   ]
  },
  {
   "cell_type": "code",
   "execution_count": 12,
   "metadata": {},
   "outputs": [
    {
     "name": "stdout",
     "output_type": "stream",
     "text": [
      "240/240 [==============================] - 0s 484us/step\n"
     ]
    }
   ],
   "source": [
    "x_pred_norm = scaler_X.transform(x_pred) \n",
    "pred_norm = model.predict(x_pred_norm)"
   ]
  },
  {
   "cell_type": "code",
   "execution_count": 13,
   "metadata": {},
   "outputs": [
    {
     "name": "stdout",
     "output_type": "stream",
     "text": [
      "240/240 [==============================] - 0s 625us/step - loss: 0.0434\n"
     ]
    },
    {
     "data": {
      "text/plain": [
       "0.04343103617429733"
      ]
     },
     "execution_count": 13,
     "metadata": {},
     "output_type": "execute_result"
    }
   ],
   "source": [
    "test_loss = model.evaluate(x_pred_norm, y_normalized)\n",
    "test_loss"
   ]
  },
  {
   "attachments": {},
   "cell_type": "markdown",
   "metadata": {},
   "source": [
    "Calculando error cuadrático medio "
   ]
  },
  {
   "cell_type": "code",
   "execution_count": 14,
   "metadata": {},
   "outputs": [
    {
     "name": "stdout",
     "output_type": "stream",
     "text": [
      "MSE:  0.04343101952423982\n",
      "MSE desnormalizado:  0.005999157463474531\n"
     ]
    }
   ],
   "source": [
    "# Calcular error cuadrático medio (MSE) en los datos normalizados\n",
    "mse = np.mean(np.square(y_normalized - pred_norm))\n",
    "print(\"MSE: \", mse)\n",
    "\n",
    "# Desnormalizar el MSE\n",
    "mse_denormalized = scaler_Y.inverse_transform(np.array([[mse, 0]]))[0][0]\n",
    "print(\"MSE desnormalizado: \", mse_denormalized)"
   ]
  },
  {
   "cell_type": "code",
   "execution_count": 23,
   "metadata": {},
   "outputs": [
    {
     "name": "stdout",
     "output_type": "stream",
     "text": [
      "MAE: 0.13659525746741777\n",
      "MAE desnormalizado:  0.005999157463474531\n",
      "R: 0.7511902360496036\n",
      "R desnormalizado:  0.10376192924653053\n",
      "R^2: 0.047102934559448306\n",
      "R^2 desnormalizado:  0.006506359041655597\n"
     ]
    }
   ],
   "source": [
    "# calcular MAE\n",
    "mae = mean_absolute_error(y_normalized, pred_norm)\n",
    "\n",
    "# calcular R\n",
    "r, _ = pearsonr(y_normalized.flatten(), pred_norm.flatten())\n",
    "\n",
    "# calcular R^2\n",
    "r2 = r2_score(y_normalized, pred_norm)\n",
    "\n",
    "print(\"MAE:\", mae)\n",
    "mae_denormalized = scaler_Y.inverse_transform(np.array([[mae, 0]]))[0][0]\n",
    "print(\"MAE desnormalizado: \", mse_denormalized)\n",
    "print(\"R:\", r)\n",
    "r_denormalized = scaler_Y.inverse_transform(np.array([[r, 0]]))[0][0]\n",
    "print(\"R desnormalizado: \", r_denormalized)\n",
    "print(\"R^2:\", r2)\n",
    "r2_denormalized = scaler_Y.inverse_transform(np.array([[r2, 0]]))[0][0]\n",
    "print(\"R^2 desnormalizado: \", r2_denormalized)"
   ]
  },
  {
   "attachments": {},
   "cell_type": "markdown",
   "metadata": {},
   "source": [
    "Gráfica de función de pérdida contra pérdida, para ver si se necesitan más épocas en el modelo"
   ]
  },
  {
   "cell_type": "code",
   "execution_count": 16,
   "metadata": {},
   "outputs": [
    {
     "data": {
      "image/png": "[encoded data removed]",
      "text/plain": [
       "<Figure size 640x480 with 1 Axes>"
      ]
     },
     "metadata": {},
     "output_type": "display_data"
    }
   ],
   "source": [
    "# Graficar la función de pérdida\n",
    "train_loss = history.history['loss']\n",
    "val_loss = history.history['val_loss']\n",
    "epochs = range(1, len(train_loss) + 1)\n",
    "plt.plot(epochs, train_loss, 'bo', label='Training loss')\n",
    "plt.plot(epochs, val_loss, 'b', label='Validation loss')\n",
    "plt.title('Entrenamiento y pérdida de validación')\n",
    "plt.xlabel('Épocas')\n",
    "plt.ylabel('Pérdida')\n",
    "plt.legend()\n",
    "plt.show()"
   ]
  },
  {
   "cell_type": "code",
   "execution_count": 17,
   "metadata": {},
   "outputs": [
    {
     "data": {
      "text/plain": [
       "array([[5.2492791e-03, 6.0056403e+02],\n",
       "       [1.6080502e-03, 6.0076923e+02],\n",
       "       [1.6080502e-03, 6.0076923e+02],\n",
       "       ...,\n",
       "       [4.6214848e-03, 6.0059937e+02],\n",
       "       [1.6080502e-03, 6.0076923e+02],\n",
       "       [1.6080502e-03, 6.0076923e+02]], dtype=float32)"
      ]
     },
     "execution_count": 17,
     "metadata": {},
     "output_type": "execute_result"
    }
   ],
   "source": [
    "pred = scaler_Y.inverse_transform(pred_norm)\n",
    "pred"
   ]
  },
  {
   "attachments": {},
   "cell_type": "markdown",
   "metadata": {},
   "source": [
    "# Renombrando las columnas"
   ]
  },
  {
   "cell_type": "code",
   "execution_count": 26,
   "metadata": {},
   "outputs": [],
   "source": [
    "predicciones = pd.DataFrame(pred)\n",
    "predicciones.columns = ['Índice de absorción', 'Longitud de onda']\n"
   ]
  },
  {
   "cell_type": "code",
   "execution_count": 32,
   "metadata": {},
   "outputs": [
    {
     "data": {
      "text/plain": [
       "array([0.00524928, 0.00160805, 0.00901605, 0.00282775, 0.00838825,\n",
       "       0.00776046, 0.00189643, 0.00306058, 0.01089943, 0.00650487,\n",
       "       0.01215502, 0.00212926, 0.00462148, 0.00587707, 0.0016636 ,\n",
       "       0.01027163, 0.00236209, 0.00345905, 0.00713266, 0.00964384,\n",
       "       0.00259492, 0.01152722, 0.00964384, 0.00345905], dtype=float32)"
      ]
     },
     "execution_count": 32,
     "metadata": {},
     "output_type": "execute_result"
    }
   ],
   "source": [
    "predicciones['Índice de absorción'].unique()"
   ]
  },
  {
   "cell_type": "code",
   "execution_count": 33,
   "metadata": {},
   "outputs": [
    {
     "data": {
      "text/plain": [
       "array([600.564  , 600.7692 , 600.3516 , 600.7005 , 600.3871 , 600.4224 ,\n",
       "       600.75305, 600.6874 , 600.2455 , 600.49316, 600.1747 , 600.73987,\n",
       "       600.59937, 600.5286 , 600.7661 , 600.2809 , 600.72675, 600.6649 ,\n",
       "       600.4578 , 600.3162 , 600.7136 , 600.21014], dtype=float32)"
      ]
     },
     "execution_count": 33,
     "metadata": {},
     "output_type": "execute_result"
    }
   ],
   "source": [
    "predicciones['Longitud de onda'].unique()"
   ]
  },
  {
   "attachments": {},
   "cell_type": "markdown",
   "metadata": {},
   "source": [
    "# Probando la accurancy del modelo"
   ]
  },
  {
   "attachments": {},
   "cell_type": "markdown",
   "metadata": {},
   "source": [
    "Primero lo haremos por cada parámetro. Se le restará los valores predichos por la red a los valores originales de test. Se contarán el número de ceros y ese será lo acertada que es nuestra red. De tener valores inferiores a 80% en número de ceros este rango se incrementará hasta llegar a un valor que el 80% de los valores sean menores a este"
   ]
  },
  {
   "attachments": {},
   "cell_type": "markdown",
   "metadata": {},
   "source": [
    "# Longitud de onda"
   ]
  },
  {
   "cell_type": "code",
   "execution_count": 19,
   "metadata": {},
   "outputs": [
    {
     "name": "stdout",
     "output_type": "stream",
     "text": [
      "presición del  0.0 %.\n"
     ]
    }
   ],
   "source": [
    "redondeo = predicciones['Longitud de onda'].to_numpy()\n",
    "test_df_long = test_df['Longitud de onda'].to_numpy()\n",
    "dif = redondeo - test_df_long \n",
    "#count_nonzero() cuenta el número de elementos distintos de cero en el arreglo, mientras que la función size() devuelve el tamaño total del arreglo. \n",
    "total = dif.size\n",
    "num_zeros = dif.size - np.count_nonzero(dif)\n",
    "porcentaje = num_zeros*100/total\n",
    "print(\"presición del \", porcentaje, \"%.\")"
   ]
  },
  {
   "cell_type": "code",
   "execution_count": 20,
   "metadata": {},
   "outputs": [
    {
     "name": "stdout",
     "output_type": "stream",
     "text": [
      "presición del  0.0 %. Con el redondeo para arriba en espesor y un rango de 0\n",
      "presición del  0.3645833333333333 %. Con el redondeo para arriba en espesor y un rango de 1\n",
      "presición del  0.7682291666666666 %. Con el redondeo para arriba en espesor y un rango de 2\n",
      "presición del  1.0286458333333333 %. Con el redondeo para arriba en espesor y un rango de 3\n",
      "presición del  1.4453125 %. Con el redondeo para arriba en espesor y un rango de 4\n",
      "presición del  1.8229166666666667 %. Con el redondeo para arriba en espesor y un rango de 5\n",
      "presición del  2.1354166666666665 %. Con el redondeo para arriba en espesor y un rango de 6\n",
      "presición del  2.4739583333333335 %. Con el redondeo para arriba en espesor y un rango de 7\n",
      "presición del  2.9296875 %. Con el redondeo para arriba en espesor y un rango de 8\n",
      "presición del  3.2291666666666665 %. Con el redondeo para arriba en espesor y un rango de 9\n",
      "presición del  3.6328125 %. Con el redondeo para arriba en espesor y un rango de 10\n",
      "presición del  3.984375 %. Con el redondeo para arriba en espesor y un rango de 11\n",
      "presición del  4.309895833333333 %. Con el redondeo para arriba en espesor y un rango de 12\n",
      "presición del  4.6875 %. Con el redondeo para arriba en espesor y un rango de 13\n",
      "presición del  4.986979166666667 %. Con el redondeo para arriba en espesor y un rango de 14\n",
      "presición del  5.364583333333333 %. Con el redondeo para arriba en espesor y un rango de 15\n",
      "presición del  5.755208333333333 %. Con el redondeo para arriba en espesor y un rango de 16\n",
      "presición del  6.184895833333333 %. Con el redondeo para arriba en espesor y un rango de 17\n",
      "presición del  6.484375 %. Con el redondeo para arriba en espesor y un rango de 18\n",
      "presición del  6.71875 %. Con el redondeo para arriba en espesor y un rango de 19\n",
      "presición del  7.03125 %. Con el redondeo para arriba en espesor y un rango de 20\n",
      "presición del  7.473958333333333 %. Con el redondeo para arriba en espesor y un rango de 21\n",
      "presición del  7.7734375 %. Con el redondeo para arriba en espesor y un rango de 22\n",
      "presición del  8.072916666666666 %. Con el redondeo para arriba en espesor y un rango de 23\n",
      "presición del  8.372395833333334 %. Con el redondeo para arriba en espesor y un rango de 24\n",
      "presición del  8.763020833333334 %. Con el redondeo para arriba en espesor y un rango de 25\n",
      "presición del  9.127604166666666 %. Con el redondeo para arriba en espesor y un rango de 26\n",
      "presición del  9.4921875 %. Con el redondeo para arriba en espesor y un rango de 27\n",
      "presición del  9.84375 %. Con el redondeo para arriba en espesor y un rango de 28\n",
      "presición del  10.208333333333334 %. Con el redondeo para arriba en espesor y un rango de 29\n",
      "presición del  10.5859375 %. Con el redondeo para arriba en espesor y un rango de 30\n",
      "presición del  10.9765625 %. Con el redondeo para arriba en espesor y un rango de 31\n",
      "presición del  11.315104166666666 %. Con el redondeo para arriba en espesor y un rango de 32\n",
      "presición del  11.575520833333334 %. Con el redondeo para arriba en espesor y un rango de 33\n",
      "presición del  11.979166666666666 %. Con el redondeo para arriba en espesor y un rango de 34\n",
      "presición del  12.369791666666666 %. Con el redondeo para arriba en espesor y un rango de 35\n",
      "presición del  12.682291666666666 %. Con el redondeo para arriba en espesor y un rango de 36\n",
      "presición del  12.916666666666666 %. Con el redondeo para arriba en espesor y un rango de 37\n",
      "presición del  13.2421875 %. Con el redondeo para arriba en espesor y un rango de 38\n",
      "presición del  13.6328125 %. Con el redondeo para arriba en espesor y un rango de 39\n",
      "presición del  13.984375 %. Con el redondeo para arriba en espesor y un rango de 40\n",
      "presición del  14.270833333333334 %. Con el redondeo para arriba en espesor y un rango de 41\n",
      "presición del  14.6484375 %. Con el redondeo para arriba en espesor y un rango de 42\n",
      "presición del  14.895833333333334 %. Con el redondeo para arriba en espesor y un rango de 43\n",
      "presición del  15.143229166666666 %. Con el redondeo para arriba en espesor y un rango de 44\n",
      "presición del  15.481770833333334 %. Con el redondeo para arriba en espesor y un rango de 45\n",
      "presición del  15.846354166666666 %. Con el redondeo para arriba en espesor y un rango de 46\n",
      "presición del  16.171875 %. Con el redondeo para arriba en espesor y un rango de 47\n",
      "presición del  16.40625 %. Con el redondeo para arriba en espesor y un rango de 48\n",
      "presición del  16.822916666666668 %. Con el redondeo para arriba en espesor y un rango de 49\n",
      "presición del  17.174479166666668 %. Con el redondeo para arriba en espesor y un rango de 50\n",
      "presición del  17.526041666666668 %. Con el redondeo para arriba en espesor y un rango de 51\n",
      "presición del  17.942708333333332 %. Con el redondeo para arriba en espesor y un rango de 52\n",
      "presición del  18.2421875 %. Con el redondeo para arriba en espesor y un rango de 53\n",
      "presición del  18.424479166666668 %. Con el redondeo para arriba en espesor y un rango de 54\n",
      "presición del  18.723958333333332 %. Con el redondeo para arriba en espesor y un rango de 55\n",
      "presición del  19.0234375 %. Con el redondeo para arriba en espesor y un rango de 56\n",
      "presición del  19.361979166666668 %. Con el redondeo para arriba en espesor y un rango de 57\n",
      "presición del  19.739583333333332 %. Con el redondeo para arriba en espesor y un rango de 58\n",
      "presición del  20.260416666666668 %. Con el redondeo para arriba en espesor y un rango de 59\n",
      "presición del  20.520833333333332 %. Con el redondeo para arriba en espesor y un rango de 60\n",
      "presición del  20.807291666666668 %. Con el redondeo para arriba en espesor y un rango de 61\n",
      "presición del  21.145833333333332 %. Con el redondeo para arriba en espesor y un rango de 62\n",
      "presición del  21.549479166666668 %. Con el redondeo para arriba en espesor y un rango de 63\n",
      "presición del  21.901041666666668 %. Con el redondeo para arriba en espesor y un rango de 64\n",
      "presición del  22.356770833333332 %. Con el redondeo para arriba en espesor y un rango de 65\n",
      "presición del  22.682291666666668 %. Con el redondeo para arriba en espesor y un rango de 66\n",
      "presición del  23.0078125 %. Con el redondeo para arriba en espesor y un rango de 67\n",
      "presición del  23.2421875 %. Con el redondeo para arriba en espesor y un rango de 68\n",
      "presición del  23.567708333333332 %. Con el redondeo para arriba en espesor y un rango de 69\n",
      "presición del  23.932291666666668 %. Con el redondeo para arriba en espesor y un rango de 70\n",
      "presición del  24.231770833333332 %. Con el redondeo para arriba en espesor y un rango de 71\n",
      "presición del  24.596354166666668 %. Con el redondeo para arriba en espesor y un rango de 72\n",
      "presición del  25.0 %. Con el redondeo para arriba en espesor y un rango de 73\n",
      "presición del  25.286458333333332 %. Con el redondeo para arriba en espesor y un rango de 74\n",
      "presición del  25.611979166666668 %. Con el redondeo para arriba en espesor y un rango de 75\n",
      "presición del  25.924479166666668 %. Con el redondeo para arriba en espesor y un rango de 76\n",
      "presición del  26.236979166666668 %. Con el redondeo para arriba en espesor y un rango de 77\n",
      "presición del  26.5625 %. Con el redondeo para arriba en espesor y un rango de 78\n",
      "presición del  26.822916666666668 %. Con el redondeo para arriba en espesor y un rango de 79\n",
      "presición del  27.018229166666668 %. Con el redondeo para arriba en espesor y un rango de 80\n",
      "presición del  27.3046875 %. Con el redondeo para arriba en espesor y un rango de 81\n",
      "presición del  27.578125 %. Con el redondeo para arriba en espesor y un rango de 82\n",
      "presición del  27.864583333333332 %. Con el redondeo para arriba en espesor y un rango de 83\n",
      "presición del  28.151041666666668 %. Con el redondeo para arriba en espesor y un rango de 84\n",
      "presición del  28.463541666666668 %. Con el redondeo para arriba en espesor y un rango de 85\n",
      "presición del  28.763020833333332 %. Con el redondeo para arriba en espesor y un rango de 86\n",
      "presición del  29.088541666666668 %. Con el redondeo para arriba en espesor y un rango de 87\n",
      "presición del  29.3359375 %. Con el redondeo para arriba en espesor y un rango de 88\n",
      "presición del  29.674479166666668 %. Con el redondeo para arriba en espesor y un rango de 89\n",
      "presición del  30.0 %. Con el redondeo para arriba en espesor y un rango de 90\n",
      "presición del  30.299479166666668 %. Con el redondeo para arriba en espesor y un rango de 91\n",
      "presición del  30.611979166666668 %. Con el redondeo para arriba en espesor y un rango de 92\n",
      "presición del  31.1328125 %. Con el redondeo para arriba en espesor y un rango de 93\n",
      "presición del  31.380208333333332 %. Con el redondeo para arriba en espesor y un rango de 94\n",
      "presición del  31.71875 %. Con el redondeo para arriba en espesor y un rango de 95\n",
      "presición del  32.057291666666664 %. Con el redondeo para arriba en espesor y un rango de 96\n",
      "presición del  32.447916666666664 %. Con el redondeo para arriba en espesor y un rango de 97\n",
      "presición del  32.9296875 %. Con el redondeo para arriba en espesor y un rango de 98\n",
      "presición del  33.3203125 %. Con el redondeo para arriba en espesor y un rango de 99\n",
      "presición del  33.723958333333336 %. Con el redondeo para arriba en espesor y un rango de 100\n",
      "presición del  34.010416666666664 %. Con el redondeo para arriba en espesor y un rango de 101\n",
      "presición del  34.388020833333336 %. Con el redondeo para arriba en espesor y un rango de 102\n",
      "presición del  34.7265625 %. Con el redondeo para arriba en espesor y un rango de 103\n",
      "presición del  35.078125 %. Con el redondeo para arriba en espesor y un rango de 104\n",
      "presición del  35.442708333333336 %. Con el redondeo para arriba en espesor y un rango de 105\n",
      "presición del  35.677083333333336 %. Con el redondeo para arriba en espesor y un rango de 106\n",
      "presición del  35.950520833333336 %. Con el redondeo para arriba en espesor y un rango de 107\n",
      "presición del  36.3671875 %. Con el redondeo para arriba en espesor y un rango de 108\n",
      "presición del  36.653645833333336 %. Con el redondeo para arriba en espesor y un rango de 109\n",
      "presición del  37.109375 %. Con el redondeo para arriba en espesor y un rango de 110\n",
      "presición del  37.4609375 %. Con el redondeo para arriba en espesor y un rango de 111\n",
      "presición del  37.838541666666664 %. Con el redondeo para arriba en espesor y un rango de 112\n",
      "presición del  38.1640625 %. Con el redondeo para arriba en espesor y un rango de 113\n",
      "presición del  38.5546875 %. Con el redondeo para arriba en espesor y un rango de 114\n",
      "presición del  38.958333333333336 %. Con el redondeo para arriba en espesor y un rango de 115\n",
      "presición del  39.244791666666664 %. Con el redondeo para arriba en espesor y un rango de 116\n",
      "presición del  39.596354166666664 %. Con el redondeo para arriba en espesor y un rango de 117\n",
      "presición del  39.947916666666664 %. Con el redondeo para arriba en espesor y un rango de 118\n",
      "presición del  40.299479166666664 %. Con el redondeo para arriba en espesor y un rango de 119\n",
      "presición del  40.6640625 %. Con el redondeo para arriba en espesor y un rango de 120\n",
      "presición del  41.119791666666664 %. Con el redondeo para arriba en espesor y un rango de 121\n",
      "presición del  41.432291666666664 %. Con el redondeo para arriba en espesor y un rango de 122\n",
      "presición del  41.809895833333336 %. Con el redondeo para arriba en espesor y un rango de 123\n",
      "presición del  42.135416666666664 %. Con el redondeo para arriba en espesor y un rango de 124\n",
      "presición del  42.552083333333336 %. Con el redondeo para arriba en espesor y un rango de 125\n",
      "presición del  42.877604166666664 %. Con el redondeo para arriba en espesor y un rango de 126\n",
      "presición del  43.125 %. Con el redondeo para arriba en espesor y un rango de 127\n",
      "presición del  43.502604166666664 %. Con el redondeo para arriba en espesor y un rango de 128\n",
      "presición del  43.854166666666664 %. Con el redondeo para arriba en espesor y un rango de 129\n",
      "presición del  44.166666666666664 %. Con el redondeo para arriba en espesor y un rango de 130\n",
      "presición del  44.53125 %. Con el redondeo para arriba en espesor y un rango de 131\n",
      "presición del  44.934895833333336 %. Con el redondeo para arriba en espesor y un rango de 132\n",
      "presición del  45.234375 %. Con el redondeo para arriba en espesor y un rango de 133\n",
      "presición del  45.677083333333336 %. Con el redondeo para arriba en espesor y un rango de 134\n",
      "presición del  45.924479166666664 %. Con el redondeo para arriba en espesor y un rango de 135\n",
      "presición del  46.223958333333336 %. Con el redondeo para arriba en espesor y un rango de 136\n",
      "presición del  46.510416666666664 %. Con el redondeo para arriba en espesor y un rango de 137\n",
      "presición del  46.770833333333336 %. Con el redondeo para arriba en espesor y un rango de 138\n",
      "presición del  47.083333333333336 %. Con el redondeo para arriba en espesor y un rango de 139\n",
      "presición del  47.356770833333336 %. Con el redondeo para arriba en espesor y un rango de 140\n",
      "presición del  47.682291666666664 %. Con el redondeo para arriba en espesor y un rango de 141\n",
      "presición del  48.0078125 %. Con el redondeo para arriba en espesor y un rango de 142\n",
      "presición del  48.294270833333336 %. Con el redondeo para arriba en espesor y un rango de 143\n",
      "presición del  48.567708333333336 %. Con el redondeo para arriba en espesor y un rango de 144\n",
      "presición del  48.880208333333336 %. Con el redondeo para arriba en espesor y un rango de 145\n",
      "presición del  49.127604166666664 %. Con el redondeo para arriba en espesor y un rango de 146\n",
      "presición del  49.348958333333336 %. Con el redondeo para arriba en espesor y un rango de 147\n",
      "presición del  49.674479166666664 %. Con el redondeo para arriba en espesor y un rango de 148\n",
      "presición del  49.973958333333336 %. Con el redondeo para arriba en espesor y un rango de 149\n",
      "presición del  50.377604166666664 %. Con el redondeo para arriba en espesor y un rango de 150\n",
      "presición del  50.598958333333336 %. Con el redondeo para arriba en espesor y un rango de 151\n",
      "presición del  50.963541666666664 %. Con el redondeo para arriba en espesor y un rango de 152\n",
      "presición del  51.3671875 %. Con el redondeo para arriba en espesor y un rango de 153\n",
      "presición del  51.705729166666664 %. Con el redondeo para arriba en espesor y un rango de 154\n",
      "presición del  52.135416666666664 %. Con el redondeo para arriba en espesor y un rango de 155\n",
      "presición del  52.473958333333336 %. Con el redondeo para arriba en espesor y un rango de 156\n",
      "presición del  52.747395833333336 %. Con el redondeo para arriba en espesor y un rango de 157\n",
      "presición del  53.1640625 %. Con el redondeo para arriba en espesor y un rango de 158\n",
      "presición del  53.489583333333336 %. Con el redondeo para arriba en espesor y un rango de 159\n",
      "presición del  53.776041666666664 %. Con el redondeo para arriba en espesor y un rango de 160\n",
      "presición del  54.0625 %. Con el redondeo para arriba en espesor y un rango de 161\n",
      "presición del  54.401041666666664 %. Con el redondeo para arriba en espesor y un rango de 162\n",
      "presición del  54.778645833333336 %. Con el redondeo para arriba en espesor y un rango de 163\n",
      "presición del  55.052083333333336 %. Con el redondeo para arriba en espesor y un rango de 164\n",
      "presición del  55.325520833333336 %. Con el redondeo para arriba en espesor y un rango de 165\n",
      "presición del  55.559895833333336 %. Con el redondeo para arriba en espesor y un rango de 166\n",
      "presición del  55.833333333333336 %. Con el redondeo para arriba en espesor y un rango de 167\n",
      "presición del  56.106770833333336 %. Con el redondeo para arriba en espesor y un rango de 168\n",
      "presición del  56.5625 %. Con el redondeo para arriba en espesor y un rango de 169\n",
      "presición del  56.875 %. Con el redondeo para arriba en espesor y un rango de 170\n",
      "presición del  57.135416666666664 %. Con el redondeo para arriba en espesor y un rango de 171\n",
      "presición del  57.3828125 %. Con el redondeo para arriba en espesor y un rango de 172\n",
      "presición del  57.6171875 %. Con el redondeo para arriba en espesor y un rango de 173\n",
      "presición del  57.981770833333336 %. Con el redondeo para arriba en espesor y un rango de 174\n",
      "presición del  58.4375 %. Con el redondeo para arriba en espesor y un rango de 175\n",
      "presición del  58.841145833333336 %. Con el redondeo para arriba en espesor y un rango de 176\n",
      "presición del  59.166666666666664 %. Con el redondeo para arriba en espesor y un rango de 177\n",
      "presición del  59.5703125 %. Con el redondeo para arriba en espesor y un rango de 178\n",
      "presición del  59.830729166666664 %. Con el redondeo para arriba en espesor y un rango de 179\n",
      "presición del  60.286458333333336 %. Con el redondeo para arriba en espesor y un rango de 180\n",
      "presición del  60.572916666666664 %. Con el redondeo para arriba en espesor y un rango de 181\n",
      "presición del  60.911458333333336 %. Con el redondeo para arriba en espesor y un rango de 182\n",
      "presición del  61.276041666666664 %. Con el redondeo para arriba en espesor y un rango de 183\n",
      "presición del  61.614583333333336 %. Con el redondeo para arriba en espesor y un rango de 184\n",
      "presición del  62.083333333333336 %. Con el redondeo para arriba en espesor y un rango de 185\n",
      "presición del  62.421875 %. Con el redondeo para arriba en espesor y un rango de 186\n",
      "presición del  62.838541666666664 %. Con el redondeo para arriba en espesor y un rango de 187\n",
      "presición del  63.125 %. Con el redondeo para arriba en espesor y un rango de 188\n",
      "presición del  63.5546875 %. Con el redondeo para arriba en espesor y un rango de 189\n",
      "presición del  64.0234375 %. Con el redondeo para arriba en espesor y un rango de 190\n",
      "presición del  64.30989583333333 %. Con el redondeo para arriba en espesor y un rango de 191\n",
      "presición del  64.63541666666667 %. Con el redondeo para arriba en espesor y un rango de 192\n",
      "presición del  64.8828125 %. Con el redondeo para arriba en espesor y un rango de 193\n",
      "presición del  65.24739583333333 %. Con el redondeo para arriba en espesor y un rango de 194\n",
      "presición del  65.625 %. Con el redondeo para arriba en espesor y un rango de 195\n",
      "presición del  65.95052083333333 %. Con el redondeo para arriba en espesor y un rango de 196\n",
      "presición del  66.22395833333333 %. Con el redondeo para arriba en espesor y un rango de 197\n",
      "presición del  66.43229166666667 %. Con el redondeo para arriba en espesor y un rango de 198\n",
      "presición del  66.78385416666667 %. Con el redondeo para arriba en espesor y un rango de 199\n",
      "presición del  67.13541666666667 %. Con el redondeo para arriba en espesor y un rango de 200\n",
      "presición del  67.5 %. Con el redondeo para arriba en espesor y un rango de 201\n",
      "presición del  67.76041666666667 %. Con el redondeo para arriba en espesor y un rango de 202\n",
      "presición del  68.03385416666667 %. Con el redondeo para arriba en espesor y un rango de 203\n",
      "presición del  68.37239583333333 %. Con el redondeo para arriba en espesor y un rango de 204\n",
      "presición del  68.828125 %. Con el redondeo para arriba en espesor y un rango de 205\n",
      "presición del  69.16666666666667 %. Con el redondeo para arriba en espesor y un rango de 206\n",
      "presición del  69.50520833333333 %. Con el redondeo para arriba en espesor y un rango de 207\n",
      "presición del  69.83072916666667 %. Con el redondeo para arriba en espesor y un rango de 208\n",
      "presición del  70.078125 %. Con el redondeo para arriba en espesor y un rango de 209\n",
      "presición del  70.3515625 %. Con el redondeo para arriba en espesor y un rango de 210\n",
      "presición del  70.65104166666667 %. Con el redondeo para arriba en espesor y un rango de 211\n",
      "presición del  70.91145833333333 %. Con el redondeo para arriba en espesor y un rango de 212\n",
      "presición del  71.27604166666667 %. Con el redondeo para arriba en espesor y un rango de 213\n",
      "presición del  71.62760416666667 %. Con el redondeo para arriba en espesor y un rango de 214\n",
      "presición del  71.90104166666667 %. Con el redondeo para arriba en espesor y un rango de 215\n",
      "presición del  72.13541666666667 %. Con el redondeo para arriba en espesor y un rango de 216\n",
      "presición del  72.48697916666667 %. Con el redondeo para arriba en espesor y un rango de 217\n",
      "presición del  72.8125 %. Con el redondeo para arriba en espesor y un rango de 218\n",
      "presición del  73.21614583333333 %. Con el redondeo para arriba en espesor y un rango de 219\n",
      "presición del  73.46354166666667 %. Con el redondeo para arriba en espesor y un rango de 220\n",
      "presición del  73.68489583333333 %. Con el redondeo para arriba en espesor y un rango de 221\n",
      "presición del  74.15364583333333 %. Con el redondeo para arriba en espesor y un rango de 222\n",
      "presición del  74.54427083333333 %. Con el redondeo para arriba en espesor y un rango de 223\n",
      "presición del  74.89583333333333 %. Con el redondeo para arriba en espesor y un rango de 224\n",
      "presición del  75.2734375 %. Con el redondeo para arriba en espesor y un rango de 225\n",
      "presición del  75.625 %. Con el redondeo para arriba en espesor y un rango de 226\n",
      "presición del  75.96354166666667 %. Con el redondeo para arriba en espesor y un rango de 227\n",
      "presición del  76.25 %. Con el redondeo para arriba en espesor y un rango de 228\n",
      "presición del  76.49739583333333 %. Con el redondeo para arriba en espesor y un rango de 229\n",
      "presición del  76.8359375 %. Con el redondeo para arriba en espesor y un rango de 230\n",
      "presición del  77.1875 %. Con el redondeo para arriba en espesor y un rango de 231\n",
      "presición del  77.48697916666667 %. Con el redondeo para arriba en espesor y un rango de 232\n",
      "presición del  77.74739583333333 %. Con el redondeo para arriba en espesor y un rango de 233\n",
      "presición del  78.02083333333333 %. Con el redondeo para arriba en espesor y un rango de 234\n",
      "presición del  78.34635416666667 %. Con el redondeo para arriba en espesor y un rango de 235\n",
      "presición del  78.73697916666667 %. Con el redondeo para arriba en espesor y un rango de 236\n",
      "presición del  79.08854166666667 %. Con el redondeo para arriba en espesor y un rango de 237\n",
      "presición del  79.4140625 %. Con el redondeo para arriba en espesor y un rango de 238\n",
      "presición del  79.765625 %. Con el redondeo para arriba en espesor y un rango de 239\n",
      "presición del  80.0390625 %. Con el redondeo para arriba en espesor y un rango de 240\n"
     ]
    }
   ],
   "source": [
    "# Se agrega umbral hasta llegar a 80% de aceptación\n",
    "i = 0\n",
    "while(porcentaje < 80):\n",
    "    umbral = i\n",
    "    num = np.count_nonzero(np.abs(dif) <= umbral)\n",
    "    porcentaje = num*100/total\n",
    "    print(\"presición del \", porcentaje, \"%. Con el redondeo para arriba en espesor y un rango de\", umbral)\n",
    "    i = i + 1"
   ]
  },
  {
   "cell_type": "code",
   "execution_count": 21,
   "metadata": {},
   "outputs": [
    {
     "name": "stdout",
     "output_type": "stream",
     "text": [
      "presición del  0.0 %.\n"
     ]
    }
   ],
   "source": [
    "redondeo = predicciones['Índice de absorción'].to_numpy()\n",
    "test_df_long = test_df['Índice de absorción'].to_numpy()\n",
    "dif = redondeo - test_df_long \n",
    "#count_nonzero() cuenta el número de elementos distintos de cero en el arreglo, mientras que la función size() devuelve el tamaño total del arreglo. \n",
    "total = dif.size\n",
    "num_zeros = dif.size - np.count_nonzero(dif)\n",
    "porcentaje = num_zeros*100/total\n",
    "print(\"presición del \", porcentaje, \"%.\")"
   ]
  },
  {
   "cell_type": "code",
   "execution_count": 22,
   "metadata": {},
   "outputs": [
    {
     "name": "stdout",
     "output_type": "stream",
     "text": [
      "presición del  0.0 %. Con el redondeo para arriba en espesor y un rango de 0\n",
      "presición del  42.447916666666664 %. Con el redondeo para arriba en espesor y un rango de 0.001\n",
      "presición del  67.44791666666667 %. Con el redondeo para arriba en espesor y un rango de 0.002\n",
      "presición del  71.640625 %. Con el redondeo para arriba en espesor y un rango de 0.003\n",
      "presición del  75.46875 %. Con el redondeo para arriba en espesor y un rango de 0.004\n",
      "presición del  79.0625 %. Con el redondeo para arriba en espesor y un rango de 0.005\n",
      "presición del  83.15104166666667 %. Con el redondeo para arriba en espesor y un rango de 0.006\n"
     ]
    }
   ],
   "source": [
    "# Se agrega umbral hasta llegar a 80% de aceptación\n",
    "i = 0\n",
    "while(porcentaje < 80):\n",
    "    umbral = i\n",
    "    num = np.count_nonzero(np.abs(dif) <= umbral)\n",
    "    porcentaje = num*100/total\n",
    "    print(\"presición del \", porcentaje, \"%. Con el redondeo para arriba en espesor y un rango de\", umbral)\n",
    "    i = i + .001"
   ]
  },
  {
   "cell_type": "code",
   "execution_count": null,
   "metadata": {},
   "outputs": [],
   "source": []
  }
 ],
 "metadata": {
  "kernelspec": {
   "display_name": "base",
   "language": "python",
   "name": "python3"
  },
  "language_info": {
   "codemirror_mode": {
    "name": "ipython",
    "version": 3
   },
   "file_extension": ".py",
   "mimetype": "text/x-python",
   "name": "python",
   "nbconvert_exporter": "python",
   "pygments_lexer": "ipython3",
   "version": "3.10.10"
  },
  "orig_nbformat": 4
 },
 "nbformat": 4,
 "nbformat_minor": 2
}
