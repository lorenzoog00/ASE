{
 "cells": [
  {
   "cell_type": "code",
   "execution_count": 158,
   "metadata": {},
   "outputs": [],
   "source": [
    "import pandas as pd\n",
    "import os\n",
    "import glob\n",
    "import matplotlib.pyplot as plt\n",
    "import numpy as np\n",
    "import tensorflow as tf\n",
    "import math\n",
    "from sklearn.metrics import mean_squared_error, r2_score\n",
    "import pandas as pd\n",
    "from keras.models import Sequential\n",
    "from keras.layers import Dense\n",
    "from sklearn.preprocessing import MinMaxScaler\n",
    "from sklearn.model_selection import train_test_split\n",
    "from sklearn.neural_network import MLPClassifier\n",
    "from sklearn.preprocessing import MultiLabelBinarizer\n",
    "from sklearn.preprocessing import StandardScaler\n",
    "from sklearn.preprocessing import MaxAbsScaler"
   ]
  },
  {
   "cell_type": "code",
   "execution_count": 159,
   "metadata": {},
   "outputs": [],
   "source": [
    "files = [file for file in os.listdir('./parametros')]\n",
    "\n",
    "param = pd.DataFrame()\n",
    "for file in files:\n",
    "  df = pd.read_csv('./parametros/'+file)\n",
    "  param = pd.concat([param, df], axis= 0)"
   ]
  },
  {
   "attachments": {},
   "cell_type": "markdown",
   "metadata": {},
   "source": [
    "Revolviendo los datos"
   ]
  },
  {
   "cell_type": "code",
   "execution_count": 160,
   "metadata": {},
   "outputs": [],
   "source": [
    "from sklearn.model_selection import train_test_split\n",
    "param = param.sample(frac=1, random_state=42).reset_index(drop=True)\n",
    "train_df, test_df = train_test_split(param, test_size=0.2, random_state=42)"
   ]
  },
  {
   "attachments": {},
   "cell_type": "markdown",
   "metadata": {},
   "source": [
    "Normalizando"
   ]
  },
  {
   "attachments": {},
   "cell_type": "markdown",
   "metadata": {},
   "source": [
    "# Ahora invertimos la red, de input será Fracción vol, espesor y radio. Output longitud de onda e Índice de absorción"
   ]
  },
  {
   "attachments": {},
   "cell_type": "markdown",
   "metadata": {},
   "source": [
    "Normalizacion"
   ]
  },
  {
   "cell_type": "code",
   "execution_count": 161,
   "metadata": {},
   "outputs": [],
   "source": [
    "# Cargar DataFrame\n",
    "df = train_df\n",
    "# Separar datos de entrada y salida\n",
    "Y = df[['Índice de absorción', 'Longitud de onda']]\n",
    "X = df[['Fracvol', 'Radio (nm)', 'Espesor de la película (nm)']]"
   ]
  },
  {
   "cell_type": "code",
   "execution_count": 162,
   "metadata": {},
   "outputs": [],
   "source": [
    "scaler_X = MinMaxScaler()\n",
    "scaler_Y = MinMaxScaler()\n",
    "\n",
    "X = scaler_X.fit_transform(X)\n",
    "Y = scaler_Y.fit_transform(Y)"
   ]
  },
  {
   "attachments": {},
   "cell_type": "markdown",
   "metadata": {},
   "source": [
    "Esto se hace para poder ver los errores"
   ]
  },
  {
   "cell_type": "code",
   "execution_count": 163,
   "metadata": {},
   "outputs": [],
   "source": [
    "X_train, X_val, y_train, y_val = train_test_split(X, Y, test_size=0.2, random_state=42)"
   ]
  },
  {
   "cell_type": "code",
   "execution_count": 164,
   "metadata": {},
   "outputs": [],
   "source": [
    "# Creamos el modelo de la red neuronal\n",
    "model = Sequential()\n",
    "model.add(Dense(64, input_dim=3, activation='relu'))\n",
    "model.add(Dense(10, activation='relu'))\n",
    "model.add(Dense(2, activation='linear'))"
   ]
  },
  {
   "cell_type": "code",
   "execution_count": 165,
   "metadata": {},
   "outputs": [],
   "source": [
    "model.compile(loss='mean_squared_error', optimizer='adam')"
   ]
  },
  {
   "cell_type": "code",
   "execution_count": 179,
   "metadata": {},
   "outputs": [
    {
     "name": "stdout",
     "output_type": "stream",
     "text": [
      "Epoch 1/100\n",
      "3072/3072 [==============================] - 2s 783us/step - loss: 0.0437 - val_loss: 0.0436\n",
      "Epoch 2/100\n",
      "3072/3072 [==============================] - 2s 791us/step - loss: 0.0437 - val_loss: 0.0438\n",
      "Epoch 3/100\n",
      "3072/3072 [==============================] - 2s 801us/step - loss: 0.0437 - val_loss: 0.0436\n",
      "Epoch 4/100\n",
      "3072/3072 [==============================] - 2s 806us/step - loss: 0.0437 - val_loss: 0.0435\n",
      "Epoch 5/100\n",
      "3072/3072 [==============================] - 2s 807us/step - loss: 0.0437 - val_loss: 0.0435\n",
      "Epoch 6/100\n",
      "3072/3072 [==============================] - 2s 738us/step - loss: 0.0437 - val_loss: 0.0435\n",
      "Epoch 7/100\n",
      "3072/3072 [==============================] - 2s 752us/step - loss: 0.0437 - val_loss: 0.0436\n",
      "Epoch 8/100\n",
      "3072/3072 [==============================] - 2s 787us/step - loss: 0.0437 - val_loss: 0.0435\n",
      "Epoch 9/100\n",
      "3072/3072 [==============================] - 3s 822us/step - loss: 0.0437 - val_loss: 0.0435\n",
      "Epoch 10/100\n",
      "3072/3072 [==============================] - 2s 765us/step - loss: 0.0437 - val_loss: 0.0436\n",
      "Epoch 11/100\n",
      "3072/3072 [==============================] - 2s 769us/step - loss: 0.0437 - val_loss: 0.0435\n",
      "Epoch 12/100\n",
      "3072/3072 [==============================] - 3s 854us/step - loss: 0.0437 - val_loss: 0.0438\n",
      "Epoch 13/100\n",
      "3072/3072 [==============================] - 3s 840us/step - loss: 0.0437 - val_loss: 0.0436\n",
      "Epoch 14/100\n",
      "3072/3072 [==============================] - 3s 834us/step - loss: 0.0437 - val_loss: 0.0435\n",
      "Epoch 15/100\n",
      "3072/3072 [==============================] - 3s 833us/step - loss: 0.0437 - val_loss: 0.0435\n",
      "Epoch 16/100\n",
      "3072/3072 [==============================] - 3s 835us/step - loss: 0.0437 - val_loss: 0.0436\n",
      "Epoch 17/100\n",
      "3072/3072 [==============================] - 3s 839us/step - loss: 0.0437 - val_loss: 0.0435\n",
      "Epoch 18/100\n",
      "3072/3072 [==============================] - 3s 843us/step - loss: 0.0436 - val_loss: 0.0436\n",
      "Epoch 19/100\n",
      "3072/3072 [==============================] - 3s 829us/step - loss: 0.0437 - val_loss: 0.0435\n",
      "Epoch 20/100\n",
      "3072/3072 [==============================] - 2s 812us/step - loss: 0.0436 - val_loss: 0.0436\n",
      "Epoch 21/100\n",
      "3072/3072 [==============================] - 2s 805us/step - loss: 0.0437 - val_loss: 0.0435\n",
      "Epoch 22/100\n",
      "3072/3072 [==============================] - 2s 809us/step - loss: 0.0437 - val_loss: 0.0435\n",
      "Epoch 23/100\n",
      "3072/3072 [==============================] - 3s 822us/step - loss: 0.0436 - val_loss: 0.0435\n",
      "Epoch 24/100\n",
      "3072/3072 [==============================] - 2s 807us/step - loss: 0.0436 - val_loss: 0.0435\n",
      "Epoch 25/100\n",
      "3072/3072 [==============================] - 2s 812us/step - loss: 0.0436 - val_loss: 0.0438\n",
      "Epoch 26/100\n",
      "3072/3072 [==============================] - 2s 810us/step - loss: 0.0437 - val_loss: 0.0435\n",
      "Epoch 27/100\n",
      "3072/3072 [==============================] - 3s 825us/step - loss: 0.0437 - val_loss: 0.0435\n",
      "Epoch 28/100\n",
      "3072/3072 [==============================] - 2s 801us/step - loss: 0.0436 - val_loss: 0.0436\n",
      "Epoch 29/100\n",
      "3072/3072 [==============================] - 3s 815us/step - loss: 0.0436 - val_loss: 0.0435\n",
      "Epoch 30/100\n",
      "3072/3072 [==============================] - 2s 808us/step - loss: 0.0436 - val_loss: 0.0436\n",
      "Epoch 31/100\n",
      "3072/3072 [==============================] - 3s 814us/step - loss: 0.0436 - val_loss: 0.0435\n",
      "Epoch 32/100\n",
      "3072/3072 [==============================] - 3s 826us/step - loss: 0.0436 - val_loss: 0.0435\n",
      "Epoch 33/100\n",
      "3072/3072 [==============================] - 2s 808us/step - loss: 0.0436 - val_loss: 0.0435\n",
      "Epoch 34/100\n",
      "3072/3072 [==============================] - 2s 811us/step - loss: 0.0436 - val_loss: 0.0435\n",
      "Epoch 35/100\n",
      "3072/3072 [==============================] - 3s 821us/step - loss: 0.0436 - val_loss: 0.0435\n",
      "Epoch 36/100\n",
      "3072/3072 [==============================] - 2s 758us/step - loss: 0.0436 - val_loss: 0.0435\n",
      "Epoch 37/100\n",
      "3072/3072 [==============================] - 2s 745us/step - loss: 0.0437 - val_loss: 0.0435\n",
      "Epoch 38/100\n",
      "3072/3072 [==============================] - 2s 775us/step - loss: 0.0436 - val_loss: 0.0435\n",
      "Epoch 39/100\n",
      "3072/3072 [==============================] - 2s 765us/step - loss: 0.0436 - val_loss: 0.0435\n",
      "Epoch 40/100\n",
      "3072/3072 [==============================] - 2s 757us/step - loss: 0.0436 - val_loss: 0.0435\n",
      "Epoch 41/100\n",
      "3072/3072 [==============================] - 2s 796us/step - loss: 0.0436 - val_loss: 0.0435\n",
      "Epoch 42/100\n",
      "3072/3072 [==============================] - 2s 774us/step - loss: 0.0437 - val_loss: 0.0436\n",
      "Epoch 43/100\n",
      "3072/3072 [==============================] - 2s 748us/step - loss: 0.0436 - val_loss: 0.0435\n",
      "Epoch 44/100\n",
      "3072/3072 [==============================] - 2s 774us/step - loss: 0.0436 - val_loss: 0.0436\n",
      "Epoch 45/100\n",
      "3072/3072 [==============================] - 2s 769us/step - loss: 0.0437 - val_loss: 0.0436\n",
      "Epoch 46/100\n",
      "3072/3072 [==============================] - 3s 823us/step - loss: 0.0436 - val_loss: 0.0435\n",
      "Epoch 47/100\n",
      "3072/3072 [==============================] - 2s 812us/step - loss: 0.0436 - val_loss: 0.0436\n",
      "Epoch 48/100\n",
      "3072/3072 [==============================] - 2s 762us/step - loss: 0.0436 - val_loss: 0.0435\n",
      "Epoch 49/100\n",
      "3072/3072 [==============================] - 2s 774us/step - loss: 0.0436 - val_loss: 0.0435\n",
      "Epoch 50/100\n",
      "3072/3072 [==============================] - 2s 751us/step - loss: 0.0436 - val_loss: 0.0435\n",
      "Epoch 51/100\n",
      "3072/3072 [==============================] - 2s 772us/step - loss: 0.0436 - val_loss: 0.0435\n",
      "Epoch 52/100\n",
      "3072/3072 [==============================] - 2s 731us/step - loss: 0.0436 - val_loss: 0.0435\n",
      "Epoch 53/100\n",
      "3072/3072 [==============================] - 2s 731us/step - loss: 0.0436 - val_loss: 0.0435\n",
      "Epoch 54/100\n",
      "3072/3072 [==============================] - 2s 724us/step - loss: 0.0436 - val_loss: 0.0436\n",
      "Epoch 55/100\n",
      "3072/3072 [==============================] - 2s 735us/step - loss: 0.0436 - val_loss: 0.0436\n",
      "Epoch 56/100\n",
      "3072/3072 [==============================] - 2s 725us/step - loss: 0.0436 - val_loss: 0.0435\n",
      "Epoch 57/100\n",
      "3072/3072 [==============================] - 2s 738us/step - loss: 0.0436 - val_loss: 0.0435\n",
      "Epoch 58/100\n",
      "3072/3072 [==============================] - 2s 735us/step - loss: 0.0436 - val_loss: 0.0435\n",
      "Epoch 59/100\n",
      "3072/3072 [==============================] - 2s 728us/step - loss: 0.0436 - val_loss: 0.0435\n",
      "Epoch 60/100\n",
      "3072/3072 [==============================] - 2s 727us/step - loss: 0.0436 - val_loss: 0.0435\n",
      "Epoch 61/100\n",
      "3072/3072 [==============================] - 2s 746us/step - loss: 0.0436 - val_loss: 0.0435\n",
      "Epoch 62/100\n",
      "3072/3072 [==============================] - 2s 768us/step - loss: 0.0436 - val_loss: 0.0435\n",
      "Epoch 63/100\n",
      "3072/3072 [==============================] - 2s 720us/step - loss: 0.0436 - val_loss: 0.0435\n",
      "Epoch 64/100\n",
      "3072/3072 [==============================] - 2s 724us/step - loss: 0.0437 - val_loss: 0.0435\n",
      "Epoch 65/100\n",
      "3072/3072 [==============================] - 2s 739us/step - loss: 0.0436 - val_loss: 0.0435\n",
      "Epoch 66/100\n",
      "3072/3072 [==============================] - 2s 725us/step - loss: 0.0437 - val_loss: 0.0435\n",
      "Epoch 67/100\n",
      "3072/3072 [==============================] - 2s 735us/step - loss: 0.0436 - val_loss: 0.0436\n",
      "Epoch 68/100\n",
      "3072/3072 [==============================] - 2s 729us/step - loss: 0.0436 - val_loss: 0.0435\n",
      "Epoch 69/100\n",
      "3072/3072 [==============================] - 2s 730us/step - loss: 0.0436 - val_loss: 0.0435\n",
      "Epoch 70/100\n",
      "3072/3072 [==============================] - 2s 736us/step - loss: 0.0436 - val_loss: 0.0435\n",
      "Epoch 71/100\n",
      "3072/3072 [==============================] - 2s 773us/step - loss: 0.0436 - val_loss: 0.0436\n",
      "Epoch 72/100\n",
      "3072/3072 [==============================] - 2s 807us/step - loss: 0.0436 - val_loss: 0.0435\n",
      "Epoch 73/100\n",
      "3072/3072 [==============================] - 2s 753us/step - loss: 0.0436 - val_loss: 0.0436\n",
      "Epoch 74/100\n",
      "3072/3072 [==============================] - 2s 743us/step - loss: 0.0436 - val_loss: 0.0436\n",
      "Epoch 75/100\n",
      "3072/3072 [==============================] - 2s 737us/step - loss: 0.0436 - val_loss: 0.0435\n",
      "Epoch 76/100\n",
      "3072/3072 [==============================] - 2s 730us/step - loss: 0.0436 - val_loss: 0.0435\n",
      "Epoch 77/100\n",
      "3072/3072 [==============================] - 2s 727us/step - loss: 0.0437 - val_loss: 0.0435\n",
      "Epoch 78/100\n",
      "3072/3072 [==============================] - 2s 735us/step - loss: 0.0436 - val_loss: 0.0436\n",
      "Epoch 79/100\n",
      "3072/3072 [==============================] - 2s 729us/step - loss: 0.0436 - val_loss: 0.0435\n",
      "Epoch 80/100\n",
      "3072/3072 [==============================] - 2s 730us/step - loss: 0.0436 - val_loss: 0.0435\n",
      "Epoch 81/100\n",
      "3072/3072 [==============================] - 2s 740us/step - loss: 0.0436 - val_loss: 0.0435\n",
      "Epoch 82/100\n",
      "3072/3072 [==============================] - 2s 732us/step - loss: 0.0436 - val_loss: 0.0435\n",
      "Epoch 83/100\n",
      "3072/3072 [==============================] - 2s 724us/step - loss: 0.0436 - val_loss: 0.0435\n",
      "Epoch 84/100\n",
      "3072/3072 [==============================] - 2s 726us/step - loss: 0.0436 - val_loss: 0.0435\n",
      "Epoch 85/100\n",
      "3072/3072 [==============================] - 2s 738us/step - loss: 0.0436 - val_loss: 0.0435\n",
      "Epoch 86/100\n",
      "3072/3072 [==============================] - 2s 724us/step - loss: 0.0436 - val_loss: 0.0436\n",
      "Epoch 87/100\n",
      "3072/3072 [==============================] - 2s 718us/step - loss: 0.0436 - val_loss: 0.0435\n",
      "Epoch 88/100\n",
      "3072/3072 [==============================] - 2s 741us/step - loss: 0.0436 - val_loss: 0.0436\n",
      "Epoch 89/100\n",
      "3072/3072 [==============================] - 2s 739us/step - loss: 0.0436 - val_loss: 0.0436\n",
      "Epoch 90/100\n",
      "3072/3072 [==============================] - 2s 733us/step - loss: 0.0436 - val_loss: 0.0435\n",
      "Epoch 91/100\n",
      "3072/3072 [==============================] - 2s 736us/step - loss: 0.0436 - val_loss: 0.0435\n",
      "Epoch 92/100\n",
      "3072/3072 [==============================] - 2s 734us/step - loss: 0.0436 - val_loss: 0.0435\n",
      "Epoch 93/100\n",
      "3072/3072 [==============================] - 2s 731us/step - loss: 0.0436 - val_loss: 0.0435\n",
      "Epoch 94/100\n",
      "3072/3072 [==============================] - 2s 739us/step - loss: 0.0436 - val_loss: 0.0435\n",
      "Epoch 95/100\n",
      "3072/3072 [==============================] - 2s 730us/step - loss: 0.0436 - val_loss: 0.0435\n",
      "Epoch 96/100\n",
      "3072/3072 [==============================] - 2s 738us/step - loss: 0.0436 - val_loss: 0.0435\n",
      "Epoch 97/100\n",
      "3072/3072 [==============================] - 2s 749us/step - loss: 0.0436 - val_loss: 0.0435\n",
      "Epoch 98/100\n",
      "3072/3072 [==============================] - 2s 755us/step - loss: 0.0436 - val_loss: 0.0435\n",
      "Epoch 99/100\n",
      "3072/3072 [==============================] - 2s 778us/step - loss: 0.0436 - val_loss: 0.0435\n",
      "Epoch 100/100\n",
      "3072/3072 [==============================] - 2s 754us/step - loss: 0.0436 - val_loss: 0.0437\n"
     ]
    }
   ],
   "source": [
    "history = model.fit(X, Y, validation_data=(X_val, y_val),epochs=100, batch_size=10)"
   ]
  },
  {
   "attachments": {},
   "cell_type": "markdown",
   "metadata": {},
   "source": [
    "Normalizando los datos de test"
   ]
  },
  {
   "cell_type": "code",
   "execution_count": 167,
   "metadata": {},
   "outputs": [],
   "source": [
    "x_pred = test_df[['Fracvol', 'Radio (nm)', 'Espesor de la película (nm)']]"
   ]
  },
  {
   "cell_type": "code",
   "execution_count": 168,
   "metadata": {},
   "outputs": [],
   "source": [
    "y_normalized = scaler_Y.transform(test_df[['Índice de absorción', 'Longitud de onda']])"
   ]
  },
  {
   "cell_type": "code",
   "execution_count": 169,
   "metadata": {},
   "outputs": [
    {
     "name": "stdout",
     "output_type": "stream",
     "text": [
      "240/240 [==============================] - 0s 734us/step\n"
     ]
    }
   ],
   "source": [
    "x_pred_norm = scaler_X.transform(x_pred) \n",
    "pred_norm = model.predict(x_pred_norm)"
   ]
  },
  {
   "cell_type": "code",
   "execution_count": 170,
   "metadata": {},
   "outputs": [
    {
     "name": "stdout",
     "output_type": "stream",
     "text": [
      "240/240 [==============================] - 0s 802us/step - loss: 0.0435\n"
     ]
    },
    {
     "data": {
      "text/plain": [
       "0.04345863685011864"
      ]
     },
     "execution_count": 170,
     "metadata": {},
     "output_type": "execute_result"
    }
   ],
   "source": [
    "test_loss = model.evaluate(x_pred_norm, y_normalized)\n",
    "test_loss"
   ]
  },
  {
   "attachments": {},
   "cell_type": "markdown",
   "metadata": {},
   "source": [
    "Calculando error cuadrático medio "
   ]
  },
  {
   "cell_type": "code",
   "execution_count": 171,
   "metadata": {},
   "outputs": [
    {
     "name": "stdout",
     "output_type": "stream",
     "text": [
      "MSE:  0.0434586142294496\n",
      "MSE desnormalizado:  0.006002969119762228\n"
     ]
    }
   ],
   "source": [
    "# Calcular error cuadrático medio (MSE) en los datos normalizados\n",
    "mse = np.mean(np.square(y_normalized - pred_norm))\n",
    "print(\"MSE: \", mse)\n",
    "\n",
    "# Desnormalizar el MSE\n",
    "mse_denormalized = scaler_Y.inverse_transform(np.array([[mse, 0]]))[0][0]\n",
    "print(\"MSE desnormalizado: \", mse_denormalized)"
   ]
  },
  {
   "attachments": {},
   "cell_type": "markdown",
   "metadata": {},
   "source": [
    "Gráfica de función de pérdida contra pérdida, para ver si se necesitan más épocas en el modelo"
   ]
  },
  {
   "cell_type": "code",
   "execution_count": 183,
   "metadata": {},
   "outputs": [
    {
     "data": {
      "image/png": "[encoded data removed]",
      "text/plain": [
       "<Figure size 640x480 with 1 Axes>"
      ]
     },
     "metadata": {},
     "output_type": "display_data"
    }
   ],
   "source": [
    "# Graficar la función de pérdida\n",
    "train_loss = history.history['loss']\n",
    "val_loss = history.history['val_loss']\n",
    "epochs = range(1, len(train_loss) + 1)\n",
    "plt.plot(epochs, train_loss, 'bo', label='Training loss')\n",
    "plt.plot(epochs, val_loss, 'b', label='Validation loss')\n",
    "plt.title('Entrenamiento y pérdida de validación')\n",
    "plt.xlabel('Épocas')\n",
    "plt.ylabel('Pérdida')\n",
    "plt.legend()\n",
    "plt.show()"
   ]
  },
  {
   "cell_type": "code",
   "execution_count": 173,
   "metadata": {},
   "outputs": [
    {
     "data": {
      "text/plain": [
       "array([[3.5489635e-03, 6.0403351e+02],\n",
       "       [1.7142398e-03, 6.0207410e+02],\n",
       "       [1.7142398e-03, 6.0207410e+02],\n",
       "       ...,\n",
       "       [2.9205407e-03, 6.0438745e+02],\n",
       "       [1.7138716e-03, 6.0212366e+02],\n",
       "       [1.7130185e-03, 6.0223859e+02]], dtype=float32)"
      ]
     },
     "execution_count": 173,
     "metadata": {},
     "output_type": "execute_result"
    }
   ],
   "source": [
    "pred = scaler_Y.inverse_transform(pred_norm)\n",
    "pred"
   ]
  },
  {
   "attachments": {},
   "cell_type": "markdown",
   "metadata": {},
   "source": [
    "# Renombrando las columnas"
   ]
  },
  {
   "cell_type": "code",
   "execution_count": 174,
   "metadata": {},
   "outputs": [
    {
     "data": {
      "text/html": [
       "<div>\n",
       "<style scoped>\n",
       "    .dataframe tbody tr th:only-of-type {\n",
       "        vertical-align: middle;\n",
       "    }\n",
       "\n",
       "    .dataframe tbody tr th {\n",
       "        vertical-align: top;\n",
       "    }\n",
       "\n",
       "    .dataframe thead th {\n",
       "        text-align: right;\n",
       "    }\n",
       "</style>\n",
       "<table border=\"1\" class=\"dataframe\">\n",
       "  <thead>\n",
       "    <tr style=\"text-align: right;\">\n",
       "      <th></th>\n",
       "      <th>Índice de absorción</th>\n",
       "      <th>Longitud de onda</th>\n",
       "    </tr>\n",
       "  </thead>\n",
       "  <tbody>\n",
       "    <tr>\n",
       "      <th>0</th>\n",
       "      <td>0.003549</td>\n",
       "      <td>604.033508</td>\n",
       "    </tr>\n",
       "    <tr>\n",
       "      <th>1</th>\n",
       "      <td>0.001714</td>\n",
       "      <td>602.074097</td>\n",
       "    </tr>\n",
       "    <tr>\n",
       "      <th>2</th>\n",
       "      <td>0.001714</td>\n",
       "      <td>602.074097</td>\n",
       "    </tr>\n",
       "    <tr>\n",
       "      <th>3</th>\n",
       "      <td>0.007420</td>\n",
       "      <td>602.540588</td>\n",
       "    </tr>\n",
       "    <tr>\n",
       "      <th>4</th>\n",
       "      <td>0.002154</td>\n",
       "      <td>605.533997</td>\n",
       "    </tr>\n",
       "    <tr>\n",
       "      <th>...</th>\n",
       "      <td>...</td>\n",
       "      <td>...</td>\n",
       "    </tr>\n",
       "    <tr>\n",
       "      <th>7675</th>\n",
       "      <td>0.004806</td>\n",
       "      <td>603.325684</td>\n",
       "    </tr>\n",
       "    <tr>\n",
       "      <th>7676</th>\n",
       "      <td>0.001705</td>\n",
       "      <td>603.351868</td>\n",
       "    </tr>\n",
       "    <tr>\n",
       "      <th>7677</th>\n",
       "      <td>0.002921</td>\n",
       "      <td>604.387451</td>\n",
       "    </tr>\n",
       "    <tr>\n",
       "      <th>7678</th>\n",
       "      <td>0.001714</td>\n",
       "      <td>602.123657</td>\n",
       "    </tr>\n",
       "    <tr>\n",
       "      <th>7679</th>\n",
       "      <td>0.001713</td>\n",
       "      <td>602.238586</td>\n",
       "    </tr>\n",
       "  </tbody>\n",
       "</table>\n",
       "<p>7680 rows × 2 columns</p>\n",
       "</div>"
      ],
      "text/plain": [
       "      Índice de absorción  Longitud de onda\n",
       "0                0.003549        604.033508\n",
       "1                0.001714        602.074097\n",
       "2                0.001714        602.074097\n",
       "3                0.007420        602.540588\n",
       "4                0.002154        605.533997\n",
       "...                   ...               ...\n",
       "7675             0.004806        603.325684\n",
       "7676             0.001705        603.351868\n",
       "7677             0.002921        604.387451\n",
       "7678             0.001714        602.123657\n",
       "7679             0.001713        602.238586\n",
       "\n",
       "[7680 rows x 2 columns]"
      ]
     },
     "execution_count": 174,
     "metadata": {},
     "output_type": "execute_result"
    }
   ],
   "source": [
    "predicciones = pd.DataFrame(pred)\n",
    "predicciones.columns = ['Índice de absorción', 'Longitud de onda']\n",
    "predicciones"
   ]
  },
  {
   "attachments": {},
   "cell_type": "markdown",
   "metadata": {},
   "source": [
    "# Probando la accurancy del modelo"
   ]
  },
  {
   "attachments": {},
   "cell_type": "markdown",
   "metadata": {},
   "source": [
    "Primero lo haremos por cada parámetro. Se le restará los valores predichos por la red a los valores originales de test. Se contarán el número de ceros y ese será lo acertada que es nuestra red. De tener valores inferiores a 80% en número de ceros este rango se incrementará hasta llegar a un valor que el 80% de los valores sean menores a este"
   ]
  },
  {
   "attachments": {},
   "cell_type": "markdown",
   "metadata": {},
   "source": [
    "# Longitud de onda"
   ]
  },
  {
   "cell_type": "code",
   "execution_count": 175,
   "metadata": {},
   "outputs": [
    {
     "name": "stdout",
     "output_type": "stream",
     "text": [
      "presición del  0.0 %.\n"
     ]
    }
   ],
   "source": [
    "redondeo = predicciones['Longitud de onda'].to_numpy()\n",
    "test_df_long = test_df['Longitud de onda'].to_numpy()\n",
    "dif = redondeo - test_df_long \n",
    "#count_nonzero() cuenta el número de elementos distintos de cero en el arreglo, mientras que la función size() devuelve el tamaño total del arreglo. \n",
    "total = dif.size\n",
    "num_zeros = dif.size - np.count_nonzero(dif)\n",
    "porcentaje = num_zeros*100/total\n",
    "print(\"presición del \", porcentaje, \"%.\")"
   ]
  },
  {
   "cell_type": "code",
   "execution_count": 176,
   "metadata": {},
   "outputs": [
    {
     "name": "stdout",
     "output_type": "stream",
     "text": [
      "presición del  0.0 %. Con el redondeo para arriba en espesor y un rango de 0\n",
      "presición del  0.4166666666666667 %. Con el redondeo para arriba en espesor y un rango de 1\n",
      "presición del  0.8203125 %. Con el redondeo para arriba en espesor y un rango de 2\n",
      "presición del  1.171875 %. Con el redondeo para arriba en espesor y un rango de 3\n",
      "presición del  1.484375 %. Con el redondeo para arriba en espesor y un rango de 4\n",
      "presición del  1.8098958333333333 %. Con el redondeo para arriba en espesor y un rango de 5\n",
      "presición del  2.2526041666666665 %. Con el redondeo para arriba en espesor y un rango de 6\n",
      "presición del  2.5390625 %. Con el redondeo para arriba en espesor y un rango de 7\n",
      "presición del  2.890625 %. Con el redondeo para arriba en espesor y un rango de 8\n",
      "presición del  3.3072916666666665 %. Con el redondeo para arriba en espesor y un rango de 9\n",
      "presición del  3.7109375 %. Con el redondeo para arriba en espesor y un rango de 10\n",
      "presición del  4.010416666666667 %. Con el redondeo para arriba en espesor y un rango de 11\n",
      "presición del  4.348958333333333 %. Con el redondeo para arriba en espesor y un rango de 12\n",
      "presición del  4.6875 %. Con el redondeo para arriba en espesor y un rango de 13\n",
      "presición del  5.026041666666667 %. Con el redondeo para arriba en espesor y un rango de 14\n",
      "presición del  5.390625 %. Con el redondeo para arriba en espesor y un rango de 15\n",
      "presición del  5.651041666666667 %. Con el redondeo para arriba en espesor y un rango de 16\n",
      "presición del  6.015625 %. Con el redondeo para arriba en espesor y un rango de 17\n",
      "presición del  6.341145833333333 %. Con el redondeo para arriba en espesor y un rango de 18\n",
      "presición del  6.7578125 %. Con el redondeo para arriba en espesor y un rango de 19\n",
      "presición del  7.03125 %. Con el redondeo para arriba en espesor y un rango de 20\n",
      "presición del  7.356770833333333 %. Con el redondeo para arriba en espesor y un rango de 21\n",
      "presición del  7.565104166666667 %. Con el redondeo para arriba en espesor y un rango de 22\n",
      "presición del  7.9296875 %. Con el redondeo para arriba en espesor y un rango de 23\n",
      "presición del  8.3203125 %. Con el redondeo para arriba en espesor y un rango de 24\n",
      "presición del  8.684895833333334 %. Con el redondeo para arriba en espesor y un rango de 25\n",
      "presición del  9.1015625 %. Con el redondeo para arriba en espesor y un rango de 26\n",
      "presición del  9.596354166666666 %. Con el redondeo para arriba en espesor y un rango de 27\n",
      "presición del  10.026041666666666 %. Con el redondeo para arriba en espesor y un rango de 28\n",
      "presición del  10.221354166666666 %. Con el redondeo para arriba en espesor y un rango de 29\n",
      "presición del  10.481770833333334 %. Con el redondeo para arriba en espesor y un rango de 30\n",
      "presición del  10.859375 %. Con el redondeo para arriba en espesor y un rango de 31\n",
      "presición del  11.171875 %. Con el redondeo para arriba en espesor y un rango de 32\n",
      "presición del  11.575520833333334 %. Con el redondeo para arriba en espesor y un rango de 33\n",
      "presición del  11.927083333333334 %. Con el redondeo para arriba en espesor y un rango de 34\n",
      "presición del  12.265625 %. Con el redondeo para arriba en espesor y un rango de 35\n",
      "presición del  12.708333333333334 %. Con el redondeo para arriba en espesor y un rango de 36\n",
      "presición del  13.138020833333334 %. Con el redondeo para arriba en espesor y un rango de 37\n",
      "presición del  13.450520833333334 %. Con el redondeo para arriba en espesor y un rango de 38\n",
      "presición del  13.658854166666666 %. Con el redondeo para arriba en espesor y un rango de 39\n",
      "presición del  13.958333333333334 %. Con el redondeo para arriba en espesor y un rango de 40\n",
      "presición del  14.21875 %. Con el redondeo para arriba en espesor y un rango de 41\n",
      "presición del  14.53125 %. Con el redondeo para arriba en espesor y un rango de 42\n",
      "presición del  14.830729166666666 %. Con el redondeo para arriba en espesor y un rango de 43\n",
      "presición del  15.221354166666666 %. Con el redondeo para arriba en espesor y un rango de 44\n",
      "presición del  15.546875 %. Con el redondeo para arriba en espesor y un rango de 45\n",
      "presición del  15.807291666666666 %. Con el redondeo para arriba en espesor y un rango de 46\n",
      "presición del  16.184895833333332 %. Con el redondeo para arriba en espesor y un rango de 47\n",
      "presición del  16.536458333333332 %. Con el redondeo para arriba en espesor y un rango de 48\n",
      "presición del  16.783854166666668 %. Con el redondeo para arriba en espesor y un rango de 49\n",
      "presición del  17.096354166666668 %. Con el redondeo para arriba en espesor y un rango de 50\n",
      "presición del  17.421875 %. Con el redondeo para arriba en espesor y un rango de 51\n",
      "presición del  17.682291666666668 %. Con el redondeo para arriba en espesor y un rango de 52\n",
      "presición del  17.9296875 %. Con el redondeo para arriba en espesor y un rango de 53\n",
      "presición del  18.346354166666668 %. Con el redondeo para arriba en espesor y un rango de 54\n",
      "presición del  18.619791666666668 %. Con el redondeo para arriba en espesor y un rango de 55\n",
      "presición del  18.971354166666668 %. Con el redondeo para arriba en espesor y un rango de 56\n",
      "presición del  19.427083333333332 %. Con el redondeo para arriba en espesor y un rango de 57\n",
      "presición del  19.84375 %. Con el redondeo para arriba en espesor y un rango de 58\n",
      "presición del  20.182291666666668 %. Con el redondeo para arriba en espesor y un rango de 59\n",
      "presición del  20.559895833333332 %. Con el redondeo para arriba en espesor y un rango de 60\n",
      "presición del  20.924479166666668 %. Con el redondeo para arriba en espesor y un rango de 61\n",
      "presición del  21.171875 %. Con el redondeo para arriba en espesor y un rango de 62\n",
      "presición del  21.5234375 %. Con el redondeo para arriba en espesor y un rango de 63\n",
      "presición del  21.8359375 %. Con el redondeo para arriba en espesor y un rango de 64\n",
      "presición del  22.161458333333332 %. Con el redondeo para arriba en espesor y un rango de 65\n",
      "presición del  22.447916666666668 %. Con el redondeo para arriba en espesor y un rango de 66\n",
      "presición del  22.877604166666668 %. Con el redondeo para arriba en espesor y un rango de 67\n",
      "presición del  23.2421875 %. Con el redondeo para arriba en espesor y un rango de 68\n",
      "presición del  23.671875 %. Con el redondeo para arriba en espesor y un rango de 69\n",
      "presición del  24.0234375 %. Con el redondeo para arriba en espesor y un rango de 70\n",
      "presición del  24.322916666666668 %. Con el redondeo para arriba en espesor y un rango de 71\n",
      "presición del  24.661458333333332 %. Con el redondeo para arriba en espesor y un rango de 72\n",
      "presición del  25.013020833333332 %. Con el redondeo para arriba en espesor y un rango de 73\n",
      "presición del  25.247395833333332 %. Con el redondeo para arriba en espesor y un rango de 74\n",
      "presición del  25.638020833333332 %. Con el redondeo para arriba en espesor y un rango de 75\n",
      "presición del  25.924479166666668 %. Con el redondeo para arriba en espesor y un rango de 76\n",
      "presición del  26.2109375 %. Con el redondeo para arriba en espesor y un rango de 77\n",
      "presición del  26.5234375 %. Con el redondeo para arriba en espesor y un rango de 78\n",
      "presición del  26.809895833333332 %. Con el redondeo para arriba en espesor y un rango de 79\n",
      "presición del  27.109375 %. Con el redondeo para arriba en espesor y un rango de 80\n",
      "presición del  27.356770833333332 %. Con el redondeo para arriba en espesor y un rango de 81\n",
      "presición del  27.630208333333332 %. Con el redondeo para arriba en espesor y un rango de 82\n",
      "presición del  27.9296875 %. Con el redondeo para arriba en espesor y un rango de 83\n",
      "presición del  28.190104166666668 %. Con el redondeo para arriba en espesor y un rango de 84\n",
      "presición del  28.541666666666668 %. Con el redondeo para arriba en espesor y un rango de 85\n",
      "presición del  28.802083333333332 %. Con el redondeo para arriba en espesor y un rango de 86\n",
      "presición del  29.127604166666668 %. Con el redondeo para arriba en espesor y un rango de 87\n",
      "presición del  29.361979166666668 %. Con el redondeo para arriba en espesor y un rango de 88\n",
      "presición del  29.869791666666668 %. Con el redondeo para arriba en espesor y un rango de 89\n",
      "presición del  30.130208333333332 %. Con el redondeo para arriba en espesor y un rango de 90\n",
      "presición del  30.559895833333332 %. Con el redondeo para arriba en espesor y un rango de 91\n",
      "presición del  30.807291666666668 %. Con el redondeo para arriba en espesor y un rango de 92\n",
      "presición del  31.080729166666668 %. Con el redondeo para arriba en espesor y un rango de 93\n",
      "presición del  31.419270833333332 %. Con el redondeo para arriba en espesor y un rango de 94\n",
      "presición del  31.901041666666668 %. Con el redondeo para arriba en espesor y un rango de 95\n",
      "presición del  32.239583333333336 %. Con el redondeo para arriba en espesor y un rango de 96\n",
      "presición del  32.513020833333336 %. Con el redondeo para arriba en espesor y un rango de 97\n",
      "presición del  32.916666666666664 %. Con el redondeo para arriba en espesor y un rango de 98\n",
      "presición del  33.229166666666664 %. Con el redondeo para arriba en espesor y un rango de 99\n",
      "presición del  33.606770833333336 %. Con el redondeo para arriba en espesor y un rango de 100\n",
      "presición del  33.932291666666664 %. Con el redondeo para arriba en espesor y un rango de 101\n",
      "presición del  34.361979166666664 %. Con el redondeo para arriba en espesor y un rango de 102\n",
      "presición del  34.661458333333336 %. Con el redondeo para arriba en espesor y un rango de 103\n",
      "presición del  35.013020833333336 %. Con el redondeo para arriba en espesor y un rango de 104\n",
      "presición del  35.325520833333336 %. Con el redondeo para arriba en espesor y un rango de 105\n",
      "presición del  35.677083333333336 %. Con el redondeo para arriba en espesor y un rango de 106\n",
      "presición del  35.924479166666664 %. Con el redondeo para arriba en espesor y un rango de 107\n",
      "presición del  36.341145833333336 %. Con el redondeo para arriba en espesor y un rango de 108\n",
      "presición del  36.6796875 %. Con el redondeo para arriba en espesor y un rango de 109\n",
      "presición del  37.044270833333336 %. Con el redondeo para arriba en espesor y un rango de 110\n",
      "presición del  37.3046875 %. Con el redondeo para arriba en espesor y un rango de 111\n",
      "presición del  37.708333333333336 %. Con el redondeo para arriba en espesor y un rango de 112\n",
      "presición del  38.177083333333336 %. Con el redondeo para arriba en espesor y un rango de 113\n",
      "presición del  38.528645833333336 %. Con el redondeo para arriba en espesor y un rango de 114\n",
      "presición del  38.854166666666664 %. Con el redondeo para arriba en espesor y un rango de 115\n",
      "presición del  39.231770833333336 %. Con el redondeo para arriba en espesor y un rango de 116\n",
      "presición del  39.5703125 %. Con el redondeo para arriba en espesor y un rango de 117\n",
      "presición del  40.065104166666664 %. Con el redondeo para arriba en espesor y un rango de 118\n",
      "presición del  40.4296875 %. Con el redondeo para arriba en espesor y un rango de 119\n",
      "presición del  40.8203125 %. Con el redondeo para arriba en espesor y un rango de 120\n",
      "presición del  41.119791666666664 %. Con el redondeo para arriba en espesor y un rango de 121\n",
      "presición del  41.419270833333336 %. Con el redondeo para arriba en espesor y un rango de 122\n",
      "presición del  41.822916666666664 %. Con el redondeo para arriba en espesor y un rango de 123\n",
      "presición del  42.083333333333336 %. Con el redondeo para arriba en espesor y un rango de 124\n",
      "presición del  42.3046875 %. Con el redondeo para arriba en espesor y un rango de 125\n",
      "presición del  42.682291666666664 %. Con el redondeo para arriba en espesor y un rango de 126\n",
      "presición del  43.138020833333336 %. Con el redondeo para arriba en espesor y un rango de 127\n",
      "presición del  43.567708333333336 %. Con el redondeo para arriba en espesor y un rango de 128\n",
      "presición del  43.958333333333336 %. Con el redondeo para arriba en espesor y un rango de 129\n",
      "presición del  44.322916666666664 %. Con el redondeo para arriba en espesor y un rango de 130\n",
      "presición del  44.622395833333336 %. Con el redondeo para arriba en espesor y un rango de 131\n",
      "presición del  45.0 %. Con el redondeo para arriba en espesor y un rango de 132\n",
      "presición del  45.2734375 %. Con el redondeo para arriba en espesor y un rango de 133\n",
      "presición del  45.5859375 %. Con el redondeo para arriba en espesor y un rango de 134\n",
      "presición del  45.846354166666664 %. Con el redondeo para arriba en espesor y un rango de 135\n",
      "presición del  46.197916666666664 %. Con el redondeo para arriba en espesor y un rango de 136\n",
      "presición del  46.393229166666664 %. Con el redondeo para arriba en espesor y un rango de 137\n",
      "presición del  46.692708333333336 %. Con el redondeo para arriba en espesor y un rango de 138\n",
      "presición del  47.044270833333336 %. Con el redondeo para arriba en espesor y un rango de 139\n",
      "presición del  47.3828125 %. Con el redondeo para arriba en espesor y un rango de 140\n",
      "presición del  47.643229166666664 %. Con el redondeo para arriba en espesor y un rango de 141\n",
      "presición del  47.942708333333336 %. Con el redondeo para arriba en espesor y un rango de 142\n",
      "presición del  48.2421875 %. Con el redondeo para arriba en espesor y un rango de 143\n",
      "presición del  48.502604166666664 %. Con el redondeo para arriba en espesor y un rango de 144\n",
      "presición del  48.75 %. Con el redondeo para arriba en espesor y un rango de 145\n",
      "presición del  49.075520833333336 %. Con el redondeo para arriba en espesor y un rango de 146\n",
      "presición del  49.4140625 %. Con el redondeo para arriba en espesor y un rango de 147\n",
      "presición del  49.739583333333336 %. Con el redondeo para arriba en espesor y un rango de 148\n",
      "presición del  49.9609375 %. Con el redondeo para arriba en espesor y un rango de 149\n",
      "presición del  50.3515625 %. Con el redondeo para arriba en espesor y un rango de 150\n",
      "presición del  50.716145833333336 %. Con el redondeo para arriba en espesor y un rango de 151\n",
      "presición del  51.080729166666664 %. Con el redondeo para arriba en espesor y un rango de 152\n",
      "presición del  51.40625 %. Con el redondeo para arriba en espesor y un rango de 153\n",
      "presición del  51.796875 %. Con el redondeo para arriba en espesor y un rango de 154\n",
      "presición del  52.122395833333336 %. Con el redondeo para arriba en espesor y un rango de 155\n",
      "presición del  52.434895833333336 %. Con el redondeo para arriba en espesor y un rango de 156\n",
      "presición del  52.799479166666664 %. Con el redondeo para arriba en espesor y un rango de 157\n",
      "presición del  53.138020833333336 %. Con el redondeo para arriba en espesor y un rango de 158\n",
      "presición del  53.385416666666664 %. Con el redondeo para arriba en espesor y un rango de 159\n",
      "presición del  53.736979166666664 %. Con el redondeo para arriba en espesor y un rango de 160\n",
      "presición del  54.075520833333336 %. Con el redondeo para arriba en espesor y un rango de 161\n",
      "presición del  54.401041666666664 %. Con el redondeo para arriba en espesor y un rango de 162\n",
      "presición del  54.635416666666664 %. Con el redondeo para arriba en espesor y un rango de 163\n",
      "presición del  54.921875 %. Con el redondeo para arriba en espesor y un rango de 164\n",
      "presición del  55.208333333333336 %. Con el redondeo para arriba en espesor y un rango de 165\n",
      "presición del  55.546875 %. Con el redondeo para arriba en espesor y un rango de 166\n",
      "presición del  55.833333333333336 %. Con el redondeo para arriba en espesor y un rango de 167\n",
      "presición del  56.09375 %. Con el redondeo para arriba en espesor y un rango de 168\n",
      "presición del  56.40625 %. Con el redondeo para arriba en espesor y un rango de 169\n",
      "presición del  56.692708333333336 %. Con el redondeo para arriba en espesor y un rango de 170\n",
      "presición del  57.122395833333336 %. Con el redondeo para arriba en espesor y un rango de 171\n",
      "presición del  57.4609375 %. Con el redondeo para arriba en espesor y un rango de 172\n",
      "presición del  57.8515625 %. Con el redondeo para arriba en espesor y un rango de 173\n",
      "presición del  58.151041666666664 %. Con el redondeo para arriba en espesor y un rango de 174\n",
      "presición del  58.424479166666664 %. Con el redondeo para arriba en espesor y un rango de 175\n",
      "presición del  58.75 %. Con el redondeo para arriba en espesor y un rango de 176\n",
      "presición del  59.127604166666664 %. Con el redondeo para arriba en espesor y un rango de 177\n",
      "presición del  59.53125 %. Con el redondeo para arriba en espesor y un rango de 178\n",
      "presición del  59.973958333333336 %. Con el redondeo para arriba en espesor y un rango de 179\n",
      "presición del  60.260416666666664 %. Con el redondeo para arriba en espesor y un rango de 180\n",
      "presición del  60.638020833333336 %. Con el redondeo para arriba en espesor y un rango de 181\n",
      "presición del  61.0546875 %. Con el redondeo para arriba en espesor y un rango de 182\n",
      "presición del  61.419270833333336 %. Con el redondeo para arriba en espesor y un rango de 183\n",
      "presición del  61.731770833333336 %. Con el redondeo para arriba en espesor y un rango de 184\n",
      "presición del  62.1484375 %. Con el redondeo para arriba en espesor y un rango de 185\n",
      "presición del  62.434895833333336 %. Con el redondeo para arriba en espesor y un rango de 186\n",
      "presición del  62.864583333333336 %. Con el redondeo para arriba en espesor y un rango de 187\n",
      "presición del  63.28125 %. Con el redondeo para arriba en espesor y un rango de 188\n",
      "presición del  63.580729166666664 %. Con el redondeo para arriba en espesor y un rango de 189\n",
      "presición del  63.880208333333336 %. Con el redondeo para arriba en espesor y un rango de 190\n",
      "presición del  64.23177083333333 %. Con el redondeo para arriba en espesor y un rango de 191\n",
      "presición del  64.62239583333333 %. Con el redondeo para arriba en espesor y un rango de 192\n",
      "presición del  65.0 %. Con el redondeo para arriba en espesor y un rango de 193\n",
      "presición del  65.36458333333333 %. Con el redondeo para arriba en espesor y un rango de 194\n",
      "presición del  65.61197916666667 %. Con el redondeo para arriba en espesor y un rango de 195\n",
      "presición del  66.015625 %. Con el redondeo para arriba en espesor y un rango de 196\n",
      "presición del  66.34114583333333 %. Con el redondeo para arriba en espesor y un rango de 197\n",
      "presición del  66.66666666666667 %. Con el redondeo para arriba en espesor y un rango de 198\n",
      "presición del  66.92708333333333 %. Con el redondeo para arriba en espesor y un rango de 199\n",
      "presición del  67.2265625 %. Con el redondeo para arriba en espesor y un rango de 200\n",
      "presición del  67.421875 %. Con el redondeo para arriba en espesor y un rango de 201\n",
      "presición del  67.7734375 %. Con el redondeo para arriba en espesor y un rango de 202\n",
      "presición del  68.05989583333333 %. Con el redondeo para arriba en espesor y un rango de 203\n",
      "presición del  68.4765625 %. Con el redondeo para arriba en espesor y un rango de 204\n",
      "presición del  68.7890625 %. Con el redondeo para arriba en espesor y un rango de 205\n",
      "presición del  69.07552083333333 %. Con el redondeo para arriba en espesor y un rango de 206\n",
      "presición del  69.40104166666667 %. Con el redondeo para arriba en espesor y un rango de 207\n",
      "presición del  69.765625 %. Con el redondeo para arriba en espesor y un rango de 208\n",
      "presición del  70.0 %. Con el redondeo para arriba en espesor y un rango de 209\n",
      "presición del  70.32552083333333 %. Con el redondeo para arriba en espesor y un rango de 210\n",
      "presición del  70.625 %. Con el redondeo para arriba en espesor y un rango de 211\n",
      "presición del  70.9375 %. Con el redondeo para arriba en espesor y un rango de 212\n",
      "presición del  71.27604166666667 %. Con el redondeo para arriba en espesor y un rango de 213\n",
      "presición del  71.53645833333333 %. Con el redondeo para arriba en espesor y un rango de 214\n",
      "presición del  71.84895833333333 %. Con el redondeo para arriba en espesor y un rango de 215\n",
      "presición del  72.21354166666667 %. Con el redondeo para arriba en espesor y un rango de 216\n",
      "presición del  72.52604166666667 %. Con el redondeo para arriba en espesor y un rango de 217\n",
      "presición del  72.78645833333333 %. Con el redondeo para arriba en espesor y un rango de 218\n",
      "presición del  73.09895833333333 %. Con el redondeo para arriba en espesor y un rango de 219\n",
      "presición del  73.48958333333333 %. Con el redondeo para arriba en espesor y un rango de 220\n",
      "presición del  73.9453125 %. Con el redondeo para arriba en espesor y un rango de 221\n",
      "presición del  74.20572916666667 %. Con el redondeo para arriba en espesor y un rango de 222\n",
      "presición del  74.51822916666667 %. Con el redondeo para arriba en espesor y un rango de 223\n",
      "presición del  74.86979166666667 %. Con el redondeo para arriba en espesor y un rango de 224\n",
      "presición del  75.29947916666667 %. Con el redondeo para arriba en espesor y un rango de 225\n",
      "presición del  75.6640625 %. Con el redondeo para arriba en espesor y un rango de 226\n",
      "presición del  76.015625 %. Con el redondeo para arriba en espesor y un rango de 227\n",
      "presición del  76.25 %. Con el redondeo para arriba en espesor y un rango de 228\n",
      "presición del  76.6015625 %. Con el redondeo para arriba en espesor y un rango de 229\n",
      "presición del  76.9140625 %. Con el redondeo para arriba en espesor y un rango de 230\n",
      "presición del  77.17447916666667 %. Con el redondeo para arriba en espesor y un rango de 231\n",
      "presición del  77.5 %. Con el redondeo para arriba en espesor y un rango de 232\n",
      "presición del  77.82552083333333 %. Con el redondeo para arriba en espesor y un rango de 233\n",
      "presición del  78.17708333333333 %. Con el redondeo para arriba en espesor y un rango de 234\n",
      "presición del  78.515625 %. Con el redondeo para arriba en espesor y un rango de 235\n",
      "presición del  78.85416666666667 %. Con el redondeo para arriba en espesor y un rango de 236\n",
      "presición del  79.19270833333333 %. Con el redondeo para arriba en espesor y un rango de 237\n",
      "presición del  79.4921875 %. Con el redondeo para arriba en espesor y un rango de 238\n",
      "presición del  79.89583333333333 %. Con el redondeo para arriba en espesor y un rango de 239\n",
      "presición del  80.22135416666667 %. Con el redondeo para arriba en espesor y un rango de 240\n"
     ]
    }
   ],
   "source": [
    "# Se agrega umbral hasta llegar a 80% de aceptación\n",
    "i = 0\n",
    "while(porcentaje < 80):\n",
    "    umbral = i\n",
    "    num = np.count_nonzero(np.abs(dif) <= umbral)\n",
    "    porcentaje = num*100/total\n",
    "    print(\"presición del \", porcentaje, \"%. Con el redondeo para arriba en espesor y un rango de\", umbral)\n",
    "    i = i + 1"
   ]
  },
  {
   "cell_type": "code",
   "execution_count": 177,
   "metadata": {},
   "outputs": [
    {
     "name": "stdout",
     "output_type": "stream",
     "text": [
      "presición del  0.0 %.\n"
     ]
    }
   ],
   "source": [
    "redondeo = predicciones['Índice de absorción'].to_numpy()\n",
    "test_df_long = test_df['Índice de absorción'].to_numpy()\n",
    "dif = redondeo - test_df_long \n",
    "#count_nonzero() cuenta el número de elementos distintos de cero en el arreglo, mientras que la función size() devuelve el tamaño total del arreglo. \n",
    "total = dif.size\n",
    "num_zeros = dif.size - np.count_nonzero(dif)\n",
    "porcentaje = num_zeros*100/total\n",
    "print(\"presición del \", porcentaje, \"%.\")"
   ]
  },
  {
   "cell_type": "code",
   "execution_count": 178,
   "metadata": {},
   "outputs": [
    {
     "name": "stdout",
     "output_type": "stream",
     "text": [
      "presición del  0.0 %. Con el redondeo para arriba en espesor y un rango de 0\n",
      "presición del  41.419270833333336 %. Con el redondeo para arriba en espesor y un rango de 0.001\n",
      "presición del  68.93229166666667 %. Con el redondeo para arriba en espesor y un rango de 0.002\n",
      "presición del  74.58333333333333 %. Con el redondeo para arriba en espesor y un rango de 0.003\n",
      "presición del  78.19010416666667 %. Con el redondeo para arriba en espesor y un rango de 0.004\n",
      "presición del  81.53645833333333 %. Con el redondeo para arriba en espesor y un rango de 0.005\n"
     ]
    }
   ],
   "source": [
    "# Se agrega umbral hasta llegar a 80% de aceptación\n",
    "i = 0\n",
    "while(porcentaje < 80):\n",
    "    umbral = i\n",
    "    num = np.count_nonzero(np.abs(dif) <= umbral)\n",
    "    porcentaje = num*100/total\n",
    "    print(\"presición del \", porcentaje, \"%. Con el redondeo para arriba en espesor y un rango de\", umbral)\n",
    "    i = i + .001"
   ]
  },
  {
   "cell_type": "code",
   "execution_count": null,
   "metadata": {},
   "outputs": [],
   "source": []
  }
 ],
 "metadata": {
  "kernelspec": {
   "display_name": "base",
   "language": "python",
   "name": "python3"
  },
  "language_info": {
   "codemirror_mode": {
    "name": "ipython",
    "version": 3
   },
   "file_extension": ".py",
   "mimetype": "text/x-python",
   "name": "python",
   "nbconvert_exporter": "python",
   "pygments_lexer": "ipython3",
   "version": "3.10.10"
  },
  "orig_nbformat": 4
 },
 "nbformat": 4,
 "nbformat_minor": 2
}
