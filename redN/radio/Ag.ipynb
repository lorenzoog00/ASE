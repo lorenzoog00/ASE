{
 "cells": [
  {
   "cell_type": "code",
   "execution_count": 1,
   "metadata": {},
   "outputs": [],
   "source": [
    "import pandas as pd\n",
    "import os\n",
    "import glob\n",
    "import matplotlib.pyplot as plt\n",
    "import numpy as np"
   ]
  },
  {
   "cell_type": "code",
   "execution_count": 7,
   "metadata": {},
   "outputs": [],
   "source": [
    "files = [file for file in os.listdir('./radio')]\n",
    "ag = {}\n",
    "for file in files:\n",
    "    ag[file] =  pd.read_csv('./radio/'+ file)"
   ]
  },
  {
   "attachments": {},
   "cell_type": "markdown",
   "metadata": {},
   "source": [
    " Se juntarán todos los archivos en una sola base, se le añadirán los parametros fijos y variables.\n",
    " Parámetros fijos:\n",
    "    1% de fracción volumen \n",
    "    120nm de espesor de película\n",
    "    varia los nm de radio"
   ]
  },
  {
   "attachments": {},
   "cell_type": "markdown",
   "metadata": {},
   "source": [
    "# Por que no con un for?\n",
    "porque los archivos dentro de ag están desordenados entonces dentro del for no sabriamos que sumarle al respectivo archivo"
   ]
  },
  {
   "attachments": {},
   "cell_type": "markdown",
   "metadata": {},
   "source": [
    "Agregandole la columna en la que cada uno de estos va a variar"
   ]
  },
  {
   "cell_type": "code",
   "execution_count": 13,
   "metadata": {},
   "outputs": [],
   "source": [
    "ag['alpha-Ag5nm1.csv']['Radio (nm)'] = 5\n",
    "ag['alpha-Ag6nm1_.csv']['Radio (nm)'] = 6\n",
    "ag['alpha-Ag7nm1_.csv']['Radio (nm)'] = 7\n",
    "ag['alpha-Ag8nm1_.csv']['Radio (nm)'] = 8\n",
    "ag['alpha-Ag9nm1_.csv']['Radio (nm)'] = 9\n",
    "ag['alpha-Ag10nm1_.csv']['Radio (nm)'] = 10\n",
    "ag['alpha-Ag11nm1_.csv']['Radio (nm)'] = 11\n",
    "ag['alpha-Ag12nm1_.csv']['Radio (nm)'] = 12\n",
    "ag['alpha-Ag13nm1_.csv']['Radio (nm)'] = 13\n",
    "ag['alpha-Ag14nm1_.csv']['Radio (nm)'] = 14\n",
    "ag['alpha-Ag15nm1_.csv']['Radio (nm)'] = 15\n",
    "ag['alpha-Ag16nm1_.csv']['Radio (nm)'] = 16\n",
    "ag['alpha-Ag17nm1_.csv']['Radio (nm)'] = 17\n",
    "ag['alpha-Ag18nm1_.csv']['Radio (nm)'] = 18\n",
    "ag['alpha-Ag19nm1_.csv']['Radio (nm)'] = 19\n",
    "ag['alpha-Ag20nm1_.csv']['Radio (nm)'] = 20\n",
    "ag['alpha-Ag21nm1.csv']['Radio (nm)'] = 21\n",
    "ag['alpha-Ag22nm1_.csv']['Radio (nm)'] = 22\n",
    "ag['alpha-Ag23nm1_.csv']['Radio (nm)'] = 23\n",
    "ag['alpha-Ag24nm1_.csv']['Radio (nm)'] = 24\n",
    "ag['alpha-Ag25nm1_.csv']['Radio (nm)'] = 25\n",
    "ag['alpha-Ag26nm1_.csv']['Radio (nm)'] = 26\n",
    "ag['alpha-Ag27nm1_.csv']['Radio (nm)'] = 27\n",
    "ag['alpha-Ag28nm1_.csv']['Radio (nm)'] = 28\n",
    "ag['alpha-Ag29nm1_.csv']['Radio (nm)'] = 29\n",
    "ag['alpha-Ag30nm1_.csv']['Radio (nm)'] = 30\n",
    "ag['alpha-Ag31nm1_.csv']['Radio (nm)'] = 31\n",
    "ag['alpha-Ag32nm1_.csv']['Radio (nm)'] = 32\n",
    "ag['alpha-Ag33nm1_.csv']['Radio (nm)'] = 33\n",
    "ag['alpha-Ag34nm1_.csv']['Radio (nm)'] = 34\n",
    "ag['alpha-Ag35nm1_.csv']['Radio (nm)'] = 35\n",
    "ag['alpha-Ag36nm1_.csv']['Radio (nm)'] = 36"
   ]
  },
  {
   "cell_type": "code",
   "execution_count": 15,
   "metadata": {},
   "outputs": [
    {
     "data": {
      "text/plain": [
       "Index(['300', '0.018060187520571386', 'Radio (nm)'], dtype='object')"
      ]
     },
     "execution_count": 15,
     "metadata": {},
     "output_type": "execute_result"
    }
   ],
   "source": [
    "ag['alpha-Ag6nm1_.csv'].columns"
   ]
  },
  {
   "attachments": {},
   "cell_type": "markdown",
   "metadata": {},
   "source": [
    "# Renombrando columnas"
   ]
  },
  {
   "cell_type": "code",
   "execution_count": 16,
   "metadata": {},
   "outputs": [],
   "source": [
    "for nombre, df in ag.items():\n",
    "    df.rename(columns={df.columns[0]: 'Longitud de onda'}, inplace=True)\n",
    "    df.rename(columns={df.columns[1]: 'Índice de absorción'}, inplace=True)"
   ]
  },
  {
   "cell_type": "code",
   "execution_count": 18,
   "metadata": {},
   "outputs": [
    {
     "data": {
      "text/plain": [
       "Index(['Longitud de onda', 'Índice de absorción', 'Radio (nm)'], dtype='object')"
      ]
     },
     "execution_count": 18,
     "metadata": {},
     "output_type": "execute_result"
    }
   ],
   "source": [
    "ag['alpha-Ag10nm1_.csv'].columns"
   ]
  },
  {
   "attachments": {},
   "cell_type": "markdown",
   "metadata": {},
   "source": [
    "# Exportando nuevos datos"
   ]
  },
  {
   "cell_type": "code",
   "execution_count": 19,
   "metadata": {},
   "outputs": [],
   "source": [
    "for nombre, df in ag.items():\n",
    "    df.to_csv(nombre + 'export', index=False)"
   ]
  },
  {
   "attachments": {},
   "cell_type": "markdown",
   "metadata": {},
   "source": [
    "# Leyendolos y juntandolos en una misma base"
   ]
  },
  {
   "cell_type": "code",
   "execution_count": 21,
   "metadata": {},
   "outputs": [],
   "source": [
    "files = [file for file in os.listdir('./radio_export')]\n",
    "\n",
    "radio = pd.DataFrame()\n",
    "for file in files:\n",
    "  df = pd.read_csv('./radio_export/'+file)\n",
    "  radio = pd.concat([radio, df], axis= 0)"
   ]
  },
  {
   "attachments": {},
   "cell_type": "markdown",
   "metadata": {},
   "source": [
    "# Añadiendo las columnas de los parámetros fijos"
   ]
  },
  {
   "cell_type": "code",
   "execution_count": 22,
   "metadata": {},
   "outputs": [
    {
     "data": {
      "text/html": [
       "<div>\n",
       "<style scoped>\n",
       "    .dataframe tbody tr th:only-of-type {\n",
       "        vertical-align: middle;\n",
       "    }\n",
       "\n",
       "    .dataframe tbody tr th {\n",
       "        vertical-align: top;\n",
       "    }\n",
       "\n",
       "    .dataframe thead th {\n",
       "        text-align: right;\n",
       "    }\n",
       "</style>\n",
       "<table border=\"1\" class=\"dataframe\">\n",
       "  <thead>\n",
       "    <tr style=\"text-align: right;\">\n",
       "      <th></th>\n",
       "      <th>Longitud de onda</th>\n",
       "      <th>Índice de absorción</th>\n",
       "      <th>Radio (nm)</th>\n",
       "      <th>Fracvol</th>\n",
       "      <th>Espesor de la película (nm)</th>\n",
       "    </tr>\n",
       "  </thead>\n",
       "  <tbody>\n",
       "    <tr>\n",
       "      <th>0</th>\n",
       "      <td>301</td>\n",
       "      <td>0.017537</td>\n",
       "      <td>10</td>\n",
       "      <td>1</td>\n",
       "      <td>120</td>\n",
       "    </tr>\n",
       "    <tr>\n",
       "      <th>1</th>\n",
       "      <td>302</td>\n",
       "      <td>0.017043</td>\n",
       "      <td>10</td>\n",
       "      <td>1</td>\n",
       "      <td>120</td>\n",
       "    </tr>\n",
       "    <tr>\n",
       "      <th>2</th>\n",
       "      <td>303</td>\n",
       "      <td>0.016599</td>\n",
       "      <td>10</td>\n",
       "      <td>1</td>\n",
       "      <td>120</td>\n",
       "    </tr>\n",
       "    <tr>\n",
       "      <th>3</th>\n",
       "      <td>304</td>\n",
       "      <td>0.016203</td>\n",
       "      <td>10</td>\n",
       "      <td>1</td>\n",
       "      <td>120</td>\n",
       "    </tr>\n",
       "    <tr>\n",
       "      <th>4</th>\n",
       "      <td>305</td>\n",
       "      <td>0.015845</td>\n",
       "      <td>10</td>\n",
       "      <td>1</td>\n",
       "      <td>120</td>\n",
       "    </tr>\n",
       "    <tr>\n",
       "      <th>...</th>\n",
       "      <td>...</td>\n",
       "      <td>...</td>\n",
       "      <td>...</td>\n",
       "      <td>...</td>\n",
       "      <td>...</td>\n",
       "    </tr>\n",
       "    <tr>\n",
       "      <th>595</th>\n",
       "      <td>896</td>\n",
       "      <td>0.002255</td>\n",
       "      <td>9</td>\n",
       "      <td>1</td>\n",
       "      <td>120</td>\n",
       "    </tr>\n",
       "    <tr>\n",
       "      <th>596</th>\n",
       "      <td>897</td>\n",
       "      <td>0.002257</td>\n",
       "      <td>9</td>\n",
       "      <td>1</td>\n",
       "      <td>120</td>\n",
       "    </tr>\n",
       "    <tr>\n",
       "      <th>597</th>\n",
       "      <td>898</td>\n",
       "      <td>0.002258</td>\n",
       "      <td>9</td>\n",
       "      <td>1</td>\n",
       "      <td>120</td>\n",
       "    </tr>\n",
       "    <tr>\n",
       "      <th>598</th>\n",
       "      <td>899</td>\n",
       "      <td>0.002260</td>\n",
       "      <td>9</td>\n",
       "      <td>1</td>\n",
       "      <td>120</td>\n",
       "    </tr>\n",
       "    <tr>\n",
       "      <th>599</th>\n",
       "      <td>900</td>\n",
       "      <td>0.002262</td>\n",
       "      <td>9</td>\n",
       "      <td>1</td>\n",
       "      <td>120</td>\n",
       "    </tr>\n",
       "  </tbody>\n",
       "</table>\n",
       "<p>19200 rows × 5 columns</p>\n",
       "</div>"
      ],
      "text/plain": [
       "     Longitud de onda  Índice de absorción  Radio (nm)  Fracvol  \\\n",
       "0                 301             0.017537          10        1   \n",
       "1                 302             0.017043          10        1   \n",
       "2                 303             0.016599          10        1   \n",
       "3                 304             0.016203          10        1   \n",
       "4                 305             0.015845          10        1   \n",
       "..                ...                  ...         ...      ...   \n",
       "595               896             0.002255           9        1   \n",
       "596               897             0.002257           9        1   \n",
       "597               898             0.002258           9        1   \n",
       "598               899             0.002260           9        1   \n",
       "599               900             0.002262           9        1   \n",
       "\n",
       "     Espesor de la película (nm)  \n",
       "0                            120  \n",
       "1                            120  \n",
       "2                            120  \n",
       "3                            120  \n",
       "4                            120  \n",
       "..                           ...  \n",
       "595                          120  \n",
       "596                          120  \n",
       "597                          120  \n",
       "598                          120  \n",
       "599                          120  \n",
       "\n",
       "[19200 rows x 5 columns]"
      ]
     },
     "execution_count": 22,
     "metadata": {},
     "output_type": "execute_result"
    }
   ],
   "source": [
    "radio['Fracvol'] = 1\n",
    "radio['Espesor de la película (nm)'] = 120\n",
    "radio"
   ]
  },
  {
   "attachments": {},
   "cell_type": "markdown",
   "metadata": {},
   "source": [
    "# Volver a organizar las columnas para que estén iguales a las de espesor y fracción volumen"
   ]
  },
  {
   "cell_type": "code",
   "execution_count": 23,
   "metadata": {},
   "outputs": [],
   "source": [
    "radio = radio.reindex(columns= ['Longitud de onda', 'Índice de absorción', 'Fracvol', 'Radio (nm)', 'Espesor de la película (nm)'], )"
   ]
  },
  {
   "cell_type": "code",
   "execution_count": 24,
   "metadata": {},
   "outputs": [
    {
     "data": {
      "text/html": [
       "<div>\n",
       "<style scoped>\n",
       "    .dataframe tbody tr th:only-of-type {\n",
       "        vertical-align: middle;\n",
       "    }\n",
       "\n",
       "    .dataframe tbody tr th {\n",
       "        vertical-align: top;\n",
       "    }\n",
       "\n",
       "    .dataframe thead th {\n",
       "        text-align: right;\n",
       "    }\n",
       "</style>\n",
       "<table border=\"1\" class=\"dataframe\">\n",
       "  <thead>\n",
       "    <tr style=\"text-align: right;\">\n",
       "      <th></th>\n",
       "      <th>Longitud de onda</th>\n",
       "      <th>Índice de absorción</th>\n",
       "      <th>Fracvol</th>\n",
       "      <th>Radio (nm)</th>\n",
       "      <th>Espesor de la película (nm)</th>\n",
       "    </tr>\n",
       "  </thead>\n",
       "  <tbody>\n",
       "    <tr>\n",
       "      <th>0</th>\n",
       "      <td>301</td>\n",
       "      <td>0.017537</td>\n",
       "      <td>1</td>\n",
       "      <td>10</td>\n",
       "      <td>120</td>\n",
       "    </tr>\n",
       "    <tr>\n",
       "      <th>1</th>\n",
       "      <td>302</td>\n",
       "      <td>0.017043</td>\n",
       "      <td>1</td>\n",
       "      <td>10</td>\n",
       "      <td>120</td>\n",
       "    </tr>\n",
       "    <tr>\n",
       "      <th>2</th>\n",
       "      <td>303</td>\n",
       "      <td>0.016599</td>\n",
       "      <td>1</td>\n",
       "      <td>10</td>\n",
       "      <td>120</td>\n",
       "    </tr>\n",
       "    <tr>\n",
       "      <th>3</th>\n",
       "      <td>304</td>\n",
       "      <td>0.016203</td>\n",
       "      <td>1</td>\n",
       "      <td>10</td>\n",
       "      <td>120</td>\n",
       "    </tr>\n",
       "    <tr>\n",
       "      <th>4</th>\n",
       "      <td>305</td>\n",
       "      <td>0.015845</td>\n",
       "      <td>1</td>\n",
       "      <td>10</td>\n",
       "      <td>120</td>\n",
       "    </tr>\n",
       "    <tr>\n",
       "      <th>...</th>\n",
       "      <td>...</td>\n",
       "      <td>...</td>\n",
       "      <td>...</td>\n",
       "      <td>...</td>\n",
       "      <td>...</td>\n",
       "    </tr>\n",
       "    <tr>\n",
       "      <th>595</th>\n",
       "      <td>896</td>\n",
       "      <td>0.002255</td>\n",
       "      <td>1</td>\n",
       "      <td>9</td>\n",
       "      <td>120</td>\n",
       "    </tr>\n",
       "    <tr>\n",
       "      <th>596</th>\n",
       "      <td>897</td>\n",
       "      <td>0.002257</td>\n",
       "      <td>1</td>\n",
       "      <td>9</td>\n",
       "      <td>120</td>\n",
       "    </tr>\n",
       "    <tr>\n",
       "      <th>597</th>\n",
       "      <td>898</td>\n",
       "      <td>0.002258</td>\n",
       "      <td>1</td>\n",
       "      <td>9</td>\n",
       "      <td>120</td>\n",
       "    </tr>\n",
       "    <tr>\n",
       "      <th>598</th>\n",
       "      <td>899</td>\n",
       "      <td>0.002260</td>\n",
       "      <td>1</td>\n",
       "      <td>9</td>\n",
       "      <td>120</td>\n",
       "    </tr>\n",
       "    <tr>\n",
       "      <th>599</th>\n",
       "      <td>900</td>\n",
       "      <td>0.002262</td>\n",
       "      <td>1</td>\n",
       "      <td>9</td>\n",
       "      <td>120</td>\n",
       "    </tr>\n",
       "  </tbody>\n",
       "</table>\n",
       "<p>19200 rows × 5 columns</p>\n",
       "</div>"
      ],
      "text/plain": [
       "     Longitud de onda  Índice de absorción  Fracvol  Radio (nm)  \\\n",
       "0                 301             0.017537        1          10   \n",
       "1                 302             0.017043        1          10   \n",
       "2                 303             0.016599        1          10   \n",
       "3                 304             0.016203        1          10   \n",
       "4                 305             0.015845        1          10   \n",
       "..                ...                  ...      ...         ...   \n",
       "595               896             0.002255        1           9   \n",
       "596               897             0.002257        1           9   \n",
       "597               898             0.002258        1           9   \n",
       "598               899             0.002260        1           9   \n",
       "599               900             0.002262        1           9   \n",
       "\n",
       "     Espesor de la película (nm)  \n",
       "0                            120  \n",
       "1                            120  \n",
       "2                            120  \n",
       "3                            120  \n",
       "4                            120  \n",
       "..                           ...  \n",
       "595                          120  \n",
       "596                          120  \n",
       "597                          120  \n",
       "598                          120  \n",
       "599                          120  \n",
       "\n",
       "[19200 rows x 5 columns]"
      ]
     },
     "execution_count": 24,
     "metadata": {},
     "output_type": "execute_result"
    }
   ],
   "source": [
    "radio"
   ]
  },
  {
   "cell_type": "code",
   "execution_count": 26,
   "metadata": {},
   "outputs": [],
   "source": [
    "radio.to_csv('radio', index=False)"
   ]
  },
  {
   "cell_type": "code",
   "execution_count": null,
   "metadata": {},
   "outputs": [],
   "source": []
  }
 ],
 "metadata": {
  "kernelspec": {
   "display_name": "Python 3",
   "language": "python",
   "name": "python3"
  },
  "language_info": {
   "codemirror_mode": {
    "name": "ipython",
    "version": 3
   },
   "file_extension": ".py",
   "mimetype": "text/x-python",
   "name": "python",
   "nbconvert_exporter": "python",
   "pygments_lexer": "ipython3",
   "version": "3.10.10"
  },
  "orig_nbformat": 4
 },
 "nbformat": 4,
 "nbformat_minor": 2
}
