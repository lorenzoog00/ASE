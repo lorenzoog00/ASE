{
 "cells": [
  {
   "cell_type": "code",
   "execution_count": 1,
   "metadata": {},
   "outputs": [],
   "source": [
    "import pandas as pd\n",
    "import os\n",
    "import glob\n",
    "import matplotlib.pyplot as plt\n",
    "import numpy as np\n",
    "import tensorflow as tf\n",
    "import math\n",
    "from sklearn.metrics import mean_squared_error, r2_score\n",
    "import pandas as pd\n",
    "from keras.models import Sequential\n",
    "from keras.layers import Dense\n",
    "from sklearn.preprocessing import MinMaxScaler\n",
    "from sklearn.model_selection import train_test_split\n",
    "from sklearn.neural_network import MLPClassifier\n",
    "from sklearn.preprocessing import MultiLabelBinarizer\n",
    "from sklearn.preprocessing import StandardScaler\n",
    "from sklearn.preprocessing import MaxAbsScaler\n",
    "import numpy as np\n",
    "from sklearn.metrics import mean_absolute_error, r2_score\n",
    "from scipy.stats import pearsonr\n",
    "from tensorflow.keras.models import load_model\n",
    "from joblib import load\n",
    "import joblib\n",
    "import shutil\n",
    "from collections import Counter"
   ]
  },
  {
   "cell_type": "markdown",
   "metadata": {},
   "source": [
    "# Con todos los valores que hay en param se grafican en comparación a las predicciones"
   ]
  },
  {
   "cell_type": "markdown",
   "metadata": {},
   "source": [
    "Una de graficas reales que grafica todo los datos que se tienen en graficas individuales, luego una que grafica graficas predichas, que predice con el modelo cargado al principio, la tercera compara las 2 pasadas"
   ]
  },
  {
   "cell_type": "markdown",
   "metadata": {},
   "source": [
    "Carga del modelo normalizado"
   ]
  },
  {
   "cell_type": "code",
   "execution_count": 2,
   "metadata": {},
   "outputs": [],
   "source": [
    "model = tf.keras.models.load_model('h5/NUEVO2.h5')"
   ]
  },
  {
   "cell_type": "markdown",
   "metadata": {},
   "source": [
    "# Haciendolo con varias gráficas a la vez"
   ]
  },
  {
   "cell_type": "markdown",
   "metadata": {},
   "source": [
    "Funcion que genera y guarda imagenes generadas"
   ]
  },
  {
   "cell_type": "code",
   "execution_count": 3,
   "metadata": {},
   "outputs": [],
   "source": [
    "files = [file for file in os.listdir('./parametros')]\n",
    "\n",
    "param = pd.DataFrame()\n",
    "for file in files:\n",
    "  df = pd.read_csv('./parametros/'+file)\n",
    "  param = pd.concat([param, df], axis= 0)"
   ]
  },
  {
   "cell_type": "markdown",
   "metadata": {},
   "source": [
    "Limpieza de datos"
   ]
  },
  {
   "cell_type": "code",
   "execution_count": 4,
   "metadata": {},
   "outputs": [],
   "source": [
    "combinaciones_unicas = param[['Fracvol', 'Radio (nm)', 'Espesor de la película (nm)']].drop_duplicates().reset_index(drop=True)\n",
    "combinaciones_filtradas = combinaciones_unicas[combinaciones_unicas['Fracvol'] <= 3].reset_index(drop=True)"
   ]
  },
  {
   "cell_type": "markdown",
   "metadata": {},
   "source": [
    "Creación de las listas que serán graficadas"
   ]
  },
  {
   "cell_type": "code",
   "execution_count": 5,
   "metadata": {},
   "outputs": [],
   "source": [
    "fracvol = combinaciones_filtradas['Fracvol'].tolist()\n",
    "radio = combinaciones_filtradas['Radio (nm)'].tolist()\n",
    "espesor = combinaciones_filtradas['Espesor de la película (nm)'].tolist()\n",
    "longitud_de_onda = list(range(301, 901))"
   ]
  },
  {
   "cell_type": "markdown",
   "metadata": {},
   "source": [
    "Borrando carpetas para que no se dupliquen"
   ]
  },
  {
   "cell_type": "code",
   "execution_count": 6,
   "metadata": {},
   "outputs": [],
   "source": [
    "# Ruta del directorio\n",
    "dir_path = 'graficas_reales'\n",
    "\n",
    "# Si el directorio ya existe, eliminarlo\n",
    "if os.path.exists(dir_path):\n",
    "    shutil.rmtree(dir_path)\n",
    "\n",
    "# Crear el directorio\n",
    "os.makedirs(dir_path)"
   ]
  },
  {
   "cell_type": "markdown",
   "metadata": {},
   "source": [
    "Creación gráficas reales"
   ]
  },
  {
   "cell_type": "code",
   "execution_count": 7,
   "metadata": {},
   "outputs": [],
   "source": [
    "# Asegurarse de que la carpeta graficas_reales exista\n",
    "if not os.path.exists('graficas_reales'):\n",
    "    os.makedirs('graficas_reales')\n",
    "\n",
    "# Variables para almacenar los datos de AUC y las combinaciones correspondientes\n",
    "auc_data = []\n",
    "combinaciones = []\n",
    "\n",
    "# Filtrar el dataframe para solo trabajar con fracvol = 1\n",
    "param = param[param['Fracvol'] == 1]\n",
    "\n",
    "# Obtener las combinaciones únicas y filtradas\n",
    "combinaciones_unicas = param[['Radio (nm)', 'Espesor de la película (nm)']].drop_duplicates().values\n",
    "\n",
    "# Iterar sobre las combinaciones únicas y filtradas\n",
    "for r, e in combinaciones_unicas:\n",
    "    # Filtrar el dataframe params para obtener datos que coincidan con la combinación actual\n",
    "    subset = param[(param['Radio (nm)'] == r) & \n",
    "                   (param['Espesor de la película (nm)'] == e)]\n",
    "    \n",
    "    # Si hay menos de 600 datos para esta combinación, saltar a la siguiente iteración\n",
    "    if len(subset) < 600:\n",
    "        continue\n",
    "\n",
    "    # Calcular el AUC para el rango de 400 a 700 nm\n",
    "    mask = (subset['Longitud de onda'] >= 400) & (subset['Longitud de onda'] <= 700)\n",
    "    auc_value = np.trapz(subset['Índice de absorción'][mask], subset['Longitud de onda'][mask])\n",
    "\n",
    "    # Agregar el valor de AUC y la combinación a las listas correspondientes\n",
    "    auc_data.append(auc_value)\n",
    "    combinaciones.append((r, e))\n",
    "\n",
    "# Convertir los datos a un DataFrame de pandas para facilidad de manejo\n",
    "df_auc = pd.DataFrame({'AUC': auc_data, 'Combinación': combinaciones})\n",
    "\n",
    "# Calcular estadísticas descriptivas\n",
    "mean_auc = df_auc['AUC'].mean()\n",
    "std_auc = df_auc['AUC'].std()\n",
    "\n",
    "# Definir las categorías de absorción\n",
    "bins = pd.cut(df_auc['AUC'], bins=[0, mean_auc - std_auc, mean_auc + std_auc, float('inf')],\n",
    "              labels=['Poca absorción', 'Mediana absorción', 'Mucha absorción'])\n",
    "\n",
    "# Asignar las categorías al DataFrame\n",
    "df_auc['Categoría'] = bins\n",
    "\n",
    "# Iterar de nuevo para graficar con los títulos actualizados\n",
    "for idx, (r, e) in enumerate(df_auc['Combinación']):\n",
    "    # Filtrar el dataframe params para obtener datos que coincidan con la combinación actual\n",
    "    subset = param[(param['Radio (nm)'] == r) &\n",
    "                   (param['Espesor de la película (nm)'] == e)]\n",
    "    \n",
    "    # Crear la gráfica de dispersión para esta combinación\n",
    "    plt.figure(figsize=(10, 6))\n",
    "    plt.plot(subset['Longitud de onda'], subset['Índice de absorción'], color='blue')\n",
    "    plt.xlabel('Longitud de onda')\n",
    "    plt.ylabel('Índice de absorción')\n",
    "    titulo = f'Fracción volumen: 1.00, Radio: {r:.2f}, Espesor: {e:.2f}, AUC (400-700 nm): {df_auc[\"AUC\"][idx]:.2f}, Categoría: {df_auc[\"Categoría\"][idx]}'\n",
    "    plt.title(titulo)\n",
    "    plt.grid(True)\n",
    "    filename = f'graficas_reales/grafica_1.00_{r:.2f}_{e:.2f}.png'\n",
    "    plt.savefig(filename)\n",
    "    plt.close()\n",
    "\n",
    "# Escribir los resultados en un archivo de texto dentro de la carpeta 'graficas_reales'\n",
    "\n",
    "# Escribir los resultados en un archivo de texto dentro de la carpeta 'graficas_reales'\n",
    "with open(os.path.join('graficas_reales', 'info_auc_reales.txt'), 'w') as file:\n",
    "    file.write(f'Máximo AUC: {df_auc[\"AUC\"].max()}, Combinación: (Fracvol: 1, Radio: {df_auc[\"Combinación\"][df_auc[\"AUC\"].idxmax()][0]}, Espesor: {df_auc[\"Combinación\"][df_auc[\"AUC\"].idxmax()][1]})\\n')\n",
    "    file.write(f'Mínimo AUC: {df_auc[\"AUC\"].min()}, Combinación: (Fracvol: 1, Radio: {df_auc[\"Combinación\"][df_auc[\"AUC\"].idxmin()][0]}, Espesor: {df_auc[\"Combinación\"][df_auc[\"AUC\"].idxmin()][1]})\\n')\n",
    "    file.write(f'Media AUC: {mean_auc}\\n')\n",
    "    file.write(f'Desviación Estándar AUC: {std_auc}\\n')\n",
    "    file.write(f'Mediana AUC: {df_auc[\"AUC\"].median()}\\n')"
   ]
  },
  {
   "cell_type": "markdown",
   "metadata": {},
   "source": [
    "Revisa la existencia de la carpeta de gráficas predichas, si existe borra el contenido, si no solo la crea"
   ]
  },
  {
   "cell_type": "code",
   "execution_count": 8,
   "metadata": {},
   "outputs": [],
   "source": [
    "# Ruta del directorio\n",
    "dir_path = 'graficas_predichas'\n",
    "\n",
    "# Si el directorio ya existe, eliminarlo\n",
    "if os.path.exists(dir_path):\n",
    "    shutil.rmtree(dir_path)\n",
    "\n",
    "# Crear el directorio\n",
    "os.makedirs(dir_path)"
   ]
  },
  {
   "cell_type": "markdown",
   "metadata": {},
   "source": [
    "Predice todos los valores"
   ]
  },
  {
   "cell_type": "code",
   "execution_count": 9,
   "metadata": {},
   "outputs": [
    {
     "name": "stdout",
     "output_type": "stream",
     "text": [
      "19/19 [==============================] - 0s 686us/step\n",
      "19/19 [==============================] - 0s 718us/step\n",
      "19/19 [==============================] - 0s 605us/step\n",
      "19/19 [==============================] - 0s 619us/step\n",
      "19/19 [==============================] - 0s 616us/step\n",
      "19/19 [==============================] - 0s 696us/step\n",
      "19/19 [==============================] - 0s 1ms/step\n",
      "19/19 [==============================] - 0s 769us/step\n",
      "19/19 [==============================] - 0s 233us/step\n",
      "19/19 [==============================] - 0s 871us/step\n",
      "19/19 [==============================] - 0s 898us/step\n",
      "19/19 [==============================] - 0s 643us/step\n",
      "19/19 [==============================] - 0s 1ms/step\n",
      "19/19 [==============================] - 0s 762us/step\n",
      "19/19 [==============================] - 0s 674us/step\n",
      "19/19 [==============================] - 0s 933us/step\n",
      "19/19 [==============================] - 0s 986us/step\n",
      "19/19 [==============================] - 0s 667us/step\n",
      "19/19 [==============================] - 0s 710us/step\n",
      "19/19 [==============================] - 0s 621us/step\n",
      "19/19 [==============================] - 0s 569us/step\n",
      "19/19 [==============================] - 0s 827us/step\n",
      "19/19 [==============================] - 0s 455us/step\n",
      "19/19 [==============================] - 0s 343us/step\n",
      "19/19 [==============================] - 0s 772us/step\n",
      "19/19 [==============================] - 0s 422us/step\n",
      "19/19 [==============================] - 0s 617us/step\n",
      "19/19 [==============================] - 0s 801us/step\n",
      "19/19 [==============================] - 0s 857us/step\n",
      "19/19 [==============================] - 0s 906us/step\n",
      "19/19 [==============================] - 0s 664us/step\n",
      "19/19 [==============================] - 0s 665us/step\n",
      "19/19 [==============================] - 0s 383us/step\n",
      "19/19 [==============================] - 0s 551us/step\n",
      "19/19 [==============================] - 0s 531us/step\n",
      "19/19 [==============================] - 0s 571us/step\n",
      "19/19 [==============================] - 0s 722us/step\n",
      "19/19 [==============================] - 0s 763us/step\n",
      "19/19 [==============================] - 0s 604us/step\n",
      "19/19 [==============================] - 0s 678us/step\n",
      "19/19 [==============================] - 0s 583us/step\n",
      "19/19 [==============================] - 0s 551us/step\n",
      "19/19 [==============================] - 0s 600us/step\n",
      "19/19 [==============================] - 0s 557us/step\n",
      "19/19 [==============================] - 0s 807us/step\n",
      "19/19 [==============================] - 0s 554us/step\n",
      "19/19 [==============================] - 0s 638us/step\n",
      "19/19 [==============================] - 0s 829us/step\n",
      "19/19 [==============================] - 0s 526us/step\n",
      "19/19 [==============================] - 0s 396us/step\n",
      "19/19 [==============================] - 0s 556us/step\n",
      "19/19 [==============================] - 0s 770us/step\n",
      "19/19 [==============================] - 0s 457us/step\n",
      "19/19 [==============================] - 0s 769us/step\n",
      "19/19 [==============================] - 0s 557us/step\n",
      "19/19 [==============================] - 0s 555us/step\n",
      "19/19 [==============================] - 0s 677us/step\n",
      "19/19 [==============================] - 0s 556us/step\n",
      "19/19 [==============================] - 0s 556us/step\n",
      "19/19 [==============================] - 0s 611us/step\n",
      "19/19 [==============================] - 0s 607us/step\n",
      "19/19 [==============================] - 0s 552us/step\n",
      "19/19 [==============================] - 0s 579us/step\n",
      "19/19 [==============================] - 0s 666us/step\n",
      "19/19 [==============================] - 0s 706us/step\n",
      "19/19 [==============================] - 0s 551us/step\n",
      "19/19 [==============================] - 0s 658us/step\n",
      "19/19 [==============================] - 0s 602us/step\n",
      "19/19 [==============================] - 0s 523us/step\n",
      "19/19 [==============================] - 0s 759us/step\n",
      "19/19 [==============================] - 0s 640us/step\n",
      "19/19 [==============================] - 0s 632us/step\n",
      "19/19 [==============================] - 0s 606us/step\n",
      "19/19 [==============================] - 0s 529us/step\n",
      "19/19 [==============================] - 0s 707us/step\n",
      "19/19 [==============================] - 0s 602us/step\n",
      "19/19 [==============================] - 0s 577us/step\n",
      "19/19 [==============================] - 0s 800us/step\n",
      "19/19 [==============================] - 0s 721us/step\n",
      "19/19 [==============================] - 0s 638us/step\n",
      "19/19 [==============================] - 0s 560us/step\n",
      "19/19 [==============================] - 0s 589us/step\n",
      "19/19 [==============================] - 0s 534us/step\n"
     ]
    }
   ],
   "source": [
    "# Asegurar que la carpeta existe o crearla\n",
    "carpeta = \"graficas_predichas\"\n",
    "if not os.path.exists(carpeta):\n",
    "    os.mkdir(carpeta)\n",
    "\n",
    "# Asumiendo que todos los arrays (fracvol, radio, espesor) tienen la misma longitud:\n",
    "num_elementos = len(fracvol)\n",
    "\n",
    "scaler_X = load('minmax_scaler_X.pkl')\n",
    "\n",
    "for i in range(num_elementos):\n",
    "    data = {\n",
    "        \"Longitud de onda\": longitud_de_onda,\n",
    "        \"Fracvol\": [fracvol[i]] * len(longitud_de_onda),\n",
    "        \"Radio (nm)\": [radio[i]] * len(longitud_de_onda),\n",
    "        \"Espesor de la película (nm)\": [espesor[i]] * len(longitud_de_onda)\n",
    "    }\n",
    "    \n",
    "    df = pd.DataFrame(data)\n",
    "    x = df.values\n",
    "    x_norm = scaler_X.transform(x)\n",
    "    predictions = model.predict(x_norm)\n",
    "\n",
    "    df[\"Índice de absorción\"] = predictions\n",
    "\n",
    "    columnas_seleccionadas = ['Longitud de onda', 'Índice de absorción']\n",
    "    df_seleccionado = df[columnas_seleccionadas]\n",
    "    titulo = 'fracción volumen: {:.2f}, radio: {:.2f}, espesor: {:.2f}'.format(fracvol[i], radio[i], espesor[i])\n",
    "\n",
    "    # Crear la gráfica de dispersión\n",
    "    plt.figure(figsize=(10, 6))\n",
    "    plt.plot(df_seleccionado['Longitud de onda'], df_seleccionado['Índice de absorción'], color='blue')\n",
    "    plt.xlabel('Longitud de onda')\n",
    "    plt.ylabel('Índice de absorción')\n",
    "    plt.title(titulo)\n",
    "    plt.grid(True)\n",
    "    \n",
    "    # Guardar la gráfica como imagen en la carpeta especificada\n",
    "    nombre_archivo = os.path.join(carpeta, \"grafica_{}_{}_{}.png\".format(fracvol[i], radio[i], espesor[i]))\n",
    "    plt.savefig(nombre_archivo)\n",
    "    plt.close()"
   ]
  },
  {
   "cell_type": "code",
   "execution_count": 10,
   "metadata": {},
   "outputs": [],
   "source": [
    "longitud_de_onda = list(range(300, 900))"
   ]
  },
  {
   "cell_type": "code",
   "execution_count": 11,
   "metadata": {},
   "outputs": [
    {
     "data": {
      "text/plain": [
       "600"
      ]
     },
     "execution_count": 11,
     "metadata": {},
     "output_type": "execute_result"
    }
   ],
   "source": [
    "len(longitud_de_onda)"
   ]
  },
  {
   "cell_type": "markdown",
   "metadata": {},
   "source": [
    "Borrando carpetas si ya existen"
   ]
  },
  {
   "cell_type": "code",
   "execution_count": 12,
   "metadata": {},
   "outputs": [],
   "source": [
    "# Ruta del directorio\n",
    "dir_path = 'comparacion_de_datos'\n",
    "\n",
    "# Si el directorio ya existe, eliminarlo\n",
    "if os.path.exists(dir_path):\n",
    "    shutil.rmtree(dir_path)\n",
    "\n",
    "# Crear el directorio\n",
    "os.makedirs(dir_path)\n",
    "\n",
    "# Lista para almacenar los errores MSE\n",
    "errores_mse = []\n",
    "# Lista para almacenar la información de cada combinación\n",
    "info_combinaciones = [] "
   ]
  },
  {
   "cell_type": "markdown",
   "metadata": {},
   "source": [
    "Solo guarda las graficas con errores menores a 2.5611e-06, que fue el error medio cuando tomamos en cuenta todos los valores.\n",
    "Se está utilizando la regla del trapecio, se divide el area bajo la curva en una serie de trapecios y luego se suma para calcular el total. AUC = area bajo la curva, en un rango de 400 a 700 nm, nos dice cuánta absorción hay. También da el error porcentual del area y genera un archivo txt con la combinación de todos con su error porcentual. "
   ]
  },
  {
   "cell_type": "code",
   "execution_count": 13,
   "metadata": {},
   "outputs": [
    {
     "name": "stdout",
     "output_type": "stream",
     "text": [
      "19/19 [==============================] - 0s 759us/step\n"
     ]
    },
    {
     "name": "stdout",
     "output_type": "stream",
     "text": [
      "19/19 [==============================] - 0s 778us/step\n",
      "19/19 [==============================] - 0s 0s/step\n",
      "19/19 [==============================] - 0s 416us/step\n",
      "19/19 [==============================] - 0s 1ms/step\n",
      "19/19 [==============================] - 0s 48us/step\n",
      "19/19 [==============================] - 0s 766us/step\n",
      "19/19 [==============================] - 0s 807us/step\n",
      "19/19 [==============================] - 0s 0s/step\n",
      "19/19 [==============================] - 0s 933us/step\n",
      "19/19 [==============================] - 0s 680us/step\n",
      "19/19 [==============================] - 0s 0s/step\n",
      "19/19 [==============================] - 0s 575us/step\n",
      "19/19 [==============================] - 0s 552us/step\n",
      "19/19 [==============================] - 0s 547us/step\n",
      "19/19 [==============================] - 0s 873us/step\n",
      "19/19 [==============================] - 0s 557us/step\n",
      "19/19 [==============================] - 0s 530us/step\n",
      "19/19 [==============================] - 0s 614us/step\n",
      "19/19 [==============================] - 0s 529us/step\n",
      "19/19 [==============================] - 0s 595us/step\n",
      "19/19 [==============================] - 0s 580us/step\n",
      "19/19 [==============================] - 0s 359us/step\n",
      "19/19 [==============================] - 0s 0s/step\n",
      "19/19 [==============================] - 0s 882us/step\n",
      "19/19 [==============================] - 0s 0s/step\n",
      "19/19 [==============================] - 0s 869us/step\n",
      "19/19 [==============================] - 0s 0s/step\n",
      "19/19 [==============================] - 0s 1ms/step\n",
      "19/19 [==============================] - 0s 599us/step\n",
      "19/19 [==============================] - 0s 618us/step\n",
      "19/19 [==============================] - 0s 628us/step\n",
      "19/19 [==============================] - 0s 602us/step\n",
      "19/19 [==============================] - 0s 592us/step\n",
      "19/19 [==============================] - 0s 470us/step\n",
      "19/19 [==============================] - 0s 334us/step\n",
      "19/19 [==============================] - 0s 601us/step\n",
      "19/19 [==============================] - 0s 563us/step\n",
      "19/19 [==============================] - 0s 1ms/step\n",
      "19/19 [==============================] - 0s 603us/step\n",
      "19/19 [==============================] - 0s 612us/step\n",
      "19/19 [==============================] - 0s 553us/step\n",
      "19/19 [==============================] - 0s 554us/step\n",
      "19/19 [==============================] - 0s 0s/step\n",
      "19/19 [==============================] - 0s 644us/step\n",
      "19/19 [==============================] - 0s 548us/step\n",
      "19/19 [==============================] - 0s 632us/step\n",
      "19/19 [==============================] - 0s 556us/step\n",
      "19/19 [==============================] - 0s 587us/step\n",
      "19/19 [==============================] - 0s 558us/step\n",
      "19/19 [==============================] - 0s 563us/step\n",
      "19/19 [==============================] - 0s 560us/step\n",
      "19/19 [==============================] - 0s 0s/step\n",
      "19/19 [==============================] - 0s 546us/step\n",
      "19/19 [==============================] - 0s 0s/step\n",
      "19/19 [==============================] - 0s 0s/step\n",
      "19/19 [==============================] - 0s 890us/step\n",
      "19/19 [==============================] - 0s 868us/step\n",
      "19/19 [==============================] - 0s 0s/step\n",
      "19/19 [==============================] - 0s 0s/step\n",
      "19/19 [==============================] - 0s 587us/step\n",
      "19/19 [==============================] - 0s 334us/step\n",
      "19/19 [==============================] - 0s 576us/step\n",
      "19/19 [==============================] - 0s 792us/step\n",
      "19/19 [==============================] - 0s 592us/step\n",
      "19/19 [==============================] - 0s 548us/step\n",
      "19/19 [==============================] - 0s 576us/step\n",
      "19/19 [==============================] - 0s 570us/step\n",
      "19/19 [==============================] - 0s 659us/step\n",
      "19/19 [==============================] - 0s 549us/step\n",
      "19/19 [==============================] - 0s 560us/step\n",
      "19/19 [==============================] - 0s 571us/step\n",
      "19/19 [==============================] - 0s 560us/step\n",
      "19/19 [==============================] - 0s 502us/step\n",
      "19/19 [==============================] - 0s 502us/step\n",
      "19/19 [==============================] - 0s 556us/step\n",
      "19/19 [==============================] - 0s 531us/step\n"
     ]
    }
   ],
   "source": [
    "# Iteramos sobre todas las combinaciones posibles de fracvol, radio y espesor\n",
    "for f, r, e in zip(fracvol, radio, espesor):\n",
    "    \n",
    "    # Filtrar el dataframe `param` para obtener los datos reales asociados con esa combinación\n",
    "    subset = param[(param['Fracvol'] == f) & \n",
    "                   (param['Radio (nm)'] == r) & \n",
    "                   (param['Espesor de la película (nm)'] == e)]\n",
    "    \n",
    "    # Si hay menos de 600 datos o más de 600, saltamos a la siguiente iteración\n",
    "    if len(subset) != 600:\n",
    "        continue\n",
    "\n",
    "    # Extraer la 'Longitud de onda' y el 'Índice de absorción'\n",
    "    X_real = subset[['Longitud de onda', 'Fracvol', 'Radio (nm)', 'Espesor de la película (nm)']].values\n",
    "    y_real = subset['Índice de absorción'].values\n",
    "\n",
    "    # Hacer las predicciones con el modelo\n",
    "    y_pred = model.predict(scaler_X.transform(X_real))\n",
    "\n",
    "    # Calcular el MSE y agregarlo a la lista\n",
    "    mse = mean_squared_error(y_real, y_pred)\n",
    "    errores_mse.append(mse)\n",
    "    y_pred = y_pred.ravel()\n",
    "    longitud_de_onda = np.array(longitud_de_onda)\n",
    "    \n",
    "    # Calcular el AUC para el rango de 400 a 700 nm\n",
    "    mask = (X_real[:, 0] >= 400) & (X_real[:, 0] <= 700)\n",
    "    auc_real = np.trapz(y_real[mask], X_real[mask, 0])\n",
    "    auc_pred = np.trapz(y_pred[mask], X_real[mask, 0])\n",
    "\n",
    "    # Calcular el error porcentual de las áreas\n",
    "    error_porcentual_auc = abs((auc_real - auc_pred) / auc_real) * 100\n",
    "    \n",
    "    # Agregar la información de la combinación a la lista\n",
    "    info_combinaciones.append(f'Fracvol: {f}, Radio: {r} nm, Espesor: {e} nm, Error Porcentual AUC: {error_porcentual_auc:.2f}%\\n')\n",
    "    \n",
    "    # Guardar la figura en la carpeta \"comparacion_de_datos\" si el MSE es menor al límite\n",
    "    if mse <= 2.5547e-06:\n",
    "        # Graficar las curvas reales y predichas\n",
    "        plt.figure(figsize=(10, 6))\n",
    "        plt.plot(longitud_de_onda, y_real, label='Real', color='blue')\n",
    "        plt.plot(longitud_de_onda, y_pred, label='Predicción', color='red', linestyle='--')\n",
    "        plt.xlabel('Longitud de onda')\n",
    "        plt.ylabel('Índice de absorción')\n",
    "        plt.title(f'Real vs Predicha - Fracvol: {f}, Radio: {r} nm, Espesor: {e} nm. MSE: {mse:.4e},\\n AUC Real: {auc_real:.4e}, AUC Pred: {auc_pred:.4e}, Error AUC: {error_porcentual_auc:.2f}%')\n",
    "        plt.legend()\n",
    "        filename = f\"Comparacion_Fracvol_{f}_Radio_{r}nm_Espesor_{e}nm.png\"\n",
    "        plt.savefig(os.path.join(dir_path, filename))\n",
    "        plt.close()  # Cerrar la figura actual para no llenar la memoria\n",
    "\n",
    "# Calcular el promedio de todos los MSEs\n",
    "mse_promedio = sum(errores_mse) / len(errores_mse)\n",
    "\n",
    "# Crear o abrir el archivo txt y escribir la información\n",
    "with open(os.path.join(dir_path, 'info_mse_combinaciones.txt'), 'w') as file:\n",
    "    file.write(f'MSE Promedio: {mse_promedio:.4e}\\n\\n')\n",
    "    file.write('Información de combinaciones:\\n')\n",
    "    for info in info_combinaciones:\n",
    "        file.write(info)"
   ]
  }
 ],
 "metadata": {
  "kernelspec": {
   "display_name": "Python 3",
   "language": "python",
   "name": "python3"
  },
  "language_info": {
   "codemirror_mode": {
    "name": "ipython",
    "version": 3
   },
   "file_extension": ".py",
   "mimetype": "text/x-python",
   "name": "python",
   "nbconvert_exporter": "python",
   "pygments_lexer": "ipython3",
   "version": "3.10.11"
  }
 },
 "nbformat": 4,
 "nbformat_minor": 2
}
