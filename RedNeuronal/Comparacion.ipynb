{
 "cells": [
  {
   "cell_type": "code",
   "execution_count": 22,
   "metadata": {},
   "outputs": [],
   "source": [
    "import pandas as pd\n",
    "import os\n",
    "import glob\n",
    "import matplotlib.pyplot as plt\n",
    "import numpy as np\n",
    "import tensorflow as tf\n",
    "import math\n",
    "from sklearn.metrics import mean_squared_error, r2_score\n",
    "import pandas as pd\n",
    "from keras.models import Sequential\n",
    "from keras.layers import Dense\n",
    "from sklearn.preprocessing import MinMaxScaler\n",
    "from sklearn.model_selection import train_test_split\n",
    "from sklearn.neural_network import MLPClassifier\n",
    "from sklearn.preprocessing import MultiLabelBinarizer\n",
    "from sklearn.preprocessing import StandardScaler\n",
    "from sklearn.preprocessing import MaxAbsScaler\n",
    "import numpy as np\n",
    "from sklearn.metrics import mean_absolute_error, r2_score\n",
    "from scipy.stats import pearsonr\n",
    "from tensorflow.keras.models import load_model\n",
    "from joblib import load\n",
    "import joblib\n",
    "import shutil\n",
    "from collections import Counter"
   ]
  },
  {
   "cell_type": "markdown",
   "metadata": {},
   "source": [
    "# Con todos los valores que hay en param se grafican en comparación a las predicciones"
   ]
  },
  {
   "cell_type": "markdown",
   "metadata": {},
   "source": [
    "Una de graficas reales que grafica todo los datos que se tienen en graficas individuales, luego una que grafica graficas predichas, que predice con el modelo cargado al principio, la tercera compara las 2 pasadas"
   ]
  },
  {
   "cell_type": "markdown",
   "metadata": {},
   "source": [
    "Carga del modelo normalizado"
   ]
  },
  {
   "cell_type": "code",
   "execution_count": 23,
   "metadata": {},
   "outputs": [],
   "source": [
    "model = tf.keras.models.load_model('h5/EXPERIMENT.h5')"
   ]
  },
  {
   "cell_type": "markdown",
   "metadata": {},
   "source": [
    "# Haciendolo con varias gráficas a la vez"
   ]
  },
  {
   "cell_type": "markdown",
   "metadata": {},
   "source": [
    "Funcion que genera y guarda imagenes generadas"
   ]
  },
  {
   "cell_type": "code",
   "execution_count": 32,
   "metadata": {},
   "outputs": [],
   "source": [
    "files = [file for file in os.listdir('./parametros')]\n",
    "\n",
    "param = pd.DataFrame()\n",
    "for file in files:\n",
    "  df = pd.read_csv('./parametros/'+file)\n",
    "  param = pd.concat([param, df], axis= 0)"
   ]
  },
  {
   "cell_type": "markdown",
   "metadata": {},
   "source": [
    "Limpieza de datos"
   ]
  },
  {
   "cell_type": "code",
   "execution_count": 33,
   "metadata": {},
   "outputs": [],
   "source": [
    "combinaciones_unicas = param[['Fracvol', 'Radio (nm)', 'Espesor de la película (nm)']].drop_duplicates().reset_index(drop=True)\n",
    "combinaciones_filtradas = combinaciones_unicas[combinaciones_unicas['Fracvol'] <= 3].reset_index(drop=True)"
   ]
  },
  {
   "cell_type": "markdown",
   "metadata": {},
   "source": [
    "Creación de las listas que serán graficadas"
   ]
  },
  {
   "cell_type": "code",
   "execution_count": 34,
   "metadata": {},
   "outputs": [],
   "source": [
    "fracvol = combinaciones_filtradas['Fracvol'].tolist()\n",
    "radio = combinaciones_filtradas['Radio (nm)'].tolist()\n",
    "espesor = combinaciones_filtradas['Espesor de la película (nm)'].tolist()\n",
    "longitud_de_onda = list(range(301, 901))"
   ]
  },
  {
   "cell_type": "markdown",
   "metadata": {},
   "source": [
    "Borrando carpetas para que no se dupliquen"
   ]
  },
  {
   "cell_type": "code",
   "execution_count": 35,
   "metadata": {},
   "outputs": [],
   "source": [
    "# Ruta del directorio\n",
    "dir_path = 'graficas_reales'\n",
    "\n",
    "# Si el directorio ya existe, eliminarlo\n",
    "if os.path.exists(dir_path):\n",
    "    shutil.rmtree(dir_path)\n",
    "\n",
    "# Crear el directorio\n",
    "os.makedirs(dir_path)"
   ]
  },
  {
   "cell_type": "markdown",
   "metadata": {},
   "source": [
    "Creación gráficas reales"
   ]
  },
  {
   "cell_type": "code",
   "execution_count": 36,
   "metadata": {},
   "outputs": [],
   "source": [
    "# Asegurarse de que la carpeta graficas_reales exista\n",
    "if not os.path.exists('graficas_reales'):\n",
    "    os.makedirs('graficas_reales')\n",
    "\n",
    "# Iterar sobre las combinaciones únicas y filtradas\n",
    "for f, r, e in zip(fracvol, radio, espesor):\n",
    "    # Filtrar el dataframe params para obtener datos que coincidan con la combinación actual\n",
    "    subset = param[(param['Fracvol'] == f) & \n",
    "                    (param['Radio (nm)'] == r) & \n",
    "                    (param['Espesor de la película (nm)'] == e)]\n",
    "    \n",
    "    # Si hay menos de 600 datos para esta combinación, saltar a la siguiente iteración\n",
    "    if len(subset) < 600:\n",
    "        continue\n",
    "\n",
    "    # Crear la gráfica de dispersión para esta combinación\n",
    "    plt.figure(figsize=(10, 6))\n",
    "    plt.plot(subset['Longitud de onda'], subset['Índice de absorción'], color='blue')\n",
    "    plt.xlabel('Longitud de onda')\n",
    "    plt.ylabel('Índice de absorción')\n",
    "    titulo = 'fracción volumen: {:.2f}, radio: {:.2f}, espesor: {:.2f}'.format(f, r, e)\n",
    "    plt.title(titulo)\n",
    "    plt.grid(True)\n",
    "    filename = 'graficas_reales/grafica_{:.2f}_{:.2f}_{:.2f}.png'.format(f, r, e)\n",
    "    plt.savefig(filename)\n",
    "    plt.close()\n",
    "\n",
    "\n"
   ]
  },
  {
   "cell_type": "markdown",
   "metadata": {},
   "source": [
    "Revisa la existencia de la carpeta de gráficas predichas, si existe borra el contenido, si no solo la crea"
   ]
  },
  {
   "cell_type": "code",
   "execution_count": 37,
   "metadata": {},
   "outputs": [],
   "source": [
    "# Ruta del directorio\n",
    "dir_path = 'graficas_predichas'\n",
    "\n",
    "# Si el directorio ya existe, eliminarlo\n",
    "if os.path.exists(dir_path):\n",
    "    shutil.rmtree(dir_path)\n",
    "\n",
    "# Crear el directorio\n",
    "os.makedirs(dir_path)"
   ]
  },
  {
   "cell_type": "markdown",
   "metadata": {},
   "source": [
    "Predice todos los valores"
   ]
  },
  {
   "cell_type": "code",
   "execution_count": 38,
   "metadata": {},
   "outputs": [
    {
     "name": "stdout",
     "output_type": "stream",
     "text": [
      " 1/19 [>.............................] - ETA: 0s"
     ]
    },
    {
     "name": "stdout",
     "output_type": "stream",
     "text": [
      "19/19 [==============================] - 0s 1ms/step\n",
      "19/19 [==============================] - 0s 590us/step\n",
      "19/19 [==============================] - 0s 631us/step\n",
      "19/19 [==============================] - 0s 572us/step\n",
      "19/19 [==============================] - 0s 585us/step\n",
      "19/19 [==============================] - 0s 767us/step\n",
      "19/19 [==============================] - 0s 568us/step\n",
      "19/19 [==============================] - 0s 507us/step\n",
      "19/19 [==============================] - 0s 563us/step\n",
      "19/19 [==============================] - 0s 575us/step\n",
      "19/19 [==============================] - 0s 611us/step\n",
      "19/19 [==============================] - 0s 533us/step\n",
      "19/19 [==============================] - 0s 684us/step\n",
      "19/19 [==============================] - 0s 582us/step\n",
      "19/19 [==============================] - 0s 581us/step\n",
      "19/19 [==============================] - 0s 618us/step\n",
      "19/19 [==============================] - 0s 617us/step\n",
      "19/19 [==============================] - 0s 611us/step\n",
      "19/19 [==============================] - 0s 581us/step\n",
      "19/19 [==============================] - 0s 611us/step\n",
      "19/19 [==============================] - 0s 676us/step\n",
      "19/19 [==============================] - 0s 640us/step\n",
      "19/19 [==============================] - 0s 777us/step\n",
      "19/19 [==============================] - 0s 696us/step\n",
      "19/19 [==============================] - 0s 574us/step\n",
      "19/19 [==============================] - 0s 620us/step\n",
      "19/19 [==============================] - 0s 645us/step\n",
      "19/19 [==============================] - 0s 561us/step\n",
      "19/19 [==============================] - 0s 568us/step\n",
      "19/19 [==============================] - 0s 572us/step\n",
      "19/19 [==============================] - 0s 624us/step\n",
      "19/19 [==============================] - 0s 623us/step\n",
      "19/19 [==============================] - 0s 633us/step\n",
      "19/19 [==============================] - 0s 704us/step\n",
      "19/19 [==============================] - 0s 568us/step\n",
      "19/19 [==============================] - 0s 631us/step\n",
      "19/19 [==============================] - 0s 647us/step\n",
      "19/19 [==============================] - 0s 569us/step\n",
      "19/19 [==============================] - 0s 702us/step\n",
      "19/19 [==============================] - 0s 565us/step\n",
      "19/19 [==============================] - 0s 556us/step\n",
      "19/19 [==============================] - 0s 618us/step\n",
      "19/19 [==============================] - 0s 570us/step\n",
      "19/19 [==============================] - 0s 624us/step\n",
      "19/19 [==============================] - 0s 562us/step\n",
      "19/19 [==============================] - 0s 667us/step\n",
      "19/19 [==============================] - 0s 611us/step\n",
      "19/19 [==============================] - 0s 572us/step\n",
      "19/19 [==============================] - 0s 584us/step\n",
      "19/19 [==============================] - 0s 627us/step\n",
      "19/19 [==============================] - 0s 525us/step\n",
      "19/19 [==============================] - 0s 631us/step\n",
      "19/19 [==============================] - 0s 577us/step\n",
      "19/19 [==============================] - 0s 636us/step\n",
      "19/19 [==============================] - 0s 556us/step\n",
      "19/19 [==============================] - 0s 613us/step\n",
      "19/19 [==============================] - 0s 629us/step\n",
      "19/19 [==============================] - 0s 586us/step\n",
      "19/19 [==============================] - 0s 585us/step\n",
      "19/19 [==============================] - 0s 560us/step\n",
      "19/19 [==============================] - 0s 556us/step\n",
      "19/19 [==============================] - 0s 556us/step\n",
      "19/19 [==============================] - 0s 563us/step\n",
      "19/19 [==============================] - 0s 611us/step\n",
      "19/19 [==============================] - 0s 612us/step\n",
      "19/19 [==============================] - 0s 576us/step\n",
      "19/19 [==============================] - 0s 507us/step\n",
      "19/19 [==============================] - 0s 619us/step\n",
      "19/19 [==============================] - 0s 582us/step\n",
      "19/19 [==============================] - 0s 562us/step\n",
      "19/19 [==============================] - 0s 562us/step\n",
      "19/19 [==============================] - 0s 560us/step\n",
      "19/19 [==============================] - 0s 618us/step\n",
      "19/19 [==============================] - 0s 562us/step\n",
      "19/19 [==============================] - 0s 565us/step\n",
      "19/19 [==============================] - 0s 521us/step\n",
      "19/19 [==============================] - 0s 560us/step\n",
      "19/19 [==============================] - 0s 624us/step\n",
      "19/19 [==============================] - 0s 558us/step\n",
      "19/19 [==============================] - 0s 611us/step\n",
      "19/19 [==============================] - 0s 513us/step\n",
      "19/19 [==============================] - 0s 588us/step\n",
      "19/19 [==============================] - 0s 537us/step\n"
     ]
    }
   ],
   "source": [
    "# Asegurar que la carpeta existe o crearla\n",
    "carpeta = \"graficas_predichas\"\n",
    "if not os.path.exists(carpeta):\n",
    "    os.mkdir(carpeta)\n",
    "\n",
    "# Asumiendo que todos los arrays (fracvol, radio, espesor) tienen la misma longitud:\n",
    "num_elementos = len(fracvol)\n",
    "\n",
    "scaler_X = load('minmax_scaler_X.pkl')\n",
    "\n",
    "for i in range(num_elementos):\n",
    "    data = {\n",
    "        \"Longitud de onda\": longitud_de_onda,\n",
    "        \"Fracvol\": [fracvol[i]] * len(longitud_de_onda),\n",
    "        \"Radio (nm)\": [radio[i]] * len(longitud_de_onda),\n",
    "        \"Espesor de la película (nm)\": [espesor[i]] * len(longitud_de_onda)\n",
    "    }\n",
    "    \n",
    "    df = pd.DataFrame(data)\n",
    "    x = df.values\n",
    "    x_norm = scaler_X.transform(x)\n",
    "    predictions = model.predict(x_norm)\n",
    "\n",
    "    df[\"Índice de absorción\"] = predictions\n",
    "\n",
    "    columnas_seleccionadas = ['Longitud de onda', 'Índice de absorción']\n",
    "    df_seleccionado = df[columnas_seleccionadas]\n",
    "    titulo = 'fracción volumen: {:.2f}, radio: {:.2f}, espesor: {:.2f}'.format(fracvol[i], radio[i], espesor[i])\n",
    "\n",
    "    # Crear la gráfica de dispersión\n",
    "    plt.figure(figsize=(10, 6))\n",
    "    plt.plot(df_seleccionado['Longitud de onda'], df_seleccionado['Índice de absorción'], color='blue')\n",
    "    plt.xlabel('Longitud de onda')\n",
    "    plt.ylabel('Índice de absorción')\n",
    "    plt.title(titulo)\n",
    "    plt.grid(True)\n",
    "    \n",
    "    # Guardar la gráfica como imagen en la carpeta especificada\n",
    "    nombre_archivo = os.path.join(carpeta, \"grafica_{}_{}_{}.png\".format(fracvol[i], radio[i], espesor[i]))\n",
    "    plt.savefig(nombre_archivo)\n",
    "    plt.close()"
   ]
  },
  {
   "cell_type": "code",
   "execution_count": 39,
   "metadata": {},
   "outputs": [],
   "source": [
    "longitud_de_onda = list(range(300, 900))"
   ]
  },
  {
   "cell_type": "code",
   "execution_count": 40,
   "metadata": {},
   "outputs": [
    {
     "data": {
      "text/plain": [
       "600"
      ]
     },
     "execution_count": 40,
     "metadata": {},
     "output_type": "execute_result"
    }
   ],
   "source": [
    "len(longitud_de_onda)"
   ]
  },
  {
   "cell_type": "markdown",
   "metadata": {},
   "source": [
    "Borrando carpetas si ya existen"
   ]
  },
  {
   "cell_type": "code",
   "execution_count": 41,
   "metadata": {},
   "outputs": [],
   "source": [
    "# Ruta del directorio\n",
    "dir_path = 'comparacion_de_datos'\n",
    "\n",
    "# Si el directorio ya existe, eliminarlo\n",
    "if os.path.exists(dir_path):\n",
    "    shutil.rmtree(dir_path)\n",
    "\n",
    "# Crear el directorio\n",
    "os.makedirs(dir_path)\n",
    "\n",
    "# Lista para almacenar los errores MSE\n",
    "errores_mse = []"
   ]
  },
  {
   "cell_type": "markdown",
   "metadata": {},
   "source": [
    "Solo guarda las graficas con errores menores a 2.5611e-06, que fue el error medio cuando tomamos en cuenta todos los valores.\n",
    "Se está utilizando la regla del trapecio, se divide el area bajo la curva en una serie de trapecios y luego se suma para calcular el total. AUC = area bajo la curva, en un rango de 400 a 700 nm, nos dice cuánta absorción hay"
   ]
  },
  {
   "cell_type": "code",
   "execution_count": 42,
   "metadata": {},
   "outputs": [
    {
     "name": "stdout",
     "output_type": "stream",
     "text": [
      " 1/19 [>.............................] - ETA: 0s"
     ]
    },
    {
     "name": "stdout",
     "output_type": "stream",
     "text": [
      "19/19 [==============================] - 0s 708us/step\n",
      "19/19 [==============================] - 0s 644us/step\n",
      "19/19 [==============================] - 0s 568us/step\n",
      "19/19 [==============================] - 0s 556us/step\n",
      "19/19 [==============================] - 0s 639us/step\n",
      "19/19 [==============================] - 0s 622us/step\n",
      "19/19 [==============================] - 0s 580us/step\n",
      "19/19 [==============================] - 0s 682us/step\n",
      "19/19 [==============================] - 0s 616us/step\n",
      "19/19 [==============================] - 0s 596us/step\n",
      "19/19 [==============================] - 0s 621us/step\n",
      "19/19 [==============================] - 0s 585us/step\n",
      "19/19 [==============================] - 0s 548us/step\n",
      "19/19 [==============================] - 0s 560us/step\n",
      "19/19 [==============================] - 0s 544us/step\n",
      "19/19 [==============================] - 0s 580us/step\n",
      "19/19 [==============================] - 0s 562us/step\n",
      "19/19 [==============================] - 0s 575us/step\n",
      "19/19 [==============================] - 0s 567us/step\n",
      "19/19 [==============================] - 0s 569us/step\n",
      "19/19 [==============================] - 0s 573us/step\n",
      "19/19 [==============================] - 0s 574us/step\n",
      "19/19 [==============================] - 0s 627us/step\n",
      "19/19 [==============================] - 0s 611us/step\n",
      "19/19 [==============================] - 0s 623us/step\n",
      "19/19 [==============================] - 0s 567us/step\n",
      "19/19 [==============================] - 0s 556us/step\n",
      "19/19 [==============================] - 0s 729us/step\n",
      "19/19 [==============================] - 0s 560us/step\n",
      "19/19 [==============================] - 0s 680us/step\n",
      "19/19 [==============================] - 0s 617us/step\n",
      "19/19 [==============================] - 0s 569us/step\n",
      "19/19 [==============================] - 0s 571us/step\n",
      "19/19 [==============================] - 0s 515us/step\n",
      "19/19 [==============================] - 0s 568us/step\n",
      "19/19 [==============================] - 0s 560us/step\n",
      "19/19 [==============================] - 0s 558us/step\n",
      "19/19 [==============================] - 0s 683us/step\n",
      "19/19 [==============================] - 0s 576us/step\n",
      "19/19 [==============================] - 0s 611us/step\n",
      "19/19 [==============================] - 0s 501us/step\n",
      "19/19 [==============================] - 0s 617us/step\n",
      "19/19 [==============================] - 0s 611us/step\n",
      "19/19 [==============================] - 0s 556us/step\n",
      "19/19 [==============================] - 0s 613us/step\n",
      "19/19 [==============================] - 0s 616us/step\n",
      "19/19 [==============================] - 0s 667us/step\n",
      "19/19 [==============================] - 0s 556us/step\n",
      "19/19 [==============================] - 0s 584us/step\n",
      "19/19 [==============================] - 0s 613us/step\n",
      "19/19 [==============================] - 0s 557us/step\n",
      "19/19 [==============================] - 0s 611us/step\n",
      "19/19 [==============================] - 0s 617us/step\n",
      "19/19 [==============================] - 0s 612us/step\n",
      "19/19 [==============================] - 0s 724us/step\n",
      "19/19 [==============================] - 0s 618us/step\n",
      "19/19 [==============================] - 0s 556us/step\n",
      "19/19 [==============================] - 0s 623us/step\n",
      "19/19 [==============================] - 0s 611us/step\n",
      "19/19 [==============================] - 0s 655us/step\n",
      "19/19 [==============================] - 0s 556us/step\n",
      "19/19 [==============================] - 0s 616us/step\n",
      "19/19 [==============================] - 0s 611us/step\n",
      "19/19 [==============================] - 0s 584us/step\n",
      "19/19 [==============================] - 0s 612us/step\n",
      "19/19 [==============================] - 0s 556us/step\n",
      "19/19 [==============================] - 0s 611us/step\n",
      "19/19 [==============================] - 0s 559us/step\n",
      "19/19 [==============================] - 0s 611us/step\n",
      "19/19 [==============================] - 0s 556us/step\n",
      "19/19 [==============================] - 0s 611us/step\n",
      "19/19 [==============================] - 0s 611us/step\n",
      "19/19 [==============================] - 0s 556us/step\n",
      "19/19 [==============================] - 0s 570us/step\n",
      "19/19 [==============================] - 0s 619us/step\n",
      "19/19 [==============================] - 0s 612us/step\n",
      "19/19 [==============================] - 0s 611us/step\n",
      "19/19 [==============================] - 0s 614us/step\n",
      "19/19 [==============================] - 0s 612us/step\n",
      "19/19 [==============================] - 0s 634us/step\n",
      "19/19 [==============================] - 0s 611us/step\n",
      "El MSE promedio es: 2.5611e-06\n"
     ]
    }
   ],
   "source": [
    "# Iteramos sobre todas las combinaciones posibles de fracvol, radio y espesor\n",
    "for f, r, e in zip(fracvol, radio, espesor):\n",
    "    \n",
    "    # Filtrar el dataframe `param` para obtener los datos reales asociados con esa combinación\n",
    "    subset = param[(param['Fracvol'] == f) & \n",
    "                   (param['Radio (nm)'] == r) & \n",
    "                   (param['Espesor de la película (nm)'] == e)]\n",
    "    \n",
    "    # Si hay menos de 600 datos o más de 600, saltamos a la siguiente iteración\n",
    "    if len(subset) != 600:\n",
    "        continue\n",
    "\n",
    "    # Extraer la 'Longitud de onda' y el 'Índice de absorción'\n",
    "    X_real = subset[['Longitud de onda', 'Fracvol', 'Radio (nm)', 'Espesor de la película (nm)']].values\n",
    "    y_real = subset['Índice de absorción'].values\n",
    "\n",
    "    # Hacer las predicciones con el modelo\n",
    "    y_pred = model.predict(scaler_X.transform(X_real))\n",
    "\n",
    "    # Calcular el MSE y agregarlo a la lista\n",
    "    mse = mean_squared_error(y_real, y_pred)\n",
    "    errores_mse.append(mse)\n",
    "    y_pred = y_pred.ravel()\n",
    "    longitud_de_onda = np.array(longitud_de_onda)\n",
    "    \n",
    "    # Calcular el AUC para el rango de 400 a 700 nm\n",
    "    mask = (X_real[:, 0] >= 400) & (X_real[:, 0] <= 700)\n",
    "    auc_real = np.trapz(y_real[mask], X_real[mask, 0])\n",
    "    auc_pred = np.trapz(y_pred[mask], X_real[mask, 0])\n",
    "\n",
    "    # Guardar la figura en la carpeta \"comparacion_de_datos\" si el MSE es menor al límite\n",
    "    if mse <= 2.5547e-06:\n",
    "        # Graficar las curvas reales y predichas\n",
    "        plt.figure(figsize=(10, 6))\n",
    "        plt.plot(longitud_de_onda, y_real, label='Real', color='blue')\n",
    "        plt.plot(longitud_de_onda, y_pred, label='Predicción', color='red', linestyle='--')\n",
    "        plt.xlabel('Longitud de onda')\n",
    "        plt.ylabel('Índice de absorción')\n",
    "        plt.title(f'Real vs Predicha - Fracvol: {f}, Radio: {r} nm, Espesor: {e} nm. MSE: {mse:.4e},\\n AUC Real: {auc_real:.4e}, AUC Pred: {auc_pred:.4e}')\n",
    "        plt.legend()\n",
    "        filename = f\"Comparacion_Fracvol_{f}_Radio_{r}nm_Espesor_{e}nm.png\"\n",
    "        plt.savefig(os.path.join(dir_path, filename))\n",
    "        plt.close()  # Cerrar la figura actual para no llenar la memoria\n",
    "\n",
    "# Calcular el promedio de todos los MSEs\n",
    "mse_promedio = sum(errores_mse) / len(errores_mse)\n",
    "print(f\"El MSE promedio es: {mse_promedio:.4e}\")"
   ]
  }
 ],
 "metadata": {
  "kernelspec": {
   "display_name": "Python 3",
   "language": "python",
   "name": "python3"
  },
  "language_info": {
   "codemirror_mode": {
    "name": "ipython",
    "version": 3
   },
   "file_extension": ".py",
   "mimetype": "text/x-python",
   "name": "python",
   "nbconvert_exporter": "python",
   "pygments_lexer": "ipython3",
   "version": "3.10.11"
  }
 },
 "nbformat": 4,
 "nbformat_minor": 2
}
