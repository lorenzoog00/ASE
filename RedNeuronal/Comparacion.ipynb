{
 "cells": [
  {
   "cell_type": "code",
   "execution_count": 90,
   "metadata": {},
   "outputs": [],
   "source": [
    "import pandas as pd\n",
    "import os\n",
    "import glob\n",
    "import matplotlib.pyplot as plt\n",
    "import numpy as np\n",
    "import tensorflow as tf\n",
    "import math\n",
    "from sklearn.metrics import mean_squared_error, r2_score\n",
    "import pandas as pd\n",
    "from keras.models import Sequential\n",
    "from keras.layers import Dense\n",
    "from sklearn.preprocessing import MinMaxScaler\n",
    "from sklearn.model_selection import train_test_split\n",
    "from sklearn.neural_network import MLPClassifier\n",
    "from sklearn.preprocessing import MultiLabelBinarizer\n",
    "from sklearn.preprocessing import StandardScaler\n",
    "from sklearn.preprocessing import MaxAbsScaler\n",
    "import numpy as np\n",
    "from sklearn.metrics import mean_absolute_error, r2_score\n",
    "from scipy.stats import pearsonr\n",
    "from tensorflow.keras.models import load_model\n",
    "from joblib import load\n",
    "import joblib\n",
    "import shutil\n",
    "from collections import Counter"
   ]
  },
  {
   "cell_type": "markdown",
   "metadata": {},
   "source": [
    "# Con todos los valores que hay en param se grafican en comparación a las predicciones"
   ]
  },
  {
   "cell_type": "markdown",
   "metadata": {},
   "source": [
    "Una de graficas reales que grafica todo los datos que se tienen en graficas individuales, luego una que grafica graficas predichas, que predice con el modelo cargado al principio, la tercera compara las 2 pasadas"
   ]
  },
  {
   "cell_type": "markdown",
   "metadata": {},
   "source": [
    "Carga del modelo normalizado"
   ]
  },
  {
   "cell_type": "code",
   "execution_count": 91,
   "metadata": {},
   "outputs": [],
   "source": [
    "model = tf.keras.models.load_model('h5/NUEVO2.h5')"
   ]
  },
  {
   "cell_type": "markdown",
   "metadata": {},
   "source": [
    "# Haciendolo con varias gráficas a la vez"
   ]
  },
  {
   "cell_type": "markdown",
   "metadata": {},
   "source": [
    "Funcion que genera y guarda imagenes generadas"
   ]
  },
  {
   "cell_type": "code",
   "execution_count": 92,
   "metadata": {},
   "outputs": [],
   "source": [
    "files = [file for file in os.listdir('./parametros')]\n",
    "\n",
    "param = pd.DataFrame()\n",
    "for file in files:\n",
    "  df = pd.read_csv('./parametros/'+file)\n",
    "  param = pd.concat([param, df], axis= 0)"
   ]
  },
  {
   "cell_type": "markdown",
   "metadata": {},
   "source": [
    "Limpieza de datos"
   ]
  },
  {
   "cell_type": "code",
   "execution_count": 93,
   "metadata": {},
   "outputs": [],
   "source": [
    "combinaciones_unicas = param[['Fracvol', 'Radio (nm)', 'Espesor de la película (nm)']].drop_duplicates().reset_index(drop=True)\n",
    "combinaciones_filtradas = combinaciones_unicas[combinaciones_unicas['Fracvol'] <= 3].reset_index(drop=True)"
   ]
  },
  {
   "cell_type": "markdown",
   "metadata": {},
   "source": [
    "Creación de las listas que serán graficadas"
   ]
  },
  {
   "cell_type": "code",
   "execution_count": 94,
   "metadata": {},
   "outputs": [],
   "source": [
    "fracvol = combinaciones_filtradas['Fracvol'].tolist()\n",
    "radio = combinaciones_filtradas['Radio (nm)'].tolist()\n",
    "espesor = combinaciones_filtradas['Espesor de la película (nm)'].tolist()\n",
    "longitud_de_onda = list(range(301, 901))"
   ]
  },
  {
   "cell_type": "markdown",
   "metadata": {},
   "source": [
    "Borrando carpetas para que no se dupliquen"
   ]
  },
  {
   "cell_type": "code",
   "execution_count": 95,
   "metadata": {},
   "outputs": [],
   "source": [
    "# Ruta del directorio\n",
    "dir_path = 'graficas_reales'\n",
    "\n",
    "# Si el directorio ya existe, eliminarlo\n",
    "if os.path.exists(dir_path):\n",
    "    shutil.rmtree(dir_path)\n",
    "\n",
    "# Crear el directorio\n",
    "os.makedirs(dir_path)"
   ]
  },
  {
   "cell_type": "markdown",
   "metadata": {},
   "source": [
    "Creación gráficas reales"
   ]
  },
  {
   "cell_type": "code",
   "execution_count": 96,
   "metadata": {},
   "outputs": [],
   "source": [
    "# Asegurarse de que la carpeta graficas_reales exista\n",
    "if not os.path.exists('graficas_reales'):\n",
    "    os.makedirs('graficas_reales')\n",
    "\n",
    "# Variables para almacenar los datos de AUC y las combinaciones correspondientes\n",
    "auc_data = []\n",
    "combinaciones = []\n",
    "\n",
    "# Filtrar el dataframe para solo trabajar con fracvol = 1\n",
    "param = param[param['Fracvol'] == 1]\n",
    "\n",
    "# Obtener las combinaciones únicas y filtradas\n",
    "combinaciones_unicas = param[['Radio (nm)', 'Espesor de la película (nm)']].drop_duplicates().values\n",
    "\n",
    "# Iterar sobre las combinaciones únicas y filtradas\n",
    "for r, e in combinaciones_unicas:\n",
    "    # Filtrar el dataframe params para obtener datos que coincidan con la combinación actual\n",
    "    subset = param[(param['Radio (nm)'] == r) & \n",
    "                   (param['Espesor de la película (nm)'] == e)]\n",
    "    \n",
    "    # Si hay menos de 600 datos para esta combinación, saltar a la siguiente iteración\n",
    "    if len(subset) < 600:\n",
    "        continue\n",
    "\n",
    "    # Calcular el AUC para el rango de 400 a 700 nm\n",
    "    mask = (subset['Longitud de onda'] >= 400) & (subset['Longitud de onda'] <= 700)\n",
    "    auc_value = np.trapz(subset['Índice de absorción'][mask], subset['Longitud de onda'][mask])\n",
    "\n",
    "    # Agregar el valor de AUC y la combinación a las listas correspondientes\n",
    "    auc_data.append(auc_value)\n",
    "    combinaciones.append((r, e))\n",
    "\n",
    "# Convertir los datos a un DataFrame de pandas para facilidad de manejo\n",
    "df_auc = pd.DataFrame({'AUC': auc_data, 'Combinación': combinaciones})\n",
    "\n",
    "# Calcular estadísticas descriptivas\n",
    "mean_auc = df_auc['AUC'].mean()\n",
    "std_auc = df_auc['AUC'].std()\n",
    "\n",
    "# Definir las categorías de absorción\n",
    "bins = pd.cut(df_auc['AUC'], bins=[0, mean_auc - std_auc, mean_auc + std_auc, float('inf')],\n",
    "              labels=['Poca absorción', 'Mediana absorción', 'Mucha absorción'])\n",
    "\n",
    "# Asignar las categorías al DataFrame\n",
    "df_auc['Categoría'] = bins\n",
    "\n",
    "# Iterar de nuevo para graficar con los títulos actualizados\n",
    "for idx, (r, e) in enumerate(df_auc['Combinación']):\n",
    "    # Filtrar el dataframe params para obtener datos que coincidan con la combinación actual\n",
    "    subset = param[(param['Radio (nm)'] == r) &\n",
    "                   (param['Espesor de la película (nm)'] == e)]\n",
    "    \n",
    "    # Crear la gráfica de dispersión para esta combinación\n",
    "    plt.figure(figsize=(10, 6))\n",
    "    plt.plot(subset['Longitud de onda'], subset['Índice de absorción'], color='blue')\n",
    "    plt.xlabel('Longitud de onda')\n",
    "    plt.ylabel('Índice de absorción')\n",
    "    titulo = f'Fracción volumen: 1.00, Radio: {r:.2f}, Espesor: {e:.2f}, AUC (400-700 nm): {df_auc[\"AUC\"][idx]:.2f}, Categoría: {df_auc[\"Categoría\"][idx]}'\n",
    "    plt.title(titulo)\n",
    "    plt.grid(True)\n",
    "    filename = f'graficas_reales/grafica_1.00_{r:.2f}_{e:.2f}.png'\n",
    "    plt.savefig(filename)\n",
    "    plt.close()\n",
    "\n",
    "# Escribir los resultados en un archivo de texto dentro de la carpeta 'graficas_reales'\n",
    "\n",
    "# Escribir los resultados en un archivo de texto dentro de la carpeta 'graficas_reales'\n",
    "with open(os.path.join('graficas_reales', 'info_auc_reales.txt'), 'w') as file:\n",
    "    file.write(f'Máximo AUC: {df_auc[\"AUC\"].max()}, Combinación: (Fracvol: 1, Radio: {df_auc[\"Combinación\"][df_auc[\"AUC\"].idxmax()][0]}, Espesor: {df_auc[\"Combinación\"][df_auc[\"AUC\"].idxmax()][1]})\\n')\n",
    "    file.write(f'Mínimo AUC: {df_auc[\"AUC\"].min()}, Combinación: (Fracvol: 1, Radio: {df_auc[\"Combinación\"][df_auc[\"AUC\"].idxmin()][0]}, Espesor: {df_auc[\"Combinación\"][df_auc[\"AUC\"].idxmin()][1]})\\n')\n",
    "    file.write(f'Media AUC: {mean_auc}\\n')\n",
    "    file.write(f'Desviación Estándar AUC: {std_auc}\\n')\n",
    "    file.write(f'Mediana AUC: {df_auc[\"AUC\"].median()}\\n')"
   ]
  },
  {
   "cell_type": "markdown",
   "metadata": {},
   "source": [
    "Revisa la existencia de la carpeta de gráficas predichas, si existe borra el contenido, si no solo la crea"
   ]
  },
  {
   "cell_type": "code",
   "execution_count": 97,
   "metadata": {},
   "outputs": [],
   "source": [
    "# Ruta del directorio\n",
    "dir_path = 'graficas_predichas'\n",
    "\n",
    "# Si el directorio ya existe, eliminarlo\n",
    "if os.path.exists(dir_path):\n",
    "    shutil.rmtree(dir_path)\n",
    "\n",
    "# Crear el directorio\n",
    "os.makedirs(dir_path)"
   ]
  },
  {
   "cell_type": "markdown",
   "metadata": {},
   "source": [
    "Predice todos los valores"
   ]
  },
  {
   "cell_type": "code",
   "execution_count": 98,
   "metadata": {},
   "outputs": [
    {
     "name": "stdout",
     "output_type": "stream",
     "text": [
      "19/19 [==============================] - 0s 623us/step\n",
      "19/19 [==============================] - 0s 560us/step\n",
      "19/19 [==============================] - 0s 569us/step\n",
      "19/19 [==============================] - 0s 599us/step\n",
      "19/19 [==============================] - 0s 621us/step\n",
      "19/19 [==============================] - 0s 570us/step\n",
      "19/19 [==============================] - 0s 556us/step\n",
      "19/19 [==============================] - 0s 585us/step\n",
      "19/19 [==============================] - 0s 573us/step\n",
      "19/19 [==============================] - 0s 615us/step\n",
      "19/19 [==============================] - 0s 527us/step\n",
      "19/19 [==============================] - 0s 564us/step\n",
      "19/19 [==============================] - 0s 572us/step\n",
      "19/19 [==============================] - 0s 597us/step\n",
      "19/19 [==============================] - 0s 573us/step\n",
      "19/19 [==============================] - 0s 595us/step\n",
      "19/19 [==============================] - 0s 556us/step\n",
      "19/19 [==============================] - 0s 527us/step\n",
      "19/19 [==============================] - 0s 511us/step\n",
      "19/19 [==============================] - 0s 556us/step\n",
      "19/19 [==============================] - 0s 588us/step\n",
      "19/19 [==============================] - 0s 517us/step\n",
      "19/19 [==============================] - 0s 571us/step\n",
      "19/19 [==============================] - 0s 521us/step\n",
      "19/19 [==============================] - 0s 560us/step\n",
      "19/19 [==============================] - 0s 525us/step\n",
      "19/19 [==============================] - 0s 507us/step\n",
      "19/19 [==============================] - 0s 562us/step\n",
      "19/19 [==============================] - 0s 560us/step\n",
      "19/19 [==============================] - 0s 505us/step\n",
      "19/19 [==============================] - 0s 515us/step\n",
      "19/19 [==============================] - 0s 505us/step\n",
      "19/19 [==============================] - 0s 626us/step\n",
      "19/19 [==============================] - 0s 560us/step\n",
      "19/19 [==============================] - 0s 586us/step\n",
      "19/19 [==============================] - 0s 522us/step\n",
      "19/19 [==============================] - 0s 587us/step\n",
      "19/19 [==============================] - 0s 613us/step\n",
      "19/19 [==============================] - 0s 507us/step\n",
      "19/19 [==============================] - 0s 556us/step\n",
      "19/19 [==============================] - 0s 570us/step\n",
      "19/19 [==============================] - 0s 504us/step\n",
      "19/19 [==============================] - 0s 532us/step\n",
      "19/19 [==============================] - 0s 561us/step\n",
      "19/19 [==============================] - 0s 526us/step\n",
      "19/19 [==============================] - 0s 519us/step\n",
      "19/19 [==============================] - 0s 576us/step\n",
      "19/19 [==============================] - 0s 560us/step\n",
      "19/19 [==============================] - 0s 500us/step\n",
      "19/19 [==============================] - 0s 504us/step\n",
      "19/19 [==============================] - 0s 523us/step\n",
      "19/19 [==============================] - 0s 517us/step\n",
      "19/19 [==============================] - 0s 561us/step\n",
      "19/19 [==============================] - 0s 526us/step\n",
      "19/19 [==============================] - 0s 557us/step\n",
      "19/19 [==============================] - 0s 613us/step\n",
      "19/19 [==============================] - 0s 515us/step\n",
      "19/19 [==============================] - 0s 561us/step\n",
      "19/19 [==============================] - 0s 571us/step\n",
      "19/19 [==============================] - 0s 667us/step\n",
      "19/19 [==============================] - 0s 554us/step\n",
      "19/19 [==============================] - 0s 644us/step\n",
      "19/19 [==============================] - 0s 621us/step\n",
      "19/19 [==============================] - 0s 558us/step\n",
      "19/19 [==============================] - 0s 500us/step\n",
      "19/19 [==============================] - 0s 567us/step\n",
      "19/19 [==============================] - 0s 560us/step\n",
      "19/19 [==============================] - 0s 566us/step\n",
      "19/19 [==============================] - 0s 506us/step\n",
      "19/19 [==============================] - 0s 533us/step\n",
      "19/19 [==============================] - 0s 531us/step\n",
      "19/19 [==============================] - 0s 556us/step\n",
      "19/19 [==============================] - 0s 500us/step\n",
      "19/19 [==============================] - 0s 504us/step\n",
      "19/19 [==============================] - 0s 504us/step\n",
      "19/19 [==============================] - 0s 570us/step\n",
      "19/19 [==============================] - 0s 521us/step\n",
      "19/19 [==============================] - 0s 562us/step\n",
      "19/19 [==============================] - 0s 528us/step\n",
      "19/19 [==============================] - 0s 585us/step\n",
      "19/19 [==============================] - 0s 537us/step\n",
      "19/19 [==============================] - 0s 570us/step\n",
      "19/19 [==============================] - 0s 560us/step\n"
     ]
    }
   ],
   "source": [
    "# Asegurar que la carpeta existe o crearla\n",
    "carpeta = \"graficas_predichas\"\n",
    "if not os.path.exists(carpeta):\n",
    "    os.mkdir(carpeta)\n",
    "\n",
    "# Asumiendo que todos los arrays (fracvol, radio, espesor) tienen la misma longitud:\n",
    "num_elementos = len(fracvol)\n",
    "\n",
    "scaler_X = load('minmax_scaler_X.pkl')\n",
    "\n",
    "for i in range(num_elementos):\n",
    "    data = {\n",
    "        \"Longitud de onda\": longitud_de_onda,\n",
    "        \"Fracvol\": [fracvol[i]] * len(longitud_de_onda),\n",
    "        \"Radio (nm)\": [radio[i]] * len(longitud_de_onda),\n",
    "        \"Espesor de la película (nm)\": [espesor[i]] * len(longitud_de_onda)\n",
    "    }\n",
    "    \n",
    "    df = pd.DataFrame(data)\n",
    "    x = df.values\n",
    "    x_norm = scaler_X.transform(x)\n",
    "    predictions = model.predict(x_norm)\n",
    "\n",
    "    df[\"Índice de absorción\"] = predictions\n",
    "\n",
    "    columnas_seleccionadas = ['Longitud de onda', 'Índice de absorción']\n",
    "    df_seleccionado = df[columnas_seleccionadas]\n",
    "    titulo = 'fracción volumen: {:.2f}, radio: {:.2f}, espesor: {:.2f}'.format(fracvol[i], radio[i], espesor[i])\n",
    "\n",
    "    # Crear la gráfica de dispersión\n",
    "    plt.figure(figsize=(10, 6))\n",
    "    plt.plot(df_seleccionado['Longitud de onda'], df_seleccionado['Índice de absorción'], color='blue')\n",
    "    plt.xlabel('Longitud de onda')\n",
    "    plt.ylabel('Índice de absorción')\n",
    "    plt.title(titulo)\n",
    "    plt.grid(True)\n",
    "    \n",
    "    # Guardar la gráfica como imagen en la carpeta especificada\n",
    "    nombre_archivo = os.path.join(carpeta, \"grafica_{}_{}_{}.png\".format(fracvol[i], radio[i], espesor[i]))\n",
    "    plt.savefig(nombre_archivo)\n",
    "    plt.close()"
   ]
  },
  {
   "cell_type": "code",
   "execution_count": 99,
   "metadata": {},
   "outputs": [],
   "source": [
    "longitud_de_onda = list(range(300, 900))"
   ]
  },
  {
   "cell_type": "code",
   "execution_count": 100,
   "metadata": {},
   "outputs": [
    {
     "data": {
      "text/plain": [
       "600"
      ]
     },
     "execution_count": 100,
     "metadata": {},
     "output_type": "execute_result"
    }
   ],
   "source": [
    "len(longitud_de_onda)"
   ]
  },
  {
   "cell_type": "markdown",
   "metadata": {},
   "source": [
    "Borrando carpetas si ya existen"
   ]
  },
  {
   "cell_type": "code",
   "execution_count": 101,
   "metadata": {},
   "outputs": [],
   "source": [
    "# Ruta del directorio\n",
    "dir_path = 'comparacion_de_datos'\n",
    "\n",
    "# Si el directorio ya existe, eliminarlo\n",
    "if os.path.exists(dir_path):\n",
    "    shutil.rmtree(dir_path)\n",
    "\n",
    "# Crear el directorio\n",
    "os.makedirs(dir_path)\n",
    "\n",
    "# Lista para almacenar los errores MSE\n",
    "mse_errors = []\n",
    "# Lista para almacenar la información de cada combinación\n",
    "combination_info = [] "
   ]
  },
  {
   "cell_type": "code",
   "execution_count": 103,
   "metadata": {},
   "outputs": [
    {
     "data": {
      "text/plain": [
       "Index(['Longitud de onda', 'Índice de absorción', 'Fracvol', 'Radio (nm)',\n",
       "       'Espesor de la película (nm)'],\n",
       "      dtype='object')"
      ]
     },
     "execution_count": 103,
     "metadata": {},
     "output_type": "execute_result"
    }
   ],
   "source": [
    "param.columns"
   ]
  },
  {
   "cell_type": "markdown",
   "metadata": {},
   "source": [
    "Solo guarda las graficas con errores menores a 2.5611e-06, que fue el error medio cuando tomamos en cuenta todos los valores.\n",
    "Se está utilizando la regla del trapecio, se divide el area bajo la curva en una serie de trapecios y luego se suma para calcular el total. AUC = area bajo la curva, en un rango de 400 a 700 nm, nos dice cuánta absorción hay. También da el error porcentual del area y genera un archivo txt con la combinación de todos con su error porcentual. "
   ]
  },
  {
   "cell_type": "code",
   "execution_count": 105,
   "metadata": {},
   "outputs": [
    {
     "name": "stdout",
     "output_type": "stream",
     "text": [
      "19/19 [==============================] - 0s 773us/step\n"
     ]
    },
    {
     "name": "stdout",
     "output_type": "stream",
     "text": [
      "19/19 [==============================] - 0s 681us/step\n",
      "19/19 [==============================] - 0s 676us/step\n",
      "19/19 [==============================] - 0s 796us/step\n",
      "19/19 [==============================] - 0s 744us/step\n",
      "19/19 [==============================] - 0s 821us/step\n",
      "19/19 [==============================] - 0s 782us/step\n",
      "19/19 [==============================] - 0s 874us/step\n",
      "19/19 [==============================] - 0s 641us/step\n",
      "19/19 [==============================] - 0s 706us/step\n",
      "19/19 [==============================] - 0s 708us/step\n",
      "19/19 [==============================] - 0s 657us/step\n",
      "19/19 [==============================] - 0s 679us/step\n",
      "19/19 [==============================] - 0s 900us/step\n",
      "19/19 [==============================] - 0s 674us/step\n",
      "19/19 [==============================] - 0s 777us/step\n",
      "19/19 [==============================] - 0s 903us/step\n",
      "19/19 [==============================] - 0s 1ms/step\n",
      "19/19 [==============================] - 0s 815us/step\n",
      "19/19 [==============================] - 0s 660us/step\n",
      "19/19 [==============================] - 0s 1ms/step\n",
      "19/19 [==============================] - 0s 720us/step\n",
      "19/19 [==============================] - 0s 693us/step\n",
      "19/19 [==============================] - 0s 805us/step\n",
      "19/19 [==============================] - 0s 672us/step\n",
      "19/19 [==============================] - 0s 794us/step\n",
      "19/19 [==============================] - 0s 629us/step\n",
      "19/19 [==============================] - 0s 761us/step\n",
      "19/19 [==============================] - 0s 684us/step\n",
      "19/19 [==============================] - 0s 683us/step\n",
      "19/19 [==============================] - 0s 607us/step\n",
      "19/19 [==============================] - 0s 657us/step\n",
      "19/19 [==============================] - 0s 767us/step\n",
      "19/19 [==============================] - 0s 720us/step\n",
      "19/19 [==============================] - 0s 655us/step\n",
      "19/19 [==============================] - 0s 924us/step\n",
      "19/19 [==============================] - 0s 619us/step\n",
      "19/19 [==============================] - 0s 652us/step\n",
      "19/19 [==============================] - 0s 705us/step\n",
      "19/19 [==============================] - 0s 594us/step\n",
      "19/19 [==============================] - 0s 642us/step\n",
      "19/19 [==============================] - 0s 681us/step\n",
      "19/19 [==============================] - 0s 673us/step\n",
      "19/19 [==============================] - 0s 655us/step\n",
      "19/19 [==============================] - 0s 823us/step\n",
      "19/19 [==============================] - 0s 693us/step\n",
      "19/19 [==============================] - 0s 676us/step\n",
      "19/19 [==============================] - 0s 643us/step\n",
      "19/19 [==============================] - 0s 674us/step\n",
      "19/19 [==============================] - 0s 655us/step\n",
      "19/19 [==============================] - 0s 734us/step\n",
      "19/19 [==============================] - 0s 742us/step\n",
      "19/19 [==============================] - 0s 802us/step\n",
      "19/19 [==============================] - 0s 879us/step\n",
      "19/19 [==============================] - 0s 988us/step\n",
      "19/19 [==============================] - 0s 1ms/step\n",
      "19/19 [==============================] - 0s 638us/step\n",
      "19/19 [==============================] - 0s 845us/step\n",
      "19/19 [==============================] - 0s 903us/step\n",
      "19/19 [==============================] - 0s 820us/step\n",
      "19/19 [==============================] - 0s 809us/step\n",
      "19/19 [==============================] - 0s 711us/step\n",
      "19/19 [==============================] - 0s 702us/step\n",
      "19/19 [==============================] - 0s 730us/step\n",
      "19/19 [==============================] - 0s 706us/step\n",
      "19/19 [==============================] - 0s 678us/step\n",
      "19/19 [==============================] - 0s 679us/step\n",
      "19/19 [==============================] - 0s 753us/step\n",
      "19/19 [==============================] - 0s 653us/step\n",
      "19/19 [==============================] - 0s 734us/step\n",
      "19/19 [==============================] - 0s 620us/step\n",
      "19/19 [==============================] - 0s 706us/step\n",
      "19/19 [==============================] - 0s 750us/step\n",
      "19/19 [==============================] - 0s 779us/step\n",
      "19/19 [==============================] - 0s 814us/step\n",
      "19/19 [==============================] - 0s 731us/step\n",
      "19/19 [==============================] - 0s 844us/step\n"
     ]
    }
   ],
   "source": [
    "# Iterate over all possible combinations of fracvol, radio, and espesor\n",
    "for f, r, e in zip(fracvol, radio, espesor):\n",
    "    \n",
    "    # Filter the `param` dataframe to get the real data associated with that combination\n",
    "    subset = param[(param['Fracvol'] == f) & \n",
    "                   (param['Radio (nm)'] == r) & \n",
    "                   (param['Espesor de la película (nm)'] == e)]\n",
    "    \n",
    "    # If there are less than 600 data points or more than 600, skip to the next iteration\n",
    "    if len(subset) != 600:\n",
    "        continue\n",
    "\n",
    "    # Extract 'Wavelength' and 'Absorption Index'\n",
    "    X_real = subset[['Longitud de onda', 'Fracvol', 'Radio (nm)', 'Espesor de la película (nm)']].values\n",
    "    y_real = subset['Índice de absorción'].values\n",
    "\n",
    "    # Make predictions with the model\n",
    "    y_pred = model.predict(scaler_X.transform(X_real))\n",
    "\n",
    "    # Calculate the MSE and add it to the list\n",
    "    mse = mean_squared_error(y_real, y_pred)\n",
    "    mse_errors.append(mse)\n",
    "    y_pred = y_pred.ravel()\n",
    "    wavelength = np.array(longitud_de_onda)\n",
    "    \n",
    "    # Calculate the AUC for the range of 400 to 700 nm\n",
    "    mask = (X_real[:, 0] >= 400) & (X_real[:, 0] <= 700)\n",
    "    auc_real = np.trapz(y_real[mask], X_real[mask, 0])\n",
    "    auc_pred = np.trapz(y_pred[mask], X_real[mask, 0])\n",
    "\n",
    "    # Calculate the percentage error of the areas\n",
    "    percentage_error_auc = abs((auc_real - auc_pred) / auc_real) * 100\n",
    "    \n",
    "    # Add the combination information to the list\n",
    "    combination_info.append(f'Volume Fraction: {f}, Radius: {r} nm, Thickness: {e} nm, AUC Percentage Error: {percentage_error_auc:.2f}%\\n')\n",
    "    \n",
    "    # Save the figure in the \"data_comparison\" folder if the MSE is below the limit\n",
    "    if mse <= 2.5547e-06:\n",
    "        # Plot the real and predicted curves\n",
    "        plt.figure(figsize=(10, 6))\n",
    "        plt.plot(wavelength, y_real, label='Real', color='blue')\n",
    "        plt.plot(wavelength, y_pred, label='Prediction', color='red', linestyle='--')\n",
    "        plt.xlabel('Wavelength (nm)')\n",
    "        plt.ylabel('Absorption Index')\n",
    "        plt.title(f'Real vs Predicted - Volume Fraction: {f}, Radius: {r} nm, Thickness: {e} nm\\nMSE: {mse:.4e}, Real AUC: {auc_real:.4e}, Predicted AUC: {auc_pred:.4e}, AUC Error: {percentage_error_auc:.2f}%')\n",
    "        plt.legend()\n",
    "        filename = f\"Comparison_Fracvol_{f}_Radio_{r}nm_Espesor_{e}nm.png\"\n",
    "        plt.savefig(os.path.join(dir_path, filename))\n",
    "        plt.close()  # Close the current figure to avoid filling up memory\n",
    "\n",
    "# Calculate the average of all MSEs\n",
    "average_mse = sum(mse_errors) / len(mse_errors)\n",
    "\n",
    "# Create or open the txt file and write the information\n",
    "with open(os.path.join(dir_path, 'mse_combinations_info.txt'), 'w') as file:\n",
    "    file.write(f'Average MSE: {average_mse:.4e}\\n\\n')\n",
    "    file.write('Combination Information:\\n')\n",
    "    for info in combination_info:\n",
    "        file.write(info)\n"
   ]
  },
  {
   "cell_type": "code",
   "execution_count": null,
   "metadata": {},
   "outputs": [],
   "source": []
  }
 ],
 "metadata": {
  "kernelspec": {
   "display_name": "Python 3",
   "language": "python",
   "name": "python3"
  },
  "language_info": {
   "codemirror_mode": {
    "name": "ipython",
    "version": 3
   },
   "file_extension": ".py",
   "mimetype": "text/x-python",
   "name": "python",
   "nbconvert_exporter": "python",
   "pygments_lexer": "ipython3",
   "version": "3.10.11"
  }
 },
 "nbformat": 4,
 "nbformat_minor": 2
}
